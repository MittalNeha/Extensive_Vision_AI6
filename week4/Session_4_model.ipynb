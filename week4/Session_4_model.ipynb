{
  "nbformat": 4,
  "nbformat_minor": 0,
  "metadata": {
    "colab": {
      "name": "Session 4_Neha.ipynb",
      "provenance": [],
      "include_colab_link": true
    },
    "kernelspec": {
      "name": "python3",
      "display_name": "Python 3"
    },
    "accelerator": "TPU",
    "widgets": {
      "application/vnd.jupyter.widget-state+json": {
        "d165fc706e074a6f94f1ea07ea6d8b81": {
          "model_module": "@jupyter-widgets/controls",
          "model_name": "HBoxModel",
          "state": {
            "_view_name": "HBoxView",
            "_dom_classes": [],
            "_model_name": "HBoxModel",
            "_view_module": "@jupyter-widgets/controls",
            "_model_module_version": "1.5.0",
            "_view_count": null,
            "_view_module_version": "1.5.0",
            "box_style": "",
            "layout": "IPY_MODEL_57dce697abdf4c0495ea1fe4844edae3",
            "_model_module": "@jupyter-widgets/controls",
            "children": [
              "IPY_MODEL_222bfa89c4c547a1bd022b9ad09ef1d4",
              "IPY_MODEL_6bba8881936345e9bf84d8a769f37ab9"
            ]
          }
        },
        "57dce697abdf4c0495ea1fe4844edae3": {
          "model_module": "@jupyter-widgets/base",
          "model_name": "LayoutModel",
          "state": {
            "_view_name": "LayoutView",
            "grid_template_rows": null,
            "right": null,
            "justify_content": null,
            "_view_module": "@jupyter-widgets/base",
            "overflow": null,
            "_model_module_version": "1.2.0",
            "_view_count": null,
            "flex_flow": null,
            "width": null,
            "min_width": null,
            "border": null,
            "align_items": null,
            "bottom": null,
            "_model_module": "@jupyter-widgets/base",
            "top": null,
            "grid_column": null,
            "overflow_y": null,
            "overflow_x": null,
            "grid_auto_flow": null,
            "grid_area": null,
            "grid_template_columns": null,
            "flex": null,
            "_model_name": "LayoutModel",
            "justify_items": null,
            "grid_row": null,
            "max_height": null,
            "align_content": null,
            "visibility": null,
            "align_self": null,
            "height": null,
            "min_height": null,
            "padding": null,
            "grid_auto_rows": null,
            "grid_gap": null,
            "max_width": null,
            "order": null,
            "_view_module_version": "1.2.0",
            "grid_template_areas": null,
            "object_position": null,
            "object_fit": null,
            "grid_auto_columns": null,
            "margin": null,
            "display": null,
            "left": null
          }
        },
        "222bfa89c4c547a1bd022b9ad09ef1d4": {
          "model_module": "@jupyter-widgets/controls",
          "model_name": "FloatProgressModel",
          "state": {
            "_view_name": "ProgressView",
            "style": "IPY_MODEL_cfb077c7c76b4b2c8495cba1af002697",
            "_dom_classes": [],
            "description": "",
            "_model_name": "FloatProgressModel",
            "bar_style": "success",
            "max": 9912422,
            "_view_module": "@jupyter-widgets/controls",
            "_model_module_version": "1.5.0",
            "value": 9912422,
            "_view_count": null,
            "_view_module_version": "1.5.0",
            "orientation": "horizontal",
            "min": 0,
            "description_tooltip": null,
            "_model_module": "@jupyter-widgets/controls",
            "layout": "IPY_MODEL_02d8e6b25754418892444d49bd3725b9"
          }
        },
        "6bba8881936345e9bf84d8a769f37ab9": {
          "model_module": "@jupyter-widgets/controls",
          "model_name": "HTMLModel",
          "state": {
            "_view_name": "HTMLView",
            "style": "IPY_MODEL_3e51a48edf6a4e1ca98b89ae7cd414f7",
            "_dom_classes": [],
            "description": "",
            "_model_name": "HTMLModel",
            "placeholder": "​",
            "_view_module": "@jupyter-widgets/controls",
            "_model_module_version": "1.5.0",
            "value": " 9913344/? [1:17:28&lt;00:00, 2132.52it/s]",
            "_view_count": null,
            "_view_module_version": "1.5.0",
            "description_tooltip": null,
            "_model_module": "@jupyter-widgets/controls",
            "layout": "IPY_MODEL_925f48693beb4742bd81a4f8e655fe92"
          }
        },
        "cfb077c7c76b4b2c8495cba1af002697": {
          "model_module": "@jupyter-widgets/controls",
          "model_name": "ProgressStyleModel",
          "state": {
            "_view_name": "StyleView",
            "_model_name": "ProgressStyleModel",
            "description_width": "initial",
            "_view_module": "@jupyter-widgets/base",
            "_model_module_version": "1.5.0",
            "_view_count": null,
            "_view_module_version": "1.2.0",
            "bar_color": null,
            "_model_module": "@jupyter-widgets/controls"
          }
        },
        "02d8e6b25754418892444d49bd3725b9": {
          "model_module": "@jupyter-widgets/base",
          "model_name": "LayoutModel",
          "state": {
            "_view_name": "LayoutView",
            "grid_template_rows": null,
            "right": null,
            "justify_content": null,
            "_view_module": "@jupyter-widgets/base",
            "overflow": null,
            "_model_module_version": "1.2.0",
            "_view_count": null,
            "flex_flow": null,
            "width": null,
            "min_width": null,
            "border": null,
            "align_items": null,
            "bottom": null,
            "_model_module": "@jupyter-widgets/base",
            "top": null,
            "grid_column": null,
            "overflow_y": null,
            "overflow_x": null,
            "grid_auto_flow": null,
            "grid_area": null,
            "grid_template_columns": null,
            "flex": null,
            "_model_name": "LayoutModel",
            "justify_items": null,
            "grid_row": null,
            "max_height": null,
            "align_content": null,
            "visibility": null,
            "align_self": null,
            "height": null,
            "min_height": null,
            "padding": null,
            "grid_auto_rows": null,
            "grid_gap": null,
            "max_width": null,
            "order": null,
            "_view_module_version": "1.2.0",
            "grid_template_areas": null,
            "object_position": null,
            "object_fit": null,
            "grid_auto_columns": null,
            "margin": null,
            "display": null,
            "left": null
          }
        },
        "3e51a48edf6a4e1ca98b89ae7cd414f7": {
          "model_module": "@jupyter-widgets/controls",
          "model_name": "DescriptionStyleModel",
          "state": {
            "_view_name": "StyleView",
            "_model_name": "DescriptionStyleModel",
            "description_width": "",
            "_view_module": "@jupyter-widgets/base",
            "_model_module_version": "1.5.0",
            "_view_count": null,
            "_view_module_version": "1.2.0",
            "_model_module": "@jupyter-widgets/controls"
          }
        },
        "925f48693beb4742bd81a4f8e655fe92": {
          "model_module": "@jupyter-widgets/base",
          "model_name": "LayoutModel",
          "state": {
            "_view_name": "LayoutView",
            "grid_template_rows": null,
            "right": null,
            "justify_content": null,
            "_view_module": "@jupyter-widgets/base",
            "overflow": null,
            "_model_module_version": "1.2.0",
            "_view_count": null,
            "flex_flow": null,
            "width": null,
            "min_width": null,
            "border": null,
            "align_items": null,
            "bottom": null,
            "_model_module": "@jupyter-widgets/base",
            "top": null,
            "grid_column": null,
            "overflow_y": null,
            "overflow_x": null,
            "grid_auto_flow": null,
            "grid_area": null,
            "grid_template_columns": null,
            "flex": null,
            "_model_name": "LayoutModel",
            "justify_items": null,
            "grid_row": null,
            "max_height": null,
            "align_content": null,
            "visibility": null,
            "align_self": null,
            "height": null,
            "min_height": null,
            "padding": null,
            "grid_auto_rows": null,
            "grid_gap": null,
            "max_width": null,
            "order": null,
            "_view_module_version": "1.2.0",
            "grid_template_areas": null,
            "object_position": null,
            "object_fit": null,
            "grid_auto_columns": null,
            "margin": null,
            "display": null,
            "left": null
          }
        },
        "4d3daefede1342bd8b8dc09ed9ca1155": {
          "model_module": "@jupyter-widgets/controls",
          "model_name": "HBoxModel",
          "state": {
            "_view_name": "HBoxView",
            "_dom_classes": [],
            "_model_name": "HBoxModel",
            "_view_module": "@jupyter-widgets/controls",
            "_model_module_version": "1.5.0",
            "_view_count": null,
            "_view_module_version": "1.5.0",
            "box_style": "",
            "layout": "IPY_MODEL_8d661f2300a0424380bd3ae6cc445dcb",
            "_model_module": "@jupyter-widgets/controls",
            "children": [
              "IPY_MODEL_afc4a8ac61c74e3a980ba8661f5155b3",
              "IPY_MODEL_9d78737b76eb44999d106cec04884d7c"
            ]
          }
        },
        "8d661f2300a0424380bd3ae6cc445dcb": {
          "model_module": "@jupyter-widgets/base",
          "model_name": "LayoutModel",
          "state": {
            "_view_name": "LayoutView",
            "grid_template_rows": null,
            "right": null,
            "justify_content": null,
            "_view_module": "@jupyter-widgets/base",
            "overflow": null,
            "_model_module_version": "1.2.0",
            "_view_count": null,
            "flex_flow": null,
            "width": null,
            "min_width": null,
            "border": null,
            "align_items": null,
            "bottom": null,
            "_model_module": "@jupyter-widgets/base",
            "top": null,
            "grid_column": null,
            "overflow_y": null,
            "overflow_x": null,
            "grid_auto_flow": null,
            "grid_area": null,
            "grid_template_columns": null,
            "flex": null,
            "_model_name": "LayoutModel",
            "justify_items": null,
            "grid_row": null,
            "max_height": null,
            "align_content": null,
            "visibility": null,
            "align_self": null,
            "height": null,
            "min_height": null,
            "padding": null,
            "grid_auto_rows": null,
            "grid_gap": null,
            "max_width": null,
            "order": null,
            "_view_module_version": "1.2.0",
            "grid_template_areas": null,
            "object_position": null,
            "object_fit": null,
            "grid_auto_columns": null,
            "margin": null,
            "display": null,
            "left": null
          }
        },
        "afc4a8ac61c74e3a980ba8661f5155b3": {
          "model_module": "@jupyter-widgets/controls",
          "model_name": "FloatProgressModel",
          "state": {
            "_view_name": "ProgressView",
            "style": "IPY_MODEL_64384cb709d946578ccb7fef6d4989a2",
            "_dom_classes": [],
            "description": "",
            "_model_name": "FloatProgressModel",
            "bar_style": "success",
            "max": 28881,
            "_view_module": "@jupyter-widgets/controls",
            "_model_module_version": "1.5.0",
            "value": 28881,
            "_view_count": null,
            "_view_module_version": "1.5.0",
            "orientation": "horizontal",
            "min": 0,
            "description_tooltip": null,
            "_model_module": "@jupyter-widgets/controls",
            "layout": "IPY_MODEL_54447d2b8f2a4da5b2cc8150b1a9589c"
          }
        },
        "9d78737b76eb44999d106cec04884d7c": {
          "model_module": "@jupyter-widgets/controls",
          "model_name": "HTMLModel",
          "state": {
            "_view_name": "HTMLView",
            "style": "IPY_MODEL_7d4aa76b4bcd4e38a375134687243f2e",
            "_dom_classes": [],
            "description": "",
            "_model_name": "HTMLModel",
            "placeholder": "​",
            "_view_module": "@jupyter-widgets/controls",
            "_model_module_version": "1.5.0",
            "value": " 29696/? [00:00&lt;00:00, 93616.86it/s]",
            "_view_count": null,
            "_view_module_version": "1.5.0",
            "description_tooltip": null,
            "_model_module": "@jupyter-widgets/controls",
            "layout": "IPY_MODEL_522209c0c8ad4fdda741aadf1e22d650"
          }
        },
        "64384cb709d946578ccb7fef6d4989a2": {
          "model_module": "@jupyter-widgets/controls",
          "model_name": "ProgressStyleModel",
          "state": {
            "_view_name": "StyleView",
            "_model_name": "ProgressStyleModel",
            "description_width": "initial",
            "_view_module": "@jupyter-widgets/base",
            "_model_module_version": "1.5.0",
            "_view_count": null,
            "_view_module_version": "1.2.0",
            "bar_color": null,
            "_model_module": "@jupyter-widgets/controls"
          }
        },
        "54447d2b8f2a4da5b2cc8150b1a9589c": {
          "model_module": "@jupyter-widgets/base",
          "model_name": "LayoutModel",
          "state": {
            "_view_name": "LayoutView",
            "grid_template_rows": null,
            "right": null,
            "justify_content": null,
            "_view_module": "@jupyter-widgets/base",
            "overflow": null,
            "_model_module_version": "1.2.0",
            "_view_count": null,
            "flex_flow": null,
            "width": null,
            "min_width": null,
            "border": null,
            "align_items": null,
            "bottom": null,
            "_model_module": "@jupyter-widgets/base",
            "top": null,
            "grid_column": null,
            "overflow_y": null,
            "overflow_x": null,
            "grid_auto_flow": null,
            "grid_area": null,
            "grid_template_columns": null,
            "flex": null,
            "_model_name": "LayoutModel",
            "justify_items": null,
            "grid_row": null,
            "max_height": null,
            "align_content": null,
            "visibility": null,
            "align_self": null,
            "height": null,
            "min_height": null,
            "padding": null,
            "grid_auto_rows": null,
            "grid_gap": null,
            "max_width": null,
            "order": null,
            "_view_module_version": "1.2.0",
            "grid_template_areas": null,
            "object_position": null,
            "object_fit": null,
            "grid_auto_columns": null,
            "margin": null,
            "display": null,
            "left": null
          }
        },
        "7d4aa76b4bcd4e38a375134687243f2e": {
          "model_module": "@jupyter-widgets/controls",
          "model_name": "DescriptionStyleModel",
          "state": {
            "_view_name": "StyleView",
            "_model_name": "DescriptionStyleModel",
            "description_width": "",
            "_view_module": "@jupyter-widgets/base",
            "_model_module_version": "1.5.0",
            "_view_count": null,
            "_view_module_version": "1.2.0",
            "_model_module": "@jupyter-widgets/controls"
          }
        },
        "522209c0c8ad4fdda741aadf1e22d650": {
          "model_module": "@jupyter-widgets/base",
          "model_name": "LayoutModel",
          "state": {
            "_view_name": "LayoutView",
            "grid_template_rows": null,
            "right": null,
            "justify_content": null,
            "_view_module": "@jupyter-widgets/base",
            "overflow": null,
            "_model_module_version": "1.2.0",
            "_view_count": null,
            "flex_flow": null,
            "width": null,
            "min_width": null,
            "border": null,
            "align_items": null,
            "bottom": null,
            "_model_module": "@jupyter-widgets/base",
            "top": null,
            "grid_column": null,
            "overflow_y": null,
            "overflow_x": null,
            "grid_auto_flow": null,
            "grid_area": null,
            "grid_template_columns": null,
            "flex": null,
            "_model_name": "LayoutModel",
            "justify_items": null,
            "grid_row": null,
            "max_height": null,
            "align_content": null,
            "visibility": null,
            "align_self": null,
            "height": null,
            "min_height": null,
            "padding": null,
            "grid_auto_rows": null,
            "grid_gap": null,
            "max_width": null,
            "order": null,
            "_view_module_version": "1.2.0",
            "grid_template_areas": null,
            "object_position": null,
            "object_fit": null,
            "grid_auto_columns": null,
            "margin": null,
            "display": null,
            "left": null
          }
        },
        "277c2133ca394ad7a2cc1fbf0e67e8b9": {
          "model_module": "@jupyter-widgets/controls",
          "model_name": "HBoxModel",
          "state": {
            "_view_name": "HBoxView",
            "_dom_classes": [],
            "_model_name": "HBoxModel",
            "_view_module": "@jupyter-widgets/controls",
            "_model_module_version": "1.5.0",
            "_view_count": null,
            "_view_module_version": "1.5.0",
            "box_style": "",
            "layout": "IPY_MODEL_485a73069bda4f3d87599d43c2e706a4",
            "_model_module": "@jupyter-widgets/controls",
            "children": [
              "IPY_MODEL_43c7ba9f2f344d058ecc1f814ea5771c",
              "IPY_MODEL_bde8f3d385894c9197f82d1effcc9343"
            ]
          }
        },
        "485a73069bda4f3d87599d43c2e706a4": {
          "model_module": "@jupyter-widgets/base",
          "model_name": "LayoutModel",
          "state": {
            "_view_name": "LayoutView",
            "grid_template_rows": null,
            "right": null,
            "justify_content": null,
            "_view_module": "@jupyter-widgets/base",
            "overflow": null,
            "_model_module_version": "1.2.0",
            "_view_count": null,
            "flex_flow": null,
            "width": null,
            "min_width": null,
            "border": null,
            "align_items": null,
            "bottom": null,
            "_model_module": "@jupyter-widgets/base",
            "top": null,
            "grid_column": null,
            "overflow_y": null,
            "overflow_x": null,
            "grid_auto_flow": null,
            "grid_area": null,
            "grid_template_columns": null,
            "flex": null,
            "_model_name": "LayoutModel",
            "justify_items": null,
            "grid_row": null,
            "max_height": null,
            "align_content": null,
            "visibility": null,
            "align_self": null,
            "height": null,
            "min_height": null,
            "padding": null,
            "grid_auto_rows": null,
            "grid_gap": null,
            "max_width": null,
            "order": null,
            "_view_module_version": "1.2.0",
            "grid_template_areas": null,
            "object_position": null,
            "object_fit": null,
            "grid_auto_columns": null,
            "margin": null,
            "display": null,
            "left": null
          }
        },
        "43c7ba9f2f344d058ecc1f814ea5771c": {
          "model_module": "@jupyter-widgets/controls",
          "model_name": "FloatProgressModel",
          "state": {
            "_view_name": "ProgressView",
            "style": "IPY_MODEL_c70c31fc1d204e7f966eb99131bd8801",
            "_dom_classes": [],
            "description": "",
            "_model_name": "FloatProgressModel",
            "bar_style": "success",
            "max": 1648877,
            "_view_module": "@jupyter-widgets/controls",
            "_model_module_version": "1.5.0",
            "value": 1648877,
            "_view_count": null,
            "_view_module_version": "1.5.0",
            "orientation": "horizontal",
            "min": 0,
            "description_tooltip": null,
            "_model_module": "@jupyter-widgets/controls",
            "layout": "IPY_MODEL_74968edd9b0c4ca58e8273ffba5a27ad"
          }
        },
        "bde8f3d385894c9197f82d1effcc9343": {
          "model_module": "@jupyter-widgets/controls",
          "model_name": "HTMLModel",
          "state": {
            "_view_name": "HTMLView",
            "style": "IPY_MODEL_3b88d005a3064bc5b6d64aba730cdcc6",
            "_dom_classes": [],
            "description": "",
            "_model_name": "HTMLModel",
            "placeholder": "​",
            "_view_module": "@jupyter-widgets/controls",
            "_model_module_version": "1.5.0",
            "value": " 1649664/? [1:12:43&lt;00:00, 378.06it/s]",
            "_view_count": null,
            "_view_module_version": "1.5.0",
            "description_tooltip": null,
            "_model_module": "@jupyter-widgets/controls",
            "layout": "IPY_MODEL_664e323482af4ea4bbf507aa00a2aeb4"
          }
        },
        "c70c31fc1d204e7f966eb99131bd8801": {
          "model_module": "@jupyter-widgets/controls",
          "model_name": "ProgressStyleModel",
          "state": {
            "_view_name": "StyleView",
            "_model_name": "ProgressStyleModel",
            "description_width": "initial",
            "_view_module": "@jupyter-widgets/base",
            "_model_module_version": "1.5.0",
            "_view_count": null,
            "_view_module_version": "1.2.0",
            "bar_color": null,
            "_model_module": "@jupyter-widgets/controls"
          }
        },
        "74968edd9b0c4ca58e8273ffba5a27ad": {
          "model_module": "@jupyter-widgets/base",
          "model_name": "LayoutModel",
          "state": {
            "_view_name": "LayoutView",
            "grid_template_rows": null,
            "right": null,
            "justify_content": null,
            "_view_module": "@jupyter-widgets/base",
            "overflow": null,
            "_model_module_version": "1.2.0",
            "_view_count": null,
            "flex_flow": null,
            "width": null,
            "min_width": null,
            "border": null,
            "align_items": null,
            "bottom": null,
            "_model_module": "@jupyter-widgets/base",
            "top": null,
            "grid_column": null,
            "overflow_y": null,
            "overflow_x": null,
            "grid_auto_flow": null,
            "grid_area": null,
            "grid_template_columns": null,
            "flex": null,
            "_model_name": "LayoutModel",
            "justify_items": null,
            "grid_row": null,
            "max_height": null,
            "align_content": null,
            "visibility": null,
            "align_self": null,
            "height": null,
            "min_height": null,
            "padding": null,
            "grid_auto_rows": null,
            "grid_gap": null,
            "max_width": null,
            "order": null,
            "_view_module_version": "1.2.0",
            "grid_template_areas": null,
            "object_position": null,
            "object_fit": null,
            "grid_auto_columns": null,
            "margin": null,
            "display": null,
            "left": null
          }
        },
        "3b88d005a3064bc5b6d64aba730cdcc6": {
          "model_module": "@jupyter-widgets/controls",
          "model_name": "DescriptionStyleModel",
          "state": {
            "_view_name": "StyleView",
            "_model_name": "DescriptionStyleModel",
            "description_width": "",
            "_view_module": "@jupyter-widgets/base",
            "_model_module_version": "1.5.0",
            "_view_count": null,
            "_view_module_version": "1.2.0",
            "_model_module": "@jupyter-widgets/controls"
          }
        },
        "664e323482af4ea4bbf507aa00a2aeb4": {
          "model_module": "@jupyter-widgets/base",
          "model_name": "LayoutModel",
          "state": {
            "_view_name": "LayoutView",
            "grid_template_rows": null,
            "right": null,
            "justify_content": null,
            "_view_module": "@jupyter-widgets/base",
            "overflow": null,
            "_model_module_version": "1.2.0",
            "_view_count": null,
            "flex_flow": null,
            "width": null,
            "min_width": null,
            "border": null,
            "align_items": null,
            "bottom": null,
            "_model_module": "@jupyter-widgets/base",
            "top": null,
            "grid_column": null,
            "overflow_y": null,
            "overflow_x": null,
            "grid_auto_flow": null,
            "grid_area": null,
            "grid_template_columns": null,
            "flex": null,
            "_model_name": "LayoutModel",
            "justify_items": null,
            "grid_row": null,
            "max_height": null,
            "align_content": null,
            "visibility": null,
            "align_self": null,
            "height": null,
            "min_height": null,
            "padding": null,
            "grid_auto_rows": null,
            "grid_gap": null,
            "max_width": null,
            "order": null,
            "_view_module_version": "1.2.0",
            "grid_template_areas": null,
            "object_position": null,
            "object_fit": null,
            "grid_auto_columns": null,
            "margin": null,
            "display": null,
            "left": null
          }
        },
        "ce277e48178644ada649fd2126402a7d": {
          "model_module": "@jupyter-widgets/controls",
          "model_name": "HBoxModel",
          "state": {
            "_view_name": "HBoxView",
            "_dom_classes": [],
            "_model_name": "HBoxModel",
            "_view_module": "@jupyter-widgets/controls",
            "_model_module_version": "1.5.0",
            "_view_count": null,
            "_view_module_version": "1.5.0",
            "box_style": "",
            "layout": "IPY_MODEL_21ba6ed446cd444697da4c46bb9e1498",
            "_model_module": "@jupyter-widgets/controls",
            "children": [
              "IPY_MODEL_ee89bf38f34f41238bf171237444bff8",
              "IPY_MODEL_916b7f3c0bbd40028cb28d9c8b0e288a"
            ]
          }
        },
        "21ba6ed446cd444697da4c46bb9e1498": {
          "model_module": "@jupyter-widgets/base",
          "model_name": "LayoutModel",
          "state": {
            "_view_name": "LayoutView",
            "grid_template_rows": null,
            "right": null,
            "justify_content": null,
            "_view_module": "@jupyter-widgets/base",
            "overflow": null,
            "_model_module_version": "1.2.0",
            "_view_count": null,
            "flex_flow": null,
            "width": null,
            "min_width": null,
            "border": null,
            "align_items": null,
            "bottom": null,
            "_model_module": "@jupyter-widgets/base",
            "top": null,
            "grid_column": null,
            "overflow_y": null,
            "overflow_x": null,
            "grid_auto_flow": null,
            "grid_area": null,
            "grid_template_columns": null,
            "flex": null,
            "_model_name": "LayoutModel",
            "justify_items": null,
            "grid_row": null,
            "max_height": null,
            "align_content": null,
            "visibility": null,
            "align_self": null,
            "height": null,
            "min_height": null,
            "padding": null,
            "grid_auto_rows": null,
            "grid_gap": null,
            "max_width": null,
            "order": null,
            "_view_module_version": "1.2.0",
            "grid_template_areas": null,
            "object_position": null,
            "object_fit": null,
            "grid_auto_columns": null,
            "margin": null,
            "display": null,
            "left": null
          }
        },
        "ee89bf38f34f41238bf171237444bff8": {
          "model_module": "@jupyter-widgets/controls",
          "model_name": "FloatProgressModel",
          "state": {
            "_view_name": "ProgressView",
            "style": "IPY_MODEL_3d42619f7b474e21a0f441f0d745d28a",
            "_dom_classes": [],
            "description": "",
            "_model_name": "FloatProgressModel",
            "bar_style": "success",
            "max": 4542,
            "_view_module": "@jupyter-widgets/controls",
            "_model_module_version": "1.5.0",
            "value": 4542,
            "_view_count": null,
            "_view_module_version": "1.5.0",
            "orientation": "horizontal",
            "min": 0,
            "description_tooltip": null,
            "_model_module": "@jupyter-widgets/controls",
            "layout": "IPY_MODEL_0905a957201f45ecb846263feff10bf8"
          }
        },
        "916b7f3c0bbd40028cb28d9c8b0e288a": {
          "model_module": "@jupyter-widgets/controls",
          "model_name": "HTMLModel",
          "state": {
            "_view_name": "HTMLView",
            "style": "IPY_MODEL_d03b04fe4b114384bbf86f0d0bfbebad",
            "_dom_classes": [],
            "description": "",
            "_model_name": "HTMLModel",
            "placeholder": "​",
            "_view_module": "@jupyter-widgets/controls",
            "_model_module_version": "1.5.0",
            "value": " 5120/? [00:00&lt;00:00, 17618.51it/s]",
            "_view_count": null,
            "_view_module_version": "1.5.0",
            "description_tooltip": null,
            "_model_module": "@jupyter-widgets/controls",
            "layout": "IPY_MODEL_8311960e90ca424393aa9f3b02d5a985"
          }
        },
        "3d42619f7b474e21a0f441f0d745d28a": {
          "model_module": "@jupyter-widgets/controls",
          "model_name": "ProgressStyleModel",
          "state": {
            "_view_name": "StyleView",
            "_model_name": "ProgressStyleModel",
            "description_width": "initial",
            "_view_module": "@jupyter-widgets/base",
            "_model_module_version": "1.5.0",
            "_view_count": null,
            "_view_module_version": "1.2.0",
            "bar_color": null,
            "_model_module": "@jupyter-widgets/controls"
          }
        },
        "0905a957201f45ecb846263feff10bf8": {
          "model_module": "@jupyter-widgets/base",
          "model_name": "LayoutModel",
          "state": {
            "_view_name": "LayoutView",
            "grid_template_rows": null,
            "right": null,
            "justify_content": null,
            "_view_module": "@jupyter-widgets/base",
            "overflow": null,
            "_model_module_version": "1.2.0",
            "_view_count": null,
            "flex_flow": null,
            "width": null,
            "min_width": null,
            "border": null,
            "align_items": null,
            "bottom": null,
            "_model_module": "@jupyter-widgets/base",
            "top": null,
            "grid_column": null,
            "overflow_y": null,
            "overflow_x": null,
            "grid_auto_flow": null,
            "grid_area": null,
            "grid_template_columns": null,
            "flex": null,
            "_model_name": "LayoutModel",
            "justify_items": null,
            "grid_row": null,
            "max_height": null,
            "align_content": null,
            "visibility": null,
            "align_self": null,
            "height": null,
            "min_height": null,
            "padding": null,
            "grid_auto_rows": null,
            "grid_gap": null,
            "max_width": null,
            "order": null,
            "_view_module_version": "1.2.0",
            "grid_template_areas": null,
            "object_position": null,
            "object_fit": null,
            "grid_auto_columns": null,
            "margin": null,
            "display": null,
            "left": null
          }
        },
        "d03b04fe4b114384bbf86f0d0bfbebad": {
          "model_module": "@jupyter-widgets/controls",
          "model_name": "DescriptionStyleModel",
          "state": {
            "_view_name": "StyleView",
            "_model_name": "DescriptionStyleModel",
            "description_width": "",
            "_view_module": "@jupyter-widgets/base",
            "_model_module_version": "1.5.0",
            "_view_count": null,
            "_view_module_version": "1.2.0",
            "_model_module": "@jupyter-widgets/controls"
          }
        },
        "8311960e90ca424393aa9f3b02d5a985": {
          "model_module": "@jupyter-widgets/base",
          "model_name": "LayoutModel",
          "state": {
            "_view_name": "LayoutView",
            "grid_template_rows": null,
            "right": null,
            "justify_content": null,
            "_view_module": "@jupyter-widgets/base",
            "overflow": null,
            "_model_module_version": "1.2.0",
            "_view_count": null,
            "flex_flow": null,
            "width": null,
            "min_width": null,
            "border": null,
            "align_items": null,
            "bottom": null,
            "_model_module": "@jupyter-widgets/base",
            "top": null,
            "grid_column": null,
            "overflow_y": null,
            "overflow_x": null,
            "grid_auto_flow": null,
            "grid_area": null,
            "grid_template_columns": null,
            "flex": null,
            "_model_name": "LayoutModel",
            "justify_items": null,
            "grid_row": null,
            "max_height": null,
            "align_content": null,
            "visibility": null,
            "align_self": null,
            "height": null,
            "min_height": null,
            "padding": null,
            "grid_auto_rows": null,
            "grid_gap": null,
            "max_width": null,
            "order": null,
            "_view_module_version": "1.2.0",
            "grid_template_areas": null,
            "object_position": null,
            "object_fit": null,
            "grid_auto_columns": null,
            "margin": null,
            "display": null,
            "left": null
          }
        }
      }
    }
  },
  "cells": [
    {
      "cell_type": "markdown",
      "metadata": {
        "id": "view-in-github",
        "colab_type": "text"
      },
      "source": [
        "<a href=\"https://colab.research.google.com/github/MittalNeha/Extensive_Vision_AI6/blob/main/week4/Session_4_model.ipynb\" target=\"_parent\"><img src=\"https://colab.research.google.com/assets/colab-badge.svg\" alt=\"Open In Colab\"/></a>"
      ]
    },
    {
      "cell_type": "markdown",
      "metadata": {
        "id": "QB8b8I_6zsmk"
      },
      "source": [
        "# Session 4\n",
        "##  Training MNIST (Final Model)\n",
        "\n",
        "\n",
        "\n",
        "Top Testing Accuracy (loss) : 99.57% (0.015533)"
      ]
    },
    {
      "cell_type": "code",
      "metadata": {
        "id": "0m2JWFliFfKT"
      },
      "source": [
        "from __future__ import print_function\n",
        "import torch\n",
        "import torch.nn as nn\n",
        "import torch.nn.functional as F\n",
        "import torch.optim as optim\n",
        "from torchvision import datasets, transforms"
      ],
      "execution_count": 1,
      "outputs": []
    },
    {
      "cell_type": "code",
      "metadata": {
        "id": "xdydjYTZFyi3"
      },
      "source": [
        "from torchsummary import summary\n",
        "use_cuda = torch.cuda.is_available()\n",
        "device = torch.device(\"cuda\" if use_cuda else \"cpu\")"
      ],
      "execution_count": 2,
      "outputs": []
    },
    {
      "cell_type": "markdown",
      "metadata": {
        "id": "lLcSvHNI1KAh"
      },
      "source": [
        "## Model Architecture\n",
        "12->24->36->MP->12->12->24->MP-> 12 -> 12 -> 24 ->GAP->Dense->10"
      ]
    },
    {
      "cell_type": "code",
      "metadata": {
        "id": "ON69-WBgppHS"
      },
      "source": [
        "drop_out_val = 0.05\n",
        "class Net(nn.Module):\n",
        "    def __init__(self):\n",
        "        super().__init__()\n",
        "\n",
        "        # CONVOLUTION LAYER 1                     \n",
        "        self.conv1 = nn.Conv2d(in_channels=1, out_channels=12, kernel_size=(3,3), padding=1)      \n",
        "        self.bn1 = nn.BatchNorm2d(12)\n",
        "        self.do1 = nn.Dropout2d(drop_out_val)\n",
        "        \n",
        "        # CONVOLUTION LAYER 2\n",
        "        self.conv2 = nn.Conv2d(12, 24, 3, padding=1)\n",
        "        self.bn2 = nn.BatchNorm2d(24)\n",
        "        self.do2 = nn.Dropout2d(drop_out_val)\n",
        "        \n",
        "        # CONVOLUTION LAYER 3\n",
        "        self.conv3  = nn.Conv2d(24, 36, 3, padding=1)\n",
        "        self.bn3    = nn.BatchNorm2d(36)\n",
        "        self.do3    = nn.Dropout2d(drop_out_val)\n",
        "\n",
        "        # TRANSITION LAYER 1\n",
        "        self.pool1 = nn.MaxPool2d(2, 2)\n",
        "\n",
        "        self.conv_t1 = nn.Conv2d(36, 12, 1)\n",
        "        self.bn_t1 = nn.BatchNorm2d(12)\n",
        "        self.do_t1 = nn.Dropout2d(drop_out_val)\n",
        "\n",
        "        # CONVOLUTION LAYER 4\n",
        "        self.conv4 = nn.Conv2d(12, 12, 3, padding = 1)\n",
        "        self.bn4 = nn.BatchNorm2d(12)\n",
        "        self.do4 = nn.Dropout2d(drop_out_val)\n",
        "\n",
        "        # CONVOLUTION LAYER 5\n",
        "        self.conv5  = nn.Conv2d(12, 24, 3, padding = 1)\n",
        "        self.bn5    = nn.BatchNorm2d(24)\n",
        "        self.do5    = nn.Dropout2d(drop_out_val)\n",
        "\n",
        "\n",
        "        # TRANSITION LAYER 2\n",
        "        self.pool2 = nn.MaxPool2d(2, 2)\n",
        "\n",
        "        self.conv_t2  = nn.Conv2d(24, 12, 1)\n",
        "        self.bn_t2    = nn.BatchNorm2d(12)\n",
        "        self.do_t2    = nn.Dropout2d(drop_out_val)\n",
        "\n",
        "        # CONVOLUTION LAYER 6\n",
        "        self.conv6 = nn.Conv2d(12, 12, 3, padding = 1)\n",
        "        self.bn6 = nn.BatchNorm2d(12)\n",
        "        self.do6 = nn.Dropout2d(drop_out_val)\n",
        "\n",
        "        # CONVOLUTION LAYER 7\n",
        "        self.conv7 = nn.Conv2d(12, 24, 3, padding = 1)\n",
        "\n",
        "        self.gap = nn.AvgPool2d(7)\n",
        "        self.linear1 = nn.Linear(24, 10)\n",
        "\n",
        "    def forward(self, x):\n",
        "        #BN after Relu\n",
        "        x = self.pool1(self.do3(self.bn3(F.relu(self.conv3  (self.do2(self.bn2(F.relu(self.conv2  (self.do1(self.bn1(F.relu(self.conv1(x)))))  )))) ))))  \n",
        "        x = self.pool2(self.do5(self.bn5(F.relu(self.conv5  (self.do4(self.bn4(F.relu(self.conv4  (self.do_t1(self.bn_t1(F.relu(self.conv_t1(x)))))  ))))  )))) \n",
        "        x =                       F.relu( self.conv7        (self.do6(self.bn6(F.relu(self.conv6  (self.do_t2(self.bn_t2(F.relu(self.conv_t2(x)))))  ))))  )               \n",
        "        \n",
        "        x = self.gap(x)\n",
        "        x = x.view(-1, 24)\n",
        "        x = self.linear1(x)\n",
        "\n",
        "        return F.log_softmax(x)       #log of softmax\n",
        "\n",
        "model = Net().to(device)"
      ],
      "execution_count": 3,
      "outputs": []
    },
    {
      "cell_type": "code",
      "metadata": {
        "id": "qqGcEE0KqcDm",
        "colab": {
          "base_uri": "https://localhost:8080/"
        },
        "outputId": "633652d8-55c4-4119-994a-4b979e9c674f"
      },
      "source": [
        "summary(model, input_size=(1, 28, 28))"
      ],
      "execution_count": 4,
      "outputs": [
        {
          "output_type": "stream",
          "text": [
            "----------------------------------------------------------------\n",
            "        Layer (type)               Output Shape         Param #\n",
            "================================================================\n",
            "            Conv2d-1           [-1, 12, 28, 28]             120\n",
            "       BatchNorm2d-2           [-1, 12, 28, 28]              24\n",
            "         Dropout2d-3           [-1, 12, 28, 28]               0\n",
            "            Conv2d-4           [-1, 24, 28, 28]           2,616\n",
            "       BatchNorm2d-5           [-1, 24, 28, 28]              48\n",
            "         Dropout2d-6           [-1, 24, 28, 28]               0\n",
            "            Conv2d-7           [-1, 36, 28, 28]           7,812\n",
            "       BatchNorm2d-8           [-1, 36, 28, 28]              72\n",
            "         Dropout2d-9           [-1, 36, 28, 28]               0\n",
            "        MaxPool2d-10           [-1, 36, 14, 14]               0\n",
            "           Conv2d-11           [-1, 12, 14, 14]             444\n",
            "      BatchNorm2d-12           [-1, 12, 14, 14]              24\n",
            "        Dropout2d-13           [-1, 12, 14, 14]               0\n",
            "           Conv2d-14           [-1, 12, 14, 14]           1,308\n",
            "      BatchNorm2d-15           [-1, 12, 14, 14]              24\n",
            "        Dropout2d-16           [-1, 12, 14, 14]               0\n",
            "           Conv2d-17           [-1, 24, 14, 14]           2,616\n",
            "      BatchNorm2d-18           [-1, 24, 14, 14]              48\n",
            "        Dropout2d-19           [-1, 24, 14, 14]               0\n",
            "        MaxPool2d-20             [-1, 24, 7, 7]               0\n",
            "           Conv2d-21             [-1, 12, 7, 7]             300\n",
            "      BatchNorm2d-22             [-1, 12, 7, 7]              24\n",
            "        Dropout2d-23             [-1, 12, 7, 7]               0\n",
            "           Conv2d-24             [-1, 12, 7, 7]           1,308\n",
            "      BatchNorm2d-25             [-1, 12, 7, 7]              24\n",
            "        Dropout2d-26             [-1, 12, 7, 7]               0\n",
            "           Conv2d-27             [-1, 24, 7, 7]           2,616\n",
            "        AvgPool2d-28             [-1, 24, 1, 1]               0\n",
            "           Linear-29                   [-1, 10]             250\n",
            "================================================================\n",
            "Total params: 19,678\n",
            "Trainable params: 19,678\n",
            "Non-trainable params: 0\n",
            "----------------------------------------------------------------\n",
            "Input size (MB): 0.00\n",
            "Forward/backward pass size (MB): 1.61\n",
            "Params size (MB): 0.08\n",
            "Estimated Total Size (MB): 1.68\n",
            "----------------------------------------------------------------\n"
          ],
          "name": "stdout"
        },
        {
          "output_type": "stream",
          "text": [
            "/usr/local/lib/python3.7/dist-packages/ipykernel_launcher.py:67: UserWarning: Implicit dimension choice for log_softmax has been deprecated. Change the call to include dim=X as an argument.\n"
          ],
          "name": "stderr"
        }
      ]
    },
    {
      "cell_type": "markdown",
      "metadata": {
        "id": "JFwhzk3EHQmo"
      },
      "source": [
        "##Download the dataset\n"
      ]
    },
    {
      "cell_type": "code",
      "metadata": {
        "id": "DqTWLaM5GHgH",
        "colab": {
          "base_uri": "https://localhost:8080/",
          "height": 573,
          "referenced_widgets": [
            "d165fc706e074a6f94f1ea07ea6d8b81",
            "57dce697abdf4c0495ea1fe4844edae3",
            "222bfa89c4c547a1bd022b9ad09ef1d4",
            "6bba8881936345e9bf84d8a769f37ab9",
            "cfb077c7c76b4b2c8495cba1af002697",
            "02d8e6b25754418892444d49bd3725b9",
            "3e51a48edf6a4e1ca98b89ae7cd414f7",
            "925f48693beb4742bd81a4f8e655fe92",
            "4d3daefede1342bd8b8dc09ed9ca1155",
            "8d661f2300a0424380bd3ae6cc445dcb",
            "afc4a8ac61c74e3a980ba8661f5155b3",
            "9d78737b76eb44999d106cec04884d7c",
            "64384cb709d946578ccb7fef6d4989a2",
            "54447d2b8f2a4da5b2cc8150b1a9589c",
            "7d4aa76b4bcd4e38a375134687243f2e",
            "522209c0c8ad4fdda741aadf1e22d650",
            "277c2133ca394ad7a2cc1fbf0e67e8b9",
            "485a73069bda4f3d87599d43c2e706a4",
            "43c7ba9f2f344d058ecc1f814ea5771c",
            "bde8f3d385894c9197f82d1effcc9343",
            "c70c31fc1d204e7f966eb99131bd8801",
            "74968edd9b0c4ca58e8273ffba5a27ad",
            "3b88d005a3064bc5b6d64aba730cdcc6",
            "664e323482af4ea4bbf507aa00a2aeb4",
            "ce277e48178644ada649fd2126402a7d",
            "21ba6ed446cd444697da4c46bb9e1498",
            "ee89bf38f34f41238bf171237444bff8",
            "916b7f3c0bbd40028cb28d9c8b0e288a",
            "3d42619f7b474e21a0f441f0d745d28a",
            "0905a957201f45ecb846263feff10bf8",
            "d03b04fe4b114384bbf86f0d0bfbebad",
            "8311960e90ca424393aa9f3b02d5a985"
          ]
        },
        "outputId": "daeb151d-728f-4ed0-8029-2f250cb69474"
      },
      "source": [
        "torch.manual_seed(1)\n",
        "batch_size = 64\n",
        "\n",
        "kwargs = {'num_workers': 1, 'pin_memory': True} if use_cuda else {}\n",
        "train_loader = torch.utils.data.DataLoader(\n",
        "    datasets.MNIST('../data', train=True, download=True,\n",
        "                    transform=transforms.Compose([\n",
        "                        transforms.ToTensor(),\n",
        "                        transforms.Normalize((0.1307,), (0.3081,))\n",
        "                    ])),\n",
        "    batch_size=batch_size, shuffle=True, **kwargs)\n",
        "test_loader = torch.utils.data.DataLoader(\n",
        "    datasets.MNIST('../data', train=False, transform=transforms.Compose([\n",
        "                        transforms.ToTensor(),\n",
        "                        transforms.Normalize((0.1307,), (0.3081,))\n",
        "                    ])),\n",
        "    batch_size=batch_size, shuffle=True, **kwargs)\n"
      ],
      "execution_count": 5,
      "outputs": [
        {
          "output_type": "stream",
          "text": [
            "Downloading http://yann.lecun.com/exdb/mnist/train-images-idx3-ubyte.gz\n",
            "Downloading http://yann.lecun.com/exdb/mnist/train-images-idx3-ubyte.gz to ../data/MNIST/raw/train-images-idx3-ubyte.gz\n"
          ],
          "name": "stdout"
        },
        {
          "output_type": "display_data",
          "data": {
            "application/vnd.jupyter.widget-view+json": {
              "model_id": "d165fc706e074a6f94f1ea07ea6d8b81",
              "version_minor": 0,
              "version_major": 2
            },
            "text/plain": [
              "HBox(children=(FloatProgress(value=0.0, max=9912422.0), HTML(value='')))"
            ]
          },
          "metadata": {
            "tags": []
          }
        },
        {
          "output_type": "stream",
          "text": [
            "\n",
            "Extracting ../data/MNIST/raw/train-images-idx3-ubyte.gz to ../data/MNIST/raw\n",
            "\n",
            "Downloading http://yann.lecun.com/exdb/mnist/train-labels-idx1-ubyte.gz\n",
            "Downloading http://yann.lecun.com/exdb/mnist/train-labels-idx1-ubyte.gz to ../data/MNIST/raw/train-labels-idx1-ubyte.gz\n"
          ],
          "name": "stdout"
        },
        {
          "output_type": "display_data",
          "data": {
            "application/vnd.jupyter.widget-view+json": {
              "model_id": "4d3daefede1342bd8b8dc09ed9ca1155",
              "version_minor": 0,
              "version_major": 2
            },
            "text/plain": [
              "HBox(children=(FloatProgress(value=0.0, max=28881.0), HTML(value='')))"
            ]
          },
          "metadata": {
            "tags": []
          }
        },
        {
          "output_type": "stream",
          "text": [
            "\n",
            "Extracting ../data/MNIST/raw/train-labels-idx1-ubyte.gz to ../data/MNIST/raw\n",
            "\n",
            "Downloading http://yann.lecun.com/exdb/mnist/t10k-images-idx3-ubyte.gz\n",
            "Downloading http://yann.lecun.com/exdb/mnist/t10k-images-idx3-ubyte.gz to ../data/MNIST/raw/t10k-images-idx3-ubyte.gz\n"
          ],
          "name": "stdout"
        },
        {
          "output_type": "display_data",
          "data": {
            "application/vnd.jupyter.widget-view+json": {
              "model_id": "277c2133ca394ad7a2cc1fbf0e67e8b9",
              "version_minor": 0,
              "version_major": 2
            },
            "text/plain": [
              "HBox(children=(FloatProgress(value=0.0, max=1648877.0), HTML(value='')))"
            ]
          },
          "metadata": {
            "tags": []
          }
        },
        {
          "output_type": "stream",
          "text": [
            "\n",
            "Extracting ../data/MNIST/raw/t10k-images-idx3-ubyte.gz to ../data/MNIST/raw\n",
            "\n",
            "Downloading http://yann.lecun.com/exdb/mnist/t10k-labels-idx1-ubyte.gz\n",
            "Downloading http://yann.lecun.com/exdb/mnist/t10k-labels-idx1-ubyte.gz to ../data/MNIST/raw/t10k-labels-idx1-ubyte.gz\n"
          ],
          "name": "stdout"
        },
        {
          "output_type": "display_data",
          "data": {
            "application/vnd.jupyter.widget-view+json": {
              "model_id": "ce277e48178644ada649fd2126402a7d",
              "version_minor": 0,
              "version_major": 2
            },
            "text/plain": [
              "HBox(children=(FloatProgress(value=0.0, max=4542.0), HTML(value='')))"
            ]
          },
          "metadata": {
            "tags": []
          }
        },
        {
          "output_type": "stream",
          "text": [
            "\n",
            "Extracting ../data/MNIST/raw/t10k-labels-idx1-ubyte.gz to ../data/MNIST/raw\n",
            "\n",
            "Processing...\n",
            "Done!\n"
          ],
          "name": "stdout"
        },
        {
          "output_type": "stream",
          "text": [
            "/usr/local/lib/python3.7/dist-packages/torchvision/datasets/mnist.py:502: UserWarning: The given NumPy array is not writeable, and PyTorch does not support non-writeable tensors. This means you can write to the underlying (supposedly non-writeable) NumPy array using the tensor. You may want to copy the array to protect its data or make it writeable before converting it to a tensor. This type of warning will be suppressed for the rest of this program. (Triggered internally at  /pytorch/torch/csrc/utils/tensor_numpy.cpp:143.)\n",
            "  return torch.from_numpy(parsed.astype(m[2], copy=False)).view(*s)\n"
          ],
          "name": "stderr"
        }
      ]
    },
    {
      "cell_type": "markdown",
      "metadata": {
        "id": "Z-M95qXF50uE"
      },
      "source": [
        "## Utility Functions"
      ]
    },
    {
      "cell_type": "code",
      "metadata": {
        "id": "augmocoUHeDs"
      },
      "source": [
        "# from tqdm.notebook import tqdm\n",
        "\n",
        "#Use scheduler\n",
        "def train(model, device, train_loader, optimizer, scheduler, epoch):\n",
        "    model.train()\n",
        "    # pbar = tqdm(train_loader)\n",
        "    train_loss = 0\n",
        "    correct = 0\n",
        "    num_loops = 0\n",
        "    # for batch_idx, (data, target) in enumerate(pbar):\n",
        "    for batch_idx, (data, target) in enumerate(train_loader):\n",
        "        data, target = data.to(device), target.to(device)\n",
        "        optimizer.zero_grad()\n",
        "        output = model(data)\n",
        "        loss = F.nll_loss(output, target)\n",
        "        loss.backward()\n",
        "        optimizer.step()\n",
        "        # pbar.set_description(desc= f'loss={loss.item()} batch_id={batch_idx}')\n",
        "        train_loss += loss.item()\n",
        "        pred = output.argmax(dim=1, keepdim=True)  # get the index of the max log-probability\n",
        "        correct += pred.eq(target.view_as(pred)).sum().item()\n",
        "        num_loops +=1\n",
        " \n",
        "    train_loss /= num_loops\n",
        "    # scheduler.step()\n",
        "    scheduler.step(train_loss)\n",
        "    hist_train_loss.append(train_loss)\n",
        "    hist_train_acc.append(100. * correct / len(train_loader.dataset))\n",
        "    print(\"Training Average loss: {:.6f}, Accuracy = ({:.6f}%)\".format(train_loss, 100. * correct / len(train_loader.dataset)))\n",
        "\n",
        "def test(model, device, test_loader):\n",
        "    model.eval()\n",
        "    test_loss = 0\n",
        "    correct = 0\n",
        "    with torch.no_grad():\n",
        "        for data, target in test_loader:\n",
        "            data, target = data.to(device), target.to(device)\n",
        "            output = model(data)\n",
        "            test_loss += F.nll_loss(output, target, reduction='sum').item()  # sum up batch loss\n",
        "            pred = output.argmax(dim=1, keepdim=True)  # get the index of the max log-probability\n",
        "            correct += pred.eq(target.view_as(pred)).sum().item()\n",
        "\n",
        "    test_loss /= len(test_loader.dataset)\n",
        "    hist_test_loss.append(test_loss)\n",
        "    hist_test_acc.append(100. * correct / len(test_loader.dataset))\n",
        "\n",
        "    print('Test set: Average loss: {:.6f}, Accuracy: {}/{} ({:.6f}%)\\n'.format(\n",
        "        test_loss, correct, len(test_loader.dataset),\n",
        "        100. * correct / len(test_loader.dataset)))"
      ],
      "execution_count": 6,
      "outputs": []
    },
    {
      "cell_type": "code",
      "metadata": {
        "id": "So5uk4EkHW6R"
      },
      "source": [
        "def draw_network(model):\n",
        "  model = model.to(\"cpu\")\n",
        "  hl_graph = hl.build_graph(model, torch.zeros([1, 1, 28, 28]))\n",
        "  # Use a different color theme\n",
        "  hl_graph.theme = hl.graph.THEMES[\"blue\"].copy()\n",
        "  return hl_graph"
      ],
      "execution_count": 7,
      "outputs": []
    },
    {
      "cell_type": "code",
      "metadata": {
        "id": "b3MnxFPxqqjN"
      },
      "source": [
        "import numpy as np\n",
        "import matplotlib.pyplot as plt\n",
        "\n",
        "plt.rcParams['figure.figsize'] = [15, 6]\n",
        "\n",
        "def training_curves():\n",
        "  plt.subplot(1,2, 1)\n",
        "\n",
        "  plt.plot(np.array(hist_test_acc))\n",
        "  plt.plot(np.array(hist_train_acc), 'r')\n",
        "  plt.legend([\"test_acc\", \"train_acc\"])\n",
        "  plt.title(\"Accuracy per epoch\")\n",
        "\n",
        "  plt.subplot(1,2,2)\n",
        "  plt.plot(hist_test_loss)\n",
        "  plt.plot(hist_train_loss, 'r')\n",
        "  plt.legend([\"test_loss\", \"train_loss\"])\n",
        "  plt.title(\"Loss per epoch\")\n"
      ],
      "execution_count": 8,
      "outputs": []
    },
    {
      "cell_type": "markdown",
      "metadata": {
        "id": "WI6fTCBLf0Rl"
      },
      "source": [
        "## Summary and training"
      ]
    },
    {
      "cell_type": "code",
      "metadata": {
        "id": "gAleLp9uTsVr"
      },
      "source": [
        "#reset the Network\n",
        "model = Net().to(device)"
      ],
      "execution_count": 9,
      "outputs": []
    },
    {
      "cell_type": "code",
      "metadata": {
        "id": "e-m46Kr3RpSJ"
      },
      "source": [
        "hist_test_loss = []\n",
        "hist_test_acc = []\n",
        "hist_train_loss = []\n",
        "hist_train_acc = []"
      ],
      "execution_count": 10,
      "outputs": []
    },
    {
      "cell_type": "code",
      "metadata": {
        "id": "oGrqdj8Em7Cc"
      },
      "source": [
        "from torch.optim.lr_scheduler import ReduceLROnPlateau\n",
        "from torch.optim.lr_scheduler import ExponentialLR"
      ],
      "execution_count": 11,
      "outputs": []
    },
    {
      "cell_type": "markdown",
      "metadata": {
        "id": "qC2_NMWq9dV0"
      },
      "source": [
        "Learning Rate going from 0.1 to 0.05 to 0.01"
      ]
    },
    {
      "cell_type": "code",
      "metadata": {
        "colab": {
          "base_uri": "https://localhost:8080/",
          "height": 1000
        },
        "id": "00YqrCXpRDdk",
        "outputId": "4d79a31b-0f44-4194-e83c-4c4e8ff34a46"
      },
      "source": [
        "model = model.to(device)\n",
        "optimizer = optim.SGD(model.parameters(), lr=0.1, momentum=0.9,)\n",
        "\n",
        "scheduler =ReduceLROnPlateau(optimizer=optimizer, patience=2, verbose=True)\n",
        "\n",
        "for epoch in range(1, 10):\n",
        "    print(\"Epoch: \", epoch)\n",
        "    train(model, device, train_loader, optimizer, scheduler, epoch)\n",
        "    print(\"learning rate\", optimizer.param_groups[0]['lr'])\n",
        "    test(model, device, test_loader)\n",
        "\n",
        "optimizer = optim.SGD(model.parameters(), lr=0.05, momentum=0.9)\n",
        "for epoch in range(10, 15):\n",
        "    print(\"Epoch: \", epoch)\n",
        "    train(model, device, train_loader, optimizer, scheduler, epoch)\n",
        "    print(\"learning rate\", optimizer.param_groups[0]['lr'])\n",
        "    test(model, device, test_loader)\n",
        "\n",
        "optimizer = optim.SGD(model.parameters(), lr=0.01, momentum=0.9)\n",
        "for epoch in range(15, 20):\n",
        "    print(\"Epoch: \", epoch)\n",
        "    train(model, device, train_loader, optimizer, scheduler, epoch)\n",
        "    print(\"learning rate\", optimizer.param_groups[0]['lr'])\n",
        "    test(model, device, test_loader)\n",
        "\n",
        "training_curves()"
      ],
      "execution_count": 12,
      "outputs": [
        {
          "output_type": "stream",
          "text": [
            "Epoch:  1\n"
          ],
          "name": "stdout"
        },
        {
          "output_type": "stream",
          "text": [
            "/usr/local/lib/python3.7/dist-packages/ipykernel_launcher.py:67: UserWarning: Implicit dimension choice for log_softmax has been deprecated. Change the call to include dim=X as an argument.\n"
          ],
          "name": "stderr"
        },
        {
          "output_type": "stream",
          "text": [
            "Training Average loss: 0.307849, Accuracy = (90.076667%)\n",
            "learning rate 0.1\n",
            "Test set: Average loss: 0.073530, Accuracy: 9758/10000 (97.580000%)\n",
            "\n",
            "Epoch:  2\n",
            "Training Average loss: 0.104635, Accuracy = (96.853333%)\n",
            "learning rate 0.1\n",
            "Test set: Average loss: 0.047766, Accuracy: 9849/10000 (98.490000%)\n",
            "\n",
            "Epoch:  3\n",
            "Training Average loss: 0.076394, Accuracy = (97.715000%)\n",
            "learning rate 0.1\n",
            "Test set: Average loss: 0.035682, Accuracy: 9880/10000 (98.800000%)\n",
            "\n",
            "Epoch:  4\n",
            "Training Average loss: 0.066678, Accuracy = (98.025000%)\n",
            "learning rate 0.1\n",
            "Test set: Average loss: 0.025017, Accuracy: 9914/10000 (99.140000%)\n",
            "\n",
            "Epoch:  5\n",
            "Training Average loss: 0.057623, Accuracy = (98.256667%)\n",
            "learning rate 0.1\n",
            "Test set: Average loss: 0.027794, Accuracy: 9913/10000 (99.130000%)\n",
            "\n",
            "Epoch:  6\n",
            "Training Average loss: 0.052661, Accuracy = (98.393333%)\n",
            "learning rate 0.1\n",
            "Test set: Average loss: 0.027139, Accuracy: 9911/10000 (99.110000%)\n",
            "\n",
            "Epoch:  7\n",
            "Training Average loss: 0.048526, Accuracy = (98.540000%)\n",
            "learning rate 0.1\n",
            "Test set: Average loss: 0.025282, Accuracy: 9910/10000 (99.100000%)\n",
            "\n",
            "Epoch:  8\n",
            "Training Average loss: 0.044849, Accuracy = (98.621667%)\n",
            "learning rate 0.1\n",
            "Test set: Average loss: 0.031781, Accuracy: 9899/10000 (98.990000%)\n",
            "\n",
            "Epoch:  9\n",
            "Training Average loss: 0.042463, Accuracy = (98.703333%)\n",
            "learning rate 0.1\n",
            "Test set: Average loss: 0.022553, Accuracy: 9929/10000 (99.290000%)\n",
            "\n",
            "Epoch:  10\n",
            "Training Average loss: 0.030229, Accuracy = (99.065000%)\n",
            "learning rate 0.05\n",
            "Test set: Average loss: 0.015533, Accuracy: 9957/10000 (99.570000%)\n",
            "\n",
            "Epoch:  11\n",
            "Training Average loss: 0.028604, Accuracy = (99.080000%)\n",
            "learning rate 0.05\n",
            "Test set: Average loss: 0.017179, Accuracy: 9936/10000 (99.360000%)\n",
            "\n",
            "Epoch:  12\n",
            "Training Average loss: 0.026290, Accuracy = (99.200000%)\n",
            "learning rate 0.05\n",
            "Test set: Average loss: 0.017678, Accuracy: 9935/10000 (99.350000%)\n",
            "\n",
            "Epoch:  13\n",
            "Training Average loss: 0.025959, Accuracy = (99.190000%)\n",
            "learning rate 0.05\n",
            "Test set: Average loss: 0.018604, Accuracy: 9936/10000 (99.360000%)\n",
            "\n",
            "Epoch:  14\n",
            "Training Average loss: 0.025273, Accuracy = (99.221667%)\n",
            "learning rate 0.05\n",
            "Test set: Average loss: 0.017194, Accuracy: 9937/10000 (99.370000%)\n",
            "\n",
            "Epoch:  15\n",
            "Training Average loss: 0.019522, Accuracy = (99.385000%)\n",
            "learning rate 0.01\n",
            "Test set: Average loss: 0.014594, Accuracy: 9949/10000 (99.490000%)\n",
            "\n",
            "Epoch:  16\n",
            "Training Average loss: 0.018550, Accuracy = (99.393333%)\n",
            "learning rate 0.01\n",
            "Test set: Average loss: 0.015158, Accuracy: 9949/10000 (99.490000%)\n",
            "\n",
            "Epoch:  17\n",
            "Training Average loss: 0.019734, Accuracy = (99.348333%)\n",
            "learning rate 0.01\n",
            "Test set: Average loss: 0.014745, Accuracy: 9950/10000 (99.500000%)\n",
            "\n",
            "Epoch:  18\n",
            "Training Average loss: 0.018335, Accuracy = (99.461667%)\n",
            "learning rate 0.01\n",
            "Test set: Average loss: 0.014946, Accuracy: 9951/10000 (99.510000%)\n",
            "\n",
            "Epoch:  19\n",
            "Training Average loss: 0.018005, Accuracy = (99.418333%)\n",
            "learning rate 0.01\n",
            "Test set: Average loss: 0.014955, Accuracy: 9946/10000 (99.460000%)\n",
            "\n"
          ],
          "name": "stdout"
        },
        {
          "output_type": "display_data",
          "data": {
            "image/png": "[encoded data removed]",
            "text/plain": [
              "<Figure size 1080x432 with 2 Axes>"
            ]
          },
          "metadata": {
            "tags": [],
            "needs_background": "light"
          }
        }
      ]
    },
    {
      "cell_type": "code",
      "metadata": {
        "id": "0-qV-qMh_lWj"
      },
      "source": [
        ""
      ],
      "execution_count": 12,
      "outputs": []
    }
  ]
}