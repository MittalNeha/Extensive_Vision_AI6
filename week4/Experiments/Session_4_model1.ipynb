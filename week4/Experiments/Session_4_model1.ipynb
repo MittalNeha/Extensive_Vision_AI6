{
  "nbformat": 4,
  "nbformat_minor": 0,
  "metadata": {
    "colab": {
      "name": "Session 4_Neha.ipynb",
      "provenance": [],
      "include_colab_link": true
    },
    "kernelspec": {
      "name": "python3",
      "display_name": "Python 3"
    },
    "accelerator": "GPU"
  },
  "cells": [
    {
      "cell_type": "markdown",
      "metadata": {
        "id": "view-in-github",
        "colab_type": "text"
      },
      "source": [
        "<a href=\"https://colab.research.google.com/github/MittalNeha/Extensive_Vision_AI6/blob/main/week4/Experiments/Session_4_model1.ipynb\" target=\"_parent\"><img src=\"https://colab.research.google.com/assets/colab-badge.svg\" alt=\"Open In Colab\"/></a>"
      ]
    },
    {
      "cell_type": "markdown",
      "metadata": {
        "id": "QB8b8I_6zsmk"
      },
      "source": [
        "# Session 4\n",
        "##  Training MNIST (Experiment model_1)\n",
        "\n",
        "Number of Parameters: 11,650\n",
        "\n",
        "Training Accuracy(loss) :     99.22% (0.024154)\n",
        "\n",
        "Testing Accuracy (loss) :     99.46% (0.018882)"
      ]
    },
    {
      "cell_type": "code",
      "metadata": {
        "id": "0m2JWFliFfKT"
      },
      "source": [
        "from __future__ import print_function\n",
        "import torch\n",
        "import torch.nn as nn\n",
        "import torch.nn.functional as F\n",
        "import torch.optim as optim\n",
        "from torchvision import datasets, transforms"
      ],
      "execution_count": null,
      "outputs": []
    },
    {
      "cell_type": "code",
      "metadata": {
        "id": "xdydjYTZFyi3"
      },
      "source": [
        "from torchsummary import summary\n",
        "use_cuda = torch.cuda.is_available()\n",
        "device = torch.device(\"cuda\" if use_cuda else \"cpu\")"
      ],
      "execution_count": null,
      "outputs": []
    },
    {
      "cell_type": "markdown",
      "metadata": {
        "id": "lLcSvHNI1KAh"
      },
      "source": [
        "## Model Architecture\n",
        "12->24->MP->12->12->24->MP->12->12->24->GAP->Dense->10"
      ]
    },
    {
      "cell_type": "code",
      "metadata": {
        "id": "ON69-WBgppHS"
      },
      "source": [
        "drop_out_val = 0.05\n",
        "class Net(nn.Module):\n",
        "    def __init__(self):\n",
        "        super().__init__()\n",
        "\n",
        "        # CONVOLUTION LAYER 1  \n",
        "        self.conv1 = nn.Conv2d(1, 12, 3, padding=1)\n",
        "        self.bn1 = nn.BatchNorm2d(12)\n",
        "        self.do1 = nn.Dropout2d(drop_out_val)\n",
        "        \n",
        "        # CONVOLUTION LAYER 2\n",
        "        self.conv2 = nn.Conv2d(12, 24, 3, padding=1)\n",
        "        self.bn2 = nn.BatchNorm2d(24)\n",
        "        self.do2 = nn.Dropout2d(drop_out_val)\n",
        "        \n",
        "        # TRANSITION LAYER 1\n",
        "        self.pool1 = nn.MaxPool2d(2, 2)\n",
        "\n",
        "        self.conv_t1 = nn.Conv2d(24, 12, 1)\n",
        "        self.bn_t1 = nn.BatchNorm2d(12)\n",
        "        self.do_t1 = nn.Dropout2d(drop_out_val)\n",
        "\n",
        "        # CONVOLUTION LAYER 3\n",
        "        self.conv3 = nn.Conv2d(12, 12, 3, padding = 1)\n",
        "        self.bn3 = nn.BatchNorm2d(12)\n",
        "        self.do3 = nn.Dropout2d(drop_out_val)\n",
        "\n",
        "        # CONVOLUTION LAYER 4\n",
        "        self.conv4 = nn.Conv2d(12, 24, 3, padding = 1)\n",
        "        self.bn4 = nn.BatchNorm2d(24)\n",
        "        self.do4 = nn.Dropout2d(drop_out_val)\n",
        "\n",
        "        # TRANSITION LAYER 2\n",
        "        self.pool2 = nn.MaxPool2d(2, 2)\n",
        "\n",
        "        self.conv_t2 = nn.Conv2d(24, 12, 1)\n",
        "        self.bn_t2 = nn.BatchNorm2d(12)\n",
        "        self.do_t2 = nn.Dropout2d(drop_out_val)\n",
        "\n",
        "        # CONVOLUTION LAYER 5\n",
        "        self.conv5 = nn.Conv2d(12, 12, 3, padding = 1)\n",
        "        self.bn5 = nn.BatchNorm2d(12)\n",
        "        self.do5 = nn.Dropout2d(drop_out_val)\n",
        "\n",
        "        # CONVOLUTION LAYER 6\n",
        "        self.conv6 = nn.Conv2d(12, 24, 3, padding = 1)\n",
        "        \n",
        "        self.gap = nn.AvgPool2d(7)\n",
        "        self.linear1 = nn.Linear(24, 10)\n",
        "        \n",
        "    def forward(self, x):\n",
        "        x = self.pool1(  self.do2(self.bn2(F.relu(self.conv2  (self.do1(self.bn1(F.relu(self.conv1(x)))))  )))) \n",
        "        x = self.pool2(  self.do4(self.bn4(F.relu(self.conv4( self.do3(self.bn3(F.relu(self.conv3  (self.do_t1(self.bn_t1(F.relu(self.conv_t1(x)))))  ))))  )))) \n",
        "        x =                       F.relu(self.conv6 (self.do5(self.bn5(F.relu(self.conv5  (self.do_t2(self.bn_t2(F.relu(self.conv_t2(x)))))  ))))  )               \n",
        "        \n",
        "        x = self.gap(x)\n",
        "        x = x.view(-1, 24)\n",
        "        x = self.linear1(x)\n",
        "        \n",
        "        return F.log_softmax(x)       #log of softmax\n",
        "\n",
        "model = Net().to(device)"
      ],
      "execution_count": null,
      "outputs": []
    },
    {
      "cell_type": "code",
      "metadata": {
        "id": "qqGcEE0KqcDm",
        "colab": {
          "base_uri": "https://localhost:8080/"
        },
        "outputId": "f5b782ed-8e24-4e4b-ddad-7f488646071b"
      },
      "source": [
        "summary(model, input_size=(1, 28, 28))"
      ],
      "execution_count": null,
      "outputs": [
        {
          "output_type": "stream",
          "text": [
            "----------------------------------------------------------------\n",
            "        Layer (type)               Output Shape         Param #\n",
            "================================================================\n",
            "            Conv2d-1           [-1, 10, 28, 28]             100\n",
            "       BatchNorm2d-2           [-1, 10, 28, 28]              20\n",
            "         Dropout2d-3           [-1, 10, 28, 28]               0\n",
            "            Conv2d-4           [-1, 20, 28, 28]           1,820\n",
            "       BatchNorm2d-5           [-1, 20, 28, 28]              40\n",
            "         Dropout2d-6           [-1, 20, 28, 28]               0\n",
            "            Conv2d-7           [-1, 30, 28, 28]           5,430\n",
            "       BatchNorm2d-8           [-1, 30, 28, 28]              60\n",
            "         Dropout2d-9           [-1, 30, 28, 28]               0\n",
            "        MaxPool2d-10           [-1, 30, 14, 14]               0\n",
            "           Conv2d-11           [-1, 10, 14, 14]             310\n",
            "      BatchNorm2d-12           [-1, 10, 14, 14]              20\n",
            "        Dropout2d-13           [-1, 10, 14, 14]               0\n",
            "           Conv2d-14           [-1, 10, 14, 14]             910\n",
            "      BatchNorm2d-15           [-1, 10, 14, 14]              20\n",
            "        Dropout2d-16           [-1, 10, 14, 14]               0\n",
            "           Conv2d-17           [-1, 20, 14, 14]           1,820\n",
            "      BatchNorm2d-18           [-1, 20, 14, 14]              40\n",
            "        Dropout2d-19           [-1, 20, 14, 14]               0\n",
            "        MaxPool2d-20             [-1, 20, 7, 7]               0\n",
            "           Conv2d-21             [-1, 10, 7, 7]             210\n",
            "      BatchNorm2d-22             [-1, 10, 7, 7]              20\n",
            "        Dropout2d-23             [-1, 10, 7, 7]               0\n",
            "           Conv2d-24             [-1, 10, 7, 7]             910\n",
            "      BatchNorm2d-25             [-1, 10, 7, 7]              20\n",
            "        Dropout2d-26             [-1, 10, 7, 7]               0\n",
            "           Conv2d-27             [-1, 20, 7, 7]           1,820\n",
            "        AvgPool2d-28             [-1, 20, 1, 1]               0\n",
            "           Linear-29                   [-1, 10]             210\n",
            "================================================================\n",
            "Total params: 13,780\n",
            "Trainable params: 13,780\n",
            "Non-trainable params: 0\n",
            "----------------------------------------------------------------\n",
            "Input size (MB): 0.00\n",
            "Forward/backward pass size (MB): 1.34\n",
            "Params size (MB): 0.05\n",
            "Estimated Total Size (MB): 1.39\n",
            "----------------------------------------------------------------\n"
          ],
          "name": "stdout"
        },
        {
          "output_type": "stream",
          "text": [
            "/usr/local/lib/python3.7/dist-packages/ipykernel_launcher.py:67: UserWarning: Implicit dimension choice for log_softmax has been deprecated. Change the call to include dim=X as an argument.\n"
          ],
          "name": "stderr"
        }
      ]
    },
    {
      "cell_type": "markdown",
      "metadata": {
        "id": "JFwhzk3EHQmo"
      },
      "source": [
        "##Download the dataset\n"
      ]
    },
    {
      "cell_type": "code",
      "metadata": {
        "id": "DqTWLaM5GHgH"
      },
      "source": [
        "torch.manual_seed(1)\n",
        "batch_size = 64\n",
        "\n",
        "kwargs = {'num_workers': 1, 'pin_memory': True} if use_cuda else {}\n",
        "train_loader = torch.utils.data.DataLoader(\n",
        "    datasets.MNIST('../data', train=True, download=True,\n",
        "                    transform=transforms.Compose([\n",
        "                        transforms.ToTensor(),\n",
        "                        transforms.Normalize((0.1307,), (0.3081,))\n",
        "                    ])),\n",
        "    batch_size=batch_size, shuffle=True, **kwargs)\n",
        "test_loader = torch.utils.data.DataLoader(\n",
        "    datasets.MNIST('../data', train=False, transform=transforms.Compose([\n",
        "                        transforms.ToTensor(),\n",
        "                        transforms.Normalize((0.1307,), (0.3081,))\n",
        "                    ])),\n",
        "    batch_size=batch_size, shuffle=True, **kwargs)\n"
      ],
      "execution_count": null,
      "outputs": []
    },
    {
      "cell_type": "markdown",
      "metadata": {
        "id": "Z-M95qXF50uE"
      },
      "source": [
        "## Utility Functions"
      ]
    },
    {
      "cell_type": "code",
      "metadata": {
        "id": "augmocoUHeDs"
      },
      "source": [
        "# from tqdm.notebook import tqdm\n",
        "\n",
        "#Use scheduler\n",
        "def train(model, device, train_loader, optimizer, scheduler, epoch):\n",
        "    model.train()\n",
        "    # pbar = tqdm(train_loader)\n",
        "    train_loss = 0\n",
        "    correct = 0\n",
        "    num_loops = 0\n",
        "    # for batch_idx, (data, target) in enumerate(pbar):\n",
        "    for batch_idx, (data, target) in enumerate(train_loader):\n",
        "        data, target = data.to(device), target.to(device)\n",
        "        optimizer.zero_grad()\n",
        "        output = model(data)\n",
        "        loss = F.nll_loss(output, target)\n",
        "        loss.backward()\n",
        "        optimizer.step()\n",
        "        # pbar.set_description(desc= f'loss={loss.item()} batch_id={batch_idx}')\n",
        "        train_loss += loss.item()\n",
        "        pred = output.argmax(dim=1, keepdim=True)  # get the index of the max log-probability\n",
        "        correct += pred.eq(target.view_as(pred)).sum().item()\n",
        "        num_loops +=1\n",
        "\n",
        "    \n",
        "    train_loss /= num_loops\n",
        "    # scheduler.step()\n",
        "    scheduler.step(train_loss)\n",
        "    hist_train_loss.append(train_loss)\n",
        "    hist_train_acc.append(100. * correct / len(train_loader.dataset))\n",
        "    print(\"Training Average loss: {:.6f}, Accuracy = ({:.6f}%)\".format(train_loss, 100. * correct / len(train_loader.dataset)))\n",
        "\n",
        "def test(model, device, test_loader):\n",
        "    model.eval()\n",
        "    test_loss = 0\n",
        "    correct = 0\n",
        "    with torch.no_grad():\n",
        "        for data, target in test_loader:\n",
        "            data, target = data.to(device), target.to(device)\n",
        "            output = model(data)\n",
        "            test_loss += F.nll_loss(output, target, reduction='sum').item()  # sum up batch loss\n",
        "            pred = output.argmax(dim=1, keepdim=True)  # get the index of the max log-probability\n",
        "            correct += pred.eq(target.view_as(pred)).sum().item()\n",
        "\n",
        "    test_loss /= len(test_loader.dataset)\n",
        "    hist_test_loss.append(test_loss)\n",
        "    hist_test_acc.append(100. * correct / len(test_loader.dataset))\n",
        "\n",
        "    print('Test set: Average loss: {:.6f}, Accuracy: {}/{} ({:.6f}%)\\n'.format(\n",
        "        test_loss, correct, len(test_loader.dataset),\n",
        "        100. * correct / len(test_loader.dataset)))"
      ],
      "execution_count": null,
      "outputs": []
    },
    {
      "cell_type": "code",
      "metadata": {
        "id": "So5uk4EkHW6R"
      },
      "source": [
        "def draw_network(model):\n",
        "  model = model.to(\"cpu\")\n",
        "  hl_graph = hl.build_graph(model, torch.zeros([1, 1, 28, 28]))\n",
        "  # Use a different color theme\n",
        "  hl_graph.theme = hl.graph.THEMES[\"blue\"].copy()\n",
        "  return hl_graph"
      ],
      "execution_count": null,
      "outputs": []
    },
    {
      "cell_type": "code",
      "metadata": {
        "id": "b3MnxFPxqqjN"
      },
      "source": [
        "import numpy as np\n",
        "import matplotlib.pyplot as plt\n",
        "\n",
        "plt.rcParams['figure.figsize'] = [15, 6]\n",
        "\n",
        "def training_curves():\n",
        "  plt.subplot(1,2, 1)\n",
        "\n",
        "  plt.plot(np.array(hist_test_acc))\n",
        "  plt.plot(np.array(hist_train_acc), 'r')\n",
        "  plt.legend([\"test_acc\", \"train_acc\"])\n",
        "  plt.title(\"Accuracy per epoch\")\n",
        "\n",
        "  plt.subplot(1,2,2)\n",
        "  plt.plot(hist_test_loss)\n",
        "  plt.plot(hist_train_loss, 'r')\n",
        "  plt.legend([\"test_loss\", \"train_loss\"])\n",
        "  plt.title(\"Loss per epoch\")\n"
      ],
      "execution_count": null,
      "outputs": []
    },
    {
      "cell_type": "markdown",
      "metadata": {
        "id": "WI6fTCBLf0Rl"
      },
      "source": [
        "## Summary and training"
      ]
    },
    {
      "cell_type": "code",
      "metadata": {
        "id": "gAleLp9uTsVr"
      },
      "source": [
        "#reset the Network\n",
        "model = Net().to(device)"
      ],
      "execution_count": null,
      "outputs": []
    },
    {
      "cell_type": "code",
      "metadata": {
        "id": "e-m46Kr3RpSJ"
      },
      "source": [
        "hist_test_loss = []\n",
        "hist_test_acc = []\n",
        "hist_train_loss = []\n",
        "hist_train_acc = []"
      ],
      "execution_count": null,
      "outputs": []
    },
    {
      "cell_type": "code",
      "metadata": {
        "id": "oGrqdj8Em7Cc"
      },
      "source": [
        "from torch.optim.lr_scheduler import ReduceLROnPlateau\n",
        "from torch.optim.lr_scheduler import ExponentialLR"
      ],
      "execution_count": null,
      "outputs": []
    },
    {
      "cell_type": "markdown",
      "metadata": {
        "id": "qC2_NMWq9dV0"
      },
      "source": [
        "Learning Rate going from 0.1 to 0.05 to 0.01"
      ]
    },
    {
      "cell_type": "code",
      "metadata": {
        "colab": {
          "base_uri": "https://localhost:8080/",
          "height": 1000
        },
        "id": "00YqrCXpRDdk",
        "outputId": "6c04dd23-6c40-4bc2-d652-ab295cbb318d"
      },
      "source": [
        "model = model.to(device)\n",
        "optimizer = optim.SGD(model.parameters(), lr=0.1, momentum=0.9,)\n",
        "\n",
        "scheduler =ReduceLROnPlateau(optimizer=optimizer, patience=2, verbose=True)\n",
        "\n",
        "for epoch in range(1, 10):\n",
        "    print(\"Epoch: \", epoch)\n",
        "    train(model, device, train_loader, optimizer, scheduler, epoch)\n",
        "    print(\"learning rate\", optimizer.param_groups[0]['lr'])\n",
        "    test(model, device, test_loader)\n",
        "\n",
        "optimizer = optim.SGD(model.parameters(), lr=0.05, momentum=0.9)\n",
        "for epoch in range(10, 15):\n",
        "    print(\"Epoch: \", epoch)\n",
        "    train(model, device, train_loader, optimizer, scheduler, epoch)\n",
        "    print(\"learning rate\", optimizer.param_groups[0]['lr'])\n",
        "    test(model, device, test_loader)\n",
        "\n",
        "optimizer = optim.SGD(model.parameters(), lr=0.01, momentum=0.9)\n",
        "for epoch in range(15, 20):\n",
        "    print(\"Epoch: \", epoch)\n",
        "    train(model, device, train_loader, optimizer, scheduler, epoch)\n",
        "    print(\"learning rate\", optimizer.param_groups[0]['lr'])\n",
        "    test(model, device, test_loader)\n",
        "\n",
        "training_curves()"
      ],
      "execution_count": null,
      "outputs": [
        {
          "output_type": "stream",
          "text": [
            "Epoch:  1\n"
          ],
          "name": "stdout"
        },
        {
          "output_type": "stream",
          "text": [
            "/usr/local/lib/python3.7/dist-packages/ipykernel_launcher.py:67: UserWarning: Implicit dimension choice for log_softmax has been deprecated. Change the call to include dim=X as an argument.\n"
          ],
          "name": "stderr"
        },
        {
          "output_type": "stream",
          "text": [
            "938\n",
            "Training Average loss: 0.358030, Accuracy = (88.233333%)\n",
            "learning rate 0.1\n",
            "Test set: Average loss: 0.081678, Accuracy: 9738/10000 (97.380000%)\n",
            "\n",
            "Epoch:  2\n",
            "938\n",
            "Training Average loss: 0.121910, Accuracy = (96.306667%)\n",
            "learning rate 0.1\n",
            "Test set: Average loss: 0.048680, Accuracy: 9844/10000 (98.440000%)\n",
            "\n",
            "Epoch:  3\n",
            "938\n",
            "Training Average loss: 0.089770, Accuracy = (97.338333%)\n",
            "learning rate 0.1\n",
            "Test set: Average loss: 0.041105, Accuracy: 9868/10000 (98.680000%)\n",
            "\n",
            "Epoch:  4\n",
            "938\n",
            "Training Average loss: 0.076718, Accuracy = (97.735000%)\n",
            "learning rate 0.1\n",
            "Test set: Average loss: 0.039886, Accuracy: 9875/10000 (98.750000%)\n",
            "\n",
            "Epoch:  5\n",
            "938\n",
            "Training Average loss: 0.071120, Accuracy = (97.836667%)\n",
            "learning rate 0.1\n",
            "Test set: Average loss: 0.043493, Accuracy: 9862/10000 (98.620000%)\n",
            "\n",
            "Epoch:  6\n",
            "938\n",
            "Training Average loss: 0.062978, Accuracy = (98.131667%)\n",
            "learning rate 0.1\n",
            "Test set: Average loss: 0.032777, Accuracy: 9898/10000 (98.980000%)\n",
            "\n",
            "Epoch:  7\n",
            "938\n",
            "Training Average loss: 0.061220, Accuracy = (98.171667%)\n",
            "learning rate 0.1\n",
            "Test set: Average loss: 0.048457, Accuracy: 9850/10000 (98.500000%)\n",
            "\n",
            "Epoch:  8\n",
            "938\n",
            "Training Average loss: 0.055666, Accuracy = (98.293333%)\n",
            "learning rate 0.1\n",
            "Test set: Average loss: 0.032090, Accuracy: 9890/10000 (98.900000%)\n",
            "\n",
            "Epoch:  9\n",
            "938\n",
            "Training Average loss: 0.052840, Accuracy = (98.406667%)\n",
            "learning rate 0.1\n",
            "Test set: Average loss: 0.028908, Accuracy: 9899/10000 (98.990000%)\n",
            "\n",
            "Epoch:  10\n",
            "938\n",
            "Training Average loss: 0.040907, Accuracy = (98.763333%)\n",
            "learning rate 0.05\n",
            "Test set: Average loss: 0.027064, Accuracy: 9912/10000 (99.120000%)\n",
            "\n",
            "Epoch:  11\n",
            "938\n",
            "Training Average loss: 0.037871, Accuracy = (98.826667%)\n",
            "learning rate 0.05\n",
            "Test set: Average loss: 0.025318, Accuracy: 9915/10000 (99.150000%)\n",
            "\n",
            "Epoch:  12\n",
            "938\n",
            "Training Average loss: 0.035854, Accuracy = (98.888333%)\n",
            "learning rate 0.05\n",
            "Test set: Average loss: 0.023540, Accuracy: 9923/10000 (99.230000%)\n",
            "\n",
            "Epoch:  13\n",
            "938\n",
            "Training Average loss: 0.035292, Accuracy = (98.851667%)\n",
            "learning rate 0.05\n",
            "Test set: Average loss: 0.023268, Accuracy: 9919/10000 (99.190000%)\n",
            "\n",
            "Epoch:  14\n",
            "938\n",
            "Training Average loss: 0.033086, Accuracy = (98.961667%)\n",
            "learning rate 0.05\n",
            "Test set: Average loss: 0.023382, Accuracy: 9924/10000 (99.240000%)\n",
            "\n",
            "Epoch:  15\n",
            "938\n",
            "Training Average loss: 0.028412, Accuracy = (99.093333%)\n",
            "learning rate 0.01\n",
            "Test set: Average loss: 0.020992, Accuracy: 9930/10000 (99.300000%)\n",
            "\n",
            "Epoch:  16\n",
            "938\n",
            "Training Average loss: 0.026902, Accuracy = (99.163333%)\n",
            "learning rate 0.01\n",
            "Test set: Average loss: 0.020501, Accuracy: 9931/10000 (99.310000%)\n",
            "\n",
            "Epoch:  17\n",
            "938\n",
            "Training Average loss: 0.025114, Accuracy = (99.196667%)\n",
            "learning rate 0.01\n",
            "Test set: Average loss: 0.021163, Accuracy: 9930/10000 (99.300000%)\n",
            "\n",
            "Epoch:  18\n",
            "938\n",
            "Training Average loss: 0.024665, Accuracy = (99.186667%)\n",
            "learning rate 0.01\n",
            "Test set: Average loss: 0.021509, Accuracy: 9927/10000 (99.270000%)\n",
            "\n",
            "Epoch:  19\n",
            "938\n",
            "Training Average loss: 0.024641, Accuracy = (99.200000%)\n",
            "learning rate 0.01\n",
            "Test set: Average loss: 0.020222, Accuracy: 9934/10000 (99.340000%)\n",
            "\n"
          ],
          "name": "stdout"
        },
        {
          "output_type": "display_data",
          "data": {
            "image/png": "[encoded data removed]",
            "text/plain": [
              "<Figure size 1080x432 with 2 Axes>"
            ]
          },
          "metadata": {
            "tags": [],
            "needs_background": "light"
          }
        }
      ]
    },
    {
      "cell_type": "code",
      "metadata": {
        "id": "0-qV-qMh_lWj"
      },
      "source": [
        ""
      ],
      "execution_count": null,
      "outputs": []
    }
  ]
}