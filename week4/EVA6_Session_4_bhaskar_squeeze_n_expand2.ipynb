{
  "nbformat": 4,
  "nbformat_minor": 0,
  "metadata": {
    "colab": {
      "name": "EVA6 - Session 4_bhaskar_squeeze_n_expand2.ipynb",
      "provenance": [],
      "collapsed_sections": [],
      "include_colab_link": true
    },
    "kernelspec": {
      "name": "python3",
      "display_name": "Python 3"
    },
    "accelerator": "GPU"
  },
  "cells": [
    {
      "cell_type": "markdown",
      "metadata": {
        "id": "view-in-github",
        "colab_type": "text"
      },
      "source": [
        "<a href=\"https://colab.research.google.com/github/MittalNeha/Extensive_Vision_AI6/blob/main/week4/EVA6_Session_4_bhaskar_squeeze_n_expand2.ipynb\" target=\"_parent\"><img src=\"https://colab.research.google.com/assets/colab-badge.svg\" alt=\"Open In Colab\"/></a>"
      ]
    },
    {
      "cell_type": "code",
      "metadata": {
        "id": "0m2JWFliFfKT"
      },
      "source": [
        "from __future__ import print_function\n",
        "import torch\n",
        "import torch.nn as nn\n",
        "import torch.nn.functional as F\n",
        "import torch.optim as optim\n",
        "from torchvision import datasets, transforms"
      ],
      "execution_count": 4,
      "outputs": []
    },
    {
      "cell_type": "code",
      "metadata": {
        "id": "h_Cx9q2QFgM7"
      },
      "source": [
        "class Net(nn.Module):\n",
        "  #original\n",
        "    def __init__(self):\n",
        "        #our var declaration\n",
        "        super(Net, self).__init__()                     #Input - Output - RF\n",
        "        self.conv1 = nn.Conv2d(1, 12, 3, padding=1)     #28 - 28 - 3x3\n",
        "        self.conv2 = nn.Conv2d(12, 24, 3, padding=1)    #28 - 28 - 5x5\n",
        "        self.pool1 = nn.MaxPool2d(2, 2)                 #28 - 14 - 10x10\n",
        "        self.conv3 = nn.Conv2d(24, 48, 3, padding=1)   #14 - 14 - 12x12\n",
        "        self.conv4 = nn.Conv2d(48, 96, 3, padding=1)  #14 - 14 - 14x14\n",
        "        self.pool2 = nn.MaxPool2d(2, 2)                 #14 -  7 - 28x28\n",
        "        self.conv5 = nn.Conv2d(96, 192, 3)             #7  -  5 - 30x30\n",
        "        self.conv6 = nn.Conv2d(192, 384, 3)            #5 -   3 - 32x32\n",
        "        self.conv7 = nn.Conv2d(384, 10, 3)             #3 -   1 - 34x34\n",
        "        \n",
        "\n",
        "    def forward(self, x):\n",
        "        #self is containing all variables, compulsory to pass\n",
        "        #x is input image\n",
        "        x = self.pool1(F.relu(self.conv2(F.relu(self.conv1(x)))))   #conv1 -> ReLU -> conv2 -> ReLU -> max pool\n",
        "        x = self.pool2(F.relu(self.conv4(F.relu(self.conv3(x)))))   #conv3 -> ReLU -> conv4 -> ReLU -> max pool\n",
        "        x = F.relu(self.conv6(F.relu(self.conv5(x))))               #conv5 -> ReLU -> conv6 -> ReLU\n",
        "        #x = F.relu(self.conv7(x))                                  #Dont need to perform ReLU on last layer as its output would be subject to softmax, cannot apply non-linearity twice.\n",
        "        x = (self.conv7(x))                                         #conv7 -> output\n",
        "        x = x.view(-1, 10)\n",
        "        return F.log_softmax(x)       #log of softmax"
      ],
      "execution_count": 5,
      "outputs": []
    },
    {
      "cell_type": "code",
      "metadata": {
        "id": "xdydjYTZFyi3",
        "colab": {
          "base_uri": "https://localhost:8080/"
        },
        "outputId": "6bcb23fc-b3ca-4de8-9b5d-8d32838c3387"
      },
      "source": [
        "!pip install torchsummary\n",
        "from torchsummary import summary\n",
        "use_cuda = torch.cuda.is_available()\n",
        "device = torch.device(\"cuda\" if use_cuda else \"cpu\")\n",
        "model = Net().to(device)\n",
        "summary(model, input_size=(1, 28, 28))"
      ],
      "execution_count": 6,
      "outputs": [
        {
          "output_type": "stream",
          "text": [
            "Requirement already satisfied: torchsummary in /usr/local/lib/python3.7/dist-packages (1.5.1)\n",
            "----------------------------------------------------------------\n",
            "        Layer (type)               Output Shape         Param #\n",
            "================================================================\n",
            "            Conv2d-1           [-1, 12, 28, 28]             120\n",
            "            Conv2d-2           [-1, 24, 28, 28]           2,616\n",
            "         MaxPool2d-3           [-1, 24, 14, 14]               0\n",
            "            Conv2d-4           [-1, 48, 14, 14]          10,416\n",
            "            Conv2d-5           [-1, 96, 14, 14]          41,568\n",
            "         MaxPool2d-6             [-1, 96, 7, 7]               0\n",
            "            Conv2d-7            [-1, 192, 5, 5]         166,080\n",
            "            Conv2d-8            [-1, 384, 3, 3]         663,936\n",
            "            Conv2d-9             [-1, 10, 1, 1]          34,570\n",
            "================================================================\n",
            "Total params: 919,306\n",
            "Trainable params: 919,306\n",
            "Non-trainable params: 0\n",
            "----------------------------------------------------------------\n",
            "Input size (MB): 0.00\n",
            "Forward/backward pass size (MB): 0.57\n",
            "Params size (MB): 3.51\n",
            "Estimated Total Size (MB): 4.08\n",
            "----------------------------------------------------------------\n"
          ],
          "name": "stdout"
        },
        {
          "output_type": "stream",
          "text": [
            "/usr/local/lib/python3.7/dist-packages/ipykernel_launcher.py:26: UserWarning: Implicit dimension choice for log_softmax has been deprecated. Change the call to include dim=X as an argument.\n"
          ],
          "name": "stderr"
        }
      ]
    },
    {
      "cell_type": "code",
      "metadata": {
        "id": "DqTWLaM5GHgH"
      },
      "source": [
        "torch.manual_seed(1)\n",
        "batch_size = 128\n",
        "\n",
        "kwargs = {'num_workers': 1, 'pin_memory': True} if use_cuda else {}\n",
        "train_loader = torch.utils.data.DataLoader(\n",
        "    datasets.MNIST('../data', train=True, download=True,\n",
        "                    transform=transforms.Compose([\n",
        "                        transforms.ToTensor(),\n",
        "                        transforms.Normalize((0.1307,), (0.3081,))          #In future check why this normalization works \n",
        "                    ])),\n",
        "    batch_size=batch_size, shuffle=True, **kwargs)\n",
        "test_loader = torch.utils.data.DataLoader(\n",
        "    datasets.MNIST('../data', train=False, transform=transforms.Compose([\n",
        "                        transforms.ToTensor(),\n",
        "                        transforms.Normalize((0.1307,), (0.3081,))\n",
        "                    ])),\n",
        "    batch_size=batch_size, shuffle=True, **kwargs)\n"
      ],
      "execution_count": 7,
      "outputs": []
    },
    {
      "cell_type": "code",
      "metadata": {
        "id": "8fDefDhaFlwH"
      },
      "source": [
        "from tqdm import tqdm\n",
        "def train(model, device, train_loader, optimizer, epoch):\n",
        "    model.train()\n",
        "    pbar = tqdm(train_loader)\n",
        "    for batch_idx, (data, target) in enumerate(pbar):\n",
        "        data, target = data.to(device), target.to(device)   #send data to device/GPU\n",
        "        optimizer.zero_grad()                               #reset to zero gradient\n",
        "        output = model(data)                                #apply model\n",
        "        loss = F.nll_loss(output, target)                   #get loss\n",
        "        loss.backward()                                     #propagate loss backward\n",
        "        optimizer.step()                                    \n",
        "        pbar.set_description(desc= f'loss={loss.item()} batch_id={batch_idx}')\n",
        "\n",
        "\n",
        "def test(model, device, test_loader):\n",
        "    model.eval()\n",
        "    test_loss = 0\n",
        "    correct = 0\n",
        "    with torch.no_grad():\n",
        "        for data, target in test_loader:\n",
        "            data, target = data.to(device), target.to(device)\n",
        "            output = model(data)\n",
        "            test_loss += F.nll_loss(output, target, reduction='sum').item()  # sum up batch loss\n",
        "            pred = output.argmax(dim=1, keepdim=True)  # get the index of the max log-probability\n",
        "            correct += pred.eq(target.view_as(pred)).sum().item()\n",
        "\n",
        "    test_loss /= len(test_loader.dataset)\n",
        "\n",
        "    print('\\nTest set: Average loss: {:.4f}, Accuracy: {}/{} ({:.2f}%)\\n'.format(\n",
        "        test_loss, correct, len(test_loader.dataset),   #adjusted the decimal place to print finer accuracy\n",
        "        100. * correct / len(test_loader.dataset)))"
      ],
      "execution_count": 14,
      "outputs": []
    },
    {
      "cell_type": "code",
      "metadata": {
        "id": "1udfYjnUHlhL"
      },
      "source": [
        ""
      ],
      "execution_count": 25,
      "outputs": []
    },
    {
      "cell_type": "code",
      "metadata": {
        "id": "5bMtevEwG8jh"
      },
      "source": [
        ""
      ],
      "execution_count": 25,
      "outputs": []
    },
    {
      "cell_type": "code",
      "metadata": {
        "id": "MMWbLWO6FuHb",
        "colab": {
          "base_uri": "https://localhost:8080/"
        },
        "outputId": "77057e35-4f9f-4396-ca38-1511f37e4cb0"
      },
      "source": [
        "\n",
        "model = Net().to(device)\n",
        "optimizer = optim.SGD(model.parameters(), lr=0.01, momentum=0.9)\n",
        "\n",
        "total_epochs = 10\n",
        "for epoch in range(1, total_epochs+1):\n",
        "    train(model, device, train_loader, optimizer, epoch)\n",
        "    test(model, device, test_loader)"
      ],
      "execution_count": 26,
      "outputs": [
        {
          "output_type": "stream",
          "text": [
            "  0%|          | 0/469 [00:00<?, ?it/s]/usr/local/lib/python3.7/dist-packages/ipykernel_launcher.py:26: UserWarning: Implicit dimension choice for log_softmax has been deprecated. Change the call to include dim=X as an argument.\n",
            "loss=0.11854391545057297 batch_id=468: 100%|██████████| 469/469 [00:11<00:00, 39.21it/s]\n",
            "  0%|          | 0/469 [00:00<?, ?it/s]"
          ],
          "name": "stderr"
        },
        {
          "output_type": "stream",
          "text": [
            "\n",
            "Test set: Average loss: 0.0777, Accuracy: 9739/10000 (97.39%)\n",
            "\n"
          ],
          "name": "stdout"
        },
        {
          "output_type": "stream",
          "text": [
            "loss=0.07143756002187729 batch_id=468: 100%|██████████| 469/469 [00:11<00:00, 39.49it/s]\n",
            "  0%|          | 0/469 [00:00<?, ?it/s]"
          ],
          "name": "stderr"
        },
        {
          "output_type": "stream",
          "text": [
            "\n",
            "Test set: Average loss: 0.0438, Accuracy: 9860/10000 (98.60%)\n",
            "\n"
          ],
          "name": "stdout"
        },
        {
          "output_type": "stream",
          "text": [
            "loss=0.024537816643714905 batch_id=468: 100%|██████████| 469/469 [00:11<00:00, 39.44it/s]\n",
            "  0%|          | 0/469 [00:00<?, ?it/s]"
          ],
          "name": "stderr"
        },
        {
          "output_type": "stream",
          "text": [
            "\n",
            "Test set: Average loss: 0.0395, Accuracy: 9871/10000 (98.71%)\n",
            "\n"
          ],
          "name": "stdout"
        },
        {
          "output_type": "stream",
          "text": [
            "loss=0.0046367826871573925 batch_id=468: 100%|██████████| 469/469 [00:11<00:00, 39.37it/s]\n",
            "  0%|          | 0/469 [00:00<?, ?it/s]"
          ],
          "name": "stderr"
        },
        {
          "output_type": "stream",
          "text": [
            "\n",
            "Test set: Average loss: 0.0306, Accuracy: 9899/10000 (98.99%)\n",
            "\n"
          ],
          "name": "stdout"
        },
        {
          "output_type": "stream",
          "text": [
            "loss=0.020774265751242638 batch_id=468: 100%|██████████| 469/469 [00:11<00:00, 39.21it/s]\n",
            "  0%|          | 0/469 [00:00<?, ?it/s]"
          ],
          "name": "stderr"
        },
        {
          "output_type": "stream",
          "text": [
            "\n",
            "Test set: Average loss: 0.0273, Accuracy: 9910/10000 (99.10%)\n",
            "\n"
          ],
          "name": "stdout"
        },
        {
          "output_type": "stream",
          "text": [
            "loss=0.0019315116805955768 batch_id=468: 100%|██████████| 469/469 [00:11<00:00, 40.12it/s]\n",
            "  0%|          | 0/469 [00:00<?, ?it/s]"
          ],
          "name": "stderr"
        },
        {
          "output_type": "stream",
          "text": [
            "\n",
            "Test set: Average loss: 0.0287, Accuracy: 9908/10000 (99.08%)\n",
            "\n"
          ],
          "name": "stdout"
        },
        {
          "output_type": "stream",
          "text": [
            "loss=0.00048445534775964916 batch_id=468: 100%|██████████| 469/469 [00:11<00:00, 40.01it/s]\n",
            "  0%|          | 0/469 [00:00<?, ?it/s]"
          ],
          "name": "stderr"
        },
        {
          "output_type": "stream",
          "text": [
            "\n",
            "Test set: Average loss: 0.0273, Accuracy: 9917/10000 (99.17%)\n",
            "\n"
          ],
          "name": "stdout"
        },
        {
          "output_type": "stream",
          "text": [
            "loss=0.0023329672403633595 batch_id=468: 100%|██████████| 469/469 [00:11<00:00, 40.28it/s]\n",
            "  0%|          | 0/469 [00:00<?, ?it/s]"
          ],
          "name": "stderr"
        },
        {
          "output_type": "stream",
          "text": [
            "\n",
            "Test set: Average loss: 0.0299, Accuracy: 9907/10000 (99.07%)\n",
            "\n"
          ],
          "name": "stdout"
        },
        {
          "output_type": "stream",
          "text": [
            "loss=0.00013455319276545197 batch_id=468: 100%|██████████| 469/469 [00:11<00:00, 40.31it/s]\n",
            "  0%|          | 0/469 [00:00<?, ?it/s]"
          ],
          "name": "stderr"
        },
        {
          "output_type": "stream",
          "text": [
            "\n",
            "Test set: Average loss: 0.0312, Accuracy: 9915/10000 (99.15%)\n",
            "\n"
          ],
          "name": "stdout"
        },
        {
          "output_type": "stream",
          "text": [
            "loss=0.017463156953454018 batch_id=468: 100%|██████████| 469/469 [00:11<00:00, 39.62it/s]\n"
          ],
          "name": "stderr"
        },
        {
          "output_type": "stream",
          "text": [
            "\n",
            "Test set: Average loss: 0.0335, Accuracy: 9905/10000 (99.05%)\n",
            "\n"
          ],
          "name": "stdout"
        }
      ]
    },
    {
      "cell_type": "code",
      "metadata": {
        "id": "So5uk4EkHW6R"
      },
      "source": [
        "class Net2(nn.Module):\n",
        "  #original\n",
        "    def __init__(self):\n",
        "        #our var declaration\n",
        "        super(Net2, self).__init__()                     #Input - Output - RF\n",
        "        self.conv1 = nn.Conv2d(1, 32, 3, padding=1)     #28 - 28 - 3x3\n",
        "        self.conv2 = nn.Conv2d(32, 64, 3, padding=1)    #28 - 28 - 5x5\n",
        "        self.conv2_1 = nn.Conv2d(64, 32, 1)    #28 - 28 - 5x5\n",
        "        self.pool1 = nn.MaxPool2d(2, 2)                 #28 - 14 - 10x10\n",
        "        self.conv3 = nn.Conv2d(32, 64, 3, padding=1)   #14 - 14 - 12x12\n",
        "        self.conv4 = nn.Conv2d(64, 128, 3, padding=1)  #14 - 14 - 14x14\n",
        "        self.conv4_1 = nn.Conv2d(128, 32, 1)\n",
        "        self.pool2 = nn.MaxPool2d(2, 2)                 #14 -  7 - 28x28\n",
        "        self.conv5 = nn.Conv2d(32, 64, 3)             #7  -  5 - 30x30\n",
        "        self.conv6 = nn.Conv2d(64, 128, 3)            #5 -   3 - 32x32\n",
        "        self.conv7 = nn.Conv2d(128, 10, 3)             #3 -   1 - 34x34\n",
        "        \n",
        "\n",
        "    def forward(self, x):\n",
        "        #self is containing all variables, compulsory to pass\n",
        "        #x is input image\n",
        "        x = self.pool1(F.relu(self.conv2_1(F.relu(self.conv2(F.relu(self.conv1(x)))))))   #conv1 -> ReLU -> conv2 -> ReLU -> max pool\n",
        "        x = self.pool2(F.relu(self.conv4_1(F.relu(self.conv4(F.relu(self.conv3(x)))))))   #conv3 -> ReLU -> conv4 -> ReLU -> max pool\n",
        "        x = F.relu(self.conv6(F.relu(self.conv5(x))))               #conv5 -> ReLU -> conv6 -> ReLU\n",
        "        #x = F.relu(self.conv7(x))                                  #Dont need to perform ReLU on last layer as its output would be subject to softmax, cannot apply non-linearity twice.\n",
        "        x = (self.conv7(x))                                         #conv7 -> output\n",
        "        x = x.view(-1, 10)\n",
        "        return F.log_softmax(x)       #log of softmax"
      ],
      "execution_count": 31,
      "outputs": []
    },
    {
      "cell_type": "code",
      "metadata": {
        "id": "x1rtVHSF9Aa3",
        "colab": {
          "base_uri": "https://localhost:8080/"
        },
        "outputId": "d3fbac1b-bd22-4791-8eb0-c3b0695ad89c"
      },
      "source": [
        "model = Net2().to(device)\n",
        "summary(model, input_size=(1, 28, 28))"
      ],
      "execution_count": 32,
      "outputs": [
        {
          "output_type": "stream",
          "text": [
            "----------------------------------------------------------------\n",
            "        Layer (type)               Output Shape         Param #\n",
            "================================================================\n",
            "            Conv2d-1           [-1, 32, 28, 28]             320\n",
            "            Conv2d-2           [-1, 64, 28, 28]          18,496\n",
            "            Conv2d-3           [-1, 32, 28, 28]           2,080\n",
            "         MaxPool2d-4           [-1, 32, 14, 14]               0\n",
            "            Conv2d-5           [-1, 64, 14, 14]          18,496\n",
            "            Conv2d-6          [-1, 128, 14, 14]          73,856\n",
            "            Conv2d-7           [-1, 32, 14, 14]           4,128\n",
            "         MaxPool2d-8             [-1, 32, 7, 7]               0\n",
            "            Conv2d-9             [-1, 64, 5, 5]          18,496\n",
            "           Conv2d-10            [-1, 128, 3, 3]          73,856\n",
            "           Conv2d-11             [-1, 10, 1, 1]          11,530\n",
            "================================================================\n",
            "Total params: 221,258\n",
            "Trainable params: 221,258\n",
            "Non-trainable params: 0\n",
            "----------------------------------------------------------------\n",
            "Input size (MB): 0.00\n",
            "Forward/backward pass size (MB): 1.18\n",
            "Params size (MB): 0.84\n",
            "Estimated Total Size (MB): 2.03\n",
            "----------------------------------------------------------------\n"
          ],
          "name": "stdout"
        },
        {
          "output_type": "stream",
          "text": [
            "/usr/local/lib/python3.7/dist-packages/ipykernel_launcher.py:28: UserWarning: Implicit dimension choice for log_softmax has been deprecated. Change the call to include dim=X as an argument.\n"
          ],
          "name": "stderr"
        }
      ]
    },
    {
      "cell_type": "code",
      "metadata": {
        "colab": {
          "base_uri": "https://localhost:8080/"
        },
        "id": "uQQMoLpR2rah",
        "outputId": "1536e2b4-8727-4718-a938-dc88ed87b4da"
      },
      "source": [
        "optimizer = optim.SGD(model.parameters(), lr=0.01, momentum=0.9)\n",
        "\n",
        "total_epochs = 10\n",
        "for epoch in range(1, total_epochs+1):\n",
        "    train(model, device, train_loader, optimizer, epoch)\n",
        "    test(model, device, test_loader)"
      ],
      "execution_count": 33,
      "outputs": [
        {
          "output_type": "stream",
          "text": [
            "  0%|          | 0/469 [00:00<?, ?it/s]/usr/local/lib/python3.7/dist-packages/ipykernel_launcher.py:28: UserWarning: Implicit dimension choice for log_softmax has been deprecated. Change the call to include dim=X as an argument.\n",
            "loss=0.08431024104356766 batch_id=468: 100%|██████████| 469/469 [00:12<00:00, 37.38it/s]\n",
            "  0%|          | 0/469 [00:00<?, ?it/s]"
          ],
          "name": "stderr"
        },
        {
          "output_type": "stream",
          "text": [
            "\n",
            "Test set: Average loss: 0.1321, Accuracy: 9580/10000 (95.80%)\n",
            "\n"
          ],
          "name": "stdout"
        },
        {
          "output_type": "stream",
          "text": [
            "loss=0.028407394886016846 batch_id=468: 100%|██████████| 469/469 [00:12<00:00, 37.46it/s]\n",
            "  0%|          | 0/469 [00:00<?, ?it/s]"
          ],
          "name": "stderr"
        },
        {
          "output_type": "stream",
          "text": [
            "\n",
            "Test set: Average loss: 0.0647, Accuracy: 9794/10000 (97.94%)\n",
            "\n"
          ],
          "name": "stdout"
        },
        {
          "output_type": "stream",
          "text": [
            "loss=0.07849239557981491 batch_id=468: 100%|██████████| 469/469 [00:12<00:00, 37.68it/s]\n",
            "  0%|          | 0/469 [00:00<?, ?it/s]"
          ],
          "name": "stderr"
        },
        {
          "output_type": "stream",
          "text": [
            "\n",
            "Test set: Average loss: 0.0600, Accuracy: 9797/10000 (97.97%)\n",
            "\n"
          ],
          "name": "stdout"
        },
        {
          "output_type": "stream",
          "text": [
            "loss=0.022371793165802956 batch_id=468: 100%|██████████| 469/469 [00:12<00:00, 37.28it/s]\n",
            "  0%|          | 0/469 [00:00<?, ?it/s]"
          ],
          "name": "stderr"
        },
        {
          "output_type": "stream",
          "text": [
            "\n",
            "Test set: Average loss: 0.0429, Accuracy: 9858/10000 (98.58%)\n",
            "\n"
          ],
          "name": "stdout"
        },
        {
          "output_type": "stream",
          "text": [
            "loss=0.016691725701093674 batch_id=468: 100%|██████████| 469/469 [00:12<00:00, 37.96it/s]\n",
            "  0%|          | 0/469 [00:00<?, ?it/s]"
          ],
          "name": "stderr"
        },
        {
          "output_type": "stream",
          "text": [
            "\n",
            "Test set: Average loss: 0.0376, Accuracy: 9878/10000 (98.78%)\n",
            "\n"
          ],
          "name": "stdout"
        },
        {
          "output_type": "stream",
          "text": [
            "loss=0.06677953898906708 batch_id=468: 100%|██████████| 469/469 [00:12<00:00, 38.26it/s]\n",
            "  0%|          | 0/469 [00:00<?, ?it/s]"
          ],
          "name": "stderr"
        },
        {
          "output_type": "stream",
          "text": [
            "\n",
            "Test set: Average loss: 0.0391, Accuracy: 9873/10000 (98.73%)\n",
            "\n"
          ],
          "name": "stdout"
        },
        {
          "output_type": "stream",
          "text": [
            "loss=0.013871320523321629 batch_id=468: 100%|██████████| 469/469 [00:12<00:00, 38.04it/s]\n",
            "  0%|          | 0/469 [00:00<?, ?it/s]"
          ],
          "name": "stderr"
        },
        {
          "output_type": "stream",
          "text": [
            "\n",
            "Test set: Average loss: 0.0447, Accuracy: 9866/10000 (98.66%)\n",
            "\n"
          ],
          "name": "stdout"
        },
        {
          "output_type": "stream",
          "text": [
            "loss=0.0384739525616169 batch_id=468: 100%|██████████| 469/469 [00:12<00:00, 37.91it/s]\n",
            "  0%|          | 0/469 [00:00<?, ?it/s]"
          ],
          "name": "stderr"
        },
        {
          "output_type": "stream",
          "text": [
            "\n",
            "Test set: Average loss: 0.0425, Accuracy: 9877/10000 (98.77%)\n",
            "\n"
          ],
          "name": "stdout"
        },
        {
          "output_type": "stream",
          "text": [
            "loss=0.01817258819937706 batch_id=468: 100%|██████████| 469/469 [00:12<00:00, 37.26it/s]\n",
            "  0%|          | 0/469 [00:00<?, ?it/s]"
          ],
          "name": "stderr"
        },
        {
          "output_type": "stream",
          "text": [
            "\n",
            "Test set: Average loss: 0.0425, Accuracy: 9872/10000 (98.72%)\n",
            "\n"
          ],
          "name": "stdout"
        },
        {
          "output_type": "stream",
          "text": [
            "loss=0.001070643775165081 batch_id=468: 100%|██████████| 469/469 [00:12<00:00, 38.15it/s]\n"
          ],
          "name": "stderr"
        },
        {
          "output_type": "stream",
          "text": [
            "\n",
            "Test set: Average loss: 0.0370, Accuracy: 9889/10000 (98.89%)\n",
            "\n"
          ],
          "name": "stdout"
        }
      ]
    },
    {
      "cell_type": "code",
      "metadata": {
        "id": "t5IlYVGdDWFl"
      },
      "source": [
        "class Net3(nn.Module):\n",
        "  #original\n",
        "    def __init__(self):\n",
        "        #our var declaration\n",
        "        super(Net3, self).__init__()                     #Input - Output - RF\n",
        "        self.conv1 = nn.Conv2d(1, 24, 3, padding=1)     #28 - 28 - 3x3\n",
        "        self.conv2 = nn.Conv2d(24, 48, 3)               #28 - 26 - 5x5\n",
        "        self.conv2_1 = nn.Conv2d(48, 64, 3)             #26 - 24 - 7x7\n",
        "        self.conv2_2 = nn.Conv2d(64, 24, 1)             #24 - 24 - 7x7\n",
        "        self.pool1 = nn.MaxPool2d(2, 2)                 #24 - 12 - 14x14\n",
        "        self.conv3 = nn.Conv2d(24, 48, 3, padding=1)   #12 - 12 - 12x12\n",
        "        self.conv4 = nn.Conv2d(48, 64, 3)              #12 - 10 - 14x14\n",
        "        self.conv4_1 = nn.Conv2d(64, 24, 1)           #10 - 10 - 14x14\n",
        "        self.pool2 = nn.MaxPool2d(2, 2)                 #10 -  5 - 28x28\n",
        "        self.conv5 = nn.Conv2d(24, 48, 3)             #5  -  3 - 30x30\n",
        "        self.conv6 = nn.Conv2d(48, 10, 3)            #3 -   1 - 32x32\n",
        "        #self.conv7 = nn.Conv2d(128, 10, 3)             #3 -   1 - 34x34\n",
        "        \n",
        "\n",
        "    def forward(self, x):\n",
        "        #self is containing all variables, compulsory to pass\n",
        "        #x is input image\n",
        "        x = self.pool1(F.relu(self.conv2_2(F.relu(self.conv2_1(F.relu(self.conv2(F.relu(self.conv1(x)))))))))   #conv1 -> ReLU -> conv2 -> ReLU -> max pool\n",
        "        x = self.pool2(F.relu(self.conv4_1(F.relu(self.conv4(F.relu(self.conv3(x)))))))   #conv3 -> ReLU -> conv4 -> ReLU -> max pool\n",
        "        x = (self.conv6(F.relu(self.conv5(x))))               #conv5 -> ReLU -> conv6 -> ReLU\n",
        "        #x = F.relu(self.conv7(x))                                  #Dont need to perform ReLU on last layer as its output would be subject to softmax, cannot apply non-linearity twice.\n",
        "        #x = (self.conv7(x))                                         #conv7 -> output\n",
        "        x = x.view(-1, 10)\n",
        "        return F.log_softmax(x)       #log of softmax"
      ],
      "execution_count": 11,
      "outputs": []
    },
    {
      "cell_type": "code",
      "metadata": {
        "id": "jlUdTBTNDWbO",
        "colab": {
          "base_uri": "https://localhost:8080/"
        },
        "outputId": "f95965ba-b188-4f1c-a68f-e138b5f2114e"
      },
      "source": [
        "model = Net3().to(device)\n",
        "summary(model, input_size=(1, 28, 28))"
      ],
      "execution_count": 12,
      "outputs": [
        {
          "output_type": "stream",
          "text": [
            "----------------------------------------------------------------\n",
            "        Layer (type)               Output Shape         Param #\n",
            "================================================================\n",
            "            Conv2d-1           [-1, 24, 28, 28]             240\n",
            "            Conv2d-2           [-1, 48, 26, 26]          10,416\n",
            "            Conv2d-3           [-1, 64, 24, 24]          27,712\n",
            "            Conv2d-4           [-1, 24, 24, 24]           1,560\n",
            "         MaxPool2d-5           [-1, 24, 12, 12]               0\n",
            "            Conv2d-6           [-1, 48, 12, 12]          10,416\n",
            "            Conv2d-7           [-1, 64, 10, 10]          27,712\n",
            "            Conv2d-8           [-1, 24, 10, 10]           1,560\n",
            "         MaxPool2d-9             [-1, 24, 5, 5]               0\n",
            "           Conv2d-10             [-1, 48, 3, 3]          10,416\n",
            "           Conv2d-11             [-1, 10, 1, 1]           4,330\n",
            "================================================================\n",
            "Total params: 94,362\n",
            "Trainable params: 94,362\n",
            "Non-trainable params: 0\n",
            "----------------------------------------------------------------\n",
            "Input size (MB): 0.00\n",
            "Forward/backward pass size (MB): 0.93\n",
            "Params size (MB): 0.36\n",
            "Estimated Total Size (MB): 1.29\n",
            "----------------------------------------------------------------\n"
          ],
          "name": "stdout"
        },
        {
          "output_type": "stream",
          "text": [
            "/usr/local/lib/python3.7/dist-packages/ipykernel_launcher.py:29: UserWarning: Implicit dimension choice for log_softmax has been deprecated. Change the call to include dim=X as an argument.\n"
          ],
          "name": "stderr"
        }
      ]
    },
    {
      "cell_type": "code",
      "metadata": {
        "id": "Aj2W9fdnDWl8",
        "colab": {
          "base_uri": "https://localhost:8080/"
        },
        "outputId": "ecd311c9-2c75-4e10-dd3a-55c4a484ee46"
      },
      "source": [
        "optimizer = optim.SGD(model.parameters(), lr=0.01, momentum=0.9)\n",
        "\n",
        "total_epochs = 10\n",
        "for epoch in range(1, total_epochs+1):\n",
        "    train(model, device, train_loader, optimizer, epoch)\n",
        "    test(model, device, test_loader)"
      ],
      "execution_count": 15,
      "outputs": [
        {
          "output_type": "stream",
          "text": [
            "  0%|          | 0/469 [00:00<?, ?it/s]/usr/local/lib/python3.7/dist-packages/ipykernel_launcher.py:29: UserWarning: Implicit dimension choice for log_softmax has been deprecated. Change the call to include dim=X as an argument.\n",
            "loss=0.24596081674098969 batch_id=468: 100%|██████████| 469/469 [00:12<00:00, 37.82it/s]\n",
            "  0%|          | 0/469 [00:00<?, ?it/s]"
          ],
          "name": "stderr"
        },
        {
          "output_type": "stream",
          "text": [
            "\n",
            "Test set: Average loss: 0.1397, Accuracy: 9575/10000 (95.75%)\n",
            "\n"
          ],
          "name": "stdout"
        },
        {
          "output_type": "stream",
          "text": [
            "loss=0.031556691974401474 batch_id=468: 100%|██████████| 469/469 [00:12<00:00, 37.33it/s]\n",
            "  0%|          | 0/469 [00:00<?, ?it/s]"
          ],
          "name": "stderr"
        },
        {
          "output_type": "stream",
          "text": [
            "\n",
            "Test set: Average loss: 0.0683, Accuracy: 9776/10000 (97.76%)\n",
            "\n"
          ],
          "name": "stdout"
        },
        {
          "output_type": "stream",
          "text": [
            "loss=0.06800100952386856 batch_id=468: 100%|██████████| 469/469 [00:12<00:00, 37.05it/s]\n",
            "  0%|          | 0/469 [00:00<?, ?it/s]"
          ],
          "name": "stderr"
        },
        {
          "output_type": "stream",
          "text": [
            "\n",
            "Test set: Average loss: 0.0479, Accuracy: 9841/10000 (98.41%)\n",
            "\n"
          ],
          "name": "stdout"
        },
        {
          "output_type": "stream",
          "text": [
            "loss=0.023721108213067055 batch_id=468: 100%|██████████| 469/469 [00:12<00:00, 36.95it/s]\n",
            "  0%|          | 0/469 [00:00<?, ?it/s]"
          ],
          "name": "stderr"
        },
        {
          "output_type": "stream",
          "text": [
            "\n",
            "Test set: Average loss: 0.0430, Accuracy: 9861/10000 (98.61%)\n",
            "\n"
          ],
          "name": "stdout"
        },
        {
          "output_type": "stream",
          "text": [
            "loss=0.028168627992272377 batch_id=468: 100%|██████████| 469/469 [00:12<00:00, 36.55it/s]\n",
            "  0%|          | 0/469 [00:00<?, ?it/s]"
          ],
          "name": "stderr"
        },
        {
          "output_type": "stream",
          "text": [
            "\n",
            "Test set: Average loss: 0.0423, Accuracy: 9869/10000 (98.69%)\n",
            "\n"
          ],
          "name": "stdout"
        },
        {
          "output_type": "stream",
          "text": [
            "loss=0.012537501752376556 batch_id=468: 100%|██████████| 469/469 [00:12<00:00, 37.36it/s]\n",
            "  0%|          | 0/469 [00:00<?, ?it/s]"
          ],
          "name": "stderr"
        },
        {
          "output_type": "stream",
          "text": [
            "\n",
            "Test set: Average loss: 0.0408, Accuracy: 9874/10000 (98.74%)\n",
            "\n"
          ],
          "name": "stdout"
        },
        {
          "output_type": "stream",
          "text": [
            "loss=0.054849326610565186 batch_id=468: 100%|██████████| 469/469 [00:12<00:00, 38.58it/s]\n",
            "  0%|          | 0/469 [00:00<?, ?it/s]"
          ],
          "name": "stderr"
        },
        {
          "output_type": "stream",
          "text": [
            "\n",
            "Test set: Average loss: 0.0417, Accuracy: 9862/10000 (98.62%)\n",
            "\n"
          ],
          "name": "stdout"
        },
        {
          "output_type": "stream",
          "text": [
            "loss=0.06033431366086006 batch_id=468: 100%|██████████| 469/469 [00:12<00:00, 38.74it/s]\n",
            "  0%|          | 0/469 [00:00<?, ?it/s]"
          ],
          "name": "stderr"
        },
        {
          "output_type": "stream",
          "text": [
            "\n",
            "Test set: Average loss: 0.0389, Accuracy: 9882/10000 (98.82%)\n",
            "\n"
          ],
          "name": "stdout"
        },
        {
          "output_type": "stream",
          "text": [
            "loss=0.0408996157348156 batch_id=468: 100%|██████████| 469/469 [00:12<00:00, 38.81it/s]\n",
            "  0%|          | 0/469 [00:00<?, ?it/s]"
          ],
          "name": "stderr"
        },
        {
          "output_type": "stream",
          "text": [
            "\n",
            "Test set: Average loss: 0.0383, Accuracy: 9886/10000 (98.86%)\n",
            "\n"
          ],
          "name": "stdout"
        },
        {
          "output_type": "stream",
          "text": [
            "loss=0.0018614205764606595 batch_id=468: 100%|██████████| 469/469 [00:12<00:00, 37.63it/s]\n"
          ],
          "name": "stderr"
        },
        {
          "output_type": "stream",
          "text": [
            "\n",
            "Test set: Average loss: 0.0382, Accuracy: 9893/10000 (98.93%)\n",
            "\n"
          ],
          "name": "stdout"
        }
      ]
    },
    {
      "cell_type": "code",
      "metadata": {
        "id": "D5_RiRuqHmuN"
      },
      "source": [
        ""
      ],
      "execution_count": null,
      "outputs": []
    },
    {
      "cell_type": "code",
      "metadata": {
        "id": "uCHYjeZCIW--"
      },
      "source": [
        "class Net4(nn.Module):\n",
        "  #original\n",
        "    def __init__(self):\n",
        "        #our var declaration\n",
        "        super(Net4, self).__init__()                     #Input - Output - RF\n",
        "        self.conv1 = nn.Conv2d(1, 24, 3, padding=1)     #28 - 28 - 3x3\n",
        "        self.conv2 = nn.Conv2d(24, 36, 3)               #28 - 26 - 5x5\n",
        "        self.conv2_1 = nn.Conv2d(36, 48, 3)             #26 - 24 - 7x7\n",
        "        self.conv2_2 = nn.Conv2d(48, 24, 1)             #24 - 24 - 7x7\n",
        "        self.pool1 = nn.MaxPool2d(2, 2)                 #24 - 12 - 14x14\n",
        "        self.conv3 = nn.Conv2d(24, 36, 3, padding=1)               #12 - 10 - 12x12\n",
        "        self.conv4 = nn.Conv2d(36, 48, 3)              #10 - 8 - 14x14\n",
        "        self.conv4_1 = nn.Conv2d(48, 24, 1)           #8 - 8 - 14x14\n",
        "        self.pool2 = nn.MaxPool2d(2, 2)                 #8 -  4 - 28x28\n",
        "        self.conv5 = nn.Conv2d(24, 48, 3)             #4  -  2 - 30x30\n",
        "        self.conv6 = nn.Conv2d(48, 10, 3)            #3 -   1 - 32x32\n",
        "        #self.conv7 = nn.Conv2d(128, 10, 3)             #3 -   1 - 34x34\n",
        "        \n",
        "\n",
        "    def forward(self, x):\n",
        "        #self is containing all variables, compulsory to pass\n",
        "        #x is input image\n",
        "        x = self.pool1(F.relu(self.conv2_2(F.relu(self.conv2_1(F.relu(self.conv2(F.relu(self.conv1(x)))))))))   #conv1 -> ReLU -> conv2 -> ReLU -> max pool\n",
        "        x = self.pool2(F.relu(self.conv4_1(F.relu(self.conv4(F.relu(self.conv3(x)))))))   #conv3 -> ReLU -> conv4 -> ReLU -> max pool\n",
        "        x = (self.conv6(F.relu(self.conv5(x))))               #conv5 -> ReLU -> conv6 -> ReLU\n",
        "        #x = F.relu(self.conv7(x))                                  #Dont need to perform ReLU on last layer as its output would be subject to softmax, cannot apply non-linearity twice.\n",
        "        #x = (self.conv7(x))                                         #conv7 -> output\n",
        "        x = x.view(-1, 10)\n",
        "        return F.log_softmax(x)       #log of softmax"
      ],
      "execution_count": 16,
      "outputs": []
    },
    {
      "cell_type": "code",
      "metadata": {
        "colab": {
          "base_uri": "https://localhost:8080/"
        },
        "id": "Xme_LzElcibI",
        "outputId": "ff15aba7-25c1-4b49-e6e7-dcaccd9a98d0"
      },
      "source": [
        "model = Net4().to(device)\n",
        "summary(model, input_size=(1, 28, 28))"
      ],
      "execution_count": 17,
      "outputs": [
        {
          "output_type": "stream",
          "text": [
            "----------------------------------------------------------------\n",
            "        Layer (type)               Output Shape         Param #\n",
            "================================================================\n",
            "            Conv2d-1           [-1, 24, 28, 28]             240\n",
            "            Conv2d-2           [-1, 36, 26, 26]           7,812\n",
            "            Conv2d-3           [-1, 48, 24, 24]          15,600\n",
            "            Conv2d-4           [-1, 24, 24, 24]           1,176\n",
            "         MaxPool2d-5           [-1, 24, 12, 12]               0\n",
            "            Conv2d-6           [-1, 36, 12, 12]           7,812\n",
            "            Conv2d-7           [-1, 48, 10, 10]          15,600\n",
            "            Conv2d-8           [-1, 24, 10, 10]           1,176\n",
            "         MaxPool2d-9             [-1, 24, 5, 5]               0\n",
            "           Conv2d-10             [-1, 48, 3, 3]          10,416\n",
            "           Conv2d-11             [-1, 10, 1, 1]           4,330\n",
            "================================================================\n",
            "Total params: 64,162\n",
            "Trainable params: 64,162\n",
            "Non-trainable params: 0\n",
            "----------------------------------------------------------------\n",
            "Input size (MB): 0.00\n",
            "Forward/backward pass size (MB): 0.77\n",
            "Params size (MB): 0.24\n",
            "Estimated Total Size (MB): 1.02\n",
            "----------------------------------------------------------------\n"
          ],
          "name": "stdout"
        },
        {
          "output_type": "stream",
          "text": [
            "/usr/local/lib/python3.7/dist-packages/ipykernel_launcher.py:29: UserWarning: Implicit dimension choice for log_softmax has been deprecated. Change the call to include dim=X as an argument.\n"
          ],
          "name": "stderr"
        }
      ]
    },
    {
      "cell_type": "code",
      "metadata": {
        "colab": {
          "base_uri": "https://localhost:8080/"
        },
        "id": "-9lkLN6pcjok",
        "outputId": "57634e94-3ba4-4fe7-bdcd-3d512d10e55d"
      },
      "source": [
        "optimizer = optim.SGD(model.parameters(), lr=0.01, momentum=0.9)\n",
        "\n",
        "total_epochs = 10\n",
        "for epoch in range(1, total_epochs+1):\n",
        "    train(model, device, train_loader, optimizer, epoch)\n",
        "    test(model, device, test_loader)"
      ],
      "execution_count": 18,
      "outputs": [
        {
          "output_type": "stream",
          "text": [
            "  0%|          | 0/469 [00:00<?, ?it/s]/usr/local/lib/python3.7/dist-packages/ipykernel_launcher.py:29: UserWarning: Implicit dimension choice for log_softmax has been deprecated. Change the call to include dim=X as an argument.\n",
            "loss=2.3217580318450928 batch_id=468: 100%|██████████| 469/469 [00:12<00:00, 37.68it/s]\n",
            "  0%|          | 0/469 [00:00<?, ?it/s]"
          ],
          "name": "stderr"
        },
        {
          "output_type": "stream",
          "text": [
            "\n",
            "Test set: Average loss: 2.3086, Accuracy: 1028/10000 (10.28%)\n",
            "\n"
          ],
          "name": "stdout"
        },
        {
          "output_type": "stream",
          "text": [
            "loss=0.08235300332307816 batch_id=468: 100%|██████████| 469/469 [00:12<00:00, 37.50it/s]\n",
            "  0%|          | 0/469 [00:00<?, ?it/s]"
          ],
          "name": "stderr"
        },
        {
          "output_type": "stream",
          "text": [
            "\n",
            "Test set: Average loss: 0.1736, Accuracy: 9459/10000 (94.59%)\n",
            "\n"
          ],
          "name": "stdout"
        },
        {
          "output_type": "stream",
          "text": [
            "loss=0.019516458734869957 batch_id=468: 100%|██████████| 469/469 [00:12<00:00, 38.93it/s]\n",
            "  0%|          | 0/469 [00:00<?, ?it/s]"
          ],
          "name": "stderr"
        },
        {
          "output_type": "stream",
          "text": [
            "\n",
            "Test set: Average loss: 0.0837, Accuracy: 9736/10000 (97.36%)\n",
            "\n"
          ],
          "name": "stdout"
        },
        {
          "output_type": "stream",
          "text": [
            "loss=0.03271094337105751 batch_id=468: 100%|██████████| 469/469 [00:11<00:00, 39.68it/s]\n",
            "  0%|          | 0/469 [00:00<?, ?it/s]"
          ],
          "name": "stderr"
        },
        {
          "output_type": "stream",
          "text": [
            "\n",
            "Test set: Average loss: 0.0597, Accuracy: 9815/10000 (98.15%)\n",
            "\n"
          ],
          "name": "stdout"
        },
        {
          "output_type": "stream",
          "text": [
            "loss=0.04771202802658081 batch_id=468: 100%|██████████| 469/469 [00:11<00:00, 39.68it/s]\n",
            "  0%|          | 0/469 [00:00<?, ?it/s]"
          ],
          "name": "stderr"
        },
        {
          "output_type": "stream",
          "text": [
            "\n",
            "Test set: Average loss: 0.0551, Accuracy: 9832/10000 (98.32%)\n",
            "\n"
          ],
          "name": "stdout"
        },
        {
          "output_type": "stream",
          "text": [
            "loss=0.16747808456420898 batch_id=468: 100%|██████████| 469/469 [00:11<00:00, 39.86it/s]\n",
            "  0%|          | 0/469 [00:00<?, ?it/s]"
          ],
          "name": "stderr"
        },
        {
          "output_type": "stream",
          "text": [
            "\n",
            "Test set: Average loss: 0.0465, Accuracy: 9856/10000 (98.56%)\n",
            "\n"
          ],
          "name": "stdout"
        },
        {
          "output_type": "stream",
          "text": [
            "loss=0.06835541874170303 batch_id=468: 100%|██████████| 469/469 [00:11<00:00, 39.41it/s]\n",
            "  0%|          | 0/469 [00:00<?, ?it/s]"
          ],
          "name": "stderr"
        },
        {
          "output_type": "stream",
          "text": [
            "\n",
            "Test set: Average loss: 0.0459, Accuracy: 9858/10000 (98.58%)\n",
            "\n"
          ],
          "name": "stdout"
        },
        {
          "output_type": "stream",
          "text": [
            "loss=0.011090644635260105 batch_id=468: 100%|██████████| 469/469 [00:11<00:00, 40.00it/s]\n",
            "  0%|          | 0/469 [00:00<?, ?it/s]"
          ],
          "name": "stderr"
        },
        {
          "output_type": "stream",
          "text": [
            "\n",
            "Test set: Average loss: 0.0388, Accuracy: 9878/10000 (98.78%)\n",
            "\n"
          ],
          "name": "stdout"
        },
        {
          "output_type": "stream",
          "text": [
            "loss=0.033711906522512436 batch_id=468: 100%|██████████| 469/469 [00:11<00:00, 39.91it/s]\n",
            "  0%|          | 0/469 [00:00<?, ?it/s]"
          ],
          "name": "stderr"
        },
        {
          "output_type": "stream",
          "text": [
            "\n",
            "Test set: Average loss: 0.0388, Accuracy: 9871/10000 (98.71%)\n",
            "\n"
          ],
          "name": "stdout"
        },
        {
          "output_type": "stream",
          "text": [
            "loss=0.007338423747569323 batch_id=468: 100%|██████████| 469/469 [00:11<00:00, 39.20it/s]\n"
          ],
          "name": "stderr"
        },
        {
          "output_type": "stream",
          "text": [
            "\n",
            "Test set: Average loss: 0.0326, Accuracy: 9893/10000 (98.93%)\n",
            "\n"
          ],
          "name": "stdout"
        }
      ]
    },
    {
      "cell_type": "code",
      "metadata": {
        "id": "GzMgo-uqeCpH"
      },
      "source": [
        ""
      ],
      "execution_count": null,
      "outputs": []
    },
    {
      "cell_type": "code",
      "metadata": {
        "id": "LNXB91gLesNe"
      },
      "source": [
        "class Net5(nn.Module):\n",
        "  #original\n",
        "    def __init__(self):\n",
        "        #our var declaration\n",
        "        super(Net5, self).__init__()                     #Input - Output - RF\n",
        "        self.conv1 = nn.Conv2d(1, 24, 3, padding=1)     #28 - 28 - 3x3\n",
        "        self.conv2 = nn.Conv2d(24, 24, 3)               #28 - 26 - 5x5\n",
        "        self.conv2_1 = nn.Conv2d(24, 36, 3)             #26 - 24 - 7x7\n",
        "        self.conv2_2 = nn.Conv2d(36, 24, 1)             #24 - 24 - 7x7\n",
        "        self.pool1 = nn.MaxPool2d(2, 2)                 #24 - 12 - 14x14\n",
        "        self.conv3 = nn.Conv2d(24, 24, 3, padding=1)               #12 - 10 - 12x12\n",
        "        self.conv4 = nn.Conv2d(24, 36, 3)              #10 - 8 - 14x14\n",
        "        self.conv4_1 = nn.Conv2d(36, 24, 1)           #8 - 8 - 14x14\n",
        "        self.pool2 = nn.MaxPool2d(2, 2)                 #8 -  4 - 28x28\n",
        "        self.conv5 = nn.Conv2d(24, 36, 3)             #4  -  2 - 30x30\n",
        "        self.conv6 = nn.Conv2d(36, 10, 3)            #3 -   1 - 32x32\n",
        "        #self.conv7 = nn.Conv2d(128, 10, 3)             #3 -   1 - 34x34\n",
        "        \n",
        "\n",
        "    def forward(self, x):\n",
        "        #self is containing all variables, compulsory to pass\n",
        "        #x is input image\n",
        "        x = self.pool1(F.relu(self.conv2_2(F.relu(self.conv2_1(F.relu(self.conv2(F.relu(self.conv1(x)))))))))   #conv1 -> ReLU -> conv2 -> ReLU -> max pool\n",
        "        x = self.pool2(F.relu(self.conv4_1(F.relu(self.conv4(F.relu(self.conv3(x)))))))   #conv3 -> ReLU -> conv4 -> ReLU -> max pool\n",
        "        x = (self.conv6(F.relu(self.conv5(x))))               #conv5 -> ReLU -> conv6 -> ReLU\n",
        "        #x = F.relu(self.conv7(x))                                  #Dont need to perform ReLU on last layer as its output would be subject to softmax, cannot apply non-linearity twice.\n",
        "        #x = (self.conv7(x))                                         #conv7 -> output\n",
        "        x = x.view(-1, 10)\n",
        "        return F.log_softmax(x)       #log of softmax"
      ],
      "execution_count": 19,
      "outputs": []
    },
    {
      "cell_type": "code",
      "metadata": {
        "colab": {
          "base_uri": "https://localhost:8080/"
        },
        "id": "tnUVmgQVetWK",
        "outputId": "32525a9b-114e-497e-f911-a670dfeac871"
      },
      "source": [
        "model = Net5().to(device)\n",
        "summary(model, input_size=(1, 28, 28))"
      ],
      "execution_count": 20,
      "outputs": [
        {
          "output_type": "stream",
          "text": [
            "----------------------------------------------------------------\n",
            "        Layer (type)               Output Shape         Param #\n",
            "================================================================\n",
            "            Conv2d-1           [-1, 24, 28, 28]             240\n",
            "            Conv2d-2           [-1, 24, 26, 26]           5,208\n",
            "            Conv2d-3           [-1, 36, 24, 24]           7,812\n",
            "            Conv2d-4           [-1, 24, 24, 24]             888\n",
            "         MaxPool2d-5           [-1, 24, 12, 12]               0\n",
            "            Conv2d-6           [-1, 24, 12, 12]           5,208\n",
            "            Conv2d-7           [-1, 36, 10, 10]           7,812\n",
            "            Conv2d-8           [-1, 24, 10, 10]             888\n",
            "         MaxPool2d-9             [-1, 24, 5, 5]               0\n",
            "           Conv2d-10             [-1, 36, 3, 3]           7,812\n",
            "           Conv2d-11             [-1, 10, 1, 1]           3,250\n",
            "================================================================\n",
            "Total params: 39,118\n",
            "Trainable params: 39,118\n",
            "Non-trainable params: 0\n",
            "----------------------------------------------------------------\n",
            "Input size (MB): 0.00\n",
            "Forward/backward pass size (MB): 0.64\n",
            "Params size (MB): 0.15\n",
            "Estimated Total Size (MB): 0.79\n",
            "----------------------------------------------------------------\n"
          ],
          "name": "stdout"
        },
        {
          "output_type": "stream",
          "text": [
            "/usr/local/lib/python3.7/dist-packages/ipykernel_launcher.py:29: UserWarning: Implicit dimension choice for log_softmax has been deprecated. Change the call to include dim=X as an argument.\n"
          ],
          "name": "stderr"
        }
      ]
    },
    {
      "cell_type": "code",
      "metadata": {
        "colab": {
          "base_uri": "https://localhost:8080/"
        },
        "id": "asEyfydwevao",
        "outputId": "0058c485-06a4-427f-fbb3-262ca3803164"
      },
      "source": [
        "optimizer = optim.SGD(model.parameters(), lr=0.01, momentum=0.9)\n",
        "\n",
        "total_epochs = 10\n",
        "for epoch in range(1, total_epochs+1):\n",
        "    train(model, device, train_loader, optimizer, epoch)\n",
        "    test(model, device, test_loader)"
      ],
      "execution_count": 21,
      "outputs": [
        {
          "output_type": "stream",
          "text": [
            "  0%|          | 0/469 [00:00<?, ?it/s]/usr/local/lib/python3.7/dist-packages/ipykernel_launcher.py:29: UserWarning: Implicit dimension choice for log_softmax has been deprecated. Change the call to include dim=X as an argument.\n",
            "loss=0.2473081350326538 batch_id=468: 100%|██████████| 469/469 [00:11<00:00, 39.45it/s]\n",
            "  0%|          | 0/469 [00:00<?, ?it/s]"
          ],
          "name": "stderr"
        },
        {
          "output_type": "stream",
          "text": [
            "\n",
            "Test set: Average loss: 0.3097, Accuracy: 9039/10000 (90.39%)\n",
            "\n"
          ],
          "name": "stdout"
        },
        {
          "output_type": "stream",
          "text": [
            "loss=0.13102805614471436 batch_id=468: 100%|██████████| 469/469 [00:11<00:00, 39.75it/s]\n",
            "  0%|          | 0/469 [00:00<?, ?it/s]"
          ],
          "name": "stderr"
        },
        {
          "output_type": "stream",
          "text": [
            "\n",
            "Test set: Average loss: 0.0787, Accuracy: 9750/10000 (97.50%)\n",
            "\n"
          ],
          "name": "stdout"
        },
        {
          "output_type": "stream",
          "text": [
            "loss=0.11899659037590027 batch_id=468: 100%|██████████| 469/469 [00:12<00:00, 38.80it/s]\n",
            "  0%|          | 0/469 [00:00<?, ?it/s]"
          ],
          "name": "stderr"
        },
        {
          "output_type": "stream",
          "text": [
            "\n",
            "Test set: Average loss: 0.0535, Accuracy: 9829/10000 (98.29%)\n",
            "\n"
          ],
          "name": "stdout"
        },
        {
          "output_type": "stream",
          "text": [
            "loss=0.02269066870212555 batch_id=468: 100%|██████████| 469/469 [00:11<00:00, 39.72it/s]\n",
            "  0%|          | 0/469 [00:00<?, ?it/s]"
          ],
          "name": "stderr"
        },
        {
          "output_type": "stream",
          "text": [
            "\n",
            "Test set: Average loss: 0.0441, Accuracy: 9855/10000 (98.55%)\n",
            "\n"
          ],
          "name": "stdout"
        },
        {
          "output_type": "stream",
          "text": [
            "loss=0.11563725024461746 batch_id=468: 100%|██████████| 469/469 [00:12<00:00, 38.83it/s]\n",
            "  0%|          | 0/469 [00:00<?, ?it/s]"
          ],
          "name": "stderr"
        },
        {
          "output_type": "stream",
          "text": [
            "\n",
            "Test set: Average loss: 0.0469, Accuracy: 9852/10000 (98.52%)\n",
            "\n"
          ],
          "name": "stdout"
        },
        {
          "output_type": "stream",
          "text": [
            "loss=0.008320302702486515 batch_id=468: 100%|██████████| 469/469 [00:12<00:00, 37.96it/s]\n",
            "  0%|          | 0/469 [00:00<?, ?it/s]"
          ],
          "name": "stderr"
        },
        {
          "output_type": "stream",
          "text": [
            "\n",
            "Test set: Average loss: 0.0408, Accuracy: 9867/10000 (98.67%)\n",
            "\n"
          ],
          "name": "stdout"
        },
        {
          "output_type": "stream",
          "text": [
            "loss=0.009214763529598713 batch_id=468: 100%|██████████| 469/469 [00:12<00:00, 38.15it/s]\n",
            "  0%|          | 0/469 [00:00<?, ?it/s]"
          ],
          "name": "stderr"
        },
        {
          "output_type": "stream",
          "text": [
            "\n",
            "Test set: Average loss: 0.0312, Accuracy: 9889/10000 (98.89%)\n",
            "\n"
          ],
          "name": "stdout"
        },
        {
          "output_type": "stream",
          "text": [
            "loss=0.00914422795176506 batch_id=468: 100%|██████████| 469/469 [00:12<00:00, 36.33it/s]\n",
            "  0%|          | 0/469 [00:00<?, ?it/s]"
          ],
          "name": "stderr"
        },
        {
          "output_type": "stream",
          "text": [
            "\n",
            "Test set: Average loss: 0.0347, Accuracy: 9884/10000 (98.84%)\n",
            "\n"
          ],
          "name": "stdout"
        },
        {
          "output_type": "stream",
          "text": [
            "loss=0.021048834547400475 batch_id=468: 100%|██████████| 469/469 [00:12<00:00, 36.19it/s]\n",
            "  0%|          | 0/469 [00:00<?, ?it/s]"
          ],
          "name": "stderr"
        },
        {
          "output_type": "stream",
          "text": [
            "\n",
            "Test set: Average loss: 0.0347, Accuracy: 9893/10000 (98.93%)\n",
            "\n"
          ],
          "name": "stdout"
        },
        {
          "output_type": "stream",
          "text": [
            "loss=0.025540096685290337 batch_id=468: 100%|██████████| 469/469 [00:12<00:00, 36.92it/s]\n"
          ],
          "name": "stderr"
        },
        {
          "output_type": "stream",
          "text": [
            "\n",
            "Test set: Average loss: 0.0382, Accuracy: 9872/10000 (98.72%)\n",
            "\n"
          ],
          "name": "stdout"
        }
      ]
    },
    {
      "cell_type": "code",
      "metadata": {
        "id": "WGMXMiu-fg3p"
      },
      "source": [
        ""
      ],
      "execution_count": null,
      "outputs": []
    },
    {
      "cell_type": "code",
      "metadata": {
        "id": "7WxU21AlgYbc"
      },
      "source": [
        "class Net6(nn.Module):\n",
        "  #original\n",
        "    def __init__(self):\n",
        "        #our var declaration\n",
        "        super(Net6, self).__init__()                     #Input - Output - RF\n",
        "        self.conv1 = nn.Conv2d(1, 24, 3)                #28 - 26 - 3x3\n",
        "        self.conv2 = nn.Conv2d(24, 36, 3)               #26 - 24 - 5x5\n",
        "        self.conv2_1 = nn.Conv2d(36, 48, 3)             #24 - 22 - 7x7\n",
        "        self.conv2_2 = nn.Conv2d(48, 24, 1)             #22 - 22 - 7x7\n",
        "        self.pool1 = nn.MaxPool2d(2, 2)                 #22 - 11 - 14x14\n",
        "        self.conv3 = nn.Conv2d(24, 36, 3)              #11 - 9 - 12x12\n",
        "        self.conv4 = nn.Conv2d(36, 48, 3)              #9 - 7 - 14x14\n",
        "        self.conv4_1 = nn.Conv2d(48, 24, 1)           #7 - 7 - 14x14\n",
        "        #self.pool2 = nn.MaxPool2d(2, 2)                 #8 -  4 - 28x28\n",
        "        self.conv5 = nn.Conv2d(24, 48, 3)             #7  -  5 - 30x30\n",
        "        #self.conv6 = nn.Conv2d(36, 48, 3)            #5 -   3 - 32x32\n",
        "        #self.conv7 = nn.Conv2d(48, 10, 3)             #3 -   1 - 34x34\n",
        "        self.gap = nn.AvgPool2d(kernel_size=5)\n",
        "        self.fc1 = nn.Linear(48, 10)\n",
        "        \n",
        "\n",
        "    def forward(self, x):\n",
        "        #self is containing all variables, compulsory to pass\n",
        "        #x is input image\n",
        "        x = self.pool1(F.relu(self.conv2_2(F.relu(self.conv2_1(F.relu(self.conv2(F.relu(self.conv1(x)))))))))   #conv1 -> ReLU -> conv2 -> ReLU -> max pool\n",
        "        x = (F.relu(self.conv4_1(F.relu(self.conv4(F.relu(self.conv3(x)))))))   #conv3 -> ReLU -> conv4 -> ReLU -> max pool\n",
        "        #x = F.relu(self.conv6(F.relu(self.conv5(x))))               #conv5 -> ReLU -> conv6 -> ReLU\n",
        "        x = F.relu(self.conv5(x))\n",
        "        print(x.shape)\n",
        "        x = self.gap(x)\n",
        "        print(x.shape)\n",
        "        #x = x.view(x[0],-1)\n",
        "        x = self.fc1(x)\n",
        "        print(x.shape)\n",
        "        #x = F.relu(self.conv7(x))                                  #Dont need to perform ReLU on last layer as its output would be subject to softmax, cannot apply non-linearity twice.\n",
        "        #x = (self.conv7(x))                                         #conv7 -> output\n",
        "        x = x.view(-1, 10)\n",
        "        return F.log_softmax(x)       #log of softmax"
      ],
      "execution_count": 34,
      "outputs": []
    },
    {
      "cell_type": "code",
      "metadata": {
        "colab": {
          "base_uri": "https://localhost:8080/"
        },
        "id": "lMcph12SnjP1",
        "outputId": "98ba3445-900f-4ce0-954b-af584d2965aa"
      },
      "source": [
        "my_nn = Net6()\n",
        "print(my_nn)"
      ],
      "execution_count": 35,
      "outputs": [
        {
          "output_type": "stream",
          "text": [
            "Net6(\n",
            "  (conv1): Conv2d(1, 24, kernel_size=(3, 3), stride=(1, 1))\n",
            "  (conv2): Conv2d(24, 36, kernel_size=(3, 3), stride=(1, 1))\n",
            "  (conv2_1): Conv2d(36, 48, kernel_size=(3, 3), stride=(1, 1))\n",
            "  (conv2_2): Conv2d(48, 24, kernel_size=(1, 1), stride=(1, 1))\n",
            "  (pool1): MaxPool2d(kernel_size=2, stride=2, padding=0, dilation=1, ceil_mode=False)\n",
            "  (conv3): Conv2d(24, 36, kernel_size=(3, 3), stride=(1, 1))\n",
            "  (conv4): Conv2d(36, 48, kernel_size=(3, 3), stride=(1, 1))\n",
            "  (conv4_1): Conv2d(48, 24, kernel_size=(1, 1), stride=(1, 1))\n",
            "  (conv5): Conv2d(24, 48, kernel_size=(3, 3), stride=(1, 1))\n",
            "  (gap): AvgPool2d(kernel_size=5, stride=5, padding=0)\n",
            "  (fc1): Linear(in_features=48, out_features=10, bias=True)\n",
            ")\n"
          ],
          "name": "stdout"
        }
      ]
    },
    {
      "cell_type": "code",
      "metadata": {
        "colab": {
          "base_uri": "https://localhost:8080/",
          "height": 358
        },
        "id": "adlSZnlogb6n",
        "outputId": "c7afb8fd-4046-4c47-b0e0-60f687d7ac71"
      },
      "source": [
        "model = Net6().to(device)\n",
        "summary(model, input_size=(1, 28, 28))"
      ],
      "execution_count": 36,
      "outputs": [
        {
          "output_type": "stream",
          "text": [
            "torch.Size([2, 48, 5, 5])\n",
            "torch.Size([2, 48, 1, 1])\n"
          ],
          "name": "stdout"
        },
        {
          "output_type": "error",
          "ename": "RuntimeError",
          "evalue": "ignored",
          "traceback": [
            "\u001b[0;31m---------------------------------------------------------------------------\u001b[0m",
            "\u001b[0;31mRuntimeError\u001b[0m                              Traceback (most recent call last)",
            "\u001b[0;32m<ipython-input-36-73edc734dbad>\u001b[0m in \u001b[0;36m<module>\u001b[0;34m()\u001b[0m\n\u001b[1;32m      1\u001b[0m \u001b[0mmodel\u001b[0m \u001b[0;34m=\u001b[0m \u001b[0mNet6\u001b[0m\u001b[0;34m(\u001b[0m\u001b[0;34m)\u001b[0m\u001b[0;34m.\u001b[0m\u001b[0mto\u001b[0m\u001b[0;34m(\u001b[0m\u001b[0mdevice\u001b[0m\u001b[0;34m)\u001b[0m\u001b[0;34m\u001b[0m\u001b[0;34m\u001b[0m\u001b[0m\n\u001b[0;32m----> 2\u001b[0;31m \u001b[0msummary\u001b[0m\u001b[0;34m(\u001b[0m\u001b[0mmodel\u001b[0m\u001b[0;34m,\u001b[0m \u001b[0minput_size\u001b[0m\u001b[0;34m=\u001b[0m\u001b[0;34m(\u001b[0m\u001b[0;36m1\u001b[0m\u001b[0;34m,\u001b[0m \u001b[0;36m28\u001b[0m\u001b[0;34m,\u001b[0m \u001b[0;36m28\u001b[0m\u001b[0;34m)\u001b[0m\u001b[0;34m)\u001b[0m\u001b[0;34m\u001b[0m\u001b[0;34m\u001b[0m\u001b[0m\n\u001b[0m",
            "\u001b[0;32m/usr/local/lib/python3.7/dist-packages/torchsummary/torchsummary.py\u001b[0m in \u001b[0;36msummary\u001b[0;34m(model, input_size, batch_size, device)\u001b[0m\n\u001b[1;32m     70\u001b[0m     \u001b[0;31m# make a forward pass\u001b[0m\u001b[0;34m\u001b[0m\u001b[0;34m\u001b[0m\u001b[0;34m\u001b[0m\u001b[0m\n\u001b[1;32m     71\u001b[0m     \u001b[0;31m# print(x.shape)\u001b[0m\u001b[0;34m\u001b[0m\u001b[0;34m\u001b[0m\u001b[0;34m\u001b[0m\u001b[0m\n\u001b[0;32m---> 72\u001b[0;31m     \u001b[0mmodel\u001b[0m\u001b[0;34m(\u001b[0m\u001b[0;34m*\u001b[0m\u001b[0mx\u001b[0m\u001b[0;34m)\u001b[0m\u001b[0;34m\u001b[0m\u001b[0;34m\u001b[0m\u001b[0m\n\u001b[0m\u001b[1;32m     73\u001b[0m \u001b[0;34m\u001b[0m\u001b[0m\n\u001b[1;32m     74\u001b[0m     \u001b[0;31m# remove these hooks\u001b[0m\u001b[0;34m\u001b[0m\u001b[0;34m\u001b[0m\u001b[0;34m\u001b[0m\u001b[0m\n",
            "\u001b[0;32m/usr/local/lib/python3.7/dist-packages/torch/nn/modules/module.py\u001b[0m in \u001b[0;36m_call_impl\u001b[0;34m(self, *input, **kwargs)\u001b[0m\n\u001b[1;32m    887\u001b[0m             \u001b[0mresult\u001b[0m \u001b[0;34m=\u001b[0m \u001b[0mself\u001b[0m\u001b[0;34m.\u001b[0m\u001b[0m_slow_forward\u001b[0m\u001b[0;34m(\u001b[0m\u001b[0;34m*\u001b[0m\u001b[0minput\u001b[0m\u001b[0;34m,\u001b[0m \u001b[0;34m**\u001b[0m\u001b[0mkwargs\u001b[0m\u001b[0;34m)\u001b[0m\u001b[0;34m\u001b[0m\u001b[0;34m\u001b[0m\u001b[0m\n\u001b[1;32m    888\u001b[0m         \u001b[0;32melse\u001b[0m\u001b[0;34m:\u001b[0m\u001b[0;34m\u001b[0m\u001b[0;34m\u001b[0m\u001b[0m\n\u001b[0;32m--> 889\u001b[0;31m             \u001b[0mresult\u001b[0m \u001b[0;34m=\u001b[0m \u001b[0mself\u001b[0m\u001b[0;34m.\u001b[0m\u001b[0mforward\u001b[0m\u001b[0;34m(\u001b[0m\u001b[0;34m*\u001b[0m\u001b[0minput\u001b[0m\u001b[0;34m,\u001b[0m \u001b[0;34m**\u001b[0m\u001b[0mkwargs\u001b[0m\u001b[0;34m)\u001b[0m\u001b[0;34m\u001b[0m\u001b[0;34m\u001b[0m\u001b[0m\n\u001b[0m\u001b[1;32m    890\u001b[0m         for hook in itertools.chain(\n\u001b[1;32m    891\u001b[0m                 \u001b[0m_global_forward_hooks\u001b[0m\u001b[0;34m.\u001b[0m\u001b[0mvalues\u001b[0m\u001b[0;34m(\u001b[0m\u001b[0;34m)\u001b[0m\u001b[0;34m,\u001b[0m\u001b[0;34m\u001b[0m\u001b[0;34m\u001b[0m\u001b[0m\n",
            "\u001b[0;32m<ipython-input-34-b15f0e77a8ad>\u001b[0m in \u001b[0;36mforward\u001b[0;34m(self, x)\u001b[0m\n\u001b[1;32m     31\u001b[0m         \u001b[0mprint\u001b[0m\u001b[0;34m(\u001b[0m\u001b[0mx\u001b[0m\u001b[0;34m.\u001b[0m\u001b[0mshape\u001b[0m\u001b[0;34m)\u001b[0m\u001b[0;34m\u001b[0m\u001b[0;34m\u001b[0m\u001b[0m\n\u001b[1;32m     32\u001b[0m         \u001b[0;31m#x = x.view(x[0],-1)\u001b[0m\u001b[0;34m\u001b[0m\u001b[0;34m\u001b[0m\u001b[0;34m\u001b[0m\u001b[0m\n\u001b[0;32m---> 33\u001b[0;31m         \u001b[0mx\u001b[0m \u001b[0;34m=\u001b[0m \u001b[0mself\u001b[0m\u001b[0;34m.\u001b[0m\u001b[0mfc1\u001b[0m\u001b[0;34m(\u001b[0m\u001b[0mx\u001b[0m\u001b[0;34m)\u001b[0m\u001b[0;34m\u001b[0m\u001b[0;34m\u001b[0m\u001b[0m\n\u001b[0m\u001b[1;32m     34\u001b[0m         \u001b[0mprint\u001b[0m\u001b[0;34m(\u001b[0m\u001b[0mx\u001b[0m\u001b[0;34m.\u001b[0m\u001b[0mshape\u001b[0m\u001b[0;34m)\u001b[0m\u001b[0;34m\u001b[0m\u001b[0;34m\u001b[0m\u001b[0m\n\u001b[1;32m     35\u001b[0m         \u001b[0;31m#x = F.relu(self.conv7(x))                                  #Dont need to perform ReLU on last layer as its output would be subject to softmax, cannot apply non-linearity twice.\u001b[0m\u001b[0;34m\u001b[0m\u001b[0;34m\u001b[0m\u001b[0;34m\u001b[0m\u001b[0m\n",
            "\u001b[0;32m/usr/local/lib/python3.7/dist-packages/torch/nn/modules/module.py\u001b[0m in \u001b[0;36m_call_impl\u001b[0;34m(self, *input, **kwargs)\u001b[0m\n\u001b[1;32m    887\u001b[0m             \u001b[0mresult\u001b[0m \u001b[0;34m=\u001b[0m \u001b[0mself\u001b[0m\u001b[0;34m.\u001b[0m\u001b[0m_slow_forward\u001b[0m\u001b[0;34m(\u001b[0m\u001b[0;34m*\u001b[0m\u001b[0minput\u001b[0m\u001b[0;34m,\u001b[0m \u001b[0;34m**\u001b[0m\u001b[0mkwargs\u001b[0m\u001b[0;34m)\u001b[0m\u001b[0;34m\u001b[0m\u001b[0;34m\u001b[0m\u001b[0m\n\u001b[1;32m    888\u001b[0m         \u001b[0;32melse\u001b[0m\u001b[0;34m:\u001b[0m\u001b[0;34m\u001b[0m\u001b[0;34m\u001b[0m\u001b[0m\n\u001b[0;32m--> 889\u001b[0;31m             \u001b[0mresult\u001b[0m \u001b[0;34m=\u001b[0m \u001b[0mself\u001b[0m\u001b[0;34m.\u001b[0m\u001b[0mforward\u001b[0m\u001b[0;34m(\u001b[0m\u001b[0;34m*\u001b[0m\u001b[0minput\u001b[0m\u001b[0;34m,\u001b[0m \u001b[0;34m**\u001b[0m\u001b[0mkwargs\u001b[0m\u001b[0;34m)\u001b[0m\u001b[0;34m\u001b[0m\u001b[0;34m\u001b[0m\u001b[0m\n\u001b[0m\u001b[1;32m    890\u001b[0m         for hook in itertools.chain(\n\u001b[1;32m    891\u001b[0m                 \u001b[0m_global_forward_hooks\u001b[0m\u001b[0;34m.\u001b[0m\u001b[0mvalues\u001b[0m\u001b[0;34m(\u001b[0m\u001b[0;34m)\u001b[0m\u001b[0;34m,\u001b[0m\u001b[0;34m\u001b[0m\u001b[0;34m\u001b[0m\u001b[0m\n",
            "\u001b[0;32m/usr/local/lib/python3.7/dist-packages/torch/nn/modules/linear.py\u001b[0m in \u001b[0;36mforward\u001b[0;34m(self, input)\u001b[0m\n\u001b[1;32m     92\u001b[0m \u001b[0;34m\u001b[0m\u001b[0m\n\u001b[1;32m     93\u001b[0m     \u001b[0;32mdef\u001b[0m \u001b[0mforward\u001b[0m\u001b[0;34m(\u001b[0m\u001b[0mself\u001b[0m\u001b[0;34m,\u001b[0m \u001b[0minput\u001b[0m\u001b[0;34m:\u001b[0m \u001b[0mTensor\u001b[0m\u001b[0;34m)\u001b[0m \u001b[0;34m->\u001b[0m \u001b[0mTensor\u001b[0m\u001b[0;34m:\u001b[0m\u001b[0;34m\u001b[0m\u001b[0;34m\u001b[0m\u001b[0m\n\u001b[0;32m---> 94\u001b[0;31m         \u001b[0;32mreturn\u001b[0m \u001b[0mF\u001b[0m\u001b[0;34m.\u001b[0m\u001b[0mlinear\u001b[0m\u001b[0;34m(\u001b[0m\u001b[0minput\u001b[0m\u001b[0;34m,\u001b[0m \u001b[0mself\u001b[0m\u001b[0;34m.\u001b[0m\u001b[0mweight\u001b[0m\u001b[0;34m,\u001b[0m \u001b[0mself\u001b[0m\u001b[0;34m.\u001b[0m\u001b[0mbias\u001b[0m\u001b[0;34m)\u001b[0m\u001b[0;34m\u001b[0m\u001b[0;34m\u001b[0m\u001b[0m\n\u001b[0m\u001b[1;32m     95\u001b[0m \u001b[0;34m\u001b[0m\u001b[0m\n\u001b[1;32m     96\u001b[0m     \u001b[0;32mdef\u001b[0m \u001b[0mextra_repr\u001b[0m\u001b[0;34m(\u001b[0m\u001b[0mself\u001b[0m\u001b[0;34m)\u001b[0m \u001b[0;34m->\u001b[0m \u001b[0mstr\u001b[0m\u001b[0;34m:\u001b[0m\u001b[0;34m\u001b[0m\u001b[0;34m\u001b[0m\u001b[0m\n",
            "\u001b[0;32m/usr/local/lib/python3.7/dist-packages/torch/nn/functional.py\u001b[0m in \u001b[0;36mlinear\u001b[0;34m(input, weight, bias)\u001b[0m\n\u001b[1;32m   1751\u001b[0m     \u001b[0;32mif\u001b[0m \u001b[0mhas_torch_function_variadic\u001b[0m\u001b[0;34m(\u001b[0m\u001b[0minput\u001b[0m\u001b[0;34m,\u001b[0m \u001b[0mweight\u001b[0m\u001b[0;34m)\u001b[0m\u001b[0;34m:\u001b[0m\u001b[0;34m\u001b[0m\u001b[0;34m\u001b[0m\u001b[0m\n\u001b[1;32m   1752\u001b[0m         \u001b[0;32mreturn\u001b[0m \u001b[0mhandle_torch_function\u001b[0m\u001b[0;34m(\u001b[0m\u001b[0mlinear\u001b[0m\u001b[0;34m,\u001b[0m \u001b[0;34m(\u001b[0m\u001b[0minput\u001b[0m\u001b[0;34m,\u001b[0m \u001b[0mweight\u001b[0m\u001b[0;34m)\u001b[0m\u001b[0;34m,\u001b[0m \u001b[0minput\u001b[0m\u001b[0;34m,\u001b[0m \u001b[0mweight\u001b[0m\u001b[0;34m,\u001b[0m \u001b[0mbias\u001b[0m\u001b[0;34m=\u001b[0m\u001b[0mbias\u001b[0m\u001b[0;34m)\u001b[0m\u001b[0;34m\u001b[0m\u001b[0;34m\u001b[0m\u001b[0m\n\u001b[0;32m-> 1753\u001b[0;31m     \u001b[0;32mreturn\u001b[0m \u001b[0mtorch\u001b[0m\u001b[0;34m.\u001b[0m\u001b[0m_C\u001b[0m\u001b[0;34m.\u001b[0m\u001b[0m_nn\u001b[0m\u001b[0;34m.\u001b[0m\u001b[0mlinear\u001b[0m\u001b[0;34m(\u001b[0m\u001b[0minput\u001b[0m\u001b[0;34m,\u001b[0m \u001b[0mweight\u001b[0m\u001b[0;34m,\u001b[0m \u001b[0mbias\u001b[0m\u001b[0;34m)\u001b[0m\u001b[0;34m\u001b[0m\u001b[0;34m\u001b[0m\u001b[0m\n\u001b[0m\u001b[1;32m   1754\u001b[0m \u001b[0;34m\u001b[0m\u001b[0m\n\u001b[1;32m   1755\u001b[0m \u001b[0;34m\u001b[0m\u001b[0m\n",
            "\u001b[0;31mRuntimeError\u001b[0m: mat1 dim 1 must match mat2 dim 0"
          ]
        }
      ]
    },
    {
      "cell_type": "code",
      "metadata": {
        "colab": {
          "base_uri": "https://localhost:8080/",
          "height": 1000
        },
        "id": "ZuvbCX3EgeI6",
        "outputId": "c885556f-b8ec-448f-a7ec-912975f17daf"
      },
      "source": [
        "optimizer = optim.SGD(model.parameters(), lr=0.01, momentum=0.9)\n",
        "\n",
        "total_epochs = 10\n",
        "for epoch in range(1, total_epochs+1):\n",
        "    train(model, device, train_loader, optimizer, epoch)\n",
        "    test(model, device, test_loader)"
      ],
      "execution_count": 37,
      "outputs": [
        {
          "output_type": "stream",
          "text": [
            "\n",
            "\n",
            "\n",
            "  0%|          | 0/469 [00:00<?, ?it/s]\u001b[A\u001b[A\u001b[A/usr/local/lib/python3.7/dist-packages/ipykernel_launcher.py:29: UserWarning: Implicit dimension choice for log_softmax has been deprecated. Change the call to include dim=X as an argument.\n",
            "\n",
            "\n",
            "\n",
            "loss=2.300271511077881 batch_id=0:   0%|          | 0/469 [00:00<?, ?it/s]\u001b[A\u001b[A\u001b[A\n",
            "\n",
            "\n",
            "loss=2.3031694889068604 batch_id=1:   0%|          | 0/469 [00:00<?, ?it/s]\u001b[A\u001b[A\u001b[A\n",
            "\n",
            "\n",
            "loss=2.3031694889068604 batch_id=1:   0%|          | 2/469 [00:00<00:27, 17.25it/s]\u001b[A\u001b[A\u001b[A\n",
            "\n",
            "\n",
            "loss=2.3074357509613037 batch_id=2:   0%|          | 2/469 [00:00<00:27, 17.25it/s]\u001b[A\u001b[A\u001b[A\n",
            "\n",
            "\n",
            "loss=2.300734043121338 batch_id=3:   0%|          | 2/469 [00:00<00:27, 17.25it/s] \u001b[A\u001b[A\u001b[A\n",
            "\n",
            "\n",
            "loss=2.302330493927002 batch_id=4:   0%|          | 2/469 [00:00<00:27, 17.25it/s]\u001b[A\u001b[A\u001b[A\n",
            "\n",
            "\n",
            "loss=2.2971644401550293 batch_id=5:   0%|          | 2/469 [00:00<00:27, 17.25it/s]\u001b[A\u001b[A\u001b[A\n",
            "\n",
            "\n",
            "loss=2.2971644401550293 batch_id=5:   1%|▏         | 6/469 [00:00<00:23, 19.87it/s]\u001b[A\u001b[A\u001b[A\n",
            "\n",
            "\n",
            "loss=2.3035523891448975 batch_id=6:   1%|▏         | 6/469 [00:00<00:23, 19.87it/s]\u001b[A\u001b[A\u001b[A\n",
            "\n",
            "\n",
            "loss=2.2950198650360107 batch_id=7:   1%|▏         | 6/469 [00:00<00:23, 19.87it/s]\u001b[A\u001b[A\u001b[A\n",
            "\n",
            "\n",
            "loss=2.3016366958618164 batch_id=8:   1%|▏         | 6/469 [00:00<00:23, 19.87it/s]\u001b[A\u001b[A\u001b[A\n",
            "\n",
            "\n",
            "loss=2.3016366958618164 batch_id=8:   2%|▏         | 9/469 [00:00<00:20, 22.02it/s]\u001b[A\u001b[A\u001b[A\n",
            "\n",
            "\n",
            "loss=2.302776336669922 batch_id=9:   2%|▏         | 9/469 [00:00<00:20, 22.02it/s] \u001b[A\u001b[A\u001b[A\n",
            "\n",
            "\n",
            "loss=2.3069839477539062 batch_id=10:   2%|▏         | 9/469 [00:00<00:20, 22.02it/s]\u001b[A\u001b[A\u001b[A\n",
            "\n",
            "\n",
            "loss=2.3001654148101807 batch_id=11:   2%|▏         | 9/469 [00:00<00:20, 22.02it/s]\u001b[A\u001b[A\u001b[A\n",
            "\n",
            "\n",
            "loss=2.3001654148101807 batch_id=11:   3%|▎         | 12/469 [00:00<00:19, 23.06it/s]\u001b[A\u001b[A\u001b[A\n",
            "\n",
            "\n",
            "loss=2.298691987991333 batch_id=12:   3%|▎         | 12/469 [00:00<00:19, 23.06it/s] \u001b[A\u001b[A\u001b[A\n",
            "\n",
            "\n",
            "loss=2.3015098571777344 batch_id=13:   3%|▎         | 12/469 [00:00<00:19, 23.06it/s]\u001b[A\u001b[A\u001b[A\n",
            "\n",
            "\n",
            "loss=2.2999000549316406 batch_id=14:   3%|▎         | 12/469 [00:00<00:19, 23.06it/s]\u001b[A\u001b[A\u001b[A\n",
            "\n",
            "\n",
            "loss=2.2999000549316406 batch_id=14:   3%|▎         | 15/469 [00:00<00:18, 24.56it/s]\u001b[A\u001b[A\u001b[A\n",
            "\n",
            "\n",
            "loss=2.301913022994995 batch_id=15:   3%|▎         | 15/469 [00:00<00:18, 24.56it/s] \u001b[A\u001b[A\u001b[A\n",
            "\n",
            "\n",
            "loss=2.3066043853759766 batch_id=16:   3%|▎         | 15/469 [00:00<00:18, 24.56it/s]\u001b[A\u001b[A\u001b[A\n",
            "\n",
            "\n",
            "loss=2.3047502040863037 batch_id=17:   3%|▎         | 15/469 [00:00<00:18, 24.56it/s]\u001b[A\u001b[A\u001b[A\n",
            "\n",
            "\n",
            "loss=2.3025763034820557 batch_id=18:   3%|▎         | 15/469 [00:00<00:18, 24.56it/s]\u001b[A\u001b[A\u001b[A\n",
            "\n",
            "\n",
            "loss=2.3025763034820557 batch_id=18:   4%|▍         | 19/469 [00:00<00:16, 26.50it/s]\u001b[A\u001b[A\u001b[A\n",
            "\n",
            "\n",
            "loss=2.301581382751465 batch_id=19:   4%|▍         | 19/469 [00:00<00:16, 26.50it/s] \u001b[A\u001b[A\u001b[A\n",
            "\n",
            "\n",
            "loss=2.301774024963379 batch_id=20:   4%|▍         | 19/469 [00:00<00:16, 26.50it/s]\u001b[A\u001b[A\u001b[A\n",
            "\n",
            "\n",
            "loss=2.3009555339813232 batch_id=21:   4%|▍         | 19/469 [00:00<00:16, 26.50it/s]\u001b[A\u001b[A\u001b[A\n",
            "\n",
            "\n",
            "loss=2.3042867183685303 batch_id=22:   4%|▍         | 19/469 [00:00<00:16, 26.50it/s]\u001b[A\u001b[A\u001b[A\n",
            "\n",
            "\n",
            "loss=2.3042867183685303 batch_id=22:   5%|▍         | 23/469 [00:00<00:16, 27.68it/s]\u001b[A\u001b[A\u001b[A\n",
            "\n",
            "\n",
            "loss=2.299478769302368 batch_id=23:   5%|▍         | 23/469 [00:00<00:16, 27.68it/s] \u001b[A\u001b[A\u001b[A\n",
            "\n",
            "\n",
            "loss=2.3049895763397217 batch_id=24:   5%|▍         | 23/469 [00:00<00:16, 27.68it/s]\u001b[A\u001b[A\u001b[A\n",
            "\n",
            "\n",
            "loss=2.3000431060791016 batch_id=25:   5%|▍         | 23/469 [00:00<00:16, 27.68it/s]\u001b[A\u001b[A\u001b[A\n",
            "\n",
            "\n",
            "loss=2.297288179397583 batch_id=26:   5%|▍         | 23/469 [00:00<00:16, 27.68it/s] \u001b[A\u001b[A\u001b[A\n",
            "\n",
            "\n",
            "loss=2.297288179397583 batch_id=26:   6%|▌         | 27/469 [00:00<00:15, 28.40it/s]\u001b[A\u001b[A\u001b[A\n",
            "\n",
            "\n",
            "loss=2.30151104927063 batch_id=27:   6%|▌         | 27/469 [00:00<00:15, 28.40it/s] \u001b[A\u001b[A\u001b[A\n",
            "\n",
            "\n",
            "loss=2.3087046146392822 batch_id=28:   6%|▌         | 27/469 [00:01<00:15, 28.40it/s]\u001b[A\u001b[A\u001b[A\n",
            "\n",
            "\n",
            "loss=2.304997205734253 batch_id=29:   6%|▌         | 27/469 [00:01<00:15, 28.40it/s] \u001b[A\u001b[A\u001b[A\n",
            "\n",
            "\n",
            "loss=2.2999255657196045 batch_id=30:   6%|▌         | 27/469 [00:01<00:15, 28.40it/s]\u001b[A\u001b[A\u001b[A\n",
            "\n",
            "\n",
            "loss=2.2999255657196045 batch_id=30:   7%|▋         | 31/469 [00:01<00:14, 29.40it/s]\u001b[A\u001b[A\u001b[A\n",
            "\n",
            "\n",
            "loss=2.306406259536743 batch_id=31:   7%|▋         | 31/469 [00:01<00:14, 29.40it/s] \u001b[A\u001b[A\u001b[A\n",
            "\n",
            "\n",
            "loss=2.3034887313842773 batch_id=32:   7%|▋         | 31/469 [00:01<00:14, 29.40it/s]\u001b[A\u001b[A\u001b[A\n",
            "\n",
            "\n",
            "loss=2.3029422760009766 batch_id=33:   7%|▋         | 31/469 [00:01<00:14, 29.40it/s]\u001b[A\u001b[A\u001b[A\n",
            "\n",
            "\n",
            "loss=2.3032724857330322 batch_id=34:   7%|▋         | 31/469 [00:01<00:14, 29.40it/s]\u001b[A\u001b[A\u001b[A\n",
            "\n",
            "\n",
            "loss=2.3032724857330322 batch_id=34:   7%|▋         | 35/469 [00:01<00:14, 30.21it/s]\u001b[A\u001b[A\u001b[A\n",
            "\n",
            "\n",
            "loss=2.3029043674468994 batch_id=35:   7%|▋         | 35/469 [00:01<00:14, 30.21it/s]\u001b[A\u001b[A\u001b[A\n",
            "\n",
            "\n",
            "loss=2.3001511096954346 batch_id=36:   7%|▋         | 35/469 [00:01<00:14, 30.21it/s]\u001b[A\u001b[A\u001b[A\n",
            "\n",
            "\n",
            "loss=2.303056240081787 batch_id=37:   7%|▋         | 35/469 [00:01<00:14, 30.21it/s] \u001b[A\u001b[A\u001b[A\n",
            "\n",
            "\n",
            "loss=2.305999755859375 batch_id=38:   7%|▋         | 35/469 [00:01<00:14, 30.21it/s]\u001b[A\u001b[A\u001b[A\n",
            "\n",
            "\n",
            "loss=2.305999755859375 batch_id=38:   8%|▊         | 39/469 [00:01<00:14, 29.45it/s]\u001b[A\u001b[A\u001b[A\n",
            "\n",
            "\n",
            "loss=2.29941725730896 batch_id=39:   8%|▊         | 39/469 [00:01<00:14, 29.45it/s] \u001b[A\u001b[A\u001b[A\n",
            "\n",
            "\n",
            "loss=2.3044915199279785 batch_id=40:   8%|▊         | 39/469 [00:01<00:14, 29.45it/s]\u001b[A\u001b[A\u001b[A\n",
            "\n",
            "\n",
            "loss=2.2985146045684814 batch_id=41:   8%|▊         | 39/469 [00:01<00:14, 29.45it/s]\u001b[A\u001b[A\u001b[A\n",
            "\n",
            "\n",
            "loss=2.2985146045684814 batch_id=41:   9%|▉         | 42/469 [00:01<00:15, 28.09it/s]\u001b[A\u001b[A\u001b[A\n",
            "\n",
            "\n",
            "loss=2.3030059337615967 batch_id=42:   9%|▉         | 42/469 [00:01<00:15, 28.09it/s]\u001b[A\u001b[A\u001b[A\n",
            "\n",
            "\n",
            "loss=2.296372413635254 batch_id=43:   9%|▉         | 42/469 [00:01<00:15, 28.09it/s] \u001b[A\u001b[A\u001b[A\n",
            "\n",
            "\n",
            "loss=2.3043055534362793 batch_id=44:   9%|▉         | 42/469 [00:01<00:15, 28.09it/s]\u001b[A\u001b[A\u001b[A\n",
            "\n",
            "\n",
            "loss=2.3043055534362793 batch_id=44:  10%|▉         | 45/469 [00:01<00:14, 28.40it/s]\u001b[A\u001b[A\u001b[A\n",
            "\n",
            "\n",
            "loss=2.2978312969207764 batch_id=45:  10%|▉         | 45/469 [00:01<00:14, 28.40it/s]\u001b[A\u001b[A\u001b[A\n",
            "\n",
            "\n",
            "loss=2.297880172729492 batch_id=46:  10%|▉         | 45/469 [00:01<00:14, 28.40it/s] \u001b[A\u001b[A\u001b[A\n",
            "\n",
            "\n",
            "loss=2.3036317825317383 batch_id=47:  10%|▉         | 45/469 [00:01<00:14, 28.40it/s]\u001b[A\u001b[A\u001b[A\n",
            "\n",
            "\n",
            "loss=2.3036317825317383 batch_id=47:  10%|█         | 48/469 [00:01<00:14, 28.85it/s]\u001b[A\u001b[A\u001b[A\n",
            "\n",
            "\n",
            "loss=2.306330442428589 batch_id=48:  10%|█         | 48/469 [00:01<00:14, 28.85it/s] \u001b[A\u001b[A\u001b[A\n",
            "\n",
            "\n",
            "loss=2.312527656555176 batch_id=49:  10%|█         | 48/469 [00:01<00:14, 28.85it/s]\u001b[A\u001b[A\u001b[A\n",
            "\n",
            "\n",
            "loss=2.302670955657959 batch_id=50:  10%|█         | 48/469 [00:01<00:14, 28.85it/s]\u001b[A\u001b[A\u001b[A\n",
            "\n",
            "\n",
            "loss=2.3021581172943115 batch_id=51:  10%|█         | 48/469 [00:01<00:14, 28.85it/s]\u001b[A\u001b[A\u001b[A\n",
            "\n",
            "\n",
            "loss=2.3021581172943115 batch_id=51:  11%|█         | 52/469 [00:01<00:14, 29.20it/s]\u001b[A\u001b[A\u001b[A\n",
            "\n",
            "\n",
            "loss=2.3003413677215576 batch_id=52:  11%|█         | 52/469 [00:01<00:14, 29.20it/s]\u001b[A\u001b[A\u001b[A\n",
            "\n",
            "\n",
            "loss=2.305288791656494 batch_id=53:  11%|█         | 52/469 [00:01<00:14, 29.20it/s] \u001b[A\u001b[A\u001b[A\n",
            "\n",
            "\n",
            "loss=2.3026657104492188 batch_id=54:  11%|█         | 52/469 [00:01<00:14, 29.20it/s]\u001b[A\u001b[A\u001b[A\n",
            "\n",
            "\n",
            "loss=2.299776792526245 batch_id=55:  11%|█         | 52/469 [00:01<00:14, 29.20it/s] \u001b[A\u001b[A\u001b[A\n",
            "\n",
            "\n",
            "loss=2.299776792526245 batch_id=55:  12%|█▏        | 56/469 [00:01<00:13, 29.92it/s]\u001b[A\u001b[A\u001b[A\n",
            "\n",
            "\n",
            "loss=2.3040223121643066 batch_id=56:  12%|█▏        | 56/469 [00:01<00:13, 29.92it/s]\u001b[A\u001b[A\u001b[A\n",
            "\n",
            "\n",
            "loss=2.302788734436035 batch_id=57:  12%|█▏        | 56/469 [00:01<00:13, 29.92it/s] \u001b[A\u001b[A\u001b[A\n",
            "\n",
            "\n",
            "loss=2.298919200897217 batch_id=58:  12%|█▏        | 56/469 [00:02<00:13, 29.92it/s]\u001b[A\u001b[A\u001b[A\n",
            "\n",
            "\n",
            "loss=2.2998368740081787 batch_id=59:  12%|█▏        | 56/469 [00:02<00:13, 29.92it/s]\u001b[A\u001b[A\u001b[A\n",
            "\n",
            "\n",
            "loss=2.2998368740081787 batch_id=59:  13%|█▎        | 60/469 [00:02<00:14, 28.88it/s]\u001b[A\u001b[A\u001b[A\n",
            "\n",
            "\n",
            "loss=2.3007686138153076 batch_id=60:  13%|█▎        | 60/469 [00:02<00:14, 28.88it/s]\u001b[A\u001b[A\u001b[A\n",
            "\n",
            "\n",
            "loss=2.3067386150360107 batch_id=61:  13%|█▎        | 60/469 [00:02<00:14, 28.88it/s]\u001b[A\u001b[A\u001b[A\n",
            "\n",
            "\n",
            "loss=2.2992072105407715 batch_id=62:  13%|█▎        | 60/469 [00:02<00:14, 28.88it/s]\u001b[A\u001b[A\u001b[A\n",
            "\n",
            "\n",
            "loss=2.30206036567688 batch_id=63:  13%|█▎        | 60/469 [00:02<00:14, 28.88it/s]  \u001b[A\u001b[A\u001b[A\n",
            "\n",
            "\n",
            "loss=2.30206036567688 batch_id=63:  14%|█▎        | 64/469 [00:02<00:13, 29.26it/s]\u001b[A\u001b[A\u001b[A\n",
            "\n",
            "\n",
            "loss=2.303398847579956 batch_id=64:  14%|█▎        | 64/469 [00:02<00:13, 29.26it/s]\u001b[A\u001b[A\u001b[A\n",
            "\n",
            "\n",
            "loss=2.2968108654022217 batch_id=65:  14%|█▎        | 64/469 [00:02<00:13, 29.26it/s]\u001b[A\u001b[A\u001b[A\n",
            "\n",
            "\n",
            "loss=2.301342010498047 batch_id=66:  14%|█▎        | 64/469 [00:02<00:13, 29.26it/s] \u001b[A\u001b[A\u001b[A\n",
            "\n",
            "\n",
            "loss=2.301342010498047 batch_id=66:  14%|█▍        | 67/469 [00:02<00:13, 28.84it/s]\u001b[A\u001b[A\u001b[A\n",
            "\n",
            "\n",
            "loss=2.304544448852539 batch_id=67:  14%|█▍        | 67/469 [00:02<00:13, 28.84it/s]\u001b[A\u001b[A\u001b[A\n",
            "\n",
            "\n",
            "loss=2.306501865386963 batch_id=68:  14%|█▍        | 67/469 [00:02<00:13, 28.84it/s]\u001b[A\u001b[A\u001b[A\n",
            "\n",
            "\n",
            "loss=2.304117202758789 batch_id=69:  14%|█▍        | 67/469 [00:02<00:13, 28.84it/s]\u001b[A\u001b[A\u001b[A\n",
            "\n",
            "\n",
            "loss=2.304117202758789 batch_id=69:  15%|█▍        | 70/469 [00:02<00:14, 28.24it/s]\u001b[A\u001b[A\u001b[A\n",
            "\n",
            "\n",
            "loss=2.3034965991973877 batch_id=70:  15%|█▍        | 70/469 [00:02<00:14, 28.24it/s]\u001b[A\u001b[A\u001b[A\n",
            "\n",
            "\n",
            "loss=2.2967073917388916 batch_id=71:  15%|█▍        | 70/469 [00:02<00:14, 28.24it/s]\u001b[A\u001b[A\u001b[A\n",
            "\n",
            "\n",
            "loss=2.2969179153442383 batch_id=72:  15%|█▍        | 70/469 [00:02<00:14, 28.24it/s]\u001b[A\u001b[A\u001b[A\n",
            "\n",
            "\n",
            "loss=2.2969179153442383 batch_id=72:  16%|█▌        | 73/469 [00:02<00:14, 27.60it/s]\u001b[A\u001b[A\u001b[A\n",
            "\n",
            "\n",
            "loss=2.30342435836792 batch_id=73:  16%|█▌        | 73/469 [00:02<00:14, 27.60it/s]  \u001b[A\u001b[A\u001b[A\n",
            "\n",
            "\n",
            "loss=2.3037946224212646 batch_id=74:  16%|█▌        | 73/469 [00:02<00:14, 27.60it/s]\u001b[A\u001b[A\u001b[A\n",
            "\n",
            "\n",
            "loss=2.31112003326416 batch_id=75:  16%|█▌        | 73/469 [00:02<00:14, 27.60it/s]  \u001b[A\u001b[A\u001b[A\n",
            "\n",
            "\n",
            "loss=2.31112003326416 batch_id=75:  16%|█▌        | 76/469 [00:02<00:14, 27.84it/s]\u001b[A\u001b[A\u001b[A\n",
            "\n",
            "\n",
            "loss=2.291299819946289 batch_id=76:  16%|█▌        | 76/469 [00:02<00:14, 27.84it/s]\u001b[A\u001b[A\u001b[A\n",
            "\n",
            "\n",
            "loss=2.2962443828582764 batch_id=77:  16%|█▌        | 76/469 [00:02<00:14, 27.84it/s]\u001b[A\u001b[A\u001b[A\n",
            "\n",
            "\n",
            "loss=2.3078179359436035 batch_id=78:  16%|█▌        | 76/469 [00:02<00:14, 27.84it/s]\u001b[A\u001b[A\u001b[A\n",
            "\n",
            "\n",
            "loss=2.3078179359436035 batch_id=78:  17%|█▋        | 79/469 [00:02<00:13, 27.95it/s]\u001b[A\u001b[A\u001b[A\n",
            "\n",
            "\n",
            "loss=2.302300453186035 batch_id=79:  17%|█▋        | 79/469 [00:02<00:13, 27.95it/s] \u001b[A\u001b[A\u001b[A\n",
            "\n",
            "\n",
            "loss=2.302622079849243 batch_id=80:  17%|█▋        | 79/469 [00:02<00:13, 27.95it/s]\u001b[A\u001b[A\u001b[A\n",
            "\n",
            "\n",
            "loss=2.2940824031829834 batch_id=81:  17%|█▋        | 79/469 [00:02<00:13, 27.95it/s]\u001b[A\u001b[A\u001b[A\n",
            "\n",
            "\n",
            "loss=2.2940824031829834 batch_id=81:  17%|█▋        | 82/469 [00:02<00:14, 26.57it/s]\u001b[A\u001b[A\u001b[A\n",
            "\n",
            "\n",
            "loss=2.3032310009002686 batch_id=82:  17%|█▋        | 82/469 [00:02<00:14, 26.57it/s]\u001b[A\u001b[A\u001b[A\n",
            "\n",
            "\n",
            "loss=2.2970705032348633 batch_id=83:  17%|█▋        | 82/469 [00:02<00:14, 26.57it/s]\u001b[A\u001b[A\u001b[A\n",
            "\n",
            "\n",
            "loss=2.297659397125244 batch_id=84:  17%|█▋        | 82/469 [00:02<00:14, 26.57it/s] \u001b[A\u001b[A\u001b[A\n",
            "\n",
            "\n",
            "loss=2.3005666732788086 batch_id=85:  17%|█▋        | 82/469 [00:02<00:14, 26.57it/s]\u001b[A\u001b[A\u001b[A\n",
            "\n",
            "\n",
            "loss=2.3005666732788086 batch_id=85:  18%|█▊        | 86/469 [00:03<00:13, 27.92it/s]\u001b[A\u001b[A\u001b[A\n",
            "\n",
            "\n",
            "loss=2.2984049320220947 batch_id=86:  18%|█▊        | 86/469 [00:03<00:13, 27.92it/s]\u001b[A\u001b[A\u001b[A\n",
            "\n",
            "\n",
            "loss=2.293821096420288 batch_id=87:  18%|█▊        | 86/469 [00:03<00:13, 27.92it/s] \u001b[A\u001b[A\u001b[A\n",
            "\n",
            "\n",
            "loss=2.297792911529541 batch_id=88:  18%|█▊        | 86/469 [00:03<00:13, 27.92it/s]\u001b[A\u001b[A\u001b[A\n",
            "\n",
            "\n",
            "loss=2.3000218868255615 batch_id=89:  18%|█▊        | 86/469 [00:03<00:13, 27.92it/s]\u001b[A\u001b[A\u001b[A\n",
            "\n",
            "\n",
            "loss=2.3000218868255615 batch_id=89:  19%|█▉        | 90/469 [00:03<00:13, 28.90it/s]\u001b[A\u001b[A\u001b[A\n",
            "\n",
            "\n",
            "loss=2.309624195098877 batch_id=90:  19%|█▉        | 90/469 [00:03<00:13, 28.90it/s] \u001b[A\u001b[A\u001b[A\n",
            "\n",
            "\n",
            "loss=2.302432060241699 batch_id=91:  19%|█▉        | 90/469 [00:03<00:13, 28.90it/s]\u001b[A\u001b[A\u001b[A\n",
            "\n",
            "\n",
            "loss=2.308537006378174 batch_id=92:  19%|█▉        | 90/469 [00:03<00:13, 28.90it/s]\u001b[A\u001b[A\u001b[A\n",
            "\n",
            "\n",
            "loss=2.308537006378174 batch_id=92:  20%|█▉        | 93/469 [00:03<00:13, 28.48it/s]\u001b[A\u001b[A\u001b[A\n",
            "\n",
            "\n",
            "loss=2.303436279296875 batch_id=93:  20%|█▉        | 93/469 [00:03<00:13, 28.48it/s]\u001b[A\u001b[A\u001b[A\n",
            "\n",
            "\n",
            "loss=2.296962261199951 batch_id=94:  20%|█▉        | 93/469 [00:03<00:13, 28.48it/s]\u001b[A\u001b[A\u001b[A\n",
            "\n",
            "\n",
            "loss=2.2960662841796875 batch_id=95:  20%|█▉        | 93/469 [00:03<00:13, 28.48it/s]\u001b[A\u001b[A\u001b[A\n",
            "\n",
            "\n",
            "loss=2.2960662841796875 batch_id=95:  20%|██        | 96/469 [00:03<00:13, 28.37it/s]\u001b[A\u001b[A\u001b[A\n",
            "\n",
            "\n",
            "loss=2.301781415939331 batch_id=96:  20%|██        | 96/469 [00:03<00:13, 28.37it/s] \u001b[A\u001b[A\u001b[A\n",
            "\n",
            "\n",
            "loss=2.3120739459991455 batch_id=97:  20%|██        | 96/469 [00:03<00:13, 28.37it/s]\u001b[A\u001b[A\u001b[A\n",
            "\n",
            "\n",
            "loss=2.303490161895752 batch_id=98:  20%|██        | 96/469 [00:03<00:13, 28.37it/s] \u001b[A\u001b[A\u001b[A\n",
            "\n",
            "\n",
            "loss=2.303490161895752 batch_id=98:  21%|██        | 99/469 [00:03<00:13, 28.34it/s]\u001b[A\u001b[A\u001b[A\n",
            "\n",
            "\n",
            "loss=2.3080832958221436 batch_id=99:  21%|██        | 99/469 [00:03<00:13, 28.34it/s]\u001b[A\u001b[A\u001b[A\n",
            "\n",
            "\n",
            "loss=2.306872844696045 batch_id=100:  21%|██        | 99/469 [00:03<00:13, 28.34it/s]\u001b[A\u001b[A\u001b[A\n",
            "\n",
            "\n",
            "loss=2.2992632389068604 batch_id=101:  21%|██        | 99/469 [00:03<00:13, 28.34it/s]\u001b[A\u001b[A\u001b[A\n",
            "\n",
            "\n",
            "loss=2.2992632389068604 batch_id=101:  22%|██▏       | 102/469 [00:03<00:12, 28.79it/s]\u001b[A\u001b[A\u001b[A\n",
            "\n",
            "\n",
            "loss=2.30127215385437 batch_id=102:  22%|██▏       | 102/469 [00:03<00:12, 28.79it/s]  \u001b[A\u001b[A\u001b[A\n",
            "\n",
            "\n",
            "loss=2.3044424057006836 batch_id=103:  22%|██▏       | 102/469 [00:03<00:12, 28.79it/s]\u001b[A\u001b[A\u001b[A\n",
            "\n",
            "\n",
            "loss=2.3070287704467773 batch_id=104:  22%|██▏       | 102/469 [00:03<00:12, 28.79it/s]\u001b[A\u001b[A\u001b[A\n",
            "\n",
            "\n",
            "loss=2.3070287704467773 batch_id=104:  22%|██▏       | 105/469 [00:03<00:13, 27.44it/s]\u001b[A\u001b[A\u001b[A\n",
            "\n",
            "\n",
            "loss=2.2946102619171143 batch_id=105:  22%|██▏       | 105/469 [00:03<00:13, 27.44it/s]\u001b[A\u001b[A\u001b[A\n",
            "\n",
            "\n",
            "loss=2.3025853633880615 batch_id=106:  22%|██▏       | 105/469 [00:03<00:13, 27.44it/s]\u001b[A\u001b[A\u001b[A\n",
            "\n",
            "\n",
            "loss=2.2982771396636963 batch_id=107:  22%|██▏       | 105/469 [00:03<00:13, 27.44it/s]\u001b[A\u001b[A\u001b[A\n",
            "\n",
            "\n",
            "loss=2.295215368270874 batch_id=108:  22%|██▏       | 105/469 [00:03<00:13, 27.44it/s] \u001b[A\u001b[A\u001b[A\n",
            "\n",
            "\n",
            "loss=2.295215368270874 batch_id=108:  23%|██▎       | 109/469 [00:03<00:12, 28.64it/s]\u001b[A\u001b[A\u001b[A\n",
            "\n",
            "\n",
            "loss=2.311436176300049 batch_id=109:  23%|██▎       | 109/469 [00:03<00:12, 28.64it/s]\u001b[A\u001b[A\u001b[A\n",
            "\n",
            "\n",
            "loss=2.3051743507385254 batch_id=110:  23%|██▎       | 109/469 [00:03<00:12, 28.64it/s]"
          ],
          "name": "stderr"
        },
        {
          "output_type": "error",
          "ename": "KeyboardInterrupt",
          "evalue": "ignored",
          "traceback": [
            "\u001b[0;31m---------------------------------------------------------------------------\u001b[0m",
            "\u001b[0;31mKeyboardInterrupt\u001b[0m                         Traceback (most recent call last)",
            "\u001b[0;32m<ipython-input-37-5a364ac1fc4f>\u001b[0m in \u001b[0;36m<module>\u001b[0;34m()\u001b[0m\n\u001b[1;32m      3\u001b[0m \u001b[0mtotal_epochs\u001b[0m \u001b[0;34m=\u001b[0m \u001b[0;36m10\u001b[0m\u001b[0;34m\u001b[0m\u001b[0;34m\u001b[0m\u001b[0m\n\u001b[1;32m      4\u001b[0m \u001b[0;32mfor\u001b[0m \u001b[0mepoch\u001b[0m \u001b[0;32min\u001b[0m \u001b[0mrange\u001b[0m\u001b[0;34m(\u001b[0m\u001b[0;36m1\u001b[0m\u001b[0;34m,\u001b[0m \u001b[0mtotal_epochs\u001b[0m\u001b[0;34m+\u001b[0m\u001b[0;36m1\u001b[0m\u001b[0;34m)\u001b[0m\u001b[0;34m:\u001b[0m\u001b[0;34m\u001b[0m\u001b[0;34m\u001b[0m\u001b[0m\n\u001b[0;32m----> 5\u001b[0;31m     \u001b[0mtrain\u001b[0m\u001b[0;34m(\u001b[0m\u001b[0mmodel\u001b[0m\u001b[0;34m,\u001b[0m \u001b[0mdevice\u001b[0m\u001b[0;34m,\u001b[0m \u001b[0mtrain_loader\u001b[0m\u001b[0;34m,\u001b[0m \u001b[0moptimizer\u001b[0m\u001b[0;34m,\u001b[0m \u001b[0mepoch\u001b[0m\u001b[0;34m)\u001b[0m\u001b[0;34m\u001b[0m\u001b[0;34m\u001b[0m\u001b[0m\n\u001b[0m\u001b[1;32m      6\u001b[0m     \u001b[0mtest\u001b[0m\u001b[0;34m(\u001b[0m\u001b[0mmodel\u001b[0m\u001b[0;34m,\u001b[0m \u001b[0mdevice\u001b[0m\u001b[0;34m,\u001b[0m \u001b[0mtest_loader\u001b[0m\u001b[0;34m)\u001b[0m\u001b[0;34m\u001b[0m\u001b[0;34m\u001b[0m\u001b[0m\n",
            "\u001b[0;32m<ipython-input-14-24d899379f70>\u001b[0m in \u001b[0;36mtrain\u001b[0;34m(model, device, train_loader, optimizer, epoch)\u001b[0m\n\u001b[1;32m     10\u001b[0m         \u001b[0mloss\u001b[0m\u001b[0;34m.\u001b[0m\u001b[0mbackward\u001b[0m\u001b[0;34m(\u001b[0m\u001b[0;34m)\u001b[0m                                     \u001b[0;31m#propagate loss backward\u001b[0m\u001b[0;34m\u001b[0m\u001b[0;34m\u001b[0m\u001b[0m\n\u001b[1;32m     11\u001b[0m         \u001b[0moptimizer\u001b[0m\u001b[0;34m.\u001b[0m\u001b[0mstep\u001b[0m\u001b[0;34m(\u001b[0m\u001b[0;34m)\u001b[0m\u001b[0;34m\u001b[0m\u001b[0;34m\u001b[0m\u001b[0m\n\u001b[0;32m---> 12\u001b[0;31m         \u001b[0mpbar\u001b[0m\u001b[0;34m.\u001b[0m\u001b[0mset_description\u001b[0m\u001b[0;34m(\u001b[0m\u001b[0mdesc\u001b[0m\u001b[0;34m=\u001b[0m \u001b[0;34mf'loss={loss.item()} batch_id={batch_idx}'\u001b[0m\u001b[0;34m)\u001b[0m\u001b[0;34m\u001b[0m\u001b[0;34m\u001b[0m\u001b[0m\n\u001b[0m\u001b[1;32m     13\u001b[0m \u001b[0;34m\u001b[0m\u001b[0m\n\u001b[1;32m     14\u001b[0m \u001b[0;34m\u001b[0m\u001b[0m\n",
            "\u001b[0;32m/usr/local/lib/python3.7/dist-packages/tqdm/std.py\u001b[0m in \u001b[0;36mset_description\u001b[0;34m(self, desc, refresh)\u001b[0m\n\u001b[1;32m   1348\u001b[0m         \u001b[0mself\u001b[0m\u001b[0;34m.\u001b[0m\u001b[0mdesc\u001b[0m \u001b[0;34m=\u001b[0m \u001b[0mdesc\u001b[0m \u001b[0;34m+\u001b[0m \u001b[0;34m': '\u001b[0m \u001b[0;32mif\u001b[0m \u001b[0mdesc\u001b[0m \u001b[0;32melse\u001b[0m \u001b[0;34m''\u001b[0m\u001b[0;34m\u001b[0m\u001b[0;34m\u001b[0m\u001b[0m\n\u001b[1;32m   1349\u001b[0m         \u001b[0;32mif\u001b[0m \u001b[0mrefresh\u001b[0m\u001b[0;34m:\u001b[0m\u001b[0;34m\u001b[0m\u001b[0;34m\u001b[0m\u001b[0m\n\u001b[0;32m-> 1350\u001b[0;31m             \u001b[0mself\u001b[0m\u001b[0;34m.\u001b[0m\u001b[0mrefresh\u001b[0m\u001b[0;34m(\u001b[0m\u001b[0;34m)\u001b[0m\u001b[0;34m\u001b[0m\u001b[0;34m\u001b[0m\u001b[0m\n\u001b[0m\u001b[1;32m   1351\u001b[0m \u001b[0;34m\u001b[0m\u001b[0m\n\u001b[1;32m   1352\u001b[0m     \u001b[0;32mdef\u001b[0m \u001b[0mset_description_str\u001b[0m\u001b[0;34m(\u001b[0m\u001b[0mself\u001b[0m\u001b[0;34m,\u001b[0m \u001b[0mdesc\u001b[0m\u001b[0;34m=\u001b[0m\u001b[0;32mNone\u001b[0m\u001b[0;34m,\u001b[0m \u001b[0mrefresh\u001b[0m\u001b[0;34m=\u001b[0m\u001b[0;32mTrue\u001b[0m\u001b[0;34m)\u001b[0m\u001b[0;34m:\u001b[0m\u001b[0;34m\u001b[0m\u001b[0;34m\u001b[0m\u001b[0m\n",
            "\u001b[0;32m/usr/local/lib/python3.7/dist-packages/tqdm/std.py\u001b[0m in \u001b[0;36mrefresh\u001b[0;34m(self, nolock, lock_args)\u001b[0m\n\u001b[1;32m   1309\u001b[0m             \u001b[0;32melse\u001b[0m\u001b[0;34m:\u001b[0m\u001b[0;34m\u001b[0m\u001b[0;34m\u001b[0m\u001b[0m\n\u001b[1;32m   1310\u001b[0m                 \u001b[0mself\u001b[0m\u001b[0;34m.\u001b[0m\u001b[0m_lock\u001b[0m\u001b[0;34m.\u001b[0m\u001b[0macquire\u001b[0m\u001b[0;34m(\u001b[0m\u001b[0;34m)\u001b[0m\u001b[0;34m\u001b[0m\u001b[0;34m\u001b[0m\u001b[0m\n\u001b[0;32m-> 1311\u001b[0;31m         \u001b[0mself\u001b[0m\u001b[0;34m.\u001b[0m\u001b[0mdisplay\u001b[0m\u001b[0;34m(\u001b[0m\u001b[0;34m)\u001b[0m\u001b[0;34m\u001b[0m\u001b[0;34m\u001b[0m\u001b[0m\n\u001b[0m\u001b[1;32m   1312\u001b[0m         \u001b[0;32mif\u001b[0m \u001b[0;32mnot\u001b[0m \u001b[0mnolock\u001b[0m\u001b[0;34m:\u001b[0m\u001b[0;34m\u001b[0m\u001b[0;34m\u001b[0m\u001b[0m\n\u001b[1;32m   1313\u001b[0m             \u001b[0mself\u001b[0m\u001b[0;34m.\u001b[0m\u001b[0m_lock\u001b[0m\u001b[0;34m.\u001b[0m\u001b[0mrelease\u001b[0m\u001b[0;34m(\u001b[0m\u001b[0;34m)\u001b[0m\u001b[0;34m\u001b[0m\u001b[0;34m\u001b[0m\u001b[0m\n",
            "\u001b[0;32m/usr/local/lib/python3.7/dist-packages/tqdm/std.py\u001b[0m in \u001b[0;36mdisplay\u001b[0;34m(self, msg, pos)\u001b[0m\n\u001b[1;32m   1433\u001b[0m         \u001b[0;32mif\u001b[0m \u001b[0mpos\u001b[0m\u001b[0;34m:\u001b[0m\u001b[0;34m\u001b[0m\u001b[0;34m\u001b[0m\u001b[0m\n\u001b[1;32m   1434\u001b[0m             \u001b[0mself\u001b[0m\u001b[0;34m.\u001b[0m\u001b[0mmoveto\u001b[0m\u001b[0;34m(\u001b[0m\u001b[0mpos\u001b[0m\u001b[0;34m)\u001b[0m\u001b[0;34m\u001b[0m\u001b[0;34m\u001b[0m\u001b[0m\n\u001b[0;32m-> 1435\u001b[0;31m         \u001b[0mself\u001b[0m\u001b[0;34m.\u001b[0m\u001b[0msp\u001b[0m\u001b[0;34m(\u001b[0m\u001b[0mself\u001b[0m\u001b[0;34m.\u001b[0m\u001b[0m__repr__\u001b[0m\u001b[0;34m(\u001b[0m\u001b[0;34m)\u001b[0m \u001b[0;32mif\u001b[0m \u001b[0mmsg\u001b[0m \u001b[0;32mis\u001b[0m \u001b[0;32mNone\u001b[0m \u001b[0;32melse\u001b[0m \u001b[0mmsg\u001b[0m\u001b[0;34m)\u001b[0m\u001b[0;34m\u001b[0m\u001b[0;34m\u001b[0m\u001b[0m\n\u001b[0m\u001b[1;32m   1436\u001b[0m         \u001b[0;32mif\u001b[0m \u001b[0mpos\u001b[0m\u001b[0;34m:\u001b[0m\u001b[0;34m\u001b[0m\u001b[0;34m\u001b[0m\u001b[0m\n\u001b[1;32m   1437\u001b[0m             \u001b[0mself\u001b[0m\u001b[0;34m.\u001b[0m\u001b[0mmoveto\u001b[0m\u001b[0;34m(\u001b[0m\u001b[0;34m-\u001b[0m\u001b[0mpos\u001b[0m\u001b[0;34m)\u001b[0m\u001b[0;34m\u001b[0m\u001b[0;34m\u001b[0m\u001b[0m\n",
            "\u001b[0;32m/usr/local/lib/python3.7/dist-packages/tqdm/std.py\u001b[0m in \u001b[0;36mprint_status\u001b[0;34m(s)\u001b[0m\n\u001b[1;32m    303\u001b[0m         \u001b[0;32mdef\u001b[0m \u001b[0mprint_status\u001b[0m\u001b[0;34m(\u001b[0m\u001b[0ms\u001b[0m\u001b[0;34m)\u001b[0m\u001b[0;34m:\u001b[0m\u001b[0;34m\u001b[0m\u001b[0;34m\u001b[0m\u001b[0m\n\u001b[1;32m    304\u001b[0m             \u001b[0mlen_s\u001b[0m \u001b[0;34m=\u001b[0m \u001b[0mlen\u001b[0m\u001b[0;34m(\u001b[0m\u001b[0ms\u001b[0m\u001b[0;34m)\u001b[0m\u001b[0;34m\u001b[0m\u001b[0;34m\u001b[0m\u001b[0m\n\u001b[0;32m--> 305\u001b[0;31m             \u001b[0mfp_write\u001b[0m\u001b[0;34m(\u001b[0m\u001b[0;34m'\\r'\u001b[0m \u001b[0;34m+\u001b[0m \u001b[0ms\u001b[0m \u001b[0;34m+\u001b[0m \u001b[0;34m(\u001b[0m\u001b[0;34m' '\u001b[0m \u001b[0;34m*\u001b[0m \u001b[0mmax\u001b[0m\u001b[0;34m(\u001b[0m\u001b[0mlast_len\u001b[0m\u001b[0;34m[\u001b[0m\u001b[0;36m0\u001b[0m\u001b[0;34m]\u001b[0m \u001b[0;34m-\u001b[0m \u001b[0mlen_s\u001b[0m\u001b[0;34m,\u001b[0m \u001b[0;36m0\u001b[0m\u001b[0;34m)\u001b[0m\u001b[0;34m)\u001b[0m\u001b[0;34m)\u001b[0m\u001b[0;34m\u001b[0m\u001b[0;34m\u001b[0m\u001b[0m\n\u001b[0m\u001b[1;32m    306\u001b[0m             \u001b[0mlast_len\u001b[0m\u001b[0;34m[\u001b[0m\u001b[0;36m0\u001b[0m\u001b[0;34m]\u001b[0m \u001b[0;34m=\u001b[0m \u001b[0mlen_s\u001b[0m\u001b[0;34m\u001b[0m\u001b[0;34m\u001b[0m\u001b[0m\n\u001b[1;32m    307\u001b[0m \u001b[0;34m\u001b[0m\u001b[0m\n",
            "\u001b[0;32m/usr/local/lib/python3.7/dist-packages/tqdm/std.py\u001b[0m in \u001b[0;36mfp_write\u001b[0;34m(s)\u001b[0m\n\u001b[1;32m    297\u001b[0m         \u001b[0;32mdef\u001b[0m \u001b[0mfp_write\u001b[0m\u001b[0;34m(\u001b[0m\u001b[0ms\u001b[0m\u001b[0;34m)\u001b[0m\u001b[0;34m:\u001b[0m\u001b[0;34m\u001b[0m\u001b[0;34m\u001b[0m\u001b[0m\n\u001b[1;32m    298\u001b[0m             \u001b[0mfp\u001b[0m\u001b[0;34m.\u001b[0m\u001b[0mwrite\u001b[0m\u001b[0;34m(\u001b[0m\u001b[0m_unicode\u001b[0m\u001b[0;34m(\u001b[0m\u001b[0ms\u001b[0m\u001b[0;34m)\u001b[0m\u001b[0;34m)\u001b[0m\u001b[0;34m\u001b[0m\u001b[0;34m\u001b[0m\u001b[0m\n\u001b[0;32m--> 299\u001b[0;31m             \u001b[0mfp_flush\u001b[0m\u001b[0;34m(\u001b[0m\u001b[0;34m)\u001b[0m\u001b[0;34m\u001b[0m\u001b[0;34m\u001b[0m\u001b[0m\n\u001b[0m\u001b[1;32m    300\u001b[0m \u001b[0;34m\u001b[0m\u001b[0m\n\u001b[1;32m    301\u001b[0m         \u001b[0mlast_len\u001b[0m \u001b[0;34m=\u001b[0m \u001b[0;34m[\u001b[0m\u001b[0;36m0\u001b[0m\u001b[0;34m]\u001b[0m\u001b[0;34m\u001b[0m\u001b[0;34m\u001b[0m\u001b[0m\n",
            "\u001b[0;32m/usr/local/lib/python3.7/dist-packages/ipykernel/iostream.py\u001b[0m in \u001b[0;36mflush\u001b[0;34m(self)\u001b[0m\n\u001b[1;32m    339\u001b[0m         \u001b[0;32mif\u001b[0m \u001b[0mself\u001b[0m\u001b[0;34m.\u001b[0m\u001b[0mpub_thread\u001b[0m\u001b[0;34m.\u001b[0m\u001b[0mthread\u001b[0m\u001b[0;34m.\u001b[0m\u001b[0mis_alive\u001b[0m\u001b[0;34m(\u001b[0m\u001b[0;34m)\u001b[0m\u001b[0;34m:\u001b[0m\u001b[0;34m\u001b[0m\u001b[0;34m\u001b[0m\u001b[0m\n\u001b[1;32m    340\u001b[0m             \u001b[0;31m# request flush on the background thread\u001b[0m\u001b[0;34m\u001b[0m\u001b[0;34m\u001b[0m\u001b[0;34m\u001b[0m\u001b[0m\n\u001b[0;32m--> 341\u001b[0;31m             \u001b[0mself\u001b[0m\u001b[0;34m.\u001b[0m\u001b[0mpub_thread\u001b[0m\u001b[0;34m.\u001b[0m\u001b[0mschedule\u001b[0m\u001b[0;34m(\u001b[0m\u001b[0mself\u001b[0m\u001b[0;34m.\u001b[0m\u001b[0m_flush\u001b[0m\u001b[0;34m)\u001b[0m\u001b[0;34m\u001b[0m\u001b[0;34m\u001b[0m\u001b[0m\n\u001b[0m\u001b[1;32m    342\u001b[0m             \u001b[0;31m# wait for flush to actually get through, if we can.\u001b[0m\u001b[0;34m\u001b[0m\u001b[0;34m\u001b[0m\u001b[0;34m\u001b[0m\u001b[0m\n\u001b[1;32m    343\u001b[0m             \u001b[0;31m# waiting across threads during import can cause deadlocks\u001b[0m\u001b[0;34m\u001b[0m\u001b[0;34m\u001b[0m\u001b[0;34m\u001b[0m\u001b[0m\n",
            "\u001b[0;32m/usr/local/lib/python3.7/dist-packages/ipykernel/iostream.py\u001b[0m in \u001b[0;36mschedule\u001b[0;34m(self, f)\u001b[0m\n\u001b[1;32m    201\u001b[0m             \u001b[0mself\u001b[0m\u001b[0;34m.\u001b[0m\u001b[0m_events\u001b[0m\u001b[0;34m.\u001b[0m\u001b[0mappend\u001b[0m\u001b[0;34m(\u001b[0m\u001b[0mf\u001b[0m\u001b[0;34m)\u001b[0m\u001b[0;34m\u001b[0m\u001b[0;34m\u001b[0m\u001b[0m\n\u001b[1;32m    202\u001b[0m             \u001b[0;31m# wake event thread (message content is ignored)\u001b[0m\u001b[0;34m\u001b[0m\u001b[0;34m\u001b[0m\u001b[0;34m\u001b[0m\u001b[0m\n\u001b[0;32m--> 203\u001b[0;31m             \u001b[0mself\u001b[0m\u001b[0;34m.\u001b[0m\u001b[0m_event_pipe\u001b[0m\u001b[0;34m.\u001b[0m\u001b[0msend\u001b[0m\u001b[0;34m(\u001b[0m\u001b[0;34mb''\u001b[0m\u001b[0;34m)\u001b[0m\u001b[0;34m\u001b[0m\u001b[0;34m\u001b[0m\u001b[0m\n\u001b[0m\u001b[1;32m    204\u001b[0m         \u001b[0;32melse\u001b[0m\u001b[0;34m:\u001b[0m\u001b[0;34m\u001b[0m\u001b[0;34m\u001b[0m\u001b[0m\n\u001b[1;32m    205\u001b[0m             \u001b[0mf\u001b[0m\u001b[0;34m(\u001b[0m\u001b[0;34m)\u001b[0m\u001b[0;34m\u001b[0m\u001b[0;34m\u001b[0m\u001b[0m\n",
            "\u001b[0;32m/usr/local/lib/python3.7/dist-packages/zmq/sugar/socket.py\u001b[0m in \u001b[0;36msend\u001b[0;34m(self, data, flags, copy, track, routing_id, group)\u001b[0m\n\u001b[1;32m    503\u001b[0m                 )\n\u001b[1;32m    504\u001b[0m             \u001b[0mdata\u001b[0m\u001b[0;34m.\u001b[0m\u001b[0mgroup\u001b[0m \u001b[0;34m=\u001b[0m \u001b[0mgroup\u001b[0m\u001b[0;34m\u001b[0m\u001b[0;34m\u001b[0m\u001b[0m\n\u001b[0;32m--> 505\u001b[0;31m         \u001b[0;32mreturn\u001b[0m \u001b[0msuper\u001b[0m\u001b[0;34m(\u001b[0m\u001b[0mSocket\u001b[0m\u001b[0;34m,\u001b[0m \u001b[0mself\u001b[0m\u001b[0;34m)\u001b[0m\u001b[0;34m.\u001b[0m\u001b[0msend\u001b[0m\u001b[0;34m(\u001b[0m\u001b[0mdata\u001b[0m\u001b[0;34m,\u001b[0m \u001b[0mflags\u001b[0m\u001b[0;34m=\u001b[0m\u001b[0mflags\u001b[0m\u001b[0;34m,\u001b[0m \u001b[0mcopy\u001b[0m\u001b[0;34m=\u001b[0m\u001b[0mcopy\u001b[0m\u001b[0;34m,\u001b[0m \u001b[0mtrack\u001b[0m\u001b[0;34m=\u001b[0m\u001b[0mtrack\u001b[0m\u001b[0;34m)\u001b[0m\u001b[0;34m\u001b[0m\u001b[0;34m\u001b[0m\u001b[0m\n\u001b[0m\u001b[1;32m    506\u001b[0m \u001b[0;34m\u001b[0m\u001b[0m\n\u001b[1;32m    507\u001b[0m     \u001b[0;32mdef\u001b[0m \u001b[0msend_multipart\u001b[0m\u001b[0;34m(\u001b[0m\u001b[0mself\u001b[0m\u001b[0;34m,\u001b[0m \u001b[0mmsg_parts\u001b[0m\u001b[0;34m,\u001b[0m \u001b[0mflags\u001b[0m\u001b[0;34m=\u001b[0m\u001b[0;36m0\u001b[0m\u001b[0;34m,\u001b[0m \u001b[0mcopy\u001b[0m\u001b[0;34m=\u001b[0m\u001b[0;32mTrue\u001b[0m\u001b[0;34m,\u001b[0m \u001b[0mtrack\u001b[0m\u001b[0;34m=\u001b[0m\u001b[0;32mFalse\u001b[0m\u001b[0;34m,\u001b[0m \u001b[0;34m**\u001b[0m\u001b[0mkwargs\u001b[0m\u001b[0;34m)\u001b[0m\u001b[0;34m:\u001b[0m\u001b[0;34m\u001b[0m\u001b[0;34m\u001b[0m\u001b[0m\n",
            "\u001b[0;32mzmq/backend/cython/socket.pyx\u001b[0m in \u001b[0;36mzmq.backend.cython.socket.Socket.send\u001b[0;34m()\u001b[0m\n",
            "\u001b[0;32mzmq/backend/cython/socket.pyx\u001b[0m in \u001b[0;36mzmq.backend.cython.socket.Socket.send\u001b[0;34m()\u001b[0m\n",
            "\u001b[0;32mzmq/backend/cython/socket.pyx\u001b[0m in \u001b[0;36mzmq.backend.cython.socket._send_copy\u001b[0;34m()\u001b[0m\n",
            "\u001b[0;32m/usr/local/lib/python3.7/dist-packages/zmq/backend/cython/checkrc.pxd\u001b[0m in \u001b[0;36mzmq.backend.cython.checkrc._check_rc\u001b[0;34m()\u001b[0m\n",
            "\u001b[0;31mKeyboardInterrupt\u001b[0m: "
          ]
        }
      ]
    },
    {
      "cell_type": "code",
      "metadata": {
        "id": "butA_AQDiAqJ"
      },
      "source": [
        ""
      ],
      "execution_count": null,
      "outputs": []
    }
  ]
}