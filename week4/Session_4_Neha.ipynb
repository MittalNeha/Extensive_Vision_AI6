{
  "nbformat": 4,
  "nbformat_minor": 0,
  "metadata": {
    "colab": {
      "name": "Session 4_Neha.ipynb",
      "provenance": [],
      "include_colab_link": true
    },
    "kernelspec": {
      "name": "python3",
      "display_name": "Python 3"
    },
    "accelerator": "GPU"
  },
  "cells": [
    {
      "cell_type": "markdown",
      "metadata": {
        "id": "view-in-github",
        "colab_type": "text"
      },
      "source": [
        "<a href=\"https://colab.research.google.com/github/MittalNeha/Extensive_Vision_AI6/blob/main/week4/Session_4_Neha.ipynb\" target=\"_parent\"><img src=\"https://colab.research.google.com/assets/colab-badge.svg\" alt=\"Open In Colab\"/></a>"
      ]
    },
    {
      "cell_type": "code",
      "metadata": {
        "id": "0m2JWFliFfKT"
      },
      "source": [
        "from __future__ import print_function\n",
        "import torch\n",
        "import torch.nn as nn\n",
        "import torch.nn.functional as F\n",
        "import torch.optim as optim\n",
        "from torchvision import datasets, transforms"
      ],
      "execution_count": 1,
      "outputs": []
    },
    {
      "cell_type": "code",
      "metadata": {
        "colab": {
          "base_uri": "https://localhost:8080/"
        },
        "id": "NYx7V_QAsfDP",
        "outputId": "75c8ea67-5551-4dd2-bb5d-9fcb499c56f6"
      },
      "source": [
        "!pip install hiddenlayer\n",
        "import hiddenlayer as hl"
      ],
      "execution_count": 2,
      "outputs": [
        {
          "output_type": "stream",
          "text": [
            "Collecting hiddenlayer\n",
            "  Downloading https://files.pythonhosted.org/packages/64/f8/ea51d02695a4dc397f3b2487fae462cd3f2ce707c54250e0fdfaec2ff92e/hiddenlayer-0.3-py3-none-any.whl\n",
            "Installing collected packages: hiddenlayer\n",
            "Successfully installed hiddenlayer-0.3\n"
          ],
          "name": "stdout"
        }
      ]
    },
    {
      "cell_type": "code",
      "metadata": {
        "id": "h_Cx9q2QFgM7"
      },
      "source": [
        "class Net(nn.Module):\n",
        "    def __init__(self):\n",
        "        super(Net, self).__init__()\n",
        "        self.conv1 = nn.Conv2d(1, 32, 3, padding=1) #input -? OUtput? RF\n",
        "        self.conv2 = nn.Conv2d(32, 64, 3, padding=1)\n",
        "        self.pool1 = nn.MaxPool2d(2, 2)\n",
        "        self.conv3 = nn.Conv2d(64, 128, 3, padding=1) #14\n",
        "        self.conv4 = nn.Conv2d(128, 256, 3, padding=1)\n",
        "        self.pool2 = nn.MaxPool2d(2, 2)\n",
        "        self.conv5 = nn.Conv2d(256, 512, 3, padding=1)#7x7\n",
        "        self.conv6 = nn.Conv2d(512, 1024, 3, padding=1)#7x7 \n",
        "        self.pool3 = nn.MaxPool2d(2, 2)\n",
        "        self.conv7 = nn.Conv2d(1024, 32, 1)#5x5\n",
        "        self.conv8 = nn.Conv2d(32, 10, 3, padding=1)#5x5 \n",
        "        self.gap  = nn.AvgPool2d(3)\n",
        "        self.fc1  = nn.Linear(512, 10)\n",
        "        # self.conv6 = nn.Conv2d(512, 1024, 3)\n",
        "        # self.conv7 = nn.Conv2d(1024, 10, 3)\n",
        "\n",
        "    def forward(self, x):\n",
        "        x = self.pool1(F.relu(self.conv2(F.relu(self.conv1(x)))))\n",
        "        x = self.pool2(F.relu(self.conv4(F.relu(self.conv3(x)))))\n",
        "        x = self.pool3(F.relu(self.conv6(F.relu(self.conv5(x)))))\n",
        "        x = (F.relu(self.conv8(F.relu(self.conv7(x)))))\n",
        "        x = self.gap(x)\n",
        "        \n",
        "        # x = (self.conv7(x))\n",
        "        # x = x.view(-1, 10)\n",
        "        # x = self.fc1(x)\n",
        "        return F.log_softmax(x)"
      ],
      "execution_count": 3,
      "outputs": []
    },
    {
      "cell_type": "markdown",
      "metadata": {
        "id": "07dPrJbdumbg"
      },
      "source": [
        "# New Section"
      ]
    },
    {
      "cell_type": "code",
      "metadata": {
        "id": "xdydjYTZFyi3",
        "colab": {
          "base_uri": "https://localhost:8080/"
        },
        "outputId": "b27be138-6da8-4131-9fdc-a66f596a6c42"
      },
      "source": [
        "!pip install torchsummary\n",
        "from torchsummary import summary\n",
        "use_cuda = torch.cuda.is_available()\n",
        "device = torch.device(\"cuda\" if use_cuda else \"cpu\")\n",
        "model = Net().to(device)\n",
        "summary(model, input_size=(1, 28, 28))"
      ],
      "execution_count": 4,
      "outputs": [
        {
          "output_type": "stream",
          "text": [
            "Requirement already satisfied: torchsummary in /usr/local/lib/python3.7/dist-packages (1.5.1)\n",
            "----------------------------------------------------------------\n",
            "        Layer (type)               Output Shape         Param #\n",
            "================================================================\n",
            "            Conv2d-1           [-1, 32, 28, 28]             320\n",
            "            Conv2d-2           [-1, 64, 28, 28]          18,496\n",
            "         MaxPool2d-3           [-1, 64, 14, 14]               0\n",
            "            Conv2d-4          [-1, 128, 14, 14]          73,856\n",
            "            Conv2d-5          [-1, 256, 14, 14]         295,168\n",
            "         MaxPool2d-6            [-1, 256, 7, 7]               0\n",
            "            Conv2d-7            [-1, 512, 7, 7]       1,180,160\n",
            "            Conv2d-8           [-1, 1024, 7, 7]       4,719,616\n",
            "         MaxPool2d-9           [-1, 1024, 3, 3]               0\n",
            "           Conv2d-10             [-1, 32, 3, 3]          32,800\n",
            "           Conv2d-11             [-1, 10, 3, 3]           2,890\n",
            "        AvgPool2d-12             [-1, 10, 1, 1]               0\n",
            "================================================================\n",
            "Total params: 6,323,306\n",
            "Trainable params: 6,323,306\n",
            "Non-trainable params: 0\n",
            "----------------------------------------------------------------\n",
            "Input size (MB): 0.00\n",
            "Forward/backward pass size (MB): 1.99\n",
            "Params size (MB): 24.12\n",
            "Estimated Total Size (MB): 26.11\n",
            "----------------------------------------------------------------\n"
          ],
          "name": "stdout"
        },
        {
          "output_type": "stream",
          "text": [
            "/usr/local/lib/python3.7/dist-packages/ipykernel_launcher.py:30: UserWarning: Implicit dimension choice for log_softmax has been deprecated. Change the call to include dim=X as an argument.\n"
          ],
          "name": "stderr"
        }
      ]
    },
    {
      "cell_type": "code",
      "metadata": {
        "id": "DqTWLaM5GHgH"
      },
      "source": [
        "\n",
        "\n",
        "torch.manual_seed(1)\n",
        "# batch_size = 128\n",
        "batch_size = 64\n",
        "\n",
        "kwargs = {'num_workers': 1, 'pin_memory': True} if use_cuda else {}\n",
        "train_loader = torch.utils.data.DataLoader(\n",
        "    datasets.MNIST('../data', train=True, download=True,\n",
        "                    transform=transforms.Compose([\n",
        "                        transforms.ToTensor(),\n",
        "                        transforms.Normalize((0.1307,), (0.3081,))\n",
        "                    ])),\n",
        "    batch_size=batch_size, shuffle=True, **kwargs)\n",
        "test_loader = torch.utils.data.DataLoader(\n",
        "    datasets.MNIST('../data', train=False, transform=transforms.Compose([\n",
        "                        transforms.ToTensor(),\n",
        "                        transforms.Normalize((0.1307,), (0.3081,))\n",
        "                    ])),\n",
        "    batch_size=batch_size, shuffle=True, **kwargs)\n"
      ],
      "execution_count": 37,
      "outputs": []
    },
    {
      "cell_type": "code",
      "metadata": {
        "id": "8fDefDhaFlwH"
      },
      "source": [
        "from tqdm import tqdm\n",
        "def train(model, device, train_loader, optimizer, epoch):\n",
        "    model.train()\n",
        "    # pbar = tqdm(train_loader)\n",
        "    train_loss = 0\n",
        "    correct = 0\n",
        "    # for batch_idx, (data, target) in enumerate(pbar):\n",
        "    for batch_idx, (data, target) in enumerate(train_loader):\n",
        "        data, target = data.to(device), target.to(device)\n",
        "        optimizer.zero_grad()\n",
        "        output = model(data)\n",
        "        loss = F.nll_loss(output, target)\n",
        "        loss.backward()\n",
        "        optimizer.step()\n",
        "        # pbar.set_description(desc= f'loss={loss.item()} batch_id={batch_idx}')\n",
        "\n",
        "        train_loss += loss\n",
        "        pred = output.argmax(dim=1, keepdim=True)  # get the index of the max log-probability\n",
        "        correct += pred.eq(target.view_as(pred)).sum().item()\n",
        "\n",
        "    train_loss /= len(train_loader.dataset)\n",
        "    hist_train_loss.append(train_loss)\n",
        "    hist_train_acc.append(100. * correct / len(train_loader.dataset))\n",
        "\n",
        "\n",
        "\n",
        "def test(model, device, test_loader):\n",
        "    model.eval()\n",
        "    test_loss = 0\n",
        "    correct = 0\n",
        "    with torch.no_grad():\n",
        "        for data, target in test_loader:\n",
        "            data, target = data.to(device), target.to(device)\n",
        "            output = model(data)\n",
        "            test_loss += F.nll_loss(output, target, reduction='sum').item()  # sum up batch loss\n",
        "            pred = output.argmax(dim=1, keepdim=True)  # get the index of the max log-probability\n",
        "            correct += pred.eq(target.view_as(pred)).sum().item()\n",
        "\n",
        "    test_loss /= len(test_loader.dataset)\n",
        "    hist_test_loss.append(test_loss)\n",
        "    hist_test_acc.append(100. * correct / len(test_loader.dataset))\n",
        "\n",
        "    print('\\nTest set: Average loss: {:.4f}, Accuracy: {}/{} ({:.3f}%)\\n'.format(\n",
        "        test_loss, correct, len(test_loader.dataset),\n",
        "        100. * correct / len(test_loader.dataset)))"
      ],
      "execution_count": 6,
      "outputs": []
    },
    {
      "cell_type": "code",
      "metadata": {
        "id": "MMWbLWO6FuHb"
      },
      "source": [
        "\n",
        "# model = Net().to(device)\n",
        "# optimizer = optim.SGD(model.parameters(), lr=0.01, momentum=0.9)\n",
        "\n",
        "# for epoch in range(1, 5):\n",
        "#     train(model, device, train_loader, optimizer, epoch)\n",
        "#     test(model, device, test_loader)"
      ],
      "execution_count": 7,
      "outputs": []
    },
    {
      "cell_type": "markdown",
      "metadata": {
        "id": "BdJEDmlssiC1"
      },
      "source": [
        "Draw the network"
      ]
    },
    {
      "cell_type": "code",
      "metadata": {
        "id": "So5uk4EkHW6R"
      },
      "source": [
        "def draw_network(model):\n",
        "  model = model.to(\"cpu\")\n",
        "  hl_graph = hl.build_graph(model, torch.zeros([1, 1, 28, 28]))\n",
        "  # Use a different color theme\n",
        "  hl_graph.theme = hl.graph.THEMES[\"blue\"].copy()\n",
        "  return hl_graph"
      ],
      "execution_count": 8,
      "outputs": []
    },
    {
      "cell_type": "markdown",
      "metadata": {
        "id": "kgekcvNGcKZl"
      },
      "source": [
        "## Net 7\n",
        "12->24->MP->12->24->24->MP->12->24->24->GAP->Dense->10"
      ]
    },
    {
      "cell_type": "code",
      "metadata": {
        "id": "vqzQ_2KOq2eE"
      },
      "source": [
        "drop_out_val = 0.1\n",
        "class Net7(nn.Module):\n",
        "    def __init__(self):\n",
        "        super().__init__()                     #Input - Output - RF\n",
        "        self.conv1 = nn.Conv2d(1, 12, 3, padding=1)      #28 - 28 - 3x3\n",
        "        self.bn1 = nn.BatchNorm2d(12)\n",
        "        self.do1 = nn.Dropout2d(drop_out_val)\n",
        "        \n",
        "        self.conv2 = nn.Conv2d(12, 24, 3, padding=1)      #28 - 26 - 5x5\n",
        "        self.bn2 = nn.BatchNorm2d(24)\n",
        "        self.do2 = nn.Dropout2d(drop_out_val)\n",
        "        \n",
        "        # self.conv2_1 = nn.Conv2d(24,24, 3, padding=1)             #26 - 24 - 7x7\n",
        "        # self.conv2_2 = nn.Conv2d(36, 24, 1)             #24 - 24 - 7x7\n",
        "        self.pool1 = nn.MaxPool2d(2, 2)                 #28 - 14 - 14x14\n",
        "\n",
        "        self.conv3 = nn.Conv2d(24, 12, 1)               #12 - 10 - 12x12\n",
        "        self.bn3 = nn.BatchNorm2d(12)\n",
        "        self.do3 = nn.Dropout2d(drop_out_val)\n",
        "\n",
        "        self.conv4 = nn.Conv2d(12, 24, 3, padding = 1)              #10 - 8 - 14x14\n",
        "        self.bn4 = nn.BatchNorm2d(24)\n",
        "        self.do4 = nn.Dropout2d(drop_out_val)\n",
        "\n",
        "        self.conv4_1 = nn.Conv2d(24, 24, 3, padding = 1)           #8 - 8 - 14x14\n",
        "        self.bn4_1 = nn.BatchNorm2d(24)\n",
        "        self.do4_1 = nn.Dropout2d(drop_out_val)\n",
        "\n",
        "        self.pool2 = nn.MaxPool2d(2, 2)                 #8 -  4 - 28x28\n",
        "\n",
        "        self.conv5 = nn.Conv2d(24, 12, 1)             #4  -  2 - 30x30\n",
        "        self.bn5 = nn.BatchNorm2d(12)\n",
        "        self.do5 = nn.Dropout2d(drop_out_val)\n",
        "\n",
        "        self.conv6 = nn.Conv2d(12, 24, 3, padding = 1)            #3 -   1 - 32x32\n",
        "        self.bn6 = nn.BatchNorm2d(24)\n",
        "        self.do6 = nn.Dropout2d(drop_out_val)\n",
        "\n",
        "        self.conv6_1 = nn.Conv2d(24, 24, 3)            #3 -   1 - 32x32\n",
        "        # self.bn6_1 = nn.BatchNorm2d(24)\n",
        "        # self.do6_1 = nn.Dropout2d(drop_out_val)\n",
        "\n",
        "        self.gap = nn.AvgPool2d(5)\n",
        "        self.linear1 = nn.Linear(24, 10)\n",
        "\n",
        "    def forward(self, x):\n",
        "        #self is containing all variables, compulsory to pass\n",
        "        #x is input image\n",
        "        # CONV/FC -> BatchNorm -> ReLu(or other activation) -> Dropout \n",
        "        x = self.pool1(self.do2(F.relu(self.bn2(self.conv2(self.do1(F.relu( self.bn1(self.conv1(x)))))))))   #conv1 -> ReLU -> conv2 -> ReLU -> max pool\n",
        "        x = self.pool2(self.do4_1(F.relu( self.bn4_1(self.conv4_1(self.do4(F.relu( self.bn4(self.conv4(self.do3(F.relu( self.bn3(self.conv3(x)))))))))))))   #conv3 -> ReLU -> conv4 -> ReLU -> max pool\n",
        "        x =            F.relu( self.conv6_1(self.do6(F.relu( self.bn6(self.conv6(self.do5(F.relu( self.bn5(self.conv5(x))))))))))               #conv5 -> ReLU -> conv6 -> ReLU\n",
        "        \n",
        "\n",
        "        # x = self.pool1(F.relu( self.do2(self.bn2(self.conv2(F.relu( self.do1(self.bn1(self.conv1(x)))))))))   #conv1 -> ReLU -> conv2 -> ReLU -> max pool\n",
        "        # x = self.pool2(F.relu( self.do4_1(self.bn4_1(self.conv4_1(F.relu( self.do4(self.bn4(self.conv4(F.relu( self.do3(self.bn3(self.conv3(x)))))))))))))   #conv3 -> ReLU -> conv4 -> ReLU -> max pool\n",
        "        # # x = self.pool2(F.relu(self.conv4_1(F.relu(self.conv4(F.relu(self.conv3(x)))))))   #conv3 -> ReLU -> conv4 -> ReLU -> max pool\n",
        "        # # x =            F.relu( self.do6_1(self.bn6_1(self.conv6_1(F.relu( self.do6(self.bn6(self.conv6(F.relu( self.do5(self.bn5(self.conv5(x))))))))))))               #conv5 -> ReLU -> conv6 -> ReLU\n",
        "        # x =            F.relu(self.conv6_1(F.relu( self.do6(self.bn6(self.conv6(F.relu( self.do5(self.bn5(self.conv5(x))))))))))              #conv5 -> ReLU -> conv6 -> ReLU\n",
        "        # #x = F.relu(self.conv7(x))                                  #Dont need to perform ReLU on last layer as its output would be subject to softmax, cannot apply non-linearity twice.\n",
        "        #x = (self.conv7(x))                                         #conv7 -> output\n",
        "        x = self.gap(x)\n",
        "        x = x.view(-1, 24)\n",
        "        x = self.linear1(x)\n",
        "        return F.log_softmax(x)       #log of softmax\n",
        "\n",
        "model = Net7().to(device)"
      ],
      "execution_count": 44,
      "outputs": []
    },
    {
      "cell_type": "markdown",
      "metadata": {
        "id": "kkmJ-KIfcjNY"
      },
      "source": [
        "## Net 8\n",
        "12->24->MP->12->24->24->MP->12->24->36->GAP->Dense->10"
      ]
    },
    {
      "cell_type": "code",
      "metadata": {
        "id": "K2TJQ17VcFZX"
      },
      "source": [
        "drop_out_val = 0.2\n",
        "class Net8(nn.Module):\n",
        "    def __init__(self):\n",
        "        super().__init__()                     #Input - Output - RF\n",
        "        self.conv1 = nn.Conv2d(1, 12, 3, padding=1)      #28 - 28 - 3x3\n",
        "        self.bn1 = nn.BatchNorm2d(12)\n",
        "        self.do1 = nn.Dropout2d(drop_out_val)\n",
        "        \n",
        "        self.conv2 = nn.Conv2d(12, 24, 3, padding=1)      #28 - 26 - 5x5\n",
        "        self.bn2 = nn.BatchNorm2d(24)\n",
        "        self.do2 = nn.Dropout2d(drop_out_val)\n",
        "        \n",
        "        # self.conv2_1 = nn.Conv2d(24,24, 3, padding=1)             #26 - 24 - 7x7\n",
        "        # self.conv2_2 = nn.Conv2d(36, 24, 1)             #24 - 24 - 7x7\n",
        "        self.pool1 = nn.MaxPool2d(2, 2)                 #28 - 14 - 14x14\n",
        "\n",
        "        self.conv3 = nn.Conv2d(24, 12, 1)               #12 - 10 - 12x12\n",
        "        self.bn3 = nn.BatchNorm2d(12)\n",
        "        self.do3 = nn.Dropout2d(drop_out_val)\n",
        "\n",
        "        self.conv4 = nn.Conv2d(12, 24, 3, padding = 1)              #10 - 8 - 14x14\n",
        "        self.bn4 = nn.BatchNorm2d(24)\n",
        "        self.do4 = nn.Dropout2d(drop_out_val)\n",
        "\n",
        "        self.conv4_1 = nn.Conv2d(24, 24, 3, padding = 1)           #8 - 8 - 14x14\n",
        "        self.bn4_1 = nn.BatchNorm2d(24)\n",
        "        self.do4_1 = nn.Dropout2d(drop_out_val)\n",
        "\n",
        "        self.pool2 = nn.MaxPool2d(2, 2)                 #8 -  4 - 28x28\n",
        "        self.conv5 = nn.Conv2d(24, 12, 1)             #4  -  2 - 30x30\n",
        "        self.bn5 = nn.BatchNorm2d(12)\n",
        "        self.do5 = nn.Dropout2d(drop_out_val)\n",
        "\n",
        "        self.conv6 = nn.Conv2d(12, 24, 3, padding = 1)            #3 -   1 - 32x32\n",
        "        self.bn6 = nn.BatchNorm2d(24)\n",
        "        self.do6 = nn.Dropout2d(drop_out_val)\n",
        "\n",
        "        self.conv6_1 = nn.Conv2d(24, 36, 3, padding = 1)            #3 -   1 - 32x32\n",
        "        self.bn6_1 = nn.BatchNorm2d(36)\n",
        "        self.do6_1 = nn.Dropout2d(drop_out_val)\n",
        "\n",
        "        #self.conv7 = nn.Conv2d(128, 10, 3)             #3 -   1 - 34x34\n",
        "        self.gap = nn.AvgPool2d(7)\n",
        "        self.linear1 = nn.Linear(24, 10)\n",
        "\n",
        "    def forward(self, x):\n",
        "        #self is containing all variables, compulsory to pass\n",
        "        #x is input image\n",
        "        # CONV/FC -> BatchNorm -> ReLu(or other activation) -> Dropout \n",
        "        x = self.pool1(self.do2(F.relu(self.bn2(self.conv2(self.do1(F.relu( self.bn1(self.conv1(x)))))))))   #conv1 -> ReLU -> conv2 -> ReLU -> max pool\n",
        "        x = self.pool2(self.do4_1(F.relu( self.bn4_1(self.conv4_1(self.do4(F.relu( self.bn4(self.conv4(self.do3(F.relu( self.bn3(self.conv3(x)))))))))))))   #conv3 -> ReLU -> conv4 -> ReLU -> max pool\n",
        "        x =            self.do6_1(F.relu( self.bn6_1(self.conv6_1(self.do6(F.relu( self.bn6(self.conv6(self.do5(F.relu( self.bn5(self.conv5(x))))))))))))               #conv5 -> ReLU -> conv6 -> ReLU\n",
        "        \n",
        "        #conv->BN->dropout->relu\n",
        "        # x = self.pool1(F.relu( self.do2(self.bn2(self.conv2(F.relu( self.do1(self.bn1(self.conv1(x)))))))))   #conv1 -> ReLU -> conv2 -> ReLU -> max pool\n",
        "        # x = self.pool2(F.relu( self.do4_1(self.bn4_1(self.conv4_1(F.relu( self.do4(self.bn4(self.conv4(F.relu( self.do3(self.bn3(self.conv3(x)))))))))))))   #conv3 -> ReLU -> conv4 -> ReLU -> max pool\n",
        "        # x =            F.relu( self.do6_1(self.bn6_1(self.conv6_1(F.relu( self.do6(self.bn6(self.conv6(F.relu( self.do5(self.bn5(self.conv5(x))))))))))))               #conv5 -> ReLU -> conv6 -> ReLU\n",
        "        \n",
        "        x = self.gap(x)\n",
        "        x = x.view(-1, 24)\n",
        "        x = self.linear1(x)\n",
        "        # x = self.pool2(F.relu(self.conv4_1(F.relu(self.conv4(F.relu(self.conv3(x)))))))   #conv3 -> ReLU -> conv4 -> ReLU -> max pool\n",
        "        #x = F.relu(self.conv7(x))                                  #Dont need to perform ReLU on last layer as its output would be subject to softmax, cannot apply non-linearity twice.\n",
        "        #x = (self.conv7(x))                                         #conv7 -> output\n",
        "        \n",
        "        return F.log_softmax(x)       #log of softmax\n",
        "\n",
        "model = Net8().to(device)"
      ],
      "execution_count": 43,
      "outputs": []
    },
    {
      "cell_type": "markdown",
      "metadata": {
        "id": "tipoJwuMzWJt"
      },
      "source": [
        "##Net 9\n",
        "12->36->MP->12->24->24->MP->12->24->24->GAP->Dense->10"
      ]
    },
    {
      "cell_type": "code",
      "metadata": {
        "id": "FIP1aEjNzYja"
      },
      "source": [
        "drop_out_val = 0.1\n",
        "class Net7(nn.Module):\n",
        "    def __init__(self):\n",
        "        super().__init__()                     #Input - Output - RF\n",
        "        self.conv1 = nn.Conv2d(1, 12, 3, padding=1)      #28 - 28 - 3x3\n",
        "        self.bn1 = nn.BatchNorm2d(12)\n",
        "        self.do1 = nn.Dropout2d(drop_out_val)\n",
        "        \n",
        "        self.conv2 = nn.Conv2d(12, 36, 3, padding=1)      #28 - 26 - 5x5\n",
        "        self.bn2 = nn.BatchNorm2d(36)\n",
        "        self.do2 = nn.Dropout2d(drop_out_val)\n",
        "        \n",
        "        # self.conv2_1 = nn.Conv2d(24,24, 3, padding=1)             #26 - 24 - 7x7\n",
        "        # self.conv2_2 = nn.Conv2d(36, 24, 1)             #24 - 24 - 7x7\n",
        "        self.pool1 = nn.MaxPool2d(2, 2)                 #28 - 14 - 14x14\n",
        "\n",
        "        self.conv3 = nn.Conv2d(36, 12, 1)               #12 - 10 - 12x12\n",
        "        self.bn3 = nn.BatchNorm2d(12)\n",
        "        self.do3 = nn.Dropout2d(drop_out_val)\n",
        "\n",
        "        self.conv4 = nn.Conv2d(12, 24, 3, padding = 1)              #10 - 8 - 14x14\n",
        "        self.bn4 = nn.BatchNorm2d(24)\n",
        "        self.do4 = nn.Dropout2d(drop_out_val)\n",
        "\n",
        "        self.conv4_1 = nn.Conv2d(24, 24, 3, padding = 1)           #8 - 8 - 14x14\n",
        "        self.bn4_1 = nn.BatchNorm2d(24)\n",
        "        self.do4_1 = nn.Dropout2d(drop_out_val)\n",
        "\n",
        "        self.pool2 = nn.MaxPool2d(2, 2)                 #8 -  4 - 28x28\n",
        "\n",
        "        self.conv5 = nn.Conv2d(24, 12, 1)             #4  -  2 - 30x30\n",
        "        self.bn5 = nn.BatchNorm2d(12)\n",
        "        self.do5 = nn.Dropout2d(drop_out_val)\n",
        "\n",
        "        self.conv6 = nn.Conv2d(12, 24, 3, padding = 1)            #3 -   1 - 32x32\n",
        "        self.bn6 = nn.BatchNorm2d(24)\n",
        "        self.do6 = nn.Dropout2d(drop_out_val)\n",
        "\n",
        "        self.conv6_1 = nn.Conv2d(24, 24, 3)            #3 -   1 - 32x32\n",
        "        # self.bn6_1 = nn.BatchNorm2d(24)\n",
        "        # self.do6_1 = nn.Dropout2d(drop_out_val)\n",
        "\n",
        "        self.gap = nn.AvgPool2d(5)\n",
        "        self.linear1 = nn.Linear(24, 10)\n",
        "\n",
        "    def forward(self, x):\n",
        "        #self is containing all variables, compulsory to pass\n",
        "        #x is input image\n",
        "        # CONV/FC -> BatchNorm -> ReLu(or other activation) -> Dropout \n",
        "        x = self.pool1(self.do2(F.relu(self.bn2(self.conv2(self.do1(F.relu( self.bn1(self.conv1(x)))))))))   #conv1 -> ReLU -> conv2 -> ReLU -> max pool\n",
        "        x = self.pool2(self.do4_1(F.relu( self.bn4_1(self.conv4_1(self.do4(F.relu( self.bn4(self.conv4(self.do3(F.relu( self.bn3(self.conv3(x)))))))))))))   #conv3 -> ReLU -> conv4 -> ReLU -> max pool\n",
        "        x =            F.relu( self.conv6_1(self.do6(F.relu( self.bn6(self.conv6(self.do5(F.relu( self.bn5(self.conv5(x))))))))))               #conv5 -> ReLU -> conv6 -> ReLU\n",
        "        \n",
        "\n",
        "        # x = self.pool1(F.relu( self.do2(self.bn2(self.conv2(F.relu( self.do1(self.bn1(self.conv1(x)))))))))   #conv1 -> ReLU -> conv2 -> ReLU -> max pool\n",
        "        # x = self.pool2(F.relu( self.do4_1(self.bn4_1(self.conv4_1(F.relu( self.do4(self.bn4(self.conv4(F.relu( self.do3(self.bn3(self.conv3(x)))))))))))))   #conv3 -> ReLU -> conv4 -> ReLU -> max pool\n",
        "        # # x = self.pool2(F.relu(self.conv4_1(F.relu(self.conv4(F.relu(self.conv3(x)))))))   #conv3 -> ReLU -> conv4 -> ReLU -> max pool\n",
        "        # # x =            F.relu( self.do6_1(self.bn6_1(self.conv6_1(F.relu( self.do6(self.bn6(self.conv6(F.relu( self.do5(self.bn5(self.conv5(x))))))))))))               #conv5 -> ReLU -> conv6 -> ReLU\n",
        "        # x =            F.relu(self.conv6_1(F.relu( self.do6(self.bn6(self.conv6(F.relu( self.do5(self.bn5(self.conv5(x))))))))))              #conv5 -> ReLU -> conv6 -> ReLU\n",
        "        # #x = F.relu(self.conv7(x))                                  #Dont need to perform ReLU on last layer as its output would be subject to softmax, cannot apply non-linearity twice.\n",
        "        #x = (self.conv7(x))                                         #conv7 -> output\n",
        "        x = self.gap(x)\n",
        "        x = x.view(-1, 24)\n",
        "        x = self.linear1(x)\n",
        "        return F.log_softmax(x)       #log of softmax\n",
        "\n",
        "model = Net7().to(device)"
      ],
      "execution_count": 48,
      "outputs": []
    },
    {
      "cell_type": "markdown",
      "metadata": {
        "id": "WI6fTCBLf0Rl"
      },
      "source": [
        "## Summary and training"
      ]
    },
    {
      "cell_type": "code",
      "metadata": {
        "id": "qqGcEE0KqcDm",
        "colab": {
          "base_uri": "https://localhost:8080/"
        },
        "outputId": "9297ad8f-e36a-4672-8e24-f76b3ea2b9b4"
      },
      "source": [
        "summary(model, input_size=(1, 28, 28))\n",
        "# graph = draw_network(model)\n",
        "# graph"
      ],
      "execution_count": 49,
      "outputs": [
        {
          "output_type": "stream",
          "text": [
            "----------------------------------------------------------------\n",
            "        Layer (type)               Output Shape         Param #\n",
            "================================================================\n",
            "            Conv2d-1           [-1, 12, 28, 28]             120\n",
            "       BatchNorm2d-2           [-1, 12, 28, 28]              24\n",
            "         Dropout2d-3           [-1, 12, 28, 28]               0\n",
            "            Conv2d-4           [-1, 36, 28, 28]           3,924\n",
            "       BatchNorm2d-5           [-1, 36, 28, 28]              72\n",
            "         Dropout2d-6           [-1, 36, 28, 28]               0\n",
            "         MaxPool2d-7           [-1, 36, 14, 14]               0\n",
            "            Conv2d-8           [-1, 12, 14, 14]             444\n",
            "       BatchNorm2d-9           [-1, 12, 14, 14]              24\n",
            "        Dropout2d-10           [-1, 12, 14, 14]               0\n",
            "           Conv2d-11           [-1, 24, 14, 14]           2,616\n",
            "      BatchNorm2d-12           [-1, 24, 14, 14]              48\n",
            "        Dropout2d-13           [-1, 24, 14, 14]               0\n",
            "           Conv2d-14           [-1, 24, 14, 14]           5,208\n",
            "      BatchNorm2d-15           [-1, 24, 14, 14]              48\n",
            "        Dropout2d-16           [-1, 24, 14, 14]               0\n",
            "        MaxPool2d-17             [-1, 24, 7, 7]               0\n",
            "           Conv2d-18             [-1, 12, 7, 7]             300\n",
            "      BatchNorm2d-19             [-1, 12, 7, 7]              24\n",
            "        Dropout2d-20             [-1, 12, 7, 7]               0\n",
            "           Conv2d-21             [-1, 24, 7, 7]           2,616\n",
            "      BatchNorm2d-22             [-1, 24, 7, 7]              48\n",
            "        Dropout2d-23             [-1, 24, 7, 7]               0\n",
            "           Conv2d-24             [-1, 24, 5, 5]           5,208\n",
            "        AvgPool2d-25             [-1, 24, 1, 1]               0\n",
            "           Linear-26                   [-1, 10]             250\n",
            "================================================================\n",
            "Total params: 20,974\n",
            "Trainable params: 20,974\n",
            "Non-trainable params: 0\n",
            "----------------------------------------------------------------\n",
            "Input size (MB): 0.00\n",
            "Forward/backward pass size (MB): 1.24\n",
            "Params size (MB): 0.08\n",
            "Estimated Total Size (MB): 1.32\n",
            "----------------------------------------------------------------\n"
          ],
          "name": "stdout"
        },
        {
          "output_type": "stream",
          "text": [
            "/usr/local/lib/python3.7/dist-packages/ipykernel_launcher.py:65: UserWarning: Implicit dimension choice for log_softmax has been deprecated. Change the call to include dim=X as an argument.\n"
          ],
          "name": "stderr"
        }
      ]
    },
    {
      "cell_type": "code",
      "metadata": {
        "id": "gAleLp9uTsVr"
      },
      "source": [
        "#reset the Network\n",
        "# model = Net7().to(device)"
      ],
      "execution_count": 12,
      "outputs": []
    },
    {
      "cell_type": "code",
      "metadata": {
        "id": "e-m46Kr3RpSJ"
      },
      "source": [
        "hist_test_loss = []\n",
        "hist_test_acc = []\n",
        "hist_train_loss = []\n",
        "hist_train_acc = []"
      ],
      "execution_count": 50,
      "outputs": []
    },
    {
      "cell_type": "code",
      "metadata": {
        "id": "5d85hAFOqfqN",
        "colab": {
          "base_uri": "https://localhost:8080/",
          "height": 1000
        },
        "outputId": "3f0b2b76-00fb-47db-e6de-c917e775f379"
      },
      "source": [
        "model = model.to(device)\n",
        "optimizer = optim.SGD(model.parameters(), lr=0.01, momentum=0.9)\n",
        "# optimizer = optim.Adam(model.parameters(), lr=0.01)\n",
        "\n",
        "for epoch in range(1, 20):\n",
        "    print(\"Epoch: \", epoch)\n",
        "    train(model, device, train_loader, optimizer, epoch)\n",
        "    test(model, device, test_loader)\n",
        "training_curves()"
      ],
      "execution_count": 51,
      "outputs": [
        {
          "output_type": "stream",
          "text": [
            "Epoch:  1\n"
          ],
          "name": "stdout"
        },
        {
          "output_type": "stream",
          "text": [
            "/usr/local/lib/python3.7/dist-packages/ipykernel_launcher.py:65: UserWarning: Implicit dimension choice for log_softmax has been deprecated. Change the call to include dim=X as an argument.\n"
          ],
          "name": "stderr"
        },
        {
          "output_type": "stream",
          "text": [
            "\n",
            "Test set: Average loss: 0.1301, Accuracy: 9610/10000 (96.100%)\n",
            "\n",
            "Epoch:  2\n",
            "\n",
            "Test set: Average loss: 0.0734, Accuracy: 9769/10000 (97.690%)\n",
            "\n",
            "Epoch:  3\n",
            "\n",
            "Test set: Average loss: 0.0525, Accuracy: 9845/10000 (98.450%)\n",
            "\n",
            "Epoch:  4\n",
            "\n",
            "Test set: Average loss: 0.0496, Accuracy: 9832/10000 (98.320%)\n",
            "\n",
            "Epoch:  5\n",
            "\n",
            "Test set: Average loss: 0.0470, Accuracy: 9846/10000 (98.460%)\n",
            "\n",
            "Epoch:  6\n",
            "\n",
            "Test set: Average loss: 0.0406, Accuracy: 9876/10000 (98.760%)\n",
            "\n",
            "Epoch:  7\n",
            "\n",
            "Test set: Average loss: 0.0368, Accuracy: 9884/10000 (98.840%)\n",
            "\n",
            "Epoch:  8\n",
            "\n",
            "Test set: Average loss: 0.0352, Accuracy: 9884/10000 (98.840%)\n",
            "\n",
            "Epoch:  9\n",
            "\n",
            "Test set: Average loss: 0.0353, Accuracy: 9886/10000 (98.860%)\n",
            "\n",
            "Epoch:  10\n",
            "\n",
            "Test set: Average loss: 0.0292, Accuracy: 9909/10000 (99.090%)\n",
            "\n",
            "Epoch:  11\n",
            "\n",
            "Test set: Average loss: 0.0317, Accuracy: 9901/10000 (99.010%)\n",
            "\n",
            "Epoch:  12\n",
            "\n",
            "Test set: Average loss: 0.0333, Accuracy: 9894/10000 (98.940%)\n",
            "\n",
            "Epoch:  13\n",
            "\n",
            "Test set: Average loss: 0.0287, Accuracy: 9907/10000 (99.070%)\n",
            "\n",
            "Epoch:  14\n",
            "\n",
            "Test set: Average loss: 0.0257, Accuracy: 9925/10000 (99.250%)\n",
            "\n",
            "Epoch:  15\n",
            "\n",
            "Test set: Average loss: 0.0274, Accuracy: 9914/10000 (99.140%)\n",
            "\n",
            "Epoch:  16\n",
            "\n",
            "Test set: Average loss: 0.0250, Accuracy: 9925/10000 (99.250%)\n",
            "\n",
            "Epoch:  17\n",
            "\n",
            "Test set: Average loss: 0.0249, Accuracy: 9922/10000 (99.220%)\n",
            "\n",
            "Epoch:  18\n",
            "\n",
            "Test set: Average loss: 0.0258, Accuracy: 9913/10000 (99.130%)\n",
            "\n",
            "Epoch:  19\n",
            "\n",
            "Test set: Average loss: 0.0237, Accuracy: 9930/10000 (99.300%)\n",
            "\n"
          ],
          "name": "stdout"
        },
        {
          "output_type": "display_data",
          "data": {
            "image/png": "[encoded data removed]",
            "text/plain": [
              "<Figure size 1080x432 with 2 Axes>"
            ]
          },
          "metadata": {
            "tags": [],
            "needs_background": "light"
          }
        }
      ]
    },
    {
      "cell_type": "code",
      "metadata": {
        "id": "xP18r1o4Zh77"
      },
      "source": [
        "training_curves()"
      ],
      "execution_count": null,
      "outputs": []
    },
    {
      "cell_type": "code",
      "metadata": {
        "id": "b3MnxFPxqqjN"
      },
      "source": [
        "import numpy as np\n",
        "import matplotlib.pyplot as plt\n",
        "\n",
        "plt.rcParams['figure.figsize'] = [15, 6]\n",
        "\n",
        "def training_curves():\n",
        "  plt.subplot(1,2, 1)\n",
        "\n",
        "  plt.plot(np.array(hist_test_acc))\n",
        "  plt.plot(np.array(hist_train_acc), 'r')\n",
        "  plt.legend([\"test_acc\", \"train_acc\"])\n",
        "  plt.title(\"Accuracy per epoch\")\n",
        "\n",
        "  plt.subplot(1,2,2)\n",
        "  plt.plot(hist_test_loss)\n",
        "  plt.plot(hist_train_loss, 'r')\n",
        "  plt.legend([\"test_loss\", \"train_loss\"])\n",
        "  plt.title(\"Loss per epoch\")\n"
      ],
      "execution_count": 20,
      "outputs": []
    },
    {
      "cell_type": "code",
      "metadata": {
        "id": "1lSwk2UESjTL"
      },
      "source": [
        "len(hist_train_loss)"
      ],
      "execution_count": null,
      "outputs": []
    },
    {
      "cell_type": "code",
      "metadata": {
        "id": "bn8FA3y8So9-"
      },
      "source": [
        ""
      ],
      "execution_count": null,
      "outputs": []
    }
  ]
}