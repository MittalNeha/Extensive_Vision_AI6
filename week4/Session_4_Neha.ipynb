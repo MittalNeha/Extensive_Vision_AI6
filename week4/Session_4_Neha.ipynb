{
  "nbformat": 4,
  "nbformat_minor": 0,
  "metadata": {
    "colab": {
      "name": "Session 4_Neha.ipynb",
      "provenance": [],
      "include_colab_link": true
    },
    "kernelspec": {
      "name": "python3",
      "display_name": "Python 3"
    },
    "accelerator": "GPU"
  },
  "cells": [
    {
      "cell_type": "markdown",
      "metadata": {
        "id": "view-in-github",
        "colab_type": "text"
      },
      "source": [
        "<a href=\"https://colab.research.google.com/github/MittalNeha/Extensive_Vision_AI6/blob/main/week4/Session_4_Neha.ipynb\" target=\"_parent\"><img src=\"https://colab.research.google.com/assets/colab-badge.svg\" alt=\"Open In Colab\"/></a>"
      ]
    },
    {
      "cell_type": "code",
      "metadata": {
        "id": "0m2JWFliFfKT"
      },
      "source": [
        "from __future__ import print_function\n",
        "import torch\n",
        "import torch.nn as nn\n",
        "import torch.nn.functional as F\n",
        "import torch.optim as optim\n",
        "from torchvision import datasets, transforms"
      ],
      "execution_count": 1,
      "outputs": []
    },
    {
      "cell_type": "code",
      "metadata": {
        "colab": {
          "base_uri": "https://localhost:8080/"
        },
        "id": "NYx7V_QAsfDP",
        "outputId": "f3779ef0-283c-4f3f-f6c8-ddd2ae69f7f0"
      },
      "source": [
        "!pip install hiddenlayer\n",
        "import hiddenlayer as hl"
      ],
      "execution_count": 2,
      "outputs": [
        {
          "output_type": "stream",
          "text": [
            "Requirement already satisfied: hiddenlayer in /usr/local/lib/python3.7/dist-packages (0.3)\n"
          ],
          "name": "stdout"
        }
      ]
    },
    {
      "cell_type": "markdown",
      "metadata": {
        "id": "07dPrJbdumbg"
      },
      "source": [
        "# New Section"
      ]
    },
    {
      "cell_type": "code",
      "metadata": {
        "id": "xdydjYTZFyi3",
        "colab": {
          "base_uri": "https://localhost:8080/"
        },
        "outputId": "84a3974e-ef0b-4007-ce02-e17db9e7110e"
      },
      "source": [
        "!pip install torchsummary\n",
        "from torchsummary import summary\n",
        "use_cuda = torch.cuda.is_available()\n",
        "device = torch.device(\"cuda\" if use_cuda else \"cpu\")\n",
        "# model = Net().to(device)\n",
        "# summary(model, input_size=(1, 28, 28))"
      ],
      "execution_count": 3,
      "outputs": [
        {
          "output_type": "stream",
          "text": [
            "Requirement already satisfied: torchsummary in /usr/local/lib/python3.7/dist-packages (1.5.1)\n"
          ],
          "name": "stdout"
        }
      ]
    },
    {
      "cell_type": "markdown",
      "metadata": {
        "id": "JFwhzk3EHQmo"
      },
      "source": [
        "#Download the dataset\n"
      ]
    },
    {
      "cell_type": "code",
      "metadata": {
        "id": "DqTWLaM5GHgH"
      },
      "source": [
        "torch.manual_seed(1)\n",
        "# batch_size = 128\n",
        "batch_size = 64\n",
        "\n",
        "kwargs = {'num_workers': 1, 'pin_memory': True} if use_cuda else {}\n",
        "train_loader = torch.utils.data.DataLoader(\n",
        "    datasets.MNIST('../data', train=True, download=True,\n",
        "                    transform=transforms.Compose([\n",
        "                        transforms.ToTensor(),\n",
        "                        transforms.Normalize((0.1307,), (0.3081,))\n",
        "                    ])),\n",
        "    batch_size=batch_size, shuffle=True, **kwargs)\n",
        "test_loader = torch.utils.data.DataLoader(\n",
        "    datasets.MNIST('../data', train=False, transform=transforms.Compose([\n",
        "                        transforms.ToTensor(),\n",
        "                        transforms.Normalize((0.1307,), (0.3081,))\n",
        "                    ])),\n",
        "    batch_size=batch_size, shuffle=True, **kwargs)\n"
      ],
      "execution_count": 33,
      "outputs": []
    },
    {
      "cell_type": "markdown",
      "metadata": {
        "id": "gjElL_o6Hca9"
      },
      "source": [
        "##Augmentation"
      ]
    },
    {
      "cell_type": "code",
      "metadata": {
        "colab": {
          "base_uri": "https://localhost:8080/"
        },
        "id": "btmFSpnL2kxR",
        "outputId": "e106bd2f-bf8d-4acb-b9c3-0d18b97d049e"
      },
      "source": [
        "len(train_loader.dataset)/128"
      ],
      "execution_count": 18,
      "outputs": [
        {
          "output_type": "execute_result",
          "data": {
            "text/plain": [
              "468.75"
            ]
          },
          "metadata": {
            "tags": []
          },
          "execution_count": 18
        }
      ]
    },
    {
      "cell_type": "code",
      "metadata": {
        "id": "augmocoUHeDs"
      },
      "source": [
        "from tqdm.notebook import tqdm\n",
        "# def train(model, device, train_loader, optimizer, epoch):\n",
        "#     model.train()\n",
        "#     # pbar = tqdm(train_loader)\n",
        "#     train_loss = 0\n",
        "#     correct = 0\n",
        "#     # for batch_idx, (data, target) in enumerate(pbar):\n",
        "#     for batch_idx, (data, target) in enumerate(train_loader):\n",
        "#         data, target = data.to(device), target.to(device)\n",
        "#         optimizer.zero_grad()\n",
        "#         output = model(data)\n",
        "#         loss = F.nll_loss(output, target)\n",
        "#         loss.backward()\n",
        "#         optimizer.step()\n",
        "#         # pbar.set_description(desc= f'loss={loss.item()} batch_id={batch_idx}')\n",
        "\n",
        "#         train_loss += loss\n",
        "#         pred = output.argmax(dim=1, keepdim=True)  # get the index of the max log-probability\n",
        "#         correct += pred.eq(target.view_as(pred)).sum().item()\n",
        "\n",
        "#     train_loss /= len(train_loader.dataset)\n",
        "#     hist_train_loss.append(train_loss)\n",
        "#     hist_train_acc.append(100. * correct / len(train_loader.dataset))\n",
        "#     print(\"Training Average loss: {:.4f}, Accuraacy = ({:.5f}%)\\n\".format(train_loss, 100. * correct / len(train_loader.dataset)))\n",
        "\n",
        "\n",
        "#Use scheduler\n",
        "def train(model, device, train_loader, optimizer, scheduler, epoch):\n",
        "    model.train()\n",
        "    # pbar = tqdm(train_loader)\n",
        "    train_loss = 0\n",
        "    correct = 0\n",
        "    num_loops = 0\n",
        "    # for batch_idx, (data, target) in enumerate(pbar):\n",
        "    for batch_idx, (data, target) in enumerate(train_loader):\n",
        "        data, target = data.to(device), target.to(device)\n",
        "        optimizer.zero_grad()\n",
        "        output = model(data)\n",
        "        loss = F.nll_loss(output, target)\n",
        "        loss.backward()\n",
        "        optimizer.step()\n",
        "        # pbar.set_description(desc= f'loss={loss.item()} batch_id={batch_idx}')\n",
        "        train_loss += loss.item()\n",
        "        pred = output.argmax(dim=1, keepdim=True)  # get the index of the max log-probability\n",
        "        correct += pred.eq(target.view_as(pred)).sum().item()\n",
        "        num_loops +=1\n",
        "\n",
        "    \n",
        "    train_loss /= num_loops\n",
        "    # scheduler.step()\n",
        "    scheduler.step(train_loss)\n",
        "    hist_train_loss.append(train_loss)\n",
        "    hist_train_acc.append(100. * correct / len(train_loader.dataset))\n",
        "    print(num_loops)\n",
        "    print(\"Training Average loss: {:.6f}, Accuracy = ({:.6f}%)\".format(train_loss, 100. * correct / len(train_loader.dataset)))\n",
        "\n",
        "\n",
        "\n",
        "\n",
        "def test(model, device, test_loader):\n",
        "    model.eval()\n",
        "    test_loss = 0\n",
        "    correct = 0\n",
        "    with torch.no_grad():\n",
        "        for data, target in test_loader:\n",
        "            data, target = data.to(device), target.to(device)\n",
        "            output = model(data)\n",
        "            test_loss += F.nll_loss(output, target, reduction='sum').item()  # sum up batch loss\n",
        "            pred = output.argmax(dim=1, keepdim=True)  # get the index of the max log-probability\n",
        "            correct += pred.eq(target.view_as(pred)).sum().item()\n",
        "\n",
        "    test_loss /= len(test_loader.dataset)\n",
        "    hist_test_loss.append(test_loss)\n",
        "    hist_test_acc.append(100. * correct / len(test_loader.dataset))\n",
        "\n",
        "    print('Test set: Average loss: {:.6f}, Accuracy: {}/{} ({:.6f}%)\\n'.format(\n",
        "        test_loss, correct, len(test_loader.dataset),\n",
        "        100. * correct / len(test_loader.dataset)))"
      ],
      "execution_count": 24,
      "outputs": []
    },
    {
      "cell_type": "code",
      "metadata": {
        "id": "So5uk4EkHW6R"
      },
      "source": [
        "def draw_network(model):\n",
        "  model = model.to(\"cpu\")\n",
        "  hl_graph = hl.build_graph(model, torch.zeros([1, 1, 28, 28]))\n",
        "  # Use a different color theme\n",
        "  hl_graph.theme = hl.graph.THEMES[\"blue\"].copy()\n",
        "  return hl_graph"
      ],
      "execution_count": 6,
      "outputs": []
    },
    {
      "cell_type": "code",
      "metadata": {
        "id": "b3MnxFPxqqjN"
      },
      "source": [
        "import numpy as np\n",
        "import matplotlib.pyplot as plt\n",
        "\n",
        "plt.rcParams['figure.figsize'] = [15, 6]\n",
        "\n",
        "def training_curves():\n",
        "  plt.subplot(1,2, 1)\n",
        "\n",
        "  plt.plot(np.array(hist_test_acc))\n",
        "  plt.plot(np.array(hist_train_acc), 'r')\n",
        "  plt.legend([\"test_acc\", \"train_acc\"])\n",
        "  plt.title(\"Accuracy per epoch\")\n",
        "\n",
        "  plt.subplot(1,2,2)\n",
        "  plt.plot(hist_test_loss)\n",
        "  plt.plot(hist_train_loss, 'r')\n",
        "  plt.legend([\"test_loss\", \"train_loss\"])\n",
        "  plt.title(\"Loss per epoch\")\n"
      ],
      "execution_count": 7,
      "outputs": []
    },
    {
      "cell_type": "code",
      "metadata": {
        "id": "vqzQ_2KOq2eE"
      },
      "source": [
        "drop_out_val = 0.1\n",
        "class Net7(nn.Module):\n",
        "    def __init__(self):\n",
        "        super().__init__()                     #Input - Output - RF\n",
        "        self.conv1 = nn.Conv2d(1, 12, 3, padding=1)      #28 - 28 - 3x3\n",
        "        self.bn1 = nn.BatchNorm2d(12)\n",
        "        self.do1 = nn.Dropout2d(drop_out_val)\n",
        "        \n",
        "        self.conv2 = nn.Conv2d(12, 24, 3, padding=1)      #28 - 26 - 5x5\n",
        "        self.bn2 = nn.BatchNorm2d(24)\n",
        "        self.do2 = nn.Dropout2d(drop_out_val)\n",
        "        \n",
        "        # self.conv2_1 = nn.Conv2d(24,24, 3, padding=1)             #26 - 24 - 7x7\n",
        "        # self.conv2_2 = nn.Conv2d(36, 24, 1)             #24 - 24 - 7x7\n",
        "        self.pool1 = nn.MaxPool2d(2, 2)                 #28 - 14 - 14x14\n",
        "\n",
        "        self.conv3 = nn.Conv2d(24, 12, 1)               #12 - 10 - 12x12\n",
        "        self.bn3 = nn.BatchNorm2d(12)\n",
        "        self.do3 = nn.Dropout2d(drop_out_val)\n",
        "\n",
        "        self.conv4 = nn.Conv2d(12, 24, 3, padding = 1)              #10 - 8 - 14x14\n",
        "        self.bn4 = nn.BatchNorm2d(24)\n",
        "        self.do4 = nn.Dropout2d(drop_out_val)\n",
        "\n",
        "        self.conv4_1 = nn.Conv2d(24, 24, 3, padding = 1)           #8 - 8 - 14x14\n",
        "        self.bn4_1 = nn.BatchNorm2d(24)\n",
        "        self.do4_1 = nn.Dropout2d(drop_out_val)\n",
        "\n",
        "        self.pool2 = nn.MaxPool2d(2, 2)                 #8 -  4 - 28x28\n",
        "        self.conv5 = nn.Conv2d(24, 12, 1)             #4  -  2 - 30x30\n",
        "        self.bn5 = nn.BatchNorm2d(12)\n",
        "        self.do5 = nn.Dropout2d(drop_out_val)\n",
        "\n",
        "        self.conv6 = nn.Conv2d(12, 24, 3, padding = 1)            #3 -   1 - 32x32\n",
        "        self.bn6 = nn.BatchNorm2d(24)\n",
        "        self.do6 = nn.Dropout2d(drop_out_val)\n",
        "\n",
        "        self.conv6_1 = nn.Conv2d(24, 24, 3, padding = 1)            #3 -   1 - 32x32\n",
        "        # self.bn6_1 = nn.BatchNorm2d(24)\n",
        "        self.do6_1 = nn.Dropout2d(drop_out_val)\n",
        "\n",
        "        self.gap = nn.AvgPool2d(7)\n",
        "        self.linear1 = nn.Linear(24, 10)\n",
        "\n",
        "    def forward(self, x):\n",
        "        #self is containing all variables, compulsory to pass\n",
        "        #x is input image\n",
        "        # CONV/FC -> BatchNorm -> ReLu(or other activation) -> Dropout \n",
        "        x = self.pool1(self.do2(F.relu(self.bn2(self.conv2(self.do1(F.relu( self.bn1(self.conv1(x)))))))))   #conv1 -> ReLU -> conv2 -> ReLU -> max pool\n",
        "        x = self.pool2(self.do4_1(F.relu( self.bn4_1(self.conv4_1(self.do4(F.relu( self.bn4(self.conv4(self.do3(F.relu( self.bn3(self.conv3(x)))))))))))))   #conv3 -> ReLU -> conv4 -> ReLU -> max pool\n",
        "        x =                       F.relu( self.conv6_1(self.do6(F.relu( self.bn6(self.conv6(self.do5(F.relu( self.bn5(self.conv5(x))))))))))               #conv5 -> ReLU -> conv6 -> ReLU\n",
        "        x = self.gap(x)\n",
        "        x = x.view(-1, 24)\n",
        "        x = self.linear1(x)\n",
        "        return F.log_softmax(x)       #log of softmax\n",
        "\n",
        "# model = Net7().to(device)"
      ],
      "execution_count": 8,
      "outputs": []
    },
    {
      "cell_type": "markdown",
      "metadata": {
        "id": "kkmJ-KIfcjNY"
      },
      "source": [
        "## Net 8\n",
        "12->24->MP->12->12->24->MP->12->12->24->GAP->Dense->10"
      ]
    },
    {
      "cell_type": "code",
      "metadata": {
        "id": "K2TJQ17VcFZX"
      },
      "source": [
        "# drop_out_val = 0.1\n",
        "drop_out_val = 0.05\n",
        "class Net8(nn.Module):\n",
        "    def __init__(self):\n",
        "        super().__init__()                     #Input - Output - RF\n",
        "        self.conv1 = nn.Conv2d(1, 12, 3, padding=1)      #28 - 28 - 3x3\n",
        "        self.bn1 = nn.BatchNorm2d(12)\n",
        "        self.do1 = nn.Dropout2d(drop_out_val)\n",
        "        \n",
        "        self.conv2 = nn.Conv2d(12, 24, 3, padding=1)      #28 - 26 - 5x5\n",
        "        self.bn2 = nn.BatchNorm2d(24)\n",
        "        self.do2 = nn.Dropout2d(drop_out_val)\n",
        "        \n",
        "        self.conv2_1 = nn.Conv2d(24, 36, 3, padding=1)             #26 - 24 - 7x7\n",
        "        self.bn2_1 = nn.BatchNorm2d(36)\n",
        "        self.do2_1 = nn.Dropout2d(drop_out_val)\n",
        "\n",
        "        # self.conv2_2 = nn.Conv2d(36, 24, 1)             #24 - 24 - 7x7\n",
        "        self.pool1 = nn.MaxPool2d(2, 2)                 #28 - 14 - 14x14\n",
        "\n",
        "        self.conv3 = nn.Conv2d(36, 12, 1)               #12 - 10 - 12x12\n",
        "        self.bn3 = nn.BatchNorm2d(12)\n",
        "        self.do3 = nn.Dropout2d(drop_out_val)\n",
        "\n",
        "        self.conv4 = nn.Conv2d(12, 12, 3, padding = 1)              #10 - 8 - 14x14\n",
        "        self.bn4 = nn.BatchNorm2d(12)\n",
        "        self.do4 = nn.Dropout2d(drop_out_val)\n",
        "\n",
        "        self.conv4_1 = nn.Conv2d(12, 24, 3, padding = 1)           #8 - 8 - 14x14\n",
        "        self.bn4_1 = nn.BatchNorm2d(24)\n",
        "        self.do4_1 = nn.Dropout2d(drop_out_val)\n",
        "\n",
        "        self.pool2 = nn.MaxPool2d(2, 2)                 #8 -  4 - 28x28\n",
        "        self.conv5 = nn.Conv2d(24, 12, 1)             #4  -  2 - 30x30\n",
        "        self.bn5 = nn.BatchNorm2d(12)\n",
        "        self.do5 = nn.Dropout2d(drop_out_val)\n",
        "\n",
        "        self.conv6 = nn.Conv2d(12, 12, 3, padding = 1)            #3 -   1 - 32x32\n",
        "        self.bn6 = nn.BatchNorm2d(12)\n",
        "        self.do6 = nn.Dropout2d(drop_out_val)\n",
        "\n",
        "        self.conv6_1 = nn.Conv2d(12, 24, 3, padding = 1)            #3 -   1 - 32x32\n",
        "        self.bn6_1 = nn.BatchNorm2d(24)\n",
        "        self.do6_1 = nn.Dropout2d(drop_out_val)\n",
        "\n",
        "        #self.conv7 = nn.Conv2d(128, 10, 3)             #3 -   1 - 34x34\n",
        "        self.gap = nn.AvgPool2d(7)\n",
        "        self.linear1 = nn.Linear(24, 10)\n",
        "        # self.do = nn.Dropout(0.25)\n",
        "        # self.linear2 = nn.Linear(48, 10)\n",
        "\n",
        "    def forward(self, x):\n",
        "        #self is containing all variables, compulsory to pass\n",
        "        #x is input image\n",
        "        # CONV/FC -> BatchNorm -> ReLu(or other activation) -> Dropout \n",
        "        x = self.pool1(self.do2_1(F.relu(self.bn2_1(self.conv2_1(self.do2(F.relu(self.bn2(self.conv2(self.do1(F.relu( self.bn1(self.conv1(x))))))))) ))))  #conv1 -> ReLU -> conv2 -> ReLU -> max pool\n",
        "        x = self.pool2(self.do4_1(F.relu( self.bn4_1(self.conv4_1(self.do4(F.relu( self.bn4(self.conv4(self.do3(F.relu( self.bn3(self.conv3(x)))))))))))))   #conv3 -> ReLU -> conv4 -> ReLU -> max pool\n",
        "        x =                       F.relu( self.conv6_1(self.do6(F.relu( self.bn6(self.conv6(self.do5(F.relu( self.bn5(self.conv5(x))))))))))               #conv5 -> ReLU -> conv6 -> ReLU\n",
        "        x = self.gap(x)\n",
        "        x = x.view(-1, 24)\n",
        "        x = self.linear1(x)\n",
        "        # x = self.linear2(self.do(F.relu(self.linear1(x))))\n",
        "        return F.log_softmax(x)       #log of softmax\n",
        "\n",
        "model = Net8().to(device)"
      ],
      "execution_count": 58,
      "outputs": []
    },
    {
      "cell_type": "markdown",
      "metadata": {
        "id": "JWoYdP1wpgDT"
      },
      "source": [
        "## Net10\n",
        "Remove the second MP and increase the depth of the network. use conv without padding\n",
        "\n",
        "12->24->MP->12->12->12->24->24->GAP->Dense->10"
      ]
    },
    {
      "cell_type": "code",
      "metadata": {
        "id": "ON69-WBgppHS"
      },
      "source": [
        "drop_out_val = 0.1\n",
        "class Net10(nn.Module):\n",
        "    def __init__(self):\n",
        "        super().__init__()                     #Input - Output - RF\n",
        "        self.conv1 = nn.Conv2d(1, 12, 3, padding=1)      #28 - 28 - 3x3\n",
        "        self.bn1 = nn.BatchNorm2d(12)\n",
        "        self.do1 = nn.Dropout2d(drop_out_val)\n",
        "        \n",
        "        self.conv2 = nn.Conv2d(12, 24, 3, padding=1)      #28 - 26 - 5x5\n",
        "        self.bn2 = nn.BatchNorm2d(24)\n",
        "        self.do2 = nn.Dropout2d(drop_out_val)\n",
        "        \n",
        "        # self.conv2_1 = nn.Conv2d(24,24, 3, padding=1)             #26 - 24 - 7x7\n",
        "        # self.conv2_2 = nn.Conv2d(36, 24, 1)             #24 - 24 - 7x7\n",
        "        self.pool1 = nn.MaxPool2d(2, 2)                 #28 - 14 - 14x14\n",
        "\n",
        "        self.conv3 = nn.Conv2d(24, 12, 1)               #12x12\n",
        "        self.bn3 = nn.BatchNorm2d(12)\n",
        "        self.do3 = nn.Dropout2d(drop_out_val)\n",
        "\n",
        "        self.conv4 = nn.Conv2d(12, 12, 3)              #10x10\n",
        "        self.bn4 = nn.BatchNorm2d(24)\n",
        "        self.do4 = nn.Dropout2d(drop_out_val)\n",
        "\n",
        "        self.conv4_1 = nn.Conv2d(12, 12, 3)           #8x8\n",
        "        self.bn4_1 = nn.BatchNorm2d(24)\n",
        "        self.do4_1 = nn.Dropout2d(drop_out_val)\n",
        "\n",
        "        self.pool2 = nn.MaxPool2d(2, 2)\n",
        "                         #8 -  4 - 28x28\n",
        "        # self.conv5 = nn.Conv2d(12, 12, 1)             #4  -  2 - 30x30\n",
        "        # self.bn5 = nn.BatchNorm2d(12)\n",
        "        # self.do5 = nn.Dropout2d(drop_out_val)\n",
        "\n",
        "        self.conv6 = nn.Conv2d(12, 24, 3)            #6x6\n",
        "        self.bn6 = nn.BatchNorm2d(24)\n",
        "        self.do6 = nn.Dropout2d(drop_out_val)\n",
        "\n",
        "        self.conv6_1 = nn.Conv2d(24, 24, 3)            #4x4\n",
        "        # self.bn6_1 = nn.BatchNorm2d(24)\n",
        "        # self.do6_1 = nn.Dropout2d(drop_out_val)\n",
        "\n",
        "        self.gap = nn.AvgPool2d(6)\n",
        "        self.linear1 = nn.Linear(24, 10)\n",
        "\n",
        "    def forward(self, x):\n",
        "        #self is containing all variables, compulsory to pass\n",
        "        #x is input image\n",
        "        #with BN and dropout\n",
        "        # x = self.pool1(F.relu( self.do2(self.bn2(self.conv2(F.relu( self.do1(self.bn1(self.conv1(x)))))))))   #conv1 -> ReLU -> conv2 -> ReLU -> max pool\n",
        "        # x = self.pool2(F.relu( self.do4_1(self.bn4_1(self.conv4_1(F.relu( self.do4(self.bn4(self.conv4(F.relu( self.do3(self.bn3(self.conv3(x)))))))))))))   #conv3 -> ReLU -> conv4 -> ReLU -> max pool\n",
        "        # x =            F.relu(self.conv6_1(F.relu( self.do6(self.bn6(self.conv6(F.relu( self.do5(self.bn5(self.conv5(x))))))))))              #conv5 -> ReLU -> conv6 -> ReLU\n",
        "        \n",
        "        # x = self.pool2(F.relu(self.conv4_1(F.relu(self.conv4(F.relu(self.conv3(x)))))))   #conv3 -> ReLU -> conv4 -> ReLU -> max pool\n",
        "        # x =            F.relu( self.do6_1(self.bn6_1(self.conv6_1(F.relu( self.do6(self.bn6(self.conv6(F.relu( self.do5(self.bn5(self.conv5(x))))))))))))               #conv5 -> ReLU -> conv6 -> ReLU\n",
        "        #x = F.relu(self.conv7(x))                                  #Dont need to perform ReLU on last layer as its output would be subject to softmax, cannot apply non-linearity twice.\n",
        "        #x = (self.conv7(x))                                         #conv7 -> output\n",
        "\n",
        "        #no BN or dropout\n",
        "        x = self.pool2(F.relu(self.conv2(F.relu(self.conv1(x)))))\n",
        "        x = self.conv6_1(F.relu(self.conv6(F.relu(self.conv4_1(F.relu(self.conv4(F.relu(self.conv3(x)))))))))\n",
        "\n",
        "\n",
        "        x = self.gap(x)\n",
        "        x = x.view(-1, 24)\n",
        "        x = self.linear1(x)\n",
        "        return F.log_softmax(x)       #log of softmax\n",
        "\n",
        "# model = Net10().to(device)"
      ],
      "execution_count": 10,
      "outputs": []
    },
    {
      "cell_type": "markdown",
      "metadata": {
        "id": "WI6fTCBLf0Rl"
      },
      "source": [
        "## Summary and training"
      ]
    },
    {
      "cell_type": "code",
      "metadata": {
        "id": "qqGcEE0KqcDm",
        "colab": {
          "base_uri": "https://localhost:8080/"
        },
        "outputId": "985eaa71-e99f-485f-9c65-68ebe508f5be"
      },
      "source": [
        "summary(model, input_size=(1, 28, 28))\n",
        "# graph = draw_network(model)\n",
        "# graph"
      ],
      "execution_count": 59,
      "outputs": [
        {
          "output_type": "stream",
          "text": [
            "----------------------------------------------------------------\n",
            "        Layer (type)               Output Shape         Param #\n",
            "================================================================\n",
            "            Conv2d-1           [-1, 12, 28, 28]             120\n",
            "       BatchNorm2d-2           [-1, 12, 28, 28]              24\n",
            "         Dropout2d-3           [-1, 12, 28, 28]               0\n",
            "            Conv2d-4           [-1, 24, 28, 28]           2,616\n",
            "       BatchNorm2d-5           [-1, 24, 28, 28]              48\n",
            "         Dropout2d-6           [-1, 24, 28, 28]               0\n",
            "            Conv2d-7           [-1, 36, 28, 28]           7,812\n",
            "       BatchNorm2d-8           [-1, 36, 28, 28]              72\n",
            "         Dropout2d-9           [-1, 36, 28, 28]               0\n",
            "        MaxPool2d-10           [-1, 36, 14, 14]               0\n",
            "           Conv2d-11           [-1, 12, 14, 14]             444\n",
            "      BatchNorm2d-12           [-1, 12, 14, 14]              24\n",
            "        Dropout2d-13           [-1, 12, 14, 14]               0\n",
            "           Conv2d-14           [-1, 12, 14, 14]           1,308\n",
            "      BatchNorm2d-15           [-1, 12, 14, 14]              24\n",
            "        Dropout2d-16           [-1, 12, 14, 14]               0\n",
            "           Conv2d-17           [-1, 24, 14, 14]           2,616\n",
            "      BatchNorm2d-18           [-1, 24, 14, 14]              48\n",
            "        Dropout2d-19           [-1, 24, 14, 14]               0\n",
            "        MaxPool2d-20             [-1, 24, 7, 7]               0\n",
            "           Conv2d-21             [-1, 12, 7, 7]             300\n",
            "      BatchNorm2d-22             [-1, 12, 7, 7]              24\n",
            "        Dropout2d-23             [-1, 12, 7, 7]               0\n",
            "           Conv2d-24             [-1, 12, 7, 7]           1,308\n",
            "      BatchNorm2d-25             [-1, 12, 7, 7]              24\n",
            "        Dropout2d-26             [-1, 12, 7, 7]               0\n",
            "           Conv2d-27             [-1, 24, 7, 7]           2,616\n",
            "        AvgPool2d-28             [-1, 24, 1, 1]               0\n",
            "           Linear-29                   [-1, 10]             250\n",
            "================================================================\n",
            "Total params: 19,678\n",
            "Trainable params: 19,678\n",
            "Non-trainable params: 0\n",
            "----------------------------------------------------------------\n",
            "Input size (MB): 0.00\n",
            "Forward/backward pass size (MB): 1.61\n",
            "Params size (MB): 0.08\n",
            "Estimated Total Size (MB): 1.68\n",
            "----------------------------------------------------------------\n"
          ],
          "name": "stdout"
        },
        {
          "output_type": "stream",
          "text": [
            "/usr/local/lib/python3.7/dist-packages/ipykernel_launcher.py:63: UserWarning: Implicit dimension choice for log_softmax has been deprecated. Change the call to include dim=X as an argument.\n"
          ],
          "name": "stderr"
        }
      ]
    },
    {
      "cell_type": "code",
      "metadata": {
        "id": "gAleLp9uTsVr"
      },
      "source": [
        "#reset the Network\n",
        "model = Net8().to(device)"
      ],
      "execution_count": 73,
      "outputs": []
    },
    {
      "cell_type": "code",
      "metadata": {
        "id": "e-m46Kr3RpSJ"
      },
      "source": [
        "hist_test_loss = []\n",
        "hist_test_acc = []\n",
        "hist_train_loss = []\n",
        "hist_train_acc = []"
      ],
      "execution_count": 74,
      "outputs": []
    },
    {
      "cell_type": "code",
      "metadata": {
        "id": "5d85hAFOqfqN"
      },
      "source": [
        "# model = model.to(device)\n",
        "# optimizer = optim.SGD(model.parameters(), lr=0.01, momentum=0.9,)\n",
        "# # optimizer = optim.Adam(model.parameters(), lr=0.01)\n",
        "\n",
        "# for epoch in range(1, 20):\n",
        "#     print(\"Epoch: \", epoch)\n",
        "#     train(model, device, train_loader, optimizer, epoch)\n",
        "#     test(model, device, test_loader)\n",
        "# training_curves()"
      ],
      "execution_count": 66,
      "outputs": []
    },
    {
      "cell_type": "markdown",
      "metadata": {
        "id": "AXiojjt0mkrq"
      },
      "source": [
        "Model with schedular"
      ]
    },
    {
      "cell_type": "code",
      "metadata": {
        "id": "oGrqdj8Em7Cc"
      },
      "source": [
        "from torch.optim.lr_scheduler import ReduceLROnPlateau\n",
        "from torch.optim.lr_scheduler import ExponentialLR"
      ],
      "execution_count": 67,
      "outputs": []
    },
    {
      "cell_type": "code",
      "metadata": {
        "colab": {
          "base_uri": "https://localhost:8080/",
          "height": 1000
        },
        "id": "kHStXpOPFT3P",
        "outputId": "61c2f7d5-2451-4e35-e8b4-92adefa3b891"
      },
      "source": [
        "model = model.to(device)\n",
        "optimizer = optim.SGD(model.parameters(), lr=0.5, momentum=0.9,)\n",
        "\n",
        "scheduler =ReduceLROnPlateau(optimizer=optimizer, patience=2, verbose=True)\n",
        "\n",
        "for epoch in range(1, 5):\n",
        "    print(\"Epoch: \", epoch)\n",
        "    train(model, device, train_loader, optimizer, scheduler, epoch)\n",
        "    print(\"learning rate\", optimizer.param_groups[0]['lr'])\n",
        "    test(model, device, test_loader)\n",
        "\n",
        "optimizer = optim.SGD(model.parameters(), lr=0.25, momentum=0.9)\n",
        "for epoch in range(5, 10):\n",
        "    print(\"Epoch: \", epoch)\n",
        "    train(model, device, train_loader, optimizer, scheduler, epoch)\n",
        "    print(\"learning rate\", optimizer.param_groups[0]['lr'])\n",
        "    test(model, device, test_loader)\n",
        "\n",
        "optimizer = optim.SGD(model.parameters(), lr=0.1, momentum=0.9,)\n",
        "for epoch in range(10, 15):\n",
        "    print(\"Epoch: \", epoch)\n",
        "    train(model, device, train_loader, optimizer, scheduler, epoch)\n",
        "    print(\"learning rate\", optimizer.param_groups[0]['lr'])\n",
        "    test(model, device, test_loader)   \n",
        "\n",
        "optimizer = optim.SGD(model.parameters(), lr=0.05, momentum=0.9,)\n",
        "for epoch in range(15, 20):\n",
        "    print(\"Epoch: \", epoch)\n",
        "    train(model, device, train_loader, optimizer, scheduler, epoch)\n",
        "    print(\"learning rate\", optimizer.param_groups[0]['lr'])\n",
        "    test(model, device, test_loader)   \n",
        "training_curves()"
      ],
      "execution_count": 68,
      "outputs": [
        {
          "output_type": "stream",
          "text": [
            "Epoch:  1\n"
          ],
          "name": "stdout"
        },
        {
          "output_type": "stream",
          "text": [
            "/usr/local/lib/python3.7/dist-packages/ipykernel_launcher.py:63: UserWarning: Implicit dimension choice for log_softmax has been deprecated. Change the call to include dim=X as an argument.\n"
          ],
          "name": "stderr"
        },
        {
          "output_type": "stream",
          "text": [
            "938\n",
            "Training Average loss: 0.500155, Accuracy = (83.591667%)\n",
            "learning rate 0.5\n",
            "Test set: Average loss: 0.127428, Accuracy: 9619/10000 (96.190000%)\n",
            "\n",
            "Epoch:  2\n",
            "938\n",
            "Training Average loss: 0.153565, Accuracy = (95.415000%)\n",
            "learning rate 0.5\n",
            "Test set: Average loss: 0.085764, Accuracy: 9741/10000 (97.410000%)\n",
            "\n",
            "Epoch:  3\n",
            "938\n",
            "Training Average loss: 0.113572, Accuracy = (96.543333%)\n",
            "learning rate 0.5\n",
            "Test set: Average loss: 0.060771, Accuracy: 9822/10000 (98.220000%)\n",
            "\n",
            "Epoch:  4\n",
            "938\n",
            "Training Average loss: 0.089713, Accuracy = (97.290000%)\n",
            "learning rate 0.5\n",
            "Test set: Average loss: 0.051983, Accuracy: 9840/10000 (98.400000%)\n",
            "\n",
            "Epoch:  5\n",
            "938\n",
            "Training Average loss: 0.060934, Accuracy = (98.115000%)\n",
            "learning rate 0.25\n",
            "Test set: Average loss: 0.040477, Accuracy: 9877/10000 (98.770000%)\n",
            "\n",
            "Epoch:  6\n",
            "938\n",
            "Training Average loss: 0.055382, Accuracy = (98.315000%)\n",
            "learning rate 0.25\n",
            "Test set: Average loss: 0.036162, Accuracy: 9877/10000 (98.770000%)\n",
            "\n",
            "Epoch:  7\n",
            "938\n",
            "Training Average loss: 0.052632, Accuracy = (98.423333%)\n",
            "learning rate 0.25\n",
            "Test set: Average loss: 0.032901, Accuracy: 9891/10000 (98.910000%)\n",
            "\n",
            "Epoch:  8\n",
            "938\n",
            "Training Average loss: 0.050440, Accuracy = (98.450000%)\n",
            "learning rate 0.25\n",
            "Test set: Average loss: 0.030060, Accuracy: 9905/10000 (99.050000%)\n",
            "\n",
            "Epoch:  9\n",
            "938\n",
            "Training Average loss: 0.050705, Accuracy = (98.440000%)\n",
            "learning rate 0.25\n",
            "Test set: Average loss: 0.029393, Accuracy: 9906/10000 (99.060000%)\n",
            "\n",
            "Epoch:  10\n",
            "938\n",
            "Training Average loss: 0.037806, Accuracy = (98.828333%)\n",
            "learning rate 0.1\n",
            "Test set: Average loss: 0.025679, Accuracy: 9918/10000 (99.180000%)\n",
            "\n",
            "Epoch:  11\n",
            "938\n",
            "Training Average loss: 0.037187, Accuracy = (98.880000%)\n",
            "learning rate 0.1\n",
            "Test set: Average loss: 0.027644, Accuracy: 9904/10000 (99.040000%)\n",
            "\n",
            "Epoch:  12\n",
            "938\n",
            "Training Average loss: 0.035739, Accuracy = (98.908333%)\n",
            "learning rate 0.1\n",
            "Test set: Average loss: 0.024185, Accuracy: 9926/10000 (99.260000%)\n",
            "\n",
            "Epoch:  13\n",
            "938\n",
            "Training Average loss: 0.035175, Accuracy = (98.935000%)\n",
            "learning rate 0.1\n",
            "Test set: Average loss: 0.022895, Accuracy: 9924/10000 (99.240000%)\n",
            "\n",
            "Epoch:  14\n",
            "938\n",
            "Training Average loss: 0.033708, Accuracy = (98.933333%)\n",
            "learning rate 0.1\n",
            "Test set: Average loss: 0.023198, Accuracy: 9925/10000 (99.250000%)\n",
            "\n",
            "Epoch:  15\n",
            "938\n",
            "Training Average loss: 0.030366, Accuracy = (99.053333%)\n",
            "learning rate 0.05\n",
            "Test set: Average loss: 0.021078, Accuracy: 9929/10000 (99.290000%)\n",
            "\n",
            "Epoch:  16\n",
            "938\n",
            "Training Average loss: 0.029939, Accuracy = (99.050000%)\n",
            "learning rate 0.05\n",
            "Test set: Average loss: 0.021488, Accuracy: 9930/10000 (99.300000%)\n",
            "\n",
            "Epoch:  17\n",
            "938\n",
            "Training Average loss: 0.030527, Accuracy = (99.030000%)\n",
            "learning rate 0.05\n",
            "Test set: Average loss: 0.021782, Accuracy: 9925/10000 (99.250000%)\n",
            "\n",
            "Epoch:  18\n",
            "938\n",
            "Training Average loss: 0.029554, Accuracy = (99.050000%)\n",
            "learning rate 0.05\n",
            "Test set: Average loss: 0.022062, Accuracy: 9924/10000 (99.240000%)\n",
            "\n",
            "Epoch:  19\n",
            "938\n",
            "Training Average loss: 0.029501, Accuracy = (99.111667%)\n",
            "learning rate 0.05\n",
            "Test set: Average loss: 0.021838, Accuracy: 9933/10000 (99.330000%)\n",
            "\n"
          ],
          "name": "stdout"
        },
        {
          "output_type": "display_data",
          "data": {
            "image/png": "[encoded data removed]",
            "text/plain": [
              "<Figure size 1080x432 with 2 Axes>"
            ]
          },
          "metadata": {
            "tags": [],
            "needs_background": "light"
          }
        }
      ]
    },
    {
      "cell_type": "code",
      "metadata": {
        "colab": {
          "base_uri": "https://localhost:8080/",
          "height": 1000
        },
        "id": "00YqrCXpRDdk",
        "outputId": "47d9e86e-bfa5-42d9-d203-0c07942f6335"
      },
      "source": [
        "model = model.to(device)\n",
        "optimizer = optim.SGD(model.parameters(), lr=0.5, momentum=0.9,)\n",
        "\n",
        "scheduler =ReduceLROnPlateau(optimizer=optimizer, patience=2, verbose=True)\n",
        "\n",
        "for epoch in range(1, 3):\n",
        "    print(\"Epoch: \", epoch)\n",
        "    train(model, device, train_loader, optimizer, scheduler, epoch)\n",
        "    print(\"learning rate\", optimizer.param_groups[0]['lr'])\n",
        "    test(model, device, test_loader)\n",
        "\n",
        "optimizer = optim.SGD(model.parameters(), lr=0.1, momentum=0.9)\n",
        "for epoch in range(3, 10):\n",
        "    print(\"Epoch: \", epoch)\n",
        "    train(model, device, train_loader, optimizer, scheduler, epoch)\n",
        "    print(\"learning rate\", optimizer.param_groups[0]['lr'])\n",
        "    test(model, device, test_loader)\n",
        "\n",
        "optimizer = optim.SGD(model.parameters(), lr=0.01, momentum=0.9,)\n",
        "for epoch in range(10, 15):\n",
        "    print(\"Epoch: \", epoch)\n",
        "    train(model, device, train_loader, optimizer, scheduler, epoch)\n",
        "    print(\"learning rate\", optimizer.param_groups[0]['lr'])\n",
        "    test(model, device, test_loader)   \n",
        "\n",
        "optimizer = optim.SGD(model.parameters(), lr=0.005, momentum=0.9,)\n",
        "for epoch in range(15, 20):\n",
        "    print(\"Epoch: \", epoch)\n",
        "    train(model, device, train_loader, optimizer, scheduler, epoch)\n",
        "    print(\"learning rate\", optimizer.param_groups[0]['lr'])\n",
        "    test(model, device, test_loader)   \n",
        "training_curves()"
      ],
      "execution_count": 75,
      "outputs": [
        {
          "output_type": "stream",
          "text": [
            "Epoch:  1\n"
          ],
          "name": "stdout"
        },
        {
          "output_type": "stream",
          "text": [
            "/usr/local/lib/python3.7/dist-packages/ipykernel_launcher.py:63: UserWarning: Implicit dimension choice for log_softmax has been deprecated. Change the call to include dim=X as an argument.\n"
          ],
          "name": "stderr"
        },
        {
          "output_type": "stream",
          "text": [
            "938\n",
            "Training Average loss: 0.495217, Accuracy = (83.906667%)\n",
            "learning rate 0.5\n",
            "Test set: Average loss: 0.114014, Accuracy: 9651/10000 (96.510000%)\n",
            "\n",
            "Epoch:  2\n",
            "938\n",
            "Training Average loss: 0.151683, Accuracy = (95.458333%)\n",
            "learning rate 0.5\n",
            "Test set: Average loss: 0.068733, Accuracy: 9783/10000 (97.830000%)\n",
            "\n",
            "Epoch:  3\n",
            "938\n",
            "Training Average loss: 0.083078, Accuracy = (97.456667%)\n",
            "learning rate 0.1\n",
            "Test set: Average loss: 0.049300, Accuracy: 9849/10000 (98.490000%)\n",
            "\n",
            "Epoch:  4\n",
            "938\n",
            "Training Average loss: 0.074141, Accuracy = (97.698333%)\n",
            "learning rate 0.1\n",
            "Test set: Average loss: 0.046645, Accuracy: 9850/10000 (98.500000%)\n",
            "\n",
            "Epoch:  5\n",
            "938\n",
            "Training Average loss: 0.068254, Accuracy = (97.913333%)\n",
            "learning rate 0.1\n",
            "Test set: Average loss: 0.039346, Accuracy: 9873/10000 (98.730000%)\n",
            "\n",
            "Epoch:  6\n",
            "938\n",
            "Training Average loss: 0.066585, Accuracy = (97.920000%)\n",
            "learning rate 0.1\n",
            "Test set: Average loss: 0.037894, Accuracy: 9880/10000 (98.800000%)\n",
            "\n",
            "Epoch:  7\n",
            "938\n",
            "Training Average loss: 0.063585, Accuracy = (98.045000%)\n",
            "learning rate 0.1\n",
            "Test set: Average loss: 0.038713, Accuracy: 9878/10000 (98.780000%)\n",
            "\n",
            "Epoch:  8\n",
            "938\n",
            "Training Average loss: 0.061354, Accuracy = (98.098333%)\n",
            "learning rate 0.1\n",
            "Test set: Average loss: 0.036417, Accuracy: 9877/10000 (98.770000%)\n",
            "\n",
            "Epoch:  9\n",
            "938\n",
            "Training Average loss: 0.059699, Accuracy = (98.123333%)\n",
            "learning rate 0.1\n",
            "Test set: Average loss: 0.036224, Accuracy: 9891/10000 (98.910000%)\n",
            "\n",
            "Epoch:  10\n",
            "938\n",
            "Training Average loss: 0.053349, Accuracy = (98.350000%)\n",
            "learning rate 0.01\n",
            "Test set: Average loss: 0.033786, Accuracy: 9884/10000 (98.840000%)\n",
            "\n",
            "Epoch:  11\n",
            "938\n",
            "Training Average loss: 0.050498, Accuracy = (98.425000%)\n",
            "learning rate 0.01\n",
            "Test set: Average loss: 0.033057, Accuracy: 9887/10000 (98.870000%)\n",
            "\n",
            "Epoch:  12\n",
            "938\n",
            "Training Average loss: 0.049461, Accuracy = (98.451667%)\n",
            "learning rate 0.01\n",
            "Test set: Average loss: 0.032729, Accuracy: 9895/10000 (98.950000%)\n",
            "\n",
            "Epoch:  13\n",
            "938\n",
            "Training Average loss: 0.048265, Accuracy = (98.480000%)\n",
            "learning rate 0.01\n",
            "Test set: Average loss: 0.032236, Accuracy: 9894/10000 (98.940000%)\n",
            "\n",
            "Epoch:  14\n",
            "938\n",
            "Training Average loss: 0.048688, Accuracy = (98.470000%)\n",
            "learning rate 0.01\n",
            "Test set: Average loss: 0.032618, Accuracy: 9897/10000 (98.970000%)\n",
            "\n",
            "Epoch:  15\n",
            "938\n",
            "Training Average loss: 0.046906, Accuracy = (98.508333%)\n",
            "learning rate 0.005\n",
            "Test set: Average loss: 0.031983, Accuracy: 9894/10000 (98.940000%)\n",
            "\n",
            "Epoch:  16\n",
            "938\n",
            "Training Average loss: 0.047076, Accuracy = (98.566667%)\n",
            "learning rate 0.005\n",
            "Test set: Average loss: 0.031520, Accuracy: 9897/10000 (98.970000%)\n",
            "\n",
            "Epoch:  17\n",
            "938\n",
            "Training Average loss: 0.046705, Accuracy = (98.536667%)\n",
            "learning rate 0.005\n",
            "Test set: Average loss: 0.031307, Accuracy: 9894/10000 (98.940000%)\n",
            "\n",
            "Epoch:  18\n",
            "938\n",
            "Training Average loss: 0.046065, Accuracy = (98.573333%)\n",
            "learning rate 0.005\n",
            "Test set: Average loss: 0.031603, Accuracy: 9896/10000 (98.960000%)\n",
            "\n",
            "Epoch:  19\n",
            "938\n",
            "Training Average loss: 0.047602, Accuracy = (98.510000%)\n",
            "learning rate 0.005\n",
            "Test set: Average loss: 0.031497, Accuracy: 9897/10000 (98.970000%)\n",
            "\n"
          ],
          "name": "stdout"
        },
        {
          "output_type": "display_data",
          "data": {
            "image/png": "[encoded data removed]",
            "text/plain": [
              "<Figure size 1080x432 with 2 Axes>"
            ]
          },
          "metadata": {
            "tags": [],
            "needs_background": "light"
          }
        }
      ]
    },
    {
      "cell_type": "code",
      "metadata": {
        "colab": {
          "base_uri": "https://localhost:8080/",
          "height": 1000
        },
        "id": "z1eLLgLGIOxq",
        "outputId": "22b41923-90c4-4970-fa3e-888faab91628"
      },
      "source": [
        "optimizer = optim.SGD(model.parameters(), lr=0.01, momentum=0.9,)\n",
        "for epoch in range(20, 30):\n",
        "    print(\"Epoch: \", epoch)\n",
        "    train(model, device, train_loader, optimizer, scheduler, epoch)\n",
        "    print(\"learning rate\", optimizer.param_groups[0]['lr'])\n",
        "    test(model, device, test_loader)   \n",
        "training_curves()"
      ],
      "execution_count": 69,
      "outputs": [
        {
          "output_type": "stream",
          "text": [
            "Epoch:  20\n"
          ],
          "name": "stdout"
        },
        {
          "output_type": "stream",
          "text": [
            "/usr/local/lib/python3.7/dist-packages/ipykernel_launcher.py:63: UserWarning: Implicit dimension choice for log_softmax has been deprecated. Change the call to include dim=X as an argument.\n"
          ],
          "name": "stderr"
        },
        {
          "output_type": "stream",
          "text": [
            "938\n",
            "Training Average loss: 0.026916, Accuracy = (99.140000%)\n",
            "learning rate 0.01\n",
            "Test set: Average loss: 0.020773, Accuracy: 9932/10000 (99.320000%)\n",
            "\n",
            "Epoch:  21\n",
            "938\n",
            "Training Average loss: 0.025354, Accuracy = (99.200000%)\n",
            "learning rate 0.01\n",
            "Test set: Average loss: 0.020706, Accuracy: 9936/10000 (99.360000%)\n",
            "\n",
            "Epoch:  22\n",
            "938\n",
            "Training Average loss: 0.025973, Accuracy = (99.205000%)\n",
            "learning rate 0.01\n",
            "Test set: Average loss: 0.020715, Accuracy: 9935/10000 (99.350000%)\n",
            "\n",
            "Epoch:  23\n",
            "938\n",
            "Training Average loss: 0.026879, Accuracy = (99.165000%)\n",
            "learning rate 0.01\n",
            "Test set: Average loss: 0.020851, Accuracy: 9934/10000 (99.340000%)\n",
            "\n",
            "Epoch:  24\n",
            "Epoch    24: reducing learning rate of group 0 to 5.0000e-02.\n",
            "938\n",
            "Training Average loss: 0.025532, Accuracy = (99.181667%)\n",
            "learning rate 0.01\n",
            "Test set: Average loss: 0.020835, Accuracy: 9930/10000 (99.300000%)\n",
            "\n",
            "Epoch:  25\n",
            "938\n",
            "Training Average loss: 0.026757, Accuracy = (99.186667%)\n",
            "learning rate 0.01\n",
            "Test set: Average loss: 0.020394, Accuracy: 9934/10000 (99.340000%)\n",
            "\n",
            "Epoch:  26\n",
            "938\n",
            "Training Average loss: 0.026049, Accuracy = (99.141667%)\n",
            "learning rate 0.01\n",
            "Test set: Average loss: 0.020330, Accuracy: 9936/10000 (99.360000%)\n",
            "\n",
            "Epoch:  27\n",
            "Epoch    27: reducing learning rate of group 0 to 5.0000e-03.\n",
            "938\n",
            "Training Average loss: 0.025949, Accuracy = (99.188333%)\n",
            "learning rate 0.01\n",
            "Test set: Average loss: 0.020241, Accuracy: 9939/10000 (99.390000%)\n",
            "\n",
            "Epoch:  28\n",
            "938\n",
            "Training Average loss: 0.025322, Accuracy = (99.203333%)\n",
            "learning rate 0.01\n",
            "Test set: Average loss: 0.020475, Accuracy: 9935/10000 (99.350000%)\n",
            "\n",
            "Epoch:  29\n",
            "938\n",
            "Training Average loss: 0.024902, Accuracy = (99.196667%)\n",
            "learning rate 0.01\n",
            "Test set: Average loss: 0.020416, Accuracy: 9934/10000 (99.340000%)\n",
            "\n"
          ],
          "name": "stdout"
        },
        {
          "output_type": "display_data",
          "data": {
            "image/png": "[encoded data removed]",
            "text/plain": [
              "<Figure size 1080x432 with 2 Axes>"
            ]
          },
          "metadata": {
            "tags": [],
            "needs_background": "light"
          }
        }
      ]
    },
    {
      "cell_type": "code",
      "metadata": {
        "colab": {
          "base_uri": "https://localhost:8080/",
          "height": 1000
        },
        "id": "NeGwfGKYJQj8",
        "outputId": "446f556b-3779-41ae-cf3a-7eeb24a4fc0a"
      },
      "source": [
        "for epoch in range(20, 30):\n",
        "    print(\"Epoch: \", epoch)\n",
        "    train(model, device, train_loader, optimizer, scheduler, epoch)\n",
        "    print(\"learning rate\", optimizer.param_groups[0]['lr'])\n",
        "    test(model, device, test_loader)   \n",
        "training_curves()"
      ],
      "execution_count": 56,
      "outputs": [
        {
          "output_type": "stream",
          "text": [
            "Epoch:  20\n"
          ],
          "name": "stdout"
        },
        {
          "output_type": "stream",
          "text": [
            "/usr/local/lib/python3.7/dist-packages/ipykernel_launcher.py:63: UserWarning: Implicit dimension choice for log_softmax has been deprecated. Change the call to include dim=X as an argument.\n"
          ],
          "name": "stderr"
        },
        {
          "output_type": "stream",
          "text": [
            "938\n",
            "Training Average loss: 0.023653, Accuracy = (99.236667%)\n",
            "learning rate 0.01\n",
            "Test set: Average loss: 0.020224, Accuracy: 9931/10000 (99.310000%)\n",
            "\n",
            "Epoch:  21\n",
            "938\n",
            "Training Average loss: 0.022541, Accuracy = (99.250000%)\n",
            "learning rate 0.01\n",
            "Test set: Average loss: 0.020760, Accuracy: 9929/10000 (99.290000%)\n",
            "\n",
            "Epoch:  22\n",
            "938\n",
            "Training Average loss: 0.022548, Accuracy = (99.275000%)\n",
            "learning rate 0.01\n",
            "Test set: Average loss: 0.020598, Accuracy: 9932/10000 (99.320000%)\n",
            "\n",
            "Epoch:  23\n",
            "938\n",
            "Training Average loss: 0.023772, Accuracy = (99.213333%)\n",
            "learning rate 0.01\n",
            "Test set: Average loss: 0.020525, Accuracy: 9934/10000 (99.340000%)\n",
            "\n",
            "Epoch:  24\n",
            "938\n",
            "Training Average loss: 0.022116, Accuracy = (99.306667%)\n",
            "learning rate 0.01\n",
            "Test set: Average loss: 0.021220, Accuracy: 9929/10000 (99.290000%)\n",
            "\n",
            "Epoch:  25\n",
            "938\n",
            "Training Average loss: 0.022373, Accuracy = (99.273333%)\n",
            "learning rate 0.01\n",
            "Test set: Average loss: 0.020877, Accuracy: 9934/10000 (99.340000%)\n",
            "\n",
            "Epoch:  26\n",
            "938\n",
            "Training Average loss: 0.022759, Accuracy = (99.291667%)\n",
            "learning rate 0.01\n",
            "Test set: Average loss: 0.020899, Accuracy: 9936/10000 (99.360000%)\n",
            "\n",
            "Epoch:  27\n",
            "938\n",
            "Training Average loss: 0.021877, Accuracy = (99.288333%)\n",
            "learning rate 0.01\n",
            "Test set: Average loss: 0.020522, Accuracy: 9939/10000 (99.390000%)\n",
            "\n",
            "Epoch:  28\n",
            "938\n",
            "Training Average loss: 0.022933, Accuracy = (99.243333%)\n",
            "learning rate 0.01\n",
            "Test set: Average loss: 0.020797, Accuracy: 9930/10000 (99.300000%)\n",
            "\n",
            "Epoch:  29\n",
            "938\n",
            "Training Average loss: 0.022599, Accuracy = (99.268333%)\n",
            "learning rate 0.01\n",
            "Test set: Average loss: 0.021088, Accuracy: 9930/10000 (99.300000%)\n",
            "\n"
          ],
          "name": "stdout"
        },
        {
          "output_type": "display_data",
          "data": {
            "image/png": "[encoded data removed]",
            "text/plain": [
              "<Figure size 1080x432 with 2 Axes>"
            ]
          },
          "metadata": {
            "tags": [],
            "needs_background": "light"
          }
        }
      ]
    },
    {
      "cell_type": "code",
      "metadata": {
        "colab": {
          "base_uri": "https://localhost:8080/",
          "height": 1000
        },
        "id": "cVBdaATQKROw",
        "outputId": "912da532-0fe8-4094-910d-184ee3286e1a"
      },
      "source": [
        "optimizer = optim.SGD(model.parameters(), lr=0.005, momentum=0.9,)\n",
        "for epoch in range(40, 50):\n",
        "    print(\"Epoch: \", epoch)\n",
        "    train(model, device, train_loader, optimizer, scheduler, epoch)\n",
        "    print(\"learning rate\", optimizer.param_groups[0]['lr'])\n",
        "    test(model, device, test_loader)   \n",
        "training_curves()"
      ],
      "execution_count": 57,
      "outputs": [
        {
          "output_type": "stream",
          "text": [
            "Epoch:  40\n"
          ],
          "name": "stdout"
        },
        {
          "output_type": "stream",
          "text": [
            "/usr/local/lib/python3.7/dist-packages/ipykernel_launcher.py:63: UserWarning: Implicit dimension choice for log_softmax has been deprecated. Change the call to include dim=X as an argument.\n"
          ],
          "name": "stderr"
        },
        {
          "output_type": "stream",
          "text": [
            "Epoch    40: reducing learning rate of group 0 to 5.0000e-03.\n",
            "938\n",
            "Training Average loss: 0.022610, Accuracy = (99.280000%)\n",
            "learning rate 0.005\n",
            "Test set: Average loss: 0.020297, Accuracy: 9937/10000 (99.370000%)\n",
            "\n",
            "Epoch:  41\n",
            "938\n",
            "Training Average loss: 0.022007, Accuracy = (99.290000%)\n",
            "learning rate 0.005\n",
            "Test set: Average loss: 0.020812, Accuracy: 9934/10000 (99.340000%)\n",
            "\n",
            "Epoch:  42\n",
            "938\n",
            "Training Average loss: 0.022895, Accuracy = (99.263333%)\n",
            "learning rate 0.005\n",
            "Test set: Average loss: 0.020829, Accuracy: 9931/10000 (99.310000%)\n",
            "\n",
            "Epoch:  43\n",
            "Epoch    43: reducing learning rate of group 0 to 5.0000e-04.\n",
            "938\n",
            "Training Average loss: 0.022686, Accuracy = (99.280000%)\n",
            "learning rate 0.005\n",
            "Test set: Average loss: 0.020836, Accuracy: 9935/10000 (99.350000%)\n",
            "\n",
            "Epoch:  44\n",
            "938\n",
            "Training Average loss: 0.021772, Accuracy = (99.310000%)\n",
            "learning rate 0.005\n",
            "Test set: Average loss: 0.021032, Accuracy: 9931/10000 (99.310000%)\n",
            "\n",
            "Epoch:  45\n",
            "938\n",
            "Training Average loss: 0.021559, Accuracy = (99.306667%)\n",
            "learning rate 0.005\n",
            "Test set: Average loss: 0.020406, Accuracy: 9936/10000 (99.360000%)\n",
            "\n",
            "Epoch:  46\n",
            "938\n",
            "Training Average loss: 0.021853, Accuracy = (99.303333%)\n",
            "learning rate 0.005\n",
            "Test set: Average loss: 0.020932, Accuracy: 9935/10000 (99.350000%)\n",
            "\n",
            "Epoch:  47\n",
            "938\n",
            "Training Average loss: 0.021772, Accuracy = (99.311667%)\n",
            "learning rate 0.005\n",
            "Test set: Average loss: 0.020939, Accuracy: 9935/10000 (99.350000%)\n",
            "\n",
            "Epoch:  48\n",
            "Epoch    48: reducing learning rate of group 0 to 5.0000e-05.\n",
            "938\n",
            "Training Average loss: 0.022598, Accuracy = (99.303333%)\n",
            "learning rate 0.005\n",
            "Test set: Average loss: 0.020924, Accuracy: 9934/10000 (99.340000%)\n",
            "\n",
            "Epoch:  49\n",
            "938\n",
            "Training Average loss: 0.022443, Accuracy = (99.238333%)\n",
            "learning rate 0.005\n",
            "Test set: Average loss: 0.020870, Accuracy: 9934/10000 (99.340000%)\n",
            "\n"
          ],
          "name": "stdout"
        },
        {
          "output_type": "display_data",
          "data": {
            "image/png": "[encoded data removed]",
            "text/plain": [
              "<Figure size 1080x432 with 2 Axes>"
            ]
          },
          "metadata": {
            "tags": [],
            "needs_background": "light"
          }
        }
      ]
    },
    {
      "cell_type": "markdown",
      "metadata": {
        "id": "H_HK2NlWMJQv"
      },
      "source": [
        "More epochs with lower LR"
      ]
    }
  ]
}