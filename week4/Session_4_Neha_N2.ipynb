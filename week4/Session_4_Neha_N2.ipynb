{
  "nbformat": 4,
  "nbformat_minor": 0,
  "metadata": {
    "colab": {
      "name": "Session 4_Neha.ipynb",
      "provenance": [],
      "include_colab_link": true
    },
    "kernelspec": {
      "name": "python3",
      "display_name": "Python 3"
    },
    "accelerator": "GPU",
    "widgets": {
      "application/vnd.jupyter.widget-state+json": {
        "24d1ebbe6b69428b829322003f905d08": {
          "model_module": "@jupyter-widgets/controls",
          "model_name": "HBoxModel",
          "state": {
            "_view_name": "HBoxView",
            "_dom_classes": [],
            "_model_name": "HBoxModel",
            "_view_module": "@jupyter-widgets/controls",
            "_model_module_version": "1.5.0",
            "_view_count": null,
            "_view_module_version": "1.5.0",
            "box_style": "",
            "layout": "IPY_MODEL_914df741c5d14c68b726f15760c8ad0b",
            "_model_module": "@jupyter-widgets/controls",
            "children": [
              "IPY_MODEL_26a381fdfc1f40c29e73506acb8d30f1",
              "IPY_MODEL_8c8457d8ad104966b9060d4c84d450a1"
            ]
          }
        },
        "914df741c5d14c68b726f15760c8ad0b": {
          "model_module": "@jupyter-widgets/base",
          "model_name": "LayoutModel",
          "state": {
            "_view_name": "LayoutView",
            "grid_template_rows": null,
            "right": null,
            "justify_content": null,
            "_view_module": "@jupyter-widgets/base",
            "overflow": null,
            "_model_module_version": "1.2.0",
            "_view_count": null,
            "flex_flow": null,
            "width": null,
            "min_width": null,
            "border": null,
            "align_items": null,
            "bottom": null,
            "_model_module": "@jupyter-widgets/base",
            "top": null,
            "grid_column": null,
            "overflow_y": null,
            "overflow_x": null,
            "grid_auto_flow": null,
            "grid_area": null,
            "grid_template_columns": null,
            "flex": null,
            "_model_name": "LayoutModel",
            "justify_items": null,
            "grid_row": null,
            "max_height": null,
            "align_content": null,
            "visibility": null,
            "align_self": null,
            "height": null,
            "min_height": null,
            "padding": null,
            "grid_auto_rows": null,
            "grid_gap": null,
            "max_width": null,
            "order": null,
            "_view_module_version": "1.2.0",
            "grid_template_areas": null,
            "object_position": null,
            "object_fit": null,
            "grid_auto_columns": null,
            "margin": null,
            "display": null,
            "left": null
          }
        },
        "26a381fdfc1f40c29e73506acb8d30f1": {
          "model_module": "@jupyter-widgets/controls",
          "model_name": "FloatProgressModel",
          "state": {
            "_view_name": "ProgressView",
            "style": "IPY_MODEL_c0a6a732a6244ab5abc17c2917e31911",
            "_dom_classes": [],
            "description": "",
            "_model_name": "FloatProgressModel",
            "bar_style": "success",
            "max": 9912422,
            "_view_module": "@jupyter-widgets/controls",
            "_model_module_version": "1.5.0",
            "value": 9912422,
            "_view_count": null,
            "_view_module_version": "1.5.0",
            "orientation": "horizontal",
            "min": 0,
            "description_tooltip": null,
            "_model_module": "@jupyter-widgets/controls",
            "layout": "IPY_MODEL_b156d44ab7c94bd8875537b743010e9e"
          }
        },
        "8c8457d8ad104966b9060d4c84d450a1": {
          "model_module": "@jupyter-widgets/controls",
          "model_name": "HTMLModel",
          "state": {
            "_view_name": "HTMLView",
            "style": "IPY_MODEL_027518f5deb64d36bb689f908312148d",
            "_dom_classes": [],
            "description": "",
            "_model_name": "HTMLModel",
            "placeholder": "​",
            "_view_module": "@jupyter-widgets/controls",
            "_model_module_version": "1.5.0",
            "value": " 9913344/? [00:16&lt;00:00, 600187.37it/s]",
            "_view_count": null,
            "_view_module_version": "1.5.0",
            "description_tooltip": null,
            "_model_module": "@jupyter-widgets/controls",
            "layout": "IPY_MODEL_a543168f177c4761a8fa67a0b2701f61"
          }
        },
        "c0a6a732a6244ab5abc17c2917e31911": {
          "model_module": "@jupyter-widgets/controls",
          "model_name": "ProgressStyleModel",
          "state": {
            "_view_name": "StyleView",
            "_model_name": "ProgressStyleModel",
            "description_width": "initial",
            "_view_module": "@jupyter-widgets/base",
            "_model_module_version": "1.5.0",
            "_view_count": null,
            "_view_module_version": "1.2.0",
            "bar_color": null,
            "_model_module": "@jupyter-widgets/controls"
          }
        },
        "b156d44ab7c94bd8875537b743010e9e": {
          "model_module": "@jupyter-widgets/base",
          "model_name": "LayoutModel",
          "state": {
            "_view_name": "LayoutView",
            "grid_template_rows": null,
            "right": null,
            "justify_content": null,
            "_view_module": "@jupyter-widgets/base",
            "overflow": null,
            "_model_module_version": "1.2.0",
            "_view_count": null,
            "flex_flow": null,
            "width": null,
            "min_width": null,
            "border": null,
            "align_items": null,
            "bottom": null,
            "_model_module": "@jupyter-widgets/base",
            "top": null,
            "grid_column": null,
            "overflow_y": null,
            "overflow_x": null,
            "grid_auto_flow": null,
            "grid_area": null,
            "grid_template_columns": null,
            "flex": null,
            "_model_name": "LayoutModel",
            "justify_items": null,
            "grid_row": null,
            "max_height": null,
            "align_content": null,
            "visibility": null,
            "align_self": null,
            "height": null,
            "min_height": null,
            "padding": null,
            "grid_auto_rows": null,
            "grid_gap": null,
            "max_width": null,
            "order": null,
            "_view_module_version": "1.2.0",
            "grid_template_areas": null,
            "object_position": null,
            "object_fit": null,
            "grid_auto_columns": null,
            "margin": null,
            "display": null,
            "left": null
          }
        },
        "027518f5deb64d36bb689f908312148d": {
          "model_module": "@jupyter-widgets/controls",
          "model_name": "DescriptionStyleModel",
          "state": {
            "_view_name": "StyleView",
            "_model_name": "DescriptionStyleModel",
            "description_width": "",
            "_view_module": "@jupyter-widgets/base",
            "_model_module_version": "1.5.0",
            "_view_count": null,
            "_view_module_version": "1.2.0",
            "_model_module": "@jupyter-widgets/controls"
          }
        },
        "a543168f177c4761a8fa67a0b2701f61": {
          "model_module": "@jupyter-widgets/base",
          "model_name": "LayoutModel",
          "state": {
            "_view_name": "LayoutView",
            "grid_template_rows": null,
            "right": null,
            "justify_content": null,
            "_view_module": "@jupyter-widgets/base",
            "overflow": null,
            "_model_module_version": "1.2.0",
            "_view_count": null,
            "flex_flow": null,
            "width": null,
            "min_width": null,
            "border": null,
            "align_items": null,
            "bottom": null,
            "_model_module": "@jupyter-widgets/base",
            "top": null,
            "grid_column": null,
            "overflow_y": null,
            "overflow_x": null,
            "grid_auto_flow": null,
            "grid_area": null,
            "grid_template_columns": null,
            "flex": null,
            "_model_name": "LayoutModel",
            "justify_items": null,
            "grid_row": null,
            "max_height": null,
            "align_content": null,
            "visibility": null,
            "align_self": null,
            "height": null,
            "min_height": null,
            "padding": null,
            "grid_auto_rows": null,
            "grid_gap": null,
            "max_width": null,
            "order": null,
            "_view_module_version": "1.2.0",
            "grid_template_areas": null,
            "object_position": null,
            "object_fit": null,
            "grid_auto_columns": null,
            "margin": null,
            "display": null,
            "left": null
          }
        },
        "dc598ced63db4d6a8bfa38410871a749": {
          "model_module": "@jupyter-widgets/controls",
          "model_name": "HBoxModel",
          "state": {
            "_view_name": "HBoxView",
            "_dom_classes": [],
            "_model_name": "HBoxModel",
            "_view_module": "@jupyter-widgets/controls",
            "_model_module_version": "1.5.0",
            "_view_count": null,
            "_view_module_version": "1.5.0",
            "box_style": "",
            "layout": "IPY_MODEL_1da33b0cc8cc4c1185c4a7ae15550876",
            "_model_module": "@jupyter-widgets/controls",
            "children": [
              "IPY_MODEL_3c17a7fd5f0544a6835be3c4b15df2c0",
              "IPY_MODEL_8ef1710072954af6817beed06ffbfdff"
            ]
          }
        },
        "1da33b0cc8cc4c1185c4a7ae15550876": {
          "model_module": "@jupyter-widgets/base",
          "model_name": "LayoutModel",
          "state": {
            "_view_name": "LayoutView",
            "grid_template_rows": null,
            "right": null,
            "justify_content": null,
            "_view_module": "@jupyter-widgets/base",
            "overflow": null,
            "_model_module_version": "1.2.0",
            "_view_count": null,
            "flex_flow": null,
            "width": null,
            "min_width": null,
            "border": null,
            "align_items": null,
            "bottom": null,
            "_model_module": "@jupyter-widgets/base",
            "top": null,
            "grid_column": null,
            "overflow_y": null,
            "overflow_x": null,
            "grid_auto_flow": null,
            "grid_area": null,
            "grid_template_columns": null,
            "flex": null,
            "_model_name": "LayoutModel",
            "justify_items": null,
            "grid_row": null,
            "max_height": null,
            "align_content": null,
            "visibility": null,
            "align_self": null,
            "height": null,
            "min_height": null,
            "padding": null,
            "grid_auto_rows": null,
            "grid_gap": null,
            "max_width": null,
            "order": null,
            "_view_module_version": "1.2.0",
            "grid_template_areas": null,
            "object_position": null,
            "object_fit": null,
            "grid_auto_columns": null,
            "margin": null,
            "display": null,
            "left": null
          }
        },
        "3c17a7fd5f0544a6835be3c4b15df2c0": {
          "model_module": "@jupyter-widgets/controls",
          "model_name": "FloatProgressModel",
          "state": {
            "_view_name": "ProgressView",
            "style": "IPY_MODEL_9cb8b30d1b6f43f89022eb591561d8d2",
            "_dom_classes": [],
            "description": "",
            "_model_name": "FloatProgressModel",
            "bar_style": "success",
            "max": 28881,
            "_view_module": "@jupyter-widgets/controls",
            "_model_module_version": "1.5.0",
            "value": 28881,
            "_view_count": null,
            "_view_module_version": "1.5.0",
            "orientation": "horizontal",
            "min": 0,
            "description_tooltip": null,
            "_model_module": "@jupyter-widgets/controls",
            "layout": "IPY_MODEL_c8b554381f3b4155afda2d3956fb8643"
          }
        },
        "8ef1710072954af6817beed06ffbfdff": {
          "model_module": "@jupyter-widgets/controls",
          "model_name": "HTMLModel",
          "state": {
            "_view_name": "HTMLView",
            "style": "IPY_MODEL_a6ee4181ba924270996ba8624186a8d1",
            "_dom_classes": [],
            "description": "",
            "_model_name": "HTMLModel",
            "placeholder": "​",
            "_view_module": "@jupyter-widgets/controls",
            "_model_module_version": "1.5.0",
            "value": " 29696/? [00:02&lt;00:00, 14593.40it/s]",
            "_view_count": null,
            "_view_module_version": "1.5.0",
            "description_tooltip": null,
            "_model_module": "@jupyter-widgets/controls",
            "layout": "IPY_MODEL_c2f4a591cf354a268f9b7487167f9f99"
          }
        },
        "9cb8b30d1b6f43f89022eb591561d8d2": {
          "model_module": "@jupyter-widgets/controls",
          "model_name": "ProgressStyleModel",
          "state": {
            "_view_name": "StyleView",
            "_model_name": "ProgressStyleModel",
            "description_width": "initial",
            "_view_module": "@jupyter-widgets/base",
            "_model_module_version": "1.5.0",
            "_view_count": null,
            "_view_module_version": "1.2.0",
            "bar_color": null,
            "_model_module": "@jupyter-widgets/controls"
          }
        },
        "c8b554381f3b4155afda2d3956fb8643": {
          "model_module": "@jupyter-widgets/base",
          "model_name": "LayoutModel",
          "state": {
            "_view_name": "LayoutView",
            "grid_template_rows": null,
            "right": null,
            "justify_content": null,
            "_view_module": "@jupyter-widgets/base",
            "overflow": null,
            "_model_module_version": "1.2.0",
            "_view_count": null,
            "flex_flow": null,
            "width": null,
            "min_width": null,
            "border": null,
            "align_items": null,
            "bottom": null,
            "_model_module": "@jupyter-widgets/base",
            "top": null,
            "grid_column": null,
            "overflow_y": null,
            "overflow_x": null,
            "grid_auto_flow": null,
            "grid_area": null,
            "grid_template_columns": null,
            "flex": null,
            "_model_name": "LayoutModel",
            "justify_items": null,
            "grid_row": null,
            "max_height": null,
            "align_content": null,
            "visibility": null,
            "align_self": null,
            "height": null,
            "min_height": null,
            "padding": null,
            "grid_auto_rows": null,
            "grid_gap": null,
            "max_width": null,
            "order": null,
            "_view_module_version": "1.2.0",
            "grid_template_areas": null,
            "object_position": null,
            "object_fit": null,
            "grid_auto_columns": null,
            "margin": null,
            "display": null,
            "left": null
          }
        },
        "a6ee4181ba924270996ba8624186a8d1": {
          "model_module": "@jupyter-widgets/controls",
          "model_name": "DescriptionStyleModel",
          "state": {
            "_view_name": "StyleView",
            "_model_name": "DescriptionStyleModel",
            "description_width": "",
            "_view_module": "@jupyter-widgets/base",
            "_model_module_version": "1.5.0",
            "_view_count": null,
            "_view_module_version": "1.2.0",
            "_model_module": "@jupyter-widgets/controls"
          }
        },
        "c2f4a591cf354a268f9b7487167f9f99": {
          "model_module": "@jupyter-widgets/base",
          "model_name": "LayoutModel",
          "state": {
            "_view_name": "LayoutView",
            "grid_template_rows": null,
            "right": null,
            "justify_content": null,
            "_view_module": "@jupyter-widgets/base",
            "overflow": null,
            "_model_module_version": "1.2.0",
            "_view_count": null,
            "flex_flow": null,
            "width": null,
            "min_width": null,
            "border": null,
            "align_items": null,
            "bottom": null,
            "_model_module": "@jupyter-widgets/base",
            "top": null,
            "grid_column": null,
            "overflow_y": null,
            "overflow_x": null,
            "grid_auto_flow": null,
            "grid_area": null,
            "grid_template_columns": null,
            "flex": null,
            "_model_name": "LayoutModel",
            "justify_items": null,
            "grid_row": null,
            "max_height": null,
            "align_content": null,
            "visibility": null,
            "align_self": null,
            "height": null,
            "min_height": null,
            "padding": null,
            "grid_auto_rows": null,
            "grid_gap": null,
            "max_width": null,
            "order": null,
            "_view_module_version": "1.2.0",
            "grid_template_areas": null,
            "object_position": null,
            "object_fit": null,
            "grid_auto_columns": null,
            "margin": null,
            "display": null,
            "left": null
          }
        },
        "d9c7c0f2207d419f9312c81dbc7e5806": {
          "model_module": "@jupyter-widgets/controls",
          "model_name": "HBoxModel",
          "state": {
            "_view_name": "HBoxView",
            "_dom_classes": [],
            "_model_name": "HBoxModel",
            "_view_module": "@jupyter-widgets/controls",
            "_model_module_version": "1.5.0",
            "_view_count": null,
            "_view_module_version": "1.5.0",
            "box_style": "",
            "layout": "IPY_MODEL_982c1a577bdb401da8c8752c16166dfe",
            "_model_module": "@jupyter-widgets/controls",
            "children": [
              "IPY_MODEL_ff12097d42bf480eb91b4e620c1a7867",
              "IPY_MODEL_133662f08e1b4d949da08ef80d837d44"
            ]
          }
        },
        "982c1a577bdb401da8c8752c16166dfe": {
          "model_module": "@jupyter-widgets/base",
          "model_name": "LayoutModel",
          "state": {
            "_view_name": "LayoutView",
            "grid_template_rows": null,
            "right": null,
            "justify_content": null,
            "_view_module": "@jupyter-widgets/base",
            "overflow": null,
            "_model_module_version": "1.2.0",
            "_view_count": null,
            "flex_flow": null,
            "width": null,
            "min_width": null,
            "border": null,
            "align_items": null,
            "bottom": null,
            "_model_module": "@jupyter-widgets/base",
            "top": null,
            "grid_column": null,
            "overflow_y": null,
            "overflow_x": null,
            "grid_auto_flow": null,
            "grid_area": null,
            "grid_template_columns": null,
            "flex": null,
            "_model_name": "LayoutModel",
            "justify_items": null,
            "grid_row": null,
            "max_height": null,
            "align_content": null,
            "visibility": null,
            "align_self": null,
            "height": null,
            "min_height": null,
            "padding": null,
            "grid_auto_rows": null,
            "grid_gap": null,
            "max_width": null,
            "order": null,
            "_view_module_version": "1.2.0",
            "grid_template_areas": null,
            "object_position": null,
            "object_fit": null,
            "grid_auto_columns": null,
            "margin": null,
            "display": null,
            "left": null
          }
        },
        "ff12097d42bf480eb91b4e620c1a7867": {
          "model_module": "@jupyter-widgets/controls",
          "model_name": "FloatProgressModel",
          "state": {
            "_view_name": "ProgressView",
            "style": "IPY_MODEL_563436b7fea9411ba9f64d795046f816",
            "_dom_classes": [],
            "description": "",
            "_model_name": "FloatProgressModel",
            "bar_style": "success",
            "max": 1648877,
            "_view_module": "@jupyter-widgets/controls",
            "_model_module_version": "1.5.0",
            "value": 1648877,
            "_view_count": null,
            "_view_module_version": "1.5.0",
            "orientation": "horizontal",
            "min": 0,
            "description_tooltip": null,
            "_model_module": "@jupyter-widgets/controls",
            "layout": "IPY_MODEL_3b7e6443bb904d96bd9a9c62fec38891"
          }
        },
        "133662f08e1b4d949da08ef80d837d44": {
          "model_module": "@jupyter-widgets/controls",
          "model_name": "HTMLModel",
          "state": {
            "_view_name": "HTMLView",
            "style": "IPY_MODEL_1eccb42136b643cd93ef280d0486c96b",
            "_dom_classes": [],
            "description": "",
            "_model_name": "HTMLModel",
            "placeholder": "​",
            "_view_module": "@jupyter-widgets/controls",
            "_model_module_version": "1.5.0",
            "value": " 1649664/? [00:01&lt;00:00, 1318906.33it/s]",
            "_view_count": null,
            "_view_module_version": "1.5.0",
            "description_tooltip": null,
            "_model_module": "@jupyter-widgets/controls",
            "layout": "IPY_MODEL_96bf0c46821947f2b519b0af8aa5d731"
          }
        },
        "563436b7fea9411ba9f64d795046f816": {
          "model_module": "@jupyter-widgets/controls",
          "model_name": "ProgressStyleModel",
          "state": {
            "_view_name": "StyleView",
            "_model_name": "ProgressStyleModel",
            "description_width": "initial",
            "_view_module": "@jupyter-widgets/base",
            "_model_module_version": "1.5.0",
            "_view_count": null,
            "_view_module_version": "1.2.0",
            "bar_color": null,
            "_model_module": "@jupyter-widgets/controls"
          }
        },
        "3b7e6443bb904d96bd9a9c62fec38891": {
          "model_module": "@jupyter-widgets/base",
          "model_name": "LayoutModel",
          "state": {
            "_view_name": "LayoutView",
            "grid_template_rows": null,
            "right": null,
            "justify_content": null,
            "_view_module": "@jupyter-widgets/base",
            "overflow": null,
            "_model_module_version": "1.2.0",
            "_view_count": null,
            "flex_flow": null,
            "width": null,
            "min_width": null,
            "border": null,
            "align_items": null,
            "bottom": null,
            "_model_module": "@jupyter-widgets/base",
            "top": null,
            "grid_column": null,
            "overflow_y": null,
            "overflow_x": null,
            "grid_auto_flow": null,
            "grid_area": null,
            "grid_template_columns": null,
            "flex": null,
            "_model_name": "LayoutModel",
            "justify_items": null,
            "grid_row": null,
            "max_height": null,
            "align_content": null,
            "visibility": null,
            "align_self": null,
            "height": null,
            "min_height": null,
            "padding": null,
            "grid_auto_rows": null,
            "grid_gap": null,
            "max_width": null,
            "order": null,
            "_view_module_version": "1.2.0",
            "grid_template_areas": null,
            "object_position": null,
            "object_fit": null,
            "grid_auto_columns": null,
            "margin": null,
            "display": null,
            "left": null
          }
        },
        "1eccb42136b643cd93ef280d0486c96b": {
          "model_module": "@jupyter-widgets/controls",
          "model_name": "DescriptionStyleModel",
          "state": {
            "_view_name": "StyleView",
            "_model_name": "DescriptionStyleModel",
            "description_width": "",
            "_view_module": "@jupyter-widgets/base",
            "_model_module_version": "1.5.0",
            "_view_count": null,
            "_view_module_version": "1.2.0",
            "_model_module": "@jupyter-widgets/controls"
          }
        },
        "96bf0c46821947f2b519b0af8aa5d731": {
          "model_module": "@jupyter-widgets/base",
          "model_name": "LayoutModel",
          "state": {
            "_view_name": "LayoutView",
            "grid_template_rows": null,
            "right": null,
            "justify_content": null,
            "_view_module": "@jupyter-widgets/base",
            "overflow": null,
            "_model_module_version": "1.2.0",
            "_view_count": null,
            "flex_flow": null,
            "width": null,
            "min_width": null,
            "border": null,
            "align_items": null,
            "bottom": null,
            "_model_module": "@jupyter-widgets/base",
            "top": null,
            "grid_column": null,
            "overflow_y": null,
            "overflow_x": null,
            "grid_auto_flow": null,
            "grid_area": null,
            "grid_template_columns": null,
            "flex": null,
            "_model_name": "LayoutModel",
            "justify_items": null,
            "grid_row": null,
            "max_height": null,
            "align_content": null,
            "visibility": null,
            "align_self": null,
            "height": null,
            "min_height": null,
            "padding": null,
            "grid_auto_rows": null,
            "grid_gap": null,
            "max_width": null,
            "order": null,
            "_view_module_version": "1.2.0",
            "grid_template_areas": null,
            "object_position": null,
            "object_fit": null,
            "grid_auto_columns": null,
            "margin": null,
            "display": null,
            "left": null
          }
        },
        "a9d243dc190142e8a1fe293b3348ef88": {
          "model_module": "@jupyter-widgets/controls",
          "model_name": "HBoxModel",
          "state": {
            "_view_name": "HBoxView",
            "_dom_classes": [],
            "_model_name": "HBoxModel",
            "_view_module": "@jupyter-widgets/controls",
            "_model_module_version": "1.5.0",
            "_view_count": null,
            "_view_module_version": "1.5.0",
            "box_style": "",
            "layout": "IPY_MODEL_a618736dd9e94a289fceb2359272944f",
            "_model_module": "@jupyter-widgets/controls",
            "children": [
              "IPY_MODEL_55fcebd7431f43319c4c199e81f880db",
              "IPY_MODEL_31c9be87daee4f859f36ed8f1c7c296f"
            ]
          }
        },
        "a618736dd9e94a289fceb2359272944f": {
          "model_module": "@jupyter-widgets/base",
          "model_name": "LayoutModel",
          "state": {
            "_view_name": "LayoutView",
            "grid_template_rows": null,
            "right": null,
            "justify_content": null,
            "_view_module": "@jupyter-widgets/base",
            "overflow": null,
            "_model_module_version": "1.2.0",
            "_view_count": null,
            "flex_flow": null,
            "width": null,
            "min_width": null,
            "border": null,
            "align_items": null,
            "bottom": null,
            "_model_module": "@jupyter-widgets/base",
            "top": null,
            "grid_column": null,
            "overflow_y": null,
            "overflow_x": null,
            "grid_auto_flow": null,
            "grid_area": null,
            "grid_template_columns": null,
            "flex": null,
            "_model_name": "LayoutModel",
            "justify_items": null,
            "grid_row": null,
            "max_height": null,
            "align_content": null,
            "visibility": null,
            "align_self": null,
            "height": null,
            "min_height": null,
            "padding": null,
            "grid_auto_rows": null,
            "grid_gap": null,
            "max_width": null,
            "order": null,
            "_view_module_version": "1.2.0",
            "grid_template_areas": null,
            "object_position": null,
            "object_fit": null,
            "grid_auto_columns": null,
            "margin": null,
            "display": null,
            "left": null
          }
        },
        "55fcebd7431f43319c4c199e81f880db": {
          "model_module": "@jupyter-widgets/controls",
          "model_name": "FloatProgressModel",
          "state": {
            "_view_name": "ProgressView",
            "style": "IPY_MODEL_bbc66fb234dd44f4a5efde0a117bb52d",
            "_dom_classes": [],
            "description": "",
            "_model_name": "FloatProgressModel",
            "bar_style": "success",
            "max": 4542,
            "_view_module": "@jupyter-widgets/controls",
            "_model_module_version": "1.5.0",
            "value": 4542,
            "_view_count": null,
            "_view_module_version": "1.5.0",
            "orientation": "horizontal",
            "min": 0,
            "description_tooltip": null,
            "_model_module": "@jupyter-widgets/controls",
            "layout": "IPY_MODEL_f7a9b96cce774024a115069329cb44a4"
          }
        },
        "31c9be87daee4f859f36ed8f1c7c296f": {
          "model_module": "@jupyter-widgets/controls",
          "model_name": "HTMLModel",
          "state": {
            "_view_name": "HTMLView",
            "style": "IPY_MODEL_9c18333afd7d47ab97ddf1db1a680498",
            "_dom_classes": [],
            "description": "",
            "_model_name": "HTMLModel",
            "placeholder": "​",
            "_view_module": "@jupyter-widgets/controls",
            "_model_module_version": "1.5.0",
            "value": " 5120/? [00:11&lt;00:00, 437.37it/s]",
            "_view_count": null,
            "_view_module_version": "1.5.0",
            "description_tooltip": null,
            "_model_module": "@jupyter-widgets/controls",
            "layout": "IPY_MODEL_b104524b487c498597ce70ec49c01fe8"
          }
        },
        "bbc66fb234dd44f4a5efde0a117bb52d": {
          "model_module": "@jupyter-widgets/controls",
          "model_name": "ProgressStyleModel",
          "state": {
            "_view_name": "StyleView",
            "_model_name": "ProgressStyleModel",
            "description_width": "initial",
            "_view_module": "@jupyter-widgets/base",
            "_model_module_version": "1.5.0",
            "_view_count": null,
            "_view_module_version": "1.2.0",
            "bar_color": null,
            "_model_module": "@jupyter-widgets/controls"
          }
        },
        "f7a9b96cce774024a115069329cb44a4": {
          "model_module": "@jupyter-widgets/base",
          "model_name": "LayoutModel",
          "state": {
            "_view_name": "LayoutView",
            "grid_template_rows": null,
            "right": null,
            "justify_content": null,
            "_view_module": "@jupyter-widgets/base",
            "overflow": null,
            "_model_module_version": "1.2.0",
            "_view_count": null,
            "flex_flow": null,
            "width": null,
            "min_width": null,
            "border": null,
            "align_items": null,
            "bottom": null,
            "_model_module": "@jupyter-widgets/base",
            "top": null,
            "grid_column": null,
            "overflow_y": null,
            "overflow_x": null,
            "grid_auto_flow": null,
            "grid_area": null,
            "grid_template_columns": null,
            "flex": null,
            "_model_name": "LayoutModel",
            "justify_items": null,
            "grid_row": null,
            "max_height": null,
            "align_content": null,
            "visibility": null,
            "align_self": null,
            "height": null,
            "min_height": null,
            "padding": null,
            "grid_auto_rows": null,
            "grid_gap": null,
            "max_width": null,
            "order": null,
            "_view_module_version": "1.2.0",
            "grid_template_areas": null,
            "object_position": null,
            "object_fit": null,
            "grid_auto_columns": null,
            "margin": null,
            "display": null,
            "left": null
          }
        },
        "9c18333afd7d47ab97ddf1db1a680498": {
          "model_module": "@jupyter-widgets/controls",
          "model_name": "DescriptionStyleModel",
          "state": {
            "_view_name": "StyleView",
            "_model_name": "DescriptionStyleModel",
            "description_width": "",
            "_view_module": "@jupyter-widgets/base",
            "_model_module_version": "1.5.0",
            "_view_count": null,
            "_view_module_version": "1.2.0",
            "_model_module": "@jupyter-widgets/controls"
          }
        },
        "b104524b487c498597ce70ec49c01fe8": {
          "model_module": "@jupyter-widgets/base",
          "model_name": "LayoutModel",
          "state": {
            "_view_name": "LayoutView",
            "grid_template_rows": null,
            "right": null,
            "justify_content": null,
            "_view_module": "@jupyter-widgets/base",
            "overflow": null,
            "_model_module_version": "1.2.0",
            "_view_count": null,
            "flex_flow": null,
            "width": null,
            "min_width": null,
            "border": null,
            "align_items": null,
            "bottom": null,
            "_model_module": "@jupyter-widgets/base",
            "top": null,
            "grid_column": null,
            "overflow_y": null,
            "overflow_x": null,
            "grid_auto_flow": null,
            "grid_area": null,
            "grid_template_columns": null,
            "flex": null,
            "_model_name": "LayoutModel",
            "justify_items": null,
            "grid_row": null,
            "max_height": null,
            "align_content": null,
            "visibility": null,
            "align_self": null,
            "height": null,
            "min_height": null,
            "padding": null,
            "grid_auto_rows": null,
            "grid_gap": null,
            "max_width": null,
            "order": null,
            "_view_module_version": "1.2.0",
            "grid_template_areas": null,
            "object_position": null,
            "object_fit": null,
            "grid_auto_columns": null,
            "margin": null,
            "display": null,
            "left": null
          }
        }
      }
    }
  },
  "cells": [
    {
      "cell_type": "markdown",
      "metadata": {
        "id": "view-in-github",
        "colab_type": "text"
      },
      "source": [
        "<a href=\"https://colab.research.google.com/github/MittalNeha/Extensive_Vision_AI6/blob/main/week4/Session_4_Neha_N2.ipynb\" target=\"_parent\"><img src=\"https://colab.research.google.com/assets/colab-badge.svg\" alt=\"Open In Colab\"/></a>"
      ]
    },
    {
      "cell_type": "code",
      "metadata": {
        "id": "0m2JWFliFfKT"
      },
      "source": [
        "from __future__ import print_function\n",
        "import torch\n",
        "import torch.nn as nn\n",
        "import torch.nn.functional as F\n",
        "import torch.optim as optim\n",
        "from torchvision import datasets, transforms"
      ],
      "execution_count": 1,
      "outputs": []
    },
    {
      "cell_type": "code",
      "metadata": {
        "colab": {
          "base_uri": "https://localhost:8080/"
        },
        "id": "NYx7V_QAsfDP",
        "outputId": "a22def4e-6a7c-4bb0-9989-3bea33d2b061"
      },
      "source": [
        "!pip install hiddenlayer\n",
        "import hiddenlayer as hl"
      ],
      "execution_count": 2,
      "outputs": [
        {
          "output_type": "stream",
          "text": [
            "Collecting hiddenlayer\n",
            "  Downloading https://files.pythonhosted.org/packages/64/f8/ea51d02695a4dc397f3b2487fae462cd3f2ce707c54250e0fdfaec2ff92e/hiddenlayer-0.3-py3-none-any.whl\n",
            "Installing collected packages: hiddenlayer\n",
            "Successfully installed hiddenlayer-0.3\n"
          ],
          "name": "stdout"
        }
      ]
    },
    {
      "cell_type": "markdown",
      "metadata": {
        "id": "07dPrJbdumbg"
      },
      "source": [
        "# New Section"
      ]
    },
    {
      "cell_type": "code",
      "metadata": {
        "id": "xdydjYTZFyi3",
        "colab": {
          "base_uri": "https://localhost:8080/"
        },
        "outputId": "6cf714ed-ff9a-4e1c-92ce-2b7e035e1774"
      },
      "source": [
        "!pip install torchsummary\n",
        "from torchsummary import summary\n",
        "use_cuda = torch.cuda.is_available()\n",
        "device = torch.device(\"cuda\" if use_cuda else \"cpu\")\n",
        "# model = Net().to(device)\n",
        "# summary(model, input_size=(1, 28, 28))"
      ],
      "execution_count": 3,
      "outputs": [
        {
          "output_type": "stream",
          "text": [
            "Requirement already satisfied: torchsummary in /usr/local/lib/python3.7/dist-packages (1.5.1)\n"
          ],
          "name": "stdout"
        }
      ]
    },
    {
      "cell_type": "markdown",
      "metadata": {
        "id": "JFwhzk3EHQmo"
      },
      "source": [
        "#Download the dataset\n"
      ]
    },
    {
      "cell_type": "code",
      "metadata": {
        "id": "DqTWLaM5GHgH",
        "outputId": "1059e361-1113-4ee5-d207-221872a95572",
        "colab": {
          "base_uri": "https://localhost:8080/",
          "height": 845,
          "referenced_widgets": [
            "24d1ebbe6b69428b829322003f905d08",
            "914df741c5d14c68b726f15760c8ad0b",
            "26a381fdfc1f40c29e73506acb8d30f1",
            "8c8457d8ad104966b9060d4c84d450a1",
            "c0a6a732a6244ab5abc17c2917e31911",
            "b156d44ab7c94bd8875537b743010e9e",
            "027518f5deb64d36bb689f908312148d",
            "a543168f177c4761a8fa67a0b2701f61",
            "dc598ced63db4d6a8bfa38410871a749",
            "1da33b0cc8cc4c1185c4a7ae15550876",
            "3c17a7fd5f0544a6835be3c4b15df2c0",
            "8ef1710072954af6817beed06ffbfdff",
            "9cb8b30d1b6f43f89022eb591561d8d2",
            "c8b554381f3b4155afda2d3956fb8643",
            "a6ee4181ba924270996ba8624186a8d1",
            "c2f4a591cf354a268f9b7487167f9f99",
            "d9c7c0f2207d419f9312c81dbc7e5806",
            "982c1a577bdb401da8c8752c16166dfe",
            "ff12097d42bf480eb91b4e620c1a7867",
            "133662f08e1b4d949da08ef80d837d44",
            "563436b7fea9411ba9f64d795046f816",
            "3b7e6443bb904d96bd9a9c62fec38891",
            "1eccb42136b643cd93ef280d0486c96b",
            "96bf0c46821947f2b519b0af8aa5d731",
            "a9d243dc190142e8a1fe293b3348ef88",
            "a618736dd9e94a289fceb2359272944f",
            "55fcebd7431f43319c4c199e81f880db",
            "31c9be87daee4f859f36ed8f1c7c296f",
            "bbc66fb234dd44f4a5efde0a117bb52d",
            "f7a9b96cce774024a115069329cb44a4",
            "9c18333afd7d47ab97ddf1db1a680498",
            "b104524b487c498597ce70ec49c01fe8"
          ]
        }
      },
      "source": [
        "torch.manual_seed(1)\n",
        "# batch_size = 128\n",
        "batch_size = 64\n",
        "\n",
        "kwargs = {'num_workers': 1, 'pin_memory': True} if use_cuda else {}\n",
        "train_loader = torch.utils.data.DataLoader(\n",
        "    datasets.MNIST('../data', train=True, download=True,\n",
        "                    transform=transforms.Compose([\n",
        "                        transforms.ToTensor(),\n",
        "                        transforms.Normalize((0.1307,), (0.3081,))\n",
        "                    ])),\n",
        "    batch_size=batch_size, shuffle=True, **kwargs)\n",
        "test_loader = torch.utils.data.DataLoader(\n",
        "    datasets.MNIST('../data', train=False, transform=transforms.Compose([\n",
        "                        transforms.ToTensor(),\n",
        "                        transforms.Normalize((0.1307,), (0.3081,))\n",
        "                    ])),\n",
        "    batch_size=batch_size, shuffle=True, **kwargs)\n"
      ],
      "execution_count": 4,
      "outputs": [
        {
          "output_type": "stream",
          "text": [
            "Downloading http://yann.lecun.com/exdb/mnist/train-images-idx3-ubyte.gz\n",
            "Failed to download (trying next):\n",
            "HTTP Error 503: Service Unavailable\n",
            "\n",
            "Downloading https://ossci-datasets.s3.amazonaws.com/mnist/train-images-idx3-ubyte.gz\n",
            "Downloading https://ossci-datasets.s3.amazonaws.com/mnist/train-images-idx3-ubyte.gz to ../data/MNIST/raw/train-images-idx3-ubyte.gz\n"
          ],
          "name": "stdout"
        },
        {
          "output_type": "display_data",
          "data": {
            "application/vnd.jupyter.widget-view+json": {
              "model_id": "24d1ebbe6b69428b829322003f905d08",
              "version_minor": 0,
              "version_major": 2
            },
            "text/plain": [
              "HBox(children=(FloatProgress(value=0.0, max=9912422.0), HTML(value='')))"
            ]
          },
          "metadata": {
            "tags": []
          }
        },
        {
          "output_type": "stream",
          "text": [
            "\n",
            "Extracting ../data/MNIST/raw/train-images-idx3-ubyte.gz to ../data/MNIST/raw\n",
            "\n",
            "Downloading http://yann.lecun.com/exdb/mnist/train-labels-idx1-ubyte.gz\n",
            "Failed to download (trying next):\n",
            "HTTP Error 503: Service Unavailable\n",
            "\n",
            "Downloading https://ossci-datasets.s3.amazonaws.com/mnist/train-labels-idx1-ubyte.gz\n",
            "Downloading https://ossci-datasets.s3.amazonaws.com/mnist/train-labels-idx1-ubyte.gz to ../data/MNIST/raw/train-labels-idx1-ubyte.gz\n"
          ],
          "name": "stdout"
        },
        {
          "output_type": "display_data",
          "data": {
            "application/vnd.jupyter.widget-view+json": {
              "model_id": "dc598ced63db4d6a8bfa38410871a749",
              "version_minor": 0,
              "version_major": 2
            },
            "text/plain": [
              "HBox(children=(FloatProgress(value=0.0, max=28881.0), HTML(value='')))"
            ]
          },
          "metadata": {
            "tags": []
          }
        },
        {
          "output_type": "stream",
          "text": [
            "\n",
            "Extracting ../data/MNIST/raw/train-labels-idx1-ubyte.gz to ../data/MNIST/raw\n",
            "\n",
            "Downloading http://yann.lecun.com/exdb/mnist/t10k-images-idx3-ubyte.gz\n",
            "Failed to download (trying next):\n",
            "HTTP Error 503: Service Unavailable\n",
            "\n",
            "Downloading https://ossci-datasets.s3.amazonaws.com/mnist/t10k-images-idx3-ubyte.gz\n",
            "Downloading https://ossci-datasets.s3.amazonaws.com/mnist/t10k-images-idx3-ubyte.gz to ../data/MNIST/raw/t10k-images-idx3-ubyte.gz\n"
          ],
          "name": "stdout"
        },
        {
          "output_type": "display_data",
          "data": {
            "application/vnd.jupyter.widget-view+json": {
              "model_id": "d9c7c0f2207d419f9312c81dbc7e5806",
              "version_minor": 0,
              "version_major": 2
            },
            "text/plain": [
              "HBox(children=(FloatProgress(value=0.0, max=1648877.0), HTML(value='')))"
            ]
          },
          "metadata": {
            "tags": []
          }
        },
        {
          "output_type": "stream",
          "text": [
            "\n",
            "Extracting ../data/MNIST/raw/t10k-images-idx3-ubyte.gz to ../data/MNIST/raw\n",
            "\n",
            "Downloading http://yann.lecun.com/exdb/mnist/t10k-labels-idx1-ubyte.gz\n",
            "Failed to download (trying next):\n",
            "HTTP Error 503: Service Unavailable\n",
            "\n",
            "Downloading https://ossci-datasets.s3.amazonaws.com/mnist/t10k-labels-idx1-ubyte.gz\n",
            "Downloading https://ossci-datasets.s3.amazonaws.com/mnist/t10k-labels-idx1-ubyte.gz to ../data/MNIST/raw/t10k-labels-idx1-ubyte.gz\n"
          ],
          "name": "stdout"
        },
        {
          "output_type": "display_data",
          "data": {
            "application/vnd.jupyter.widget-view+json": {
              "model_id": "a9d243dc190142e8a1fe293b3348ef88",
              "version_minor": 0,
              "version_major": 2
            },
            "text/plain": [
              "HBox(children=(FloatProgress(value=0.0, max=4542.0), HTML(value='')))"
            ]
          },
          "metadata": {
            "tags": []
          }
        },
        {
          "output_type": "stream",
          "text": [
            "\n",
            "Extracting ../data/MNIST/raw/t10k-labels-idx1-ubyte.gz to ../data/MNIST/raw\n",
            "\n",
            "Processing...\n",
            "Done!\n"
          ],
          "name": "stdout"
        },
        {
          "output_type": "stream",
          "text": [
            "/usr/local/lib/python3.7/dist-packages/torchvision/datasets/mnist.py:502: UserWarning: The given NumPy array is not writeable, and PyTorch does not support non-writeable tensors. This means you can write to the underlying (supposedly non-writeable) NumPy array using the tensor. You may want to copy the array to protect its data or make it writeable before converting it to a tensor. This type of warning will be suppressed for the rest of this program. (Triggered internally at  /pytorch/torch/csrc/utils/tensor_numpy.cpp:143.)\n",
            "  return torch.from_numpy(parsed.astype(m[2], copy=False)).view(*s)\n"
          ],
          "name": "stderr"
        }
      ]
    },
    {
      "cell_type": "markdown",
      "metadata": {
        "id": "gjElL_o6Hca9"
      },
      "source": [
        "##Augmentation"
      ]
    },
    {
      "cell_type": "code",
      "metadata": {
        "colab": {
          "base_uri": "https://localhost:8080/"
        },
        "id": "btmFSpnL2kxR",
        "outputId": "73a322b0-e09b-421f-9ca0-00c3fb4d5ccf"
      },
      "source": [
        "len(train_loader.dataset)/128"
      ],
      "execution_count": 5,
      "outputs": [
        {
          "output_type": "execute_result",
          "data": {
            "text/plain": [
              "468.75"
            ]
          },
          "metadata": {
            "tags": []
          },
          "execution_count": 5
        }
      ]
    },
    {
      "cell_type": "code",
      "metadata": {
        "id": "augmocoUHeDs"
      },
      "source": [
        "from tqdm.notebook import tqdm\n",
        "# def train(model, device, train_loader, optimizer, epoch):\n",
        "#     model.train()\n",
        "#     # pbar = tqdm(train_loader)\n",
        "#     train_loss = 0\n",
        "#     correct = 0\n",
        "#     # for batch_idx, (data, target) in enumerate(pbar):\n",
        "#     for batch_idx, (data, target) in enumerate(train_loader):\n",
        "#         data, target = data.to(device), target.to(device)\n",
        "#         optimizer.zero_grad()\n",
        "#         output = model(data)\n",
        "#         loss = F.nll_loss(output, target)\n",
        "#         loss.backward()\n",
        "#         optimizer.step()\n",
        "#         # pbar.set_description(desc= f'loss={loss.item()} batch_id={batch_idx}')\n",
        "\n",
        "#         train_loss += loss\n",
        "#         pred = output.argmax(dim=1, keepdim=True)  # get the index of the max log-probability\n",
        "#         correct += pred.eq(target.view_as(pred)).sum().item()\n",
        "\n",
        "#     train_loss /= len(train_loader.dataset)\n",
        "#     hist_train_loss.append(train_loss)\n",
        "#     hist_train_acc.append(100. * correct / len(train_loader.dataset))\n",
        "#     print(\"Training Average loss: {:.4f}, Accuraacy = ({:.5f}%)\\n\".format(train_loss, 100. * correct / len(train_loader.dataset)))\n",
        "\n",
        "\n",
        "#Use scheduler\n",
        "def train(model, device, train_loader, optimizer, scheduler, epoch):\n",
        "    model.train()\n",
        "    # pbar = tqdm(train_loader)\n",
        "    train_loss = 0\n",
        "    correct = 0\n",
        "    num_loops = 0\n",
        "    # for batch_idx, (data, target) in enumerate(pbar):\n",
        "    for batch_idx, (data, target) in enumerate(train_loader):\n",
        "        data, target = data.to(device), target.to(device)\n",
        "        optimizer.zero_grad()\n",
        "        output = model(data)\n",
        "        loss = F.nll_loss(output, target)\n",
        "        loss.backward()\n",
        "        optimizer.step()\n",
        "        # pbar.set_description(desc= f'loss={loss.item()} batch_id={batch_idx}')\n",
        "        train_loss += loss.item()\n",
        "        pred = output.argmax(dim=1, keepdim=True)  # get the index of the max log-probability\n",
        "        correct += pred.eq(target.view_as(pred)).sum().item()\n",
        "        num_loops +=1\n",
        "\n",
        "    \n",
        "    train_loss /= num_loops\n",
        "    # scheduler.step()\n",
        "    scheduler.step(train_loss)\n",
        "    hist_train_loss.append(train_loss)\n",
        "    hist_train_acc.append(100. * correct / len(train_loader.dataset))\n",
        "    print(num_loops)\n",
        "    print(\"Training Average loss: {:.6f}, Accuracy = ({:.6f}%)\".format(train_loss, 100. * correct / len(train_loader.dataset)))\n",
        "\n",
        "\n",
        "\n",
        "\n",
        "def test(model, device, test_loader):\n",
        "    model.eval()\n",
        "    test_loss = 0\n",
        "    correct = 0\n",
        "    with torch.no_grad():\n",
        "        for data, target in test_loader:\n",
        "            data, target = data.to(device), target.to(device)\n",
        "            output = model(data)\n",
        "            test_loss += F.nll_loss(output, target, reduction='sum').item()  # sum up batch loss\n",
        "            pred = output.argmax(dim=1, keepdim=True)  # get the index of the max log-probability\n",
        "            correct += pred.eq(target.view_as(pred)).sum().item()\n",
        "\n",
        "    test_loss /= len(test_loader.dataset)\n",
        "    hist_test_loss.append(test_loss)\n",
        "    hist_test_acc.append(100. * correct / len(test_loader.dataset))\n",
        "\n",
        "    print('Test set: Average loss: {:.6f}, Accuracy: {}/{} ({:.6f}%)\\n'.format(\n",
        "        test_loss, correct, len(test_loader.dataset),\n",
        "        100. * correct / len(test_loader.dataset)))"
      ],
      "execution_count": 6,
      "outputs": []
    },
    {
      "cell_type": "code",
      "metadata": {
        "id": "So5uk4EkHW6R"
      },
      "source": [
        "def draw_network(model):\n",
        "  model = model.to(\"cpu\")\n",
        "  hl_graph = hl.build_graph(model, torch.zeros([1, 1, 28, 28]))\n",
        "  # Use a different color theme\n",
        "  hl_graph.theme = hl.graph.THEMES[\"blue\"].copy()\n",
        "  return hl_graph"
      ],
      "execution_count": 7,
      "outputs": []
    },
    {
      "cell_type": "code",
      "metadata": {
        "id": "b3MnxFPxqqjN"
      },
      "source": [
        "import numpy as np\n",
        "import matplotlib.pyplot as plt\n",
        "\n",
        "plt.rcParams['figure.figsize'] = [15, 6]\n",
        "\n",
        "def training_curves():\n",
        "  plt.subplot(1,2, 1)\n",
        "\n",
        "  plt.plot(np.array(hist_test_acc))\n",
        "  plt.plot(np.array(hist_train_acc), 'r')\n",
        "  plt.legend([\"test_acc\", \"train_acc\"])\n",
        "  plt.title(\"Accuracy per epoch\")\n",
        "\n",
        "  plt.subplot(1,2,2)\n",
        "  plt.plot(hist_test_loss)\n",
        "  plt.plot(hist_train_loss, 'r')\n",
        "  plt.legend([\"test_loss\", \"train_loss\"])\n",
        "  plt.title(\"Loss per epoch\")\n"
      ],
      "execution_count": 8,
      "outputs": []
    },
    {
      "cell_type": "code",
      "metadata": {
        "id": "vqzQ_2KOq2eE"
      },
      "source": [
        "drop_out_val = 0.1\n",
        "class Net7(nn.Module):\n",
        "    def __init__(self):\n",
        "        super().__init__()                     #Input - Output - RF\n",
        "        self.conv1 = nn.Conv2d(1, 12, 3, padding=1)      #28 - 28 - 3x3\n",
        "        self.bn1 = nn.BatchNorm2d(12)\n",
        "        self.do1 = nn.Dropout2d(drop_out_val)\n",
        "        \n",
        "        self.conv2 = nn.Conv2d(12, 24, 3, padding=1)      #28 - 26 - 5x5\n",
        "        self.bn2 = nn.BatchNorm2d(24)\n",
        "        self.do2 = nn.Dropout2d(drop_out_val)\n",
        "        \n",
        "        # self.conv2_1 = nn.Conv2d(24,24, 3, padding=1)             #26 - 24 - 7x7\n",
        "        # self.conv2_2 = nn.Conv2d(36, 24, 1)             #24 - 24 - 7x7\n",
        "        self.pool1 = nn.MaxPool2d(2, 2)                 #28 - 14 - 14x14\n",
        "\n",
        "        self.conv3 = nn.Conv2d(24, 12, 1)               #12 - 10 - 12x12\n",
        "        self.bn3 = nn.BatchNorm2d(12)\n",
        "        self.do3 = nn.Dropout2d(drop_out_val)\n",
        "\n",
        "        self.conv4 = nn.Conv2d(12, 24, 3, padding = 1)              #10 - 8 - 14x14\n",
        "        self.bn4 = nn.BatchNorm2d(24)\n",
        "        self.do4 = nn.Dropout2d(drop_out_val)\n",
        "\n",
        "        self.conv4_1 = nn.Conv2d(24, 24, 3, padding = 1)           #8 - 8 - 14x14\n",
        "        self.bn4_1 = nn.BatchNorm2d(24)\n",
        "        self.do4_1 = nn.Dropout2d(drop_out_val)\n",
        "\n",
        "        self.pool2 = nn.MaxPool2d(2, 2)                 #8 -  4 - 28x28\n",
        "        self.conv5 = nn.Conv2d(24, 12, 1)             #4  -  2 - 30x30\n",
        "        self.bn5 = nn.BatchNorm2d(12)\n",
        "        self.do5 = nn.Dropout2d(drop_out_val)\n",
        "\n",
        "        self.conv6 = nn.Conv2d(12, 24, 3, padding = 1)            #3 -   1 - 32x32\n",
        "        self.bn6 = nn.BatchNorm2d(24)\n",
        "        self.do6 = nn.Dropout2d(drop_out_val)\n",
        "\n",
        "        self.conv6_1 = nn.Conv2d(24, 24, 3, padding = 1)            #3 -   1 - 32x32\n",
        "        # self.bn6_1 = nn.BatchNorm2d(24)\n",
        "        self.do6_1 = nn.Dropout2d(drop_out_val)\n",
        "\n",
        "        self.gap = nn.AvgPool2d(7)\n",
        "        self.linear1 = nn.Linear(24, 10)\n",
        "\n",
        "    def forward(self, x):\n",
        "        #self is containing all variables, compulsory to pass\n",
        "        #x is input image\n",
        "        # CONV/FC -> BatchNorm -> ReLu(or other activation) -> Dropout \n",
        "        x = self.pool1(self.do2(F.relu(self.bn2(self.conv2(self.do1(F.relu( self.bn1(self.conv1(x)))))))))   #conv1 -> ReLU -> conv2 -> ReLU -> max pool\n",
        "        x = self.pool2(self.do4_1(F.relu( self.bn4_1(self.conv4_1(self.do4(F.relu( self.bn4(self.conv4(self.do3(F.relu( self.bn3(self.conv3(x)))))))))))))   #conv3 -> ReLU -> conv4 -> ReLU -> max pool\n",
        "        x =                       F.relu( self.conv6_1(self.do6(F.relu( self.bn6(self.conv6(self.do5(F.relu( self.bn5(self.conv5(x))))))))))               #conv5 -> ReLU -> conv6 -> ReLU\n",
        "        x = self.gap(x)\n",
        "        x = x.view(-1, 24)\n",
        "        x = self.linear1(x)\n",
        "        return F.log_softmax(x)       #log of softmax\n",
        "\n",
        "# model = Net7().to(device)"
      ],
      "execution_count": 9,
      "outputs": []
    },
    {
      "cell_type": "markdown",
      "metadata": {
        "id": "kkmJ-KIfcjNY"
      },
      "source": [
        "## Net 8\n",
        "12->24->MP->12->12->24->MP->12->12->24->GAP->Dense->10"
      ]
    },
    {
      "cell_type": "code",
      "metadata": {
        "id": "K2TJQ17VcFZX"
      },
      "source": [
        "# drop_out_val = 0.1\n",
        "drop_out_val = 0.05\n",
        "class Net8(nn.Module):\n",
        "    def __init__(self):\n",
        "        super().__init__()                     #Input - Output - RF\n",
        "        self.conv1 = nn.Conv2d(1, 12, 3, padding=1)      #28 - 28 - 3x3\n",
        "        self.bn1 = nn.BatchNorm2d(12)\n",
        "        self.do1 = nn.Dropout2d(drop_out_val)\n",
        "        \n",
        "        self.conv2 = nn.Conv2d(12, 24, 3, padding=1)      #28 - 26 - 5x5\n",
        "        self.bn2 = nn.BatchNorm2d(24)\n",
        "        self.do2 = nn.Dropout2d(drop_out_val)\n",
        "        \n",
        "        self.conv2_1 = nn.Conv2d(24, 36, 3, padding=1)             #26 - 24 - 7x7\n",
        "        self.bn2_1 = nn.BatchNorm2d(36)\n",
        "        self.do2_1 = nn.Dropout2d(drop_out_val)\n",
        "\n",
        "        # self.conv2_2 = nn.Conv2d(36, 24, 1)             #24 - 24 - 7x7\n",
        "        self.pool1 = nn.MaxPool2d(2, 2)                 #28 - 14 - 14x14\n",
        "\n",
        "        self.conv3 = nn.Conv2d(36, 12, 1)               #12 - 10 - 12x12\n",
        "        self.bn3 = nn.BatchNorm2d(12)\n",
        "        self.do3 = nn.Dropout2d(drop_out_val)\n",
        "\n",
        "        self.conv4 = nn.Conv2d(12, 12, 3, padding = 1)              #10 - 8 - 14x14\n",
        "        self.bn4 = nn.BatchNorm2d(12)\n",
        "        self.do4 = nn.Dropout2d(drop_out_val)\n",
        "\n",
        "        self.conv4_1 = nn.Conv2d(12, 24, 3, padding = 1)           #8 - 8 - 14x14\n",
        "        self.bn4_1 = nn.BatchNorm2d(24)\n",
        "        self.do4_1 = nn.Dropout2d(drop_out_val)\n",
        "\n",
        "        self.pool2 = nn.MaxPool2d(2, 2)                 #8 -  4 - 28x28\n",
        "        self.conv5 = nn.Conv2d(24, 12, 1)             #4  -  2 - 30x30\n",
        "        self.bn5 = nn.BatchNorm2d(12)\n",
        "        self.do5 = nn.Dropout2d(drop_out_val)\n",
        "\n",
        "        self.conv6 = nn.Conv2d(12, 12, 3, padding = 1)            #3 -   1 - 32x32\n",
        "        self.bn6 = nn.BatchNorm2d(12)\n",
        "        self.do6 = nn.Dropout2d(drop_out_val)\n",
        "\n",
        "        self.conv6_1 = nn.Conv2d(12, 24, 3, padding = 1)            #3 -   1 - 32x32\n",
        "        self.bn6_1 = nn.BatchNorm2d(24)\n",
        "        self.do6_1 = nn.Dropout2d(drop_out_val)\n",
        "\n",
        "        #self.conv7 = nn.Conv2d(128, 10, 3)             #3 -   1 - 34x34\n",
        "        self.gap = nn.AvgPool2d(7)\n",
        "        self.linear1 = nn.Linear(24, 10)\n",
        "        # self.do = nn.Dropout(0.25)\n",
        "        # self.linear2 = nn.Linear(48, 10)\n",
        "\n",
        "    def forward(self, x):\n",
        "        #self is containing all variables, compulsory to pass\n",
        "        #x is input image\n",
        "        # CONV/FC -> BatchNorm -> ReLu(or other activation) -> Dropout \n",
        "        # x = self.pool1(self.do2_1(F.relu(self.bn2_1(self.conv2_1(self.do2(F.relu(self.bn2(self.conv2(self.do1(F.relu( self.bn1(self.conv1(x))))))))) ))))  #conv1 -> ReLU -> conv2 -> ReLU -> max pool\n",
        "        # x = self.pool2(self.do4_1(F.relu( self.bn4_1(self.conv4_1(self.do4(F.relu( self.bn4(self.conv4(self.do3(F.relu( self.bn3(self.conv3(x)))))))))))))   #conv3 -> ReLU -> conv4 -> ReLU -> max pool\n",
        "        # x =                       F.relu( self.conv6_1(self.do6(F.relu( self.bn6(self.conv6(self.do5(F.relu( self.bn5(self.conv5(x))))))))))               #conv5 -> ReLU -> conv6 -> ReLU\n",
        "\n",
        "        #BN after Relu\n",
        "        x = self.pool1(self.do2_1(self.bn2_1(F.relu(self.conv2_1(self.do2(self.bn2(F.relu(self.conv2(self.do1(self.bn1(F.relu(self.conv1(x))))))))) ))))  #conv1 -> ReLU -> conv2 -> ReLU -> max pool\n",
        "        x = self.pool2(self.do4_1( self.bn4_1(F.relu(self.conv4_1(self.do4(self.bn4(F.relu(self.conv4(self.do3( self.bn3(F.relu(self.conv3(x)))))))))))))   #conv3 -> ReLU -> conv4 -> ReLU -> max pool\n",
        "        x =                       F.relu( self.conv6_1(self.do6(self.bn6(F.relu(self.conv6(self.do5(self.bn5(F.relu(self.conv5(x))))))))))               #conv5 -> ReLU -> conv6 -> ReLU\n",
        "        \n",
        "        x = self.gap(x)\n",
        "        x = x.view(-1, 24)\n",
        "        x = self.linear1(x)\n",
        "        # x = self.linear2(self.do(F.relu(self.linear1(x))))\n",
        "        return F.log_softmax(x)       #log of softmax\n",
        "\n",
        "model = Net8().to(device)"
      ],
      "execution_count": 24,
      "outputs": []
    },
    {
      "cell_type": "markdown",
      "metadata": {
        "id": "JWoYdP1wpgDT"
      },
      "source": [
        "## Net10\n",
        "Remove the second MP and increase the depth of the network. use conv without padding\n",
        "\n",
        "12->24->MP->12->12->12->24->24->GAP->Dense->10"
      ]
    },
    {
      "cell_type": "code",
      "metadata": {
        "id": "ON69-WBgppHS"
      },
      "source": [
        "# drop_out_val = 0.1\n",
        "drop_out_val = 0.05\n",
        "class Net10(nn.Module):\n",
        "    def __init__(self):\n",
        "        super().__init__()                     #Input - Output - RF\n",
        "        self.conv1 = nn.Conv2d(1, 10, 3, padding=1)      #28 - 28 - 3x3\n",
        "        self.bn1 = nn.BatchNorm2d(10)\n",
        "        self.do1 = nn.Dropout2d(drop_out_val)\n",
        "        \n",
        "        self.conv2 = nn.Conv2d(10, 20, 3, padding=1)      #28 - 26 - 5x5\n",
        "        self.bn2 = nn.BatchNorm2d(20)\n",
        "        self.do2 = nn.Dropout2d(drop_out_val)\n",
        "        \n",
        "        self.conv2_1 = nn.Conv2d(20, 30, 3, padding=1)             #26 - 24 - 7x7\n",
        "        self.bn2_1 = nn.BatchNorm2d(30)\n",
        "        self.do2_1 = nn.Dropout2d(drop_out_val)\n",
        "\n",
        "        # self.conv2_2 = nn.Conv2d(36, 24, 1)             #24 - 24 - 7x7\n",
        "        self.pool1 = nn.MaxPool2d(2, 2)                 #28 - 14 - 14x14\n",
        "\n",
        "        self.conv3 = nn.Conv2d(30, 10, 1)               #12 - 10 - 12x12\n",
        "        self.bn3 = nn.BatchNorm2d(10)\n",
        "        self.do3 = nn.Dropout2d(drop_out_val)\n",
        "\n",
        "        self.conv4 = nn.Conv2d(10, 10, 3, padding = 1)              #10 - 8 - 14x14\n",
        "        self.bn4 = nn.BatchNorm2d(10)\n",
        "        self.do4 = nn.Dropout2d(drop_out_val)\n",
        "\n",
        "        self.conv4_1 = nn.Conv2d(10, 20, 3, padding = 1)           #8 - 8 - 14x14\n",
        "        self.bn4_1 = nn.BatchNorm2d(20)\n",
        "        self.do4_1 = nn.Dropout2d(drop_out_val)\n",
        "\n",
        "        self.pool2 = nn.MaxPool2d(2, 2)                 #8 -  4 - 28x28\n",
        "        self.conv5 = nn.Conv2d(20, 10, 1)             #4  -  2 - 30x30\n",
        "        self.bn5 = nn.BatchNorm2d(10)\n",
        "        self.do5 = nn.Dropout2d(drop_out_val)\n",
        "\n",
        "        self.conv6 = nn.Conv2d(10, 10, 3, padding = 1)            #3 -   1 - 32x32\n",
        "        self.bn6 = nn.BatchNorm2d(10)\n",
        "        self.do6 = nn.Dropout2d(drop_out_val)\n",
        "\n",
        "        self.conv6_1 = nn.Conv2d(10, 20, 3, padding = 1)            #3 -   1 - 32x32\n",
        "        self.bn6_1 = nn.BatchNorm2d(20)\n",
        "        self.do6_1 = nn.Dropout2d(drop_out_val)\n",
        "\n",
        "        #self.conv7 = nn.Conv2d(128, 10, 3)             #3 -   1 - 34x34\n",
        "        self.gap = nn.AvgPool2d(7)\n",
        "        self.linear1 = nn.Linear(20, 10)\n",
        "        # self.do = nn.Dropout(0.25)\n",
        "        # self.linear2 = nn.Linear(48, 10)\n",
        "\n",
        "    def forward(self, x):\n",
        "        #self is containing all variables, compulsory to pass\n",
        "        #x is input image\n",
        "        # CONV/FC -> BatchNorm -> ReLu(or other activation) -> Dropout \n",
        "        # x = self.pool1(self.do2_1(F.relu(self.bn2_1(self.conv2_1(self.do2(F.relu(self.bn2(self.conv2(self.do1(F.relu( self.bn1(self.conv1(x))))))))) ))))  #conv1 -> ReLU -> conv2 -> ReLU -> max pool\n",
        "        # x = self.pool2(self.do4_1(F.relu( self.bn4_1(self.conv4_1(self.do4(F.relu( self.bn4(self.conv4(self.do3(F.relu( self.bn3(self.conv3(x)))))))))))))   #conv3 -> ReLU -> conv4 -> ReLU -> max pool\n",
        "        # x =                       F.relu( self.conv6_1(self.do6(F.relu( self.bn6(self.conv6(self.do5(F.relu( self.bn5(self.conv5(x))))))))))               #conv5 -> ReLU -> conv6 -> ReLU\n",
        "\n",
        "        #BN after Relu\n",
        "        x = self.pool1(self.do2_1(self.bn2_1(F.relu(self.conv2_1(self.do2(self.bn2(F.relu(self.conv2(self.do1(self.bn1(F.relu(self.conv1(x))))))))) ))))  #conv1 -> ReLU -> conv2 -> ReLU -> max pool\n",
        "        x = self.pool2(self.do4_1( self.bn4_1(F.relu(self.conv4_1(self.do4(self.bn4(F.relu(self.conv4(self.do3( self.bn3(F.relu(self.conv3(x)))))))))))))   #conv3 -> ReLU -> conv4 -> ReLU -> max pool\n",
        "        x =                       F.relu( self.conv6_1(self.do6(self.bn6(F.relu(self.conv6(self.do5(self.bn5(F.relu(self.conv5(x))))))))))               #conv5 -> ReLU -> conv6 -> ReLU\n",
        "        \n",
        "        x = self.gap(x)\n",
        "        x = x.view(-1, 20)\n",
        "        x = self.linear1(x)\n",
        "        # x = self.linear2(self.do(F.relu(self.linear1(x))))\n",
        "        return F.log_softmax(x)       #log of softmax\n",
        "\n",
        "model = Net10().to(device)"
      ],
      "execution_count": 34,
      "outputs": []
    },
    {
      "cell_type": "markdown",
      "metadata": {
        "id": "WI6fTCBLf0Rl"
      },
      "source": [
        "## Summary and training"
      ]
    },
    {
      "cell_type": "code",
      "metadata": {
        "id": "qqGcEE0KqcDm",
        "colab": {
          "base_uri": "https://localhost:8080/"
        },
        "outputId": "339c5cb2-ee10-4c2f-cbc2-079246f8cd99"
      },
      "source": [
        "summary(model, input_size=(1, 28, 28))\n",
        "# graph = draw_network(model)\n",
        "# graph"
      ],
      "execution_count": 36,
      "outputs": [
        {
          "output_type": "stream",
          "text": [
            "----------------------------------------------------------------\n",
            "        Layer (type)               Output Shape         Param #\n",
            "================================================================\n",
            "            Conv2d-1           [-1, 10, 28, 28]             100\n",
            "       BatchNorm2d-2           [-1, 10, 28, 28]              20\n",
            "         Dropout2d-3           [-1, 10, 28, 28]               0\n",
            "            Conv2d-4           [-1, 20, 28, 28]           1,820\n",
            "       BatchNorm2d-5           [-1, 20, 28, 28]              40\n",
            "         Dropout2d-6           [-1, 20, 28, 28]               0\n",
            "            Conv2d-7           [-1, 30, 28, 28]           5,430\n",
            "       BatchNorm2d-8           [-1, 30, 28, 28]              60\n",
            "         Dropout2d-9           [-1, 30, 28, 28]               0\n",
            "        MaxPool2d-10           [-1, 30, 14, 14]               0\n",
            "           Conv2d-11           [-1, 10, 14, 14]             310\n",
            "      BatchNorm2d-12           [-1, 10, 14, 14]              20\n",
            "        Dropout2d-13           [-1, 10, 14, 14]               0\n",
            "           Conv2d-14           [-1, 10, 14, 14]             910\n",
            "      BatchNorm2d-15           [-1, 10, 14, 14]              20\n",
            "        Dropout2d-16           [-1, 10, 14, 14]               0\n",
            "           Conv2d-17           [-1, 20, 14, 14]           1,820\n",
            "      BatchNorm2d-18           [-1, 20, 14, 14]              40\n",
            "        Dropout2d-19           [-1, 20, 14, 14]               0\n",
            "        MaxPool2d-20             [-1, 20, 7, 7]               0\n",
            "           Conv2d-21             [-1, 10, 7, 7]             210\n",
            "      BatchNorm2d-22             [-1, 10, 7, 7]              20\n",
            "        Dropout2d-23             [-1, 10, 7, 7]               0\n",
            "           Conv2d-24             [-1, 10, 7, 7]             910\n",
            "      BatchNorm2d-25             [-1, 10, 7, 7]              20\n",
            "        Dropout2d-26             [-1, 10, 7, 7]               0\n",
            "           Conv2d-27             [-1, 20, 7, 7]           1,820\n",
            "        AvgPool2d-28             [-1, 20, 1, 1]               0\n",
            "           Linear-29                   [-1, 10]             210\n",
            "================================================================\n",
            "Total params: 13,780\n",
            "Trainable params: 13,780\n",
            "Non-trainable params: 0\n",
            "----------------------------------------------------------------\n",
            "Input size (MB): 0.00\n",
            "Forward/backward pass size (MB): 1.34\n",
            "Params size (MB): 0.05\n",
            "Estimated Total Size (MB): 1.39\n",
            "----------------------------------------------------------------\n"
          ],
          "name": "stdout"
        },
        {
          "output_type": "stream",
          "text": [
            "/usr/local/lib/python3.7/dist-packages/ipykernel_launcher.py:69: UserWarning: Implicit dimension choice for log_softmax has been deprecated. Change the call to include dim=X as an argument.\n"
          ],
          "name": "stderr"
        }
      ]
    },
    {
      "cell_type": "code",
      "metadata": {
        "id": "gAleLp9uTsVr"
      },
      "source": [
        "#reset the Network\n",
        "model = Net8().to(device)"
      ],
      "execution_count": 19,
      "outputs": []
    },
    {
      "cell_type": "code",
      "metadata": {
        "id": "e-m46Kr3RpSJ"
      },
      "source": [
        "hist_test_loss = []\n",
        "hist_test_acc = []\n",
        "hist_train_loss = []\n",
        "hist_train_acc = []"
      ],
      "execution_count": 37,
      "outputs": []
    },
    {
      "cell_type": "code",
      "metadata": {
        "id": "5d85hAFOqfqN"
      },
      "source": [
        "# model = model.to(device)\n",
        "# optimizer = optim.SGD(model.parameters(), lr=0.01, momentum=0.9,)\n",
        "# # optimizer = optim.Adam(model.parameters(), lr=0.01)\n",
        "\n",
        "# for epoch in range(1, 20):\n",
        "#     print(\"Epoch: \", epoch)\n",
        "#     train(model, device, train_loader, optimizer, epoch)\n",
        "#     test(model, device, test_loader)\n",
        "# training_curves()"
      ],
      "execution_count": 15,
      "outputs": []
    },
    {
      "cell_type": "markdown",
      "metadata": {
        "id": "AXiojjt0mkrq"
      },
      "source": [
        "Model with schedular"
      ]
    },
    {
      "cell_type": "code",
      "metadata": {
        "id": "oGrqdj8Em7Cc"
      },
      "source": [
        "from torch.optim.lr_scheduler import ReduceLROnPlateau\n",
        "from torch.optim.lr_scheduler import ExponentialLR"
      ],
      "execution_count": 16,
      "outputs": []
    },
    {
      "cell_type": "code",
      "metadata": {
        "colab": {
          "base_uri": "https://localhost:8080/",
          "height": 1000
        },
        "id": "00YqrCXpRDdk",
        "outputId": "4ef7e188-b2f7-43c6-8cb4-17c73a8e9113"
      },
      "source": [
        "model = model.to(device)\n",
        "optimizer = optim.SGD(model.parameters(), lr=0.1, momentum=0.9,)\n",
        "\n",
        "scheduler =ReduceLROnPlateau(optimizer=optimizer, patience=2, verbose=True)\n",
        "\n",
        "for epoch in range(1, 10):\n",
        "    print(\"Epoch: \", epoch)\n",
        "    train(model, device, train_loader, optimizer, scheduler, epoch)\n",
        "    print(\"learning rate\", optimizer.param_groups[0]['lr'])\n",
        "    test(model, device, test_loader)\n",
        "\n",
        "optimizer = optim.SGD(model.parameters(), lr=0.05, momentum=0.9)\n",
        "for epoch in range(10, 15):\n",
        "    print(\"Epoch: \", epoch)\n",
        "    train(model, device, train_loader, optimizer, scheduler, epoch)\n",
        "    print(\"learning rate\", optimizer.param_groups[0]['lr'])\n",
        "    test(model, device, test_loader)\n",
        "\n",
        "optimizer = optim.SGD(model.parameters(), lr=0.01, momentum=0.9)\n",
        "for epoch in range(15, 20):\n",
        "    print(\"Epoch: \", epoch)\n",
        "    train(model, device, train_loader, optimizer, scheduler, epoch)\n",
        "    print(\"learning rate\", optimizer.param_groups[0]['lr'])\n",
        "    test(model, device, test_loader)\n",
        "\n",
        "# optimizer = optim.SGD(model.parameters(), lr=0.06, momentum=0.9,)\n",
        "# for epoch in range(10, 15):\n",
        "#     print(\"Epoch: \", epoch)\n",
        "#     train(model, device, train_loader, optimizer, scheduler, epoch)\n",
        "#     print(\"learning rate\", optimizer.param_groups[0]['lr'])\n",
        "#     test(model, device, test_loader)   \n",
        "\n",
        "# optimizer = optim.SGD(model.parameters(), lr=0.04, momentum=0.9,)\n",
        "# for epoch in range(15, 20):\n",
        "#     print(\"Epoch: \", epoch)\n",
        "#     train(model, device, train_loader, optimizer, scheduler, epoch)\n",
        "#     print(\"learning rate\", optimizer.param_groups[0]['lr'])\n",
        "#     test(model, device, test_loader)   \n",
        "training_curves()"
      ],
      "execution_count": 38,
      "outputs": [
        {
          "output_type": "stream",
          "text": [
            "Epoch:  1\n"
          ],
          "name": "stdout"
        },
        {
          "output_type": "stream",
          "text": [
            "/usr/local/lib/python3.7/dist-packages/ipykernel_launcher.py:69: UserWarning: Implicit dimension choice for log_softmax has been deprecated. Change the call to include dim=X as an argument.\n"
          ],
          "name": "stderr"
        },
        {
          "output_type": "stream",
          "text": [
            "938\n",
            "Training Average loss: 0.369027, Accuracy = (87.806667%)\n",
            "learning rate 0.1\n",
            "Test set: Average loss: 0.081694, Accuracy: 9749/10000 (97.490000%)\n",
            "\n",
            "Epoch:  2\n",
            "938\n",
            "Training Average loss: 0.118307, Accuracy = (96.428333%)\n",
            "learning rate 0.1\n",
            "Test set: Average loss: 0.061412, Accuracy: 9808/10000 (98.080000%)\n",
            "\n",
            "Epoch:  3\n",
            "938\n",
            "Training Average loss: 0.092209, Accuracy = (97.266667%)\n",
            "learning rate 0.1\n",
            "Test set: Average loss: 0.048049, Accuracy: 9833/10000 (98.330000%)\n",
            "\n",
            "Epoch:  4\n",
            "938\n",
            "Training Average loss: 0.072339, Accuracy = (97.813333%)\n",
            "learning rate 0.1\n",
            "Test set: Average loss: 0.039382, Accuracy: 9878/10000 (98.780000%)\n",
            "\n",
            "Epoch:  5\n",
            "938\n",
            "Training Average loss: 0.067156, Accuracy = (97.940000%)\n",
            "learning rate 0.1\n",
            "Test set: Average loss: 0.032885, Accuracy: 9888/10000 (98.880000%)\n",
            "\n",
            "Epoch:  6\n",
            "938\n",
            "Training Average loss: 0.060570, Accuracy = (98.161667%)\n",
            "learning rate 0.1\n",
            "Test set: Average loss: 0.032017, Accuracy: 9895/10000 (98.950000%)\n",
            "\n",
            "Epoch:  7\n",
            "938\n",
            "Training Average loss: 0.057920, Accuracy = (98.233333%)\n",
            "learning rate 0.1\n",
            "Test set: Average loss: 0.035536, Accuracy: 9881/10000 (98.810000%)\n",
            "\n",
            "Epoch:  8\n",
            "938\n",
            "Training Average loss: 0.053945, Accuracy = (98.360000%)\n",
            "learning rate 0.1\n",
            "Test set: Average loss: 0.030065, Accuracy: 9898/10000 (98.980000%)\n",
            "\n",
            "Epoch:  9\n",
            "938\n",
            "Training Average loss: 0.049222, Accuracy = (98.461667%)\n",
            "learning rate 0.1\n",
            "Test set: Average loss: 0.023076, Accuracy: 9925/10000 (99.250000%)\n",
            "\n",
            "Epoch:  10\n",
            "938\n",
            "Training Average loss: 0.038287, Accuracy = (98.816667%)\n",
            "learning rate 0.05\n",
            "Test set: Average loss: 0.018385, Accuracy: 9934/10000 (99.340000%)\n",
            "\n",
            "Epoch:  11\n",
            "938\n",
            "Training Average loss: 0.036588, Accuracy = (98.870000%)\n",
            "learning rate 0.05\n",
            "Test set: Average loss: 0.017887, Accuracy: 9938/10000 (99.380000%)\n",
            "\n",
            "Epoch:  12\n",
            "938\n",
            "Training Average loss: 0.035184, Accuracy = (98.911667%)\n",
            "learning rate 0.05\n",
            "Test set: Average loss: 0.018995, Accuracy: 9942/10000 (99.420000%)\n",
            "\n",
            "Epoch:  13\n",
            "938\n",
            "Training Average loss: 0.033661, Accuracy = (98.933333%)\n",
            "learning rate 0.05\n",
            "Test set: Average loss: 0.020203, Accuracy: 9932/10000 (99.320000%)\n",
            "\n",
            "Epoch:  14\n",
            "938\n",
            "Training Average loss: 0.031698, Accuracy = (99.008333%)\n",
            "learning rate 0.05\n",
            "Test set: Average loss: 0.022449, Accuracy: 9924/10000 (99.240000%)\n",
            "\n",
            "Epoch:  15\n",
            "938\n",
            "Training Average loss: 0.027735, Accuracy = (99.140000%)\n",
            "learning rate 0.01\n",
            "Test set: Average loss: 0.017129, Accuracy: 9939/10000 (99.390000%)\n",
            "\n",
            "Epoch:  16\n",
            "938\n",
            "Training Average loss: 0.025539, Accuracy = (99.195000%)\n",
            "learning rate 0.01\n",
            "Test set: Average loss: 0.016831, Accuracy: 9945/10000 (99.450000%)\n",
            "\n",
            "Epoch:  17\n",
            "938\n",
            "Training Average loss: 0.025204, Accuracy = (99.180000%)\n",
            "learning rate 0.01\n",
            "Test set: Average loss: 0.017412, Accuracy: 9946/10000 (99.460000%)\n",
            "\n",
            "Epoch:  18\n",
            "938\n",
            "Training Average loss: 0.023572, Accuracy = (99.240000%)\n",
            "learning rate 0.01\n",
            "Test set: Average loss: 0.015951, Accuracy: 9950/10000 (99.500000%)\n",
            "\n",
            "Epoch:  19\n",
            "938\n",
            "Training Average loss: 0.023065, Accuracy = (99.233333%)\n",
            "learning rate 0.01\n",
            "Test set: Average loss: 0.016712, Accuracy: 9942/10000 (99.420000%)\n",
            "\n"
          ],
          "name": "stdout"
        },
        {
          "output_type": "display_data",
          "data": {
            "image/png": "[encoded data removed]",
            "text/plain": [
              "<Figure size 1080x432 with 2 Axes>"
            ]
          },
          "metadata": {
            "tags": [],
            "needs_background": "light"
          }
        }
      ]
    },
    {
      "cell_type": "code",
      "metadata": {
        "id": "Oryo-wAzORi3",
        "outputId": "4e267762-6eb0-4b1c-abe9-f229ae602503",
        "colab": {
          "base_uri": "https://localhost:8080/"
        }
      },
      "source": [
        ""
      ],
      "execution_count": 22,
      "outputs": [
        {
          "output_type": "stream",
          "text": [
            "Epoch:  15\n"
          ],
          "name": "stdout"
        },
        {
          "output_type": "stream",
          "text": [
            "/usr/local/lib/python3.7/dist-packages/ipykernel_launcher.py:63: UserWarning: Implicit dimension choice for log_softmax has been deprecated. Change the call to include dim=X as an argument.\n"
          ],
          "name": "stderr"
        },
        {
          "output_type": "stream",
          "text": [
            "938\n",
            "Training Average loss: 0.041215, Accuracy = (98.703333%)\n",
            "learning rate 0.01\n",
            "Test set: Average loss: 0.020767, Accuracy: 9928/10000 (99.280000%)\n",
            "\n",
            "Epoch:  16\n",
            "938\n",
            "Training Average loss: 0.041025, Accuracy = (98.701667%)\n",
            "learning rate 0.01\n",
            "Test set: Average loss: 0.020941, Accuracy: 9933/10000 (99.330000%)\n",
            "\n",
            "Epoch:  17\n",
            "938\n",
            "Training Average loss: 0.038844, Accuracy = (98.786667%)\n",
            "learning rate 0.01\n",
            "Test set: Average loss: 0.020085, Accuracy: 9940/10000 (99.400000%)\n",
            "\n",
            "Epoch:  18\n",
            "938\n",
            "Training Average loss: 0.038063, Accuracy = (98.796667%)\n",
            "learning rate 0.01\n",
            "Test set: Average loss: 0.021026, Accuracy: 9933/10000 (99.330000%)\n",
            "\n",
            "Epoch:  19\n",
            "938\n",
            "Training Average loss: 0.038988, Accuracy = (98.766667%)\n",
            "learning rate 0.01\n",
            "Test set: Average loss: 0.020461, Accuracy: 9935/10000 (99.350000%)\n",
            "\n"
          ],
          "name": "stdout"
        }
      ]
    },
    {
      "cell_type": "code",
      "metadata": {
        "id": "PutTTI4RO_fS",
        "outputId": "796a747f-36c8-481c-c04d-b71be1a562ae",
        "colab": {
          "base_uri": "https://localhost:8080/",
          "height": 390
        }
      },
      "source": [
        "training_curves()"
      ],
      "execution_count": 23,
      "outputs": [
        {
          "output_type": "display_data",
          "data": {
            "image/png": "[encoded data removed]",
            "text/plain": [
              "<Figure size 1080x432 with 2 Axes>"
            ]
          },
          "metadata": {
            "tags": [],
            "needs_background": "light"
          }
        }
      ]
    },
    {
      "cell_type": "code",
      "metadata": {
        "colab": {
          "base_uri": "https://localhost:8080/",
          "height": 1000
        },
        "id": "z1eLLgLGIOxq",
        "outputId": "22b41923-90c4-4970-fa3e-888faab91628"
      },
      "source": [
        "optimizer = optim.SGD(model.parameters(), lr=0.01, momentum=0.9,)\n",
        "for epoch in range(20, 30):\n",
        "    print(\"Epoch: \", epoch)\n",
        "    train(model, device, train_loader, optimizer, scheduler, epoch)\n",
        "    print(\"learning rate\", optimizer.param_groups[0]['lr'])\n",
        "    test(model, device, test_loader)   \n",
        "training_curves()"
      ],
      "execution_count": null,
      "outputs": [
        {
          "output_type": "stream",
          "text": [
            "Epoch:  20\n"
          ],
          "name": "stdout"
        },
        {
          "output_type": "stream",
          "text": [
            "/usr/local/lib/python3.7/dist-packages/ipykernel_launcher.py:63: UserWarning: Implicit dimension choice for log_softmax has been deprecated. Change the call to include dim=X as an argument.\n"
          ],
          "name": "stderr"
        },
        {
          "output_type": "stream",
          "text": [
            "938\n",
            "Training Average loss: 0.026916, Accuracy = (99.140000%)\n",
            "learning rate 0.01\n",
            "Test set: Average loss: 0.020773, Accuracy: 9932/10000 (99.320000%)\n",
            "\n",
            "Epoch:  21\n",
            "938\n",
            "Training Average loss: 0.025354, Accuracy = (99.200000%)\n",
            "learning rate 0.01\n",
            "Test set: Average loss: 0.020706, Accuracy: 9936/10000 (99.360000%)\n",
            "\n",
            "Epoch:  22\n",
            "938\n",
            "Training Average loss: 0.025973, Accuracy = (99.205000%)\n",
            "learning rate 0.01\n",
            "Test set: Average loss: 0.020715, Accuracy: 9935/10000 (99.350000%)\n",
            "\n",
            "Epoch:  23\n",
            "938\n",
            "Training Average loss: 0.026879, Accuracy = (99.165000%)\n",
            "learning rate 0.01\n",
            "Test set: Average loss: 0.020851, Accuracy: 9934/10000 (99.340000%)\n",
            "\n",
            "Epoch:  24\n",
            "Epoch    24: reducing learning rate of group 0 to 5.0000e-02.\n",
            "938\n",
            "Training Average loss: 0.025532, Accuracy = (99.181667%)\n",
            "learning rate 0.01\n",
            "Test set: Average loss: 0.020835, Accuracy: 9930/10000 (99.300000%)\n",
            "\n",
            "Epoch:  25\n",
            "938\n",
            "Training Average loss: 0.026757, Accuracy = (99.186667%)\n",
            "learning rate 0.01\n",
            "Test set: Average loss: 0.020394, Accuracy: 9934/10000 (99.340000%)\n",
            "\n",
            "Epoch:  26\n",
            "938\n",
            "Training Average loss: 0.026049, Accuracy = (99.141667%)\n",
            "learning rate 0.01\n",
            "Test set: Average loss: 0.020330, Accuracy: 9936/10000 (99.360000%)\n",
            "\n",
            "Epoch:  27\n",
            "Epoch    27: reducing learning rate of group 0 to 5.0000e-03.\n",
            "938\n",
            "Training Average loss: 0.025949, Accuracy = (99.188333%)\n",
            "learning rate 0.01\n",
            "Test set: Average loss: 0.020241, Accuracy: 9939/10000 (99.390000%)\n",
            "\n",
            "Epoch:  28\n",
            "938\n",
            "Training Average loss: 0.025322, Accuracy = (99.203333%)\n",
            "learning rate 0.01\n",
            "Test set: Average loss: 0.020475, Accuracy: 9935/10000 (99.350000%)\n",
            "\n",
            "Epoch:  29\n",
            "938\n",
            "Training Average loss: 0.024902, Accuracy = (99.196667%)\n",
            "learning rate 0.01\n",
            "Test set: Average loss: 0.020416, Accuracy: 9934/10000 (99.340000%)\n",
            "\n"
          ],
          "name": "stdout"
        },
        {
          "output_type": "display_data",
          "data": {
            "image/png": "[encoded data removed]",
            "text/plain": [
              "<Figure size 1080x432 with 2 Axes>"
            ]
          },
          "metadata": {
            "tags": [],
            "needs_background": "light"
          }
        }
      ]
    },
    {
      "cell_type": "code",
      "metadata": {
        "colab": {
          "base_uri": "https://localhost:8080/",
          "height": 1000
        },
        "id": "NeGwfGKYJQj8",
        "outputId": "446f556b-3779-41ae-cf3a-7eeb24a4fc0a"
      },
      "source": [
        "for epoch in range(20, 30):\n",
        "    print(\"Epoch: \", epoch)\n",
        "    train(model, device, train_loader, optimizer, scheduler, epoch)\n",
        "    print(\"learning rate\", optimizer.param_groups[0]['lr'])\n",
        "    test(model, device, test_loader)   \n",
        "training_curves()"
      ],
      "execution_count": null,
      "outputs": [
        {
          "output_type": "stream",
          "text": [
            "Epoch:  20\n"
          ],
          "name": "stdout"
        },
        {
          "output_type": "stream",
          "text": [
            "/usr/local/lib/python3.7/dist-packages/ipykernel_launcher.py:63: UserWarning: Implicit dimension choice for log_softmax has been deprecated. Change the call to include dim=X as an argument.\n"
          ],
          "name": "stderr"
        },
        {
          "output_type": "stream",
          "text": [
            "938\n",
            "Training Average loss: 0.023653, Accuracy = (99.236667%)\n",
            "learning rate 0.01\n",
            "Test set: Average loss: 0.020224, Accuracy: 9931/10000 (99.310000%)\n",
            "\n",
            "Epoch:  21\n",
            "938\n",
            "Training Average loss: 0.022541, Accuracy = (99.250000%)\n",
            "learning rate 0.01\n",
            "Test set: Average loss: 0.020760, Accuracy: 9929/10000 (99.290000%)\n",
            "\n",
            "Epoch:  22\n",
            "938\n",
            "Training Average loss: 0.022548, Accuracy = (99.275000%)\n",
            "learning rate 0.01\n",
            "Test set: Average loss: 0.020598, Accuracy: 9932/10000 (99.320000%)\n",
            "\n",
            "Epoch:  23\n",
            "938\n",
            "Training Average loss: 0.023772, Accuracy = (99.213333%)\n",
            "learning rate 0.01\n",
            "Test set: Average loss: 0.020525, Accuracy: 9934/10000 (99.340000%)\n",
            "\n",
            "Epoch:  24\n",
            "938\n",
            "Training Average loss: 0.022116, Accuracy = (99.306667%)\n",
            "learning rate 0.01\n",
            "Test set: Average loss: 0.021220, Accuracy: 9929/10000 (99.290000%)\n",
            "\n",
            "Epoch:  25\n",
            "938\n",
            "Training Average loss: 0.022373, Accuracy = (99.273333%)\n",
            "learning rate 0.01\n",
            "Test set: Average loss: 0.020877, Accuracy: 9934/10000 (99.340000%)\n",
            "\n",
            "Epoch:  26\n",
            "938\n",
            "Training Average loss: 0.022759, Accuracy = (99.291667%)\n",
            "learning rate 0.01\n",
            "Test set: Average loss: 0.020899, Accuracy: 9936/10000 (99.360000%)\n",
            "\n",
            "Epoch:  27\n",
            "938\n",
            "Training Average loss: 0.021877, Accuracy = (99.288333%)\n",
            "learning rate 0.01\n",
            "Test set: Average loss: 0.020522, Accuracy: 9939/10000 (99.390000%)\n",
            "\n",
            "Epoch:  28\n",
            "938\n",
            "Training Average loss: 0.022933, Accuracy = (99.243333%)\n",
            "learning rate 0.01\n",
            "Test set: Average loss: 0.020797, Accuracy: 9930/10000 (99.300000%)\n",
            "\n",
            "Epoch:  29\n",
            "938\n",
            "Training Average loss: 0.022599, Accuracy = (99.268333%)\n",
            "learning rate 0.01\n",
            "Test set: Average loss: 0.021088, Accuracy: 9930/10000 (99.300000%)\n",
            "\n"
          ],
          "name": "stdout"
        },
        {
          "output_type": "display_data",
          "data": {
            "image/png": "[encoded data removed]",
            "text/plain": [
              "<Figure size 1080x432 with 2 Axes>"
            ]
          },
          "metadata": {
            "tags": [],
            "needs_background": "light"
          }
        }
      ]
    },
    {
      "cell_type": "code",
      "metadata": {
        "colab": {
          "base_uri": "https://localhost:8080/",
          "height": 1000
        },
        "id": "cVBdaATQKROw",
        "outputId": "912da532-0fe8-4094-910d-184ee3286e1a"
      },
      "source": [
        "optimizer = optim.SGD(model.parameters(), lr=0.005, momentum=0.9,)\n",
        "for epoch in range(40, 50):\n",
        "    print(\"Epoch: \", epoch)\n",
        "    train(model, device, train_loader, optimizer, scheduler, epoch)\n",
        "    print(\"learning rate\", optimizer.param_groups[0]['lr'])\n",
        "    test(model, device, test_loader)   \n",
        "training_curves()"
      ],
      "execution_count": null,
      "outputs": [
        {
          "output_type": "stream",
          "text": [
            "Epoch:  40\n"
          ],
          "name": "stdout"
        },
        {
          "output_type": "stream",
          "text": [
            "/usr/local/lib/python3.7/dist-packages/ipykernel_launcher.py:63: UserWarning: Implicit dimension choice for log_softmax has been deprecated. Change the call to include dim=X as an argument.\n"
          ],
          "name": "stderr"
        },
        {
          "output_type": "stream",
          "text": [
            "Epoch    40: reducing learning rate of group 0 to 5.0000e-03.\n",
            "938\n",
            "Training Average loss: 0.022610, Accuracy = (99.280000%)\n",
            "learning rate 0.005\n",
            "Test set: Average loss: 0.020297, Accuracy: 9937/10000 (99.370000%)\n",
            "\n",
            "Epoch:  41\n",
            "938\n",
            "Training Average loss: 0.022007, Accuracy = (99.290000%)\n",
            "learning rate 0.005\n",
            "Test set: Average loss: 0.020812, Accuracy: 9934/10000 (99.340000%)\n",
            "\n",
            "Epoch:  42\n",
            "938\n",
            "Training Average loss: 0.022895, Accuracy = (99.263333%)\n",
            "learning rate 0.005\n",
            "Test set: Average loss: 0.020829, Accuracy: 9931/10000 (99.310000%)\n",
            "\n",
            "Epoch:  43\n",
            "Epoch    43: reducing learning rate of group 0 to 5.0000e-04.\n",
            "938\n",
            "Training Average loss: 0.022686, Accuracy = (99.280000%)\n",
            "learning rate 0.005\n",
            "Test set: Average loss: 0.020836, Accuracy: 9935/10000 (99.350000%)\n",
            "\n",
            "Epoch:  44\n",
            "938\n",
            "Training Average loss: 0.021772, Accuracy = (99.310000%)\n",
            "learning rate 0.005\n",
            "Test set: Average loss: 0.021032, Accuracy: 9931/10000 (99.310000%)\n",
            "\n",
            "Epoch:  45\n",
            "938\n",
            "Training Average loss: 0.021559, Accuracy = (99.306667%)\n",
            "learning rate 0.005\n",
            "Test set: Average loss: 0.020406, Accuracy: 9936/10000 (99.360000%)\n",
            "\n",
            "Epoch:  46\n",
            "938\n",
            "Training Average loss: 0.021853, Accuracy = (99.303333%)\n",
            "learning rate 0.005\n",
            "Test set: Average loss: 0.020932, Accuracy: 9935/10000 (99.350000%)\n",
            "\n",
            "Epoch:  47\n",
            "938\n",
            "Training Average loss: 0.021772, Accuracy = (99.311667%)\n",
            "learning rate 0.005\n",
            "Test set: Average loss: 0.020939, Accuracy: 9935/10000 (99.350000%)\n",
            "\n",
            "Epoch:  48\n",
            "Epoch    48: reducing learning rate of group 0 to 5.0000e-05.\n",
            "938\n",
            "Training Average loss: 0.022598, Accuracy = (99.303333%)\n",
            "learning rate 0.005\n",
            "Test set: Average loss: 0.020924, Accuracy: 9934/10000 (99.340000%)\n",
            "\n",
            "Epoch:  49\n",
            "938\n",
            "Training Average loss: 0.022443, Accuracy = (99.238333%)\n",
            "learning rate 0.005\n",
            "Test set: Average loss: 0.020870, Accuracy: 9934/10000 (99.340000%)\n",
            "\n"
          ],
          "name": "stdout"
        },
        {
          "output_type": "display_data",
          "data": {
            "image/png": "[encoded data removed]",
            "text/plain": [
              "<Figure size 1080x432 with 2 Axes>"
            ]
          },
          "metadata": {
            "tags": [],
            "needs_background": "light"
          }
        }
      ]
    },
    {
      "cell_type": "markdown",
      "metadata": {
        "id": "H_HK2NlWMJQv"
      },
      "source": [
        "More epochs with lower LR"
      ]
    }
  ]
}