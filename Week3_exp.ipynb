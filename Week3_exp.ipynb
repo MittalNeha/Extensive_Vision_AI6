{
  "nbformat": 4,
  "nbformat_minor": 0,
  "metadata": {
    "colab": {
      "name": "Week3_exp.ipynb",
      "provenance": [],
      "authorship_tag": "ABX9TyMnnywYJkdWYwlD4m1Z1Szx",
      "include_colab_link": true
    },
    "kernelspec": {
      "name": "python3",
      "display_name": "Python 3"
    },
    "language_info": {
      "name": "python"
    },
    "accelerator": "GPU",
    "widgets": {
      "application/vnd.jupyter.widget-state+json": {
        "a79dc0e6f15b4a1880b3ddd043ac67ba": {
          "model_module": "@jupyter-widgets/controls",
          "model_name": "HBoxModel",
          "state": {
            "_view_name": "HBoxView",
            "_dom_classes": [],
            "_model_name": "HBoxModel",
            "_view_module": "@jupyter-widgets/controls",
            "_model_module_version": "1.5.0",
            "_view_count": null,
            "_view_module_version": "1.5.0",
            "box_style": "",
            "layout": "IPY_MODEL_fbecdf8a7d4a4088b8d224a6e28a5c22",
            "_model_module": "@jupyter-widgets/controls",
            "children": [
              "IPY_MODEL_05194ce4cc0b41d18ea5a8e490f9ff73",
              "IPY_MODEL_ba28c9562b37435f81f95929a15fb501"
            ]
          }
        },
        "fbecdf8a7d4a4088b8d224a6e28a5c22": {
          "model_module": "@jupyter-widgets/base",
          "model_name": "LayoutModel",
          "state": {
            "_view_name": "LayoutView",
            "grid_template_rows": null,
            "right": null,
            "justify_content": null,
            "_view_module": "@jupyter-widgets/base",
            "overflow": null,
            "_model_module_version": "1.2.0",
            "_view_count": null,
            "flex_flow": null,
            "width": null,
            "min_width": null,
            "border": null,
            "align_items": null,
            "bottom": null,
            "_model_module": "@jupyter-widgets/base",
            "top": null,
            "grid_column": null,
            "overflow_y": null,
            "overflow_x": null,
            "grid_auto_flow": null,
            "grid_area": null,
            "grid_template_columns": null,
            "flex": null,
            "_model_name": "LayoutModel",
            "justify_items": null,
            "grid_row": null,
            "max_height": null,
            "align_content": null,
            "visibility": null,
            "align_self": null,
            "height": null,
            "min_height": null,
            "padding": null,
            "grid_auto_rows": null,
            "grid_gap": null,
            "max_width": null,
            "order": null,
            "_view_module_version": "1.2.0",
            "grid_template_areas": null,
            "object_position": null,
            "object_fit": null,
            "grid_auto_columns": null,
            "margin": null,
            "display": null,
            "left": null
          }
        },
        "05194ce4cc0b41d18ea5a8e490f9ff73": {
          "model_module": "@jupyter-widgets/controls",
          "model_name": "FloatProgressModel",
          "state": {
            "_view_name": "ProgressView",
            "style": "IPY_MODEL_218a589d8c9f457a8542c05683e5eed6",
            "_dom_classes": [],
            "description": "",
            "_model_name": "FloatProgressModel",
            "bar_style": "success",
            "max": 9912422,
            "_view_module": "@jupyter-widgets/controls",
            "_model_module_version": "1.5.0",
            "value": 9912422,
            "_view_count": null,
            "_view_module_version": "1.5.0",
            "orientation": "horizontal",
            "min": 0,
            "description_tooltip": null,
            "_model_module": "@jupyter-widgets/controls",
            "layout": "IPY_MODEL_9c0d9febdd954e87a6fe11baac0e046c"
          }
        },
        "ba28c9562b37435f81f95929a15fb501": {
          "model_module": "@jupyter-widgets/controls",
          "model_name": "HTMLModel",
          "state": {
            "_view_name": "HTMLView",
            "style": "IPY_MODEL_6f9c89608b4241cba2527b8d0cbd9b22",
            "_dom_classes": [],
            "description": "",
            "_model_name": "HTMLModel",
            "placeholder": "​",
            "_view_module": "@jupyter-widgets/controls",
            "_model_module_version": "1.5.0",
            "value": " 9913344/? [29:25&lt;00:00, 5615.00it/s]",
            "_view_count": null,
            "_view_module_version": "1.5.0",
            "description_tooltip": null,
            "_model_module": "@jupyter-widgets/controls",
            "layout": "IPY_MODEL_0cc56f84a39544dd9e308face52ec02d"
          }
        },
        "218a589d8c9f457a8542c05683e5eed6": {
          "model_module": "@jupyter-widgets/controls",
          "model_name": "ProgressStyleModel",
          "state": {
            "_view_name": "StyleView",
            "_model_name": "ProgressStyleModel",
            "description_width": "initial",
            "_view_module": "@jupyter-widgets/base",
            "_model_module_version": "1.5.0",
            "_view_count": null,
            "_view_module_version": "1.2.0",
            "bar_color": null,
            "_model_module": "@jupyter-widgets/controls"
          }
        },
        "9c0d9febdd954e87a6fe11baac0e046c": {
          "model_module": "@jupyter-widgets/base",
          "model_name": "LayoutModel",
          "state": {
            "_view_name": "LayoutView",
            "grid_template_rows": null,
            "right": null,
            "justify_content": null,
            "_view_module": "@jupyter-widgets/base",
            "overflow": null,
            "_model_module_version": "1.2.0",
            "_view_count": null,
            "flex_flow": null,
            "width": null,
            "min_width": null,
            "border": null,
            "align_items": null,
            "bottom": null,
            "_model_module": "@jupyter-widgets/base",
            "top": null,
            "grid_column": null,
            "overflow_y": null,
            "overflow_x": null,
            "grid_auto_flow": null,
            "grid_area": null,
            "grid_template_columns": null,
            "flex": null,
            "_model_name": "LayoutModel",
            "justify_items": null,
            "grid_row": null,
            "max_height": null,
            "align_content": null,
            "visibility": null,
            "align_self": null,
            "height": null,
            "min_height": null,
            "padding": null,
            "grid_auto_rows": null,
            "grid_gap": null,
            "max_width": null,
            "order": null,
            "_view_module_version": "1.2.0",
            "grid_template_areas": null,
            "object_position": null,
            "object_fit": null,
            "grid_auto_columns": null,
            "margin": null,
            "display": null,
            "left": null
          }
        },
        "6f9c89608b4241cba2527b8d0cbd9b22": {
          "model_module": "@jupyter-widgets/controls",
          "model_name": "DescriptionStyleModel",
          "state": {
            "_view_name": "StyleView",
            "_model_name": "DescriptionStyleModel",
            "description_width": "",
            "_view_module": "@jupyter-widgets/base",
            "_model_module_version": "1.5.0",
            "_view_count": null,
            "_view_module_version": "1.2.0",
            "_model_module": "@jupyter-widgets/controls"
          }
        },
        "0cc56f84a39544dd9e308face52ec02d": {
          "model_module": "@jupyter-widgets/base",
          "model_name": "LayoutModel",
          "state": {
            "_view_name": "LayoutView",
            "grid_template_rows": null,
            "right": null,
            "justify_content": null,
            "_view_module": "@jupyter-widgets/base",
            "overflow": null,
            "_model_module_version": "1.2.0",
            "_view_count": null,
            "flex_flow": null,
            "width": null,
            "min_width": null,
            "border": null,
            "align_items": null,
            "bottom": null,
            "_model_module": "@jupyter-widgets/base",
            "top": null,
            "grid_column": null,
            "overflow_y": null,
            "overflow_x": null,
            "grid_auto_flow": null,
            "grid_area": null,
            "grid_template_columns": null,
            "flex": null,
            "_model_name": "LayoutModel",
            "justify_items": null,
            "grid_row": null,
            "max_height": null,
            "align_content": null,
            "visibility": null,
            "align_self": null,
            "height": null,
            "min_height": null,
            "padding": null,
            "grid_auto_rows": null,
            "grid_gap": null,
            "max_width": null,
            "order": null,
            "_view_module_version": "1.2.0",
            "grid_template_areas": null,
            "object_position": null,
            "object_fit": null,
            "grid_auto_columns": null,
            "margin": null,
            "display": null,
            "left": null
          }
        },
        "af9c76c233b94897b298f9084fed4994": {
          "model_module": "@jupyter-widgets/controls",
          "model_name": "HBoxModel",
          "state": {
            "_view_name": "HBoxView",
            "_dom_classes": [],
            "_model_name": "HBoxModel",
            "_view_module": "@jupyter-widgets/controls",
            "_model_module_version": "1.5.0",
            "_view_count": null,
            "_view_module_version": "1.5.0",
            "box_style": "",
            "layout": "IPY_MODEL_2e374d3a8dc7451fa8bd177fbe00a659",
            "_model_module": "@jupyter-widgets/controls",
            "children": [
              "IPY_MODEL_b6524faa897d44bfa8730b5c1638e339",
              "IPY_MODEL_8f9df9f8701e4d539d270b6f56ba4047"
            ]
          }
        },
        "2e374d3a8dc7451fa8bd177fbe00a659": {
          "model_module": "@jupyter-widgets/base",
          "model_name": "LayoutModel",
          "state": {
            "_view_name": "LayoutView",
            "grid_template_rows": null,
            "right": null,
            "justify_content": null,
            "_view_module": "@jupyter-widgets/base",
            "overflow": null,
            "_model_module_version": "1.2.0",
            "_view_count": null,
            "flex_flow": null,
            "width": null,
            "min_width": null,
            "border": null,
            "align_items": null,
            "bottom": null,
            "_model_module": "@jupyter-widgets/base",
            "top": null,
            "grid_column": null,
            "overflow_y": null,
            "overflow_x": null,
            "grid_auto_flow": null,
            "grid_area": null,
            "grid_template_columns": null,
            "flex": null,
            "_model_name": "LayoutModel",
            "justify_items": null,
            "grid_row": null,
            "max_height": null,
            "align_content": null,
            "visibility": null,
            "align_self": null,
            "height": null,
            "min_height": null,
            "padding": null,
            "grid_auto_rows": null,
            "grid_gap": null,
            "max_width": null,
            "order": null,
            "_view_module_version": "1.2.0",
            "grid_template_areas": null,
            "object_position": null,
            "object_fit": null,
            "grid_auto_columns": null,
            "margin": null,
            "display": null,
            "left": null
          }
        },
        "b6524faa897d44bfa8730b5c1638e339": {
          "model_module": "@jupyter-widgets/controls",
          "model_name": "FloatProgressModel",
          "state": {
            "_view_name": "ProgressView",
            "style": "IPY_MODEL_1aadb950bb9a4accbb3ea72a68e7f2ec",
            "_dom_classes": [],
            "description": "",
            "_model_name": "FloatProgressModel",
            "bar_style": "success",
            "max": 28881,
            "_view_module": "@jupyter-widgets/controls",
            "_model_module_version": "1.5.0",
            "value": 28881,
            "_view_count": null,
            "_view_module_version": "1.5.0",
            "orientation": "horizontal",
            "min": 0,
            "description_tooltip": null,
            "_model_module": "@jupyter-widgets/controls",
            "layout": "IPY_MODEL_58d8b4c326be4ea0bbe9a0f20e780ed2"
          }
        },
        "8f9df9f8701e4d539d270b6f56ba4047": {
          "model_module": "@jupyter-widgets/controls",
          "model_name": "HTMLModel",
          "state": {
            "_view_name": "HTMLView",
            "style": "IPY_MODEL_66f6752498c847ef9984629cbc7858ef",
            "_dom_classes": [],
            "description": "",
            "_model_name": "HTMLModel",
            "placeholder": "​",
            "_view_module": "@jupyter-widgets/controls",
            "_model_module_version": "1.5.0",
            "value": " 29696/? [00:01&lt;00:00, 16052.30it/s]",
            "_view_count": null,
            "_view_module_version": "1.5.0",
            "description_tooltip": null,
            "_model_module": "@jupyter-widgets/controls",
            "layout": "IPY_MODEL_30774d9277514d73b796c5e301bea5f1"
          }
        },
        "1aadb950bb9a4accbb3ea72a68e7f2ec": {
          "model_module": "@jupyter-widgets/controls",
          "model_name": "ProgressStyleModel",
          "state": {
            "_view_name": "StyleView",
            "_model_name": "ProgressStyleModel",
            "description_width": "initial",
            "_view_module": "@jupyter-widgets/base",
            "_model_module_version": "1.5.0",
            "_view_count": null,
            "_view_module_version": "1.2.0",
            "bar_color": null,
            "_model_module": "@jupyter-widgets/controls"
          }
        },
        "58d8b4c326be4ea0bbe9a0f20e780ed2": {
          "model_module": "@jupyter-widgets/base",
          "model_name": "LayoutModel",
          "state": {
            "_view_name": "LayoutView",
            "grid_template_rows": null,
            "right": null,
            "justify_content": null,
            "_view_module": "@jupyter-widgets/base",
            "overflow": null,
            "_model_module_version": "1.2.0",
            "_view_count": null,
            "flex_flow": null,
            "width": null,
            "min_width": null,
            "border": null,
            "align_items": null,
            "bottom": null,
            "_model_module": "@jupyter-widgets/base",
            "top": null,
            "grid_column": null,
            "overflow_y": null,
            "overflow_x": null,
            "grid_auto_flow": null,
            "grid_area": null,
            "grid_template_columns": null,
            "flex": null,
            "_model_name": "LayoutModel",
            "justify_items": null,
            "grid_row": null,
            "max_height": null,
            "align_content": null,
            "visibility": null,
            "align_self": null,
            "height": null,
            "min_height": null,
            "padding": null,
            "grid_auto_rows": null,
            "grid_gap": null,
            "max_width": null,
            "order": null,
            "_view_module_version": "1.2.0",
            "grid_template_areas": null,
            "object_position": null,
            "object_fit": null,
            "grid_auto_columns": null,
            "margin": null,
            "display": null,
            "left": null
          }
        },
        "66f6752498c847ef9984629cbc7858ef": {
          "model_module": "@jupyter-widgets/controls",
          "model_name": "DescriptionStyleModel",
          "state": {
            "_view_name": "StyleView",
            "_model_name": "DescriptionStyleModel",
            "description_width": "",
            "_view_module": "@jupyter-widgets/base",
            "_model_module_version": "1.5.0",
            "_view_count": null,
            "_view_module_version": "1.2.0",
            "_model_module": "@jupyter-widgets/controls"
          }
        },
        "30774d9277514d73b796c5e301bea5f1": {
          "model_module": "@jupyter-widgets/base",
          "model_name": "LayoutModel",
          "state": {
            "_view_name": "LayoutView",
            "grid_template_rows": null,
            "right": null,
            "justify_content": null,
            "_view_module": "@jupyter-widgets/base",
            "overflow": null,
            "_model_module_version": "1.2.0",
            "_view_count": null,
            "flex_flow": null,
            "width": null,
            "min_width": null,
            "border": null,
            "align_items": null,
            "bottom": null,
            "_model_module": "@jupyter-widgets/base",
            "top": null,
            "grid_column": null,
            "overflow_y": null,
            "overflow_x": null,
            "grid_auto_flow": null,
            "grid_area": null,
            "grid_template_columns": null,
            "flex": null,
            "_model_name": "LayoutModel",
            "justify_items": null,
            "grid_row": null,
            "max_height": null,
            "align_content": null,
            "visibility": null,
            "align_self": null,
            "height": null,
            "min_height": null,
            "padding": null,
            "grid_auto_rows": null,
            "grid_gap": null,
            "max_width": null,
            "order": null,
            "_view_module_version": "1.2.0",
            "grid_template_areas": null,
            "object_position": null,
            "object_fit": null,
            "grid_auto_columns": null,
            "margin": null,
            "display": null,
            "left": null
          }
        },
        "b4db87f10f2c457f9417e140053a2bd9": {
          "model_module": "@jupyter-widgets/controls",
          "model_name": "HBoxModel",
          "state": {
            "_view_name": "HBoxView",
            "_dom_classes": [],
            "_model_name": "HBoxModel",
            "_view_module": "@jupyter-widgets/controls",
            "_model_module_version": "1.5.0",
            "_view_count": null,
            "_view_module_version": "1.5.0",
            "box_style": "",
            "layout": "IPY_MODEL_6d50c390a8b14a8ba7a48ab78823cf11",
            "_model_module": "@jupyter-widgets/controls",
            "children": [
              "IPY_MODEL_8933a36f36c5433683da397fb181187e",
              "IPY_MODEL_b152aacb32c841f59cc85655da08d0fc"
            ]
          }
        },
        "6d50c390a8b14a8ba7a48ab78823cf11": {
          "model_module": "@jupyter-widgets/base",
          "model_name": "LayoutModel",
          "state": {
            "_view_name": "LayoutView",
            "grid_template_rows": null,
            "right": null,
            "justify_content": null,
            "_view_module": "@jupyter-widgets/base",
            "overflow": null,
            "_model_module_version": "1.2.0",
            "_view_count": null,
            "flex_flow": null,
            "width": null,
            "min_width": null,
            "border": null,
            "align_items": null,
            "bottom": null,
            "_model_module": "@jupyter-widgets/base",
            "top": null,
            "grid_column": null,
            "overflow_y": null,
            "overflow_x": null,
            "grid_auto_flow": null,
            "grid_area": null,
            "grid_template_columns": null,
            "flex": null,
            "_model_name": "LayoutModel",
            "justify_items": null,
            "grid_row": null,
            "max_height": null,
            "align_content": null,
            "visibility": null,
            "align_self": null,
            "height": null,
            "min_height": null,
            "padding": null,
            "grid_auto_rows": null,
            "grid_gap": null,
            "max_width": null,
            "order": null,
            "_view_module_version": "1.2.0",
            "grid_template_areas": null,
            "object_position": null,
            "object_fit": null,
            "grid_auto_columns": null,
            "margin": null,
            "display": null,
            "left": null
          }
        },
        "8933a36f36c5433683da397fb181187e": {
          "model_module": "@jupyter-widgets/controls",
          "model_name": "FloatProgressModel",
          "state": {
            "_view_name": "ProgressView",
            "style": "IPY_MODEL_c734727297254b7b953a5d294808f1a1",
            "_dom_classes": [],
            "description": "",
            "_model_name": "FloatProgressModel",
            "bar_style": "success",
            "max": 1648877,
            "_view_module": "@jupyter-widgets/controls",
            "_model_module_version": "1.5.0",
            "value": 1648877,
            "_view_count": null,
            "_view_module_version": "1.5.0",
            "orientation": "horizontal",
            "min": 0,
            "description_tooltip": null,
            "_model_module": "@jupyter-widgets/controls",
            "layout": "IPY_MODEL_dcaa331604d148d5983f67873bf926c0"
          }
        },
        "b152aacb32c841f59cc85655da08d0fc": {
          "model_module": "@jupyter-widgets/controls",
          "model_name": "HTMLModel",
          "state": {
            "_view_name": "HTMLView",
            "style": "IPY_MODEL_b034e8632c8c47b48786a491a7e424b4",
            "_dom_classes": [],
            "description": "",
            "_model_name": "HTMLModel",
            "placeholder": "​",
            "_view_module": "@jupyter-widgets/controls",
            "_model_module_version": "1.5.0",
            "value": " 1649664/? [29:22&lt;00:00, 935.91it/s]",
            "_view_count": null,
            "_view_module_version": "1.5.0",
            "description_tooltip": null,
            "_model_module": "@jupyter-widgets/controls",
            "layout": "IPY_MODEL_c7a3bd8372be4af8806a36d088430902"
          }
        },
        "c734727297254b7b953a5d294808f1a1": {
          "model_module": "@jupyter-widgets/controls",
          "model_name": "ProgressStyleModel",
          "state": {
            "_view_name": "StyleView",
            "_model_name": "ProgressStyleModel",
            "description_width": "initial",
            "_view_module": "@jupyter-widgets/base",
            "_model_module_version": "1.5.0",
            "_view_count": null,
            "_view_module_version": "1.2.0",
            "bar_color": null,
            "_model_module": "@jupyter-widgets/controls"
          }
        },
        "dcaa331604d148d5983f67873bf926c0": {
          "model_module": "@jupyter-widgets/base",
          "model_name": "LayoutModel",
          "state": {
            "_view_name": "LayoutView",
            "grid_template_rows": null,
            "right": null,
            "justify_content": null,
            "_view_module": "@jupyter-widgets/base",
            "overflow": null,
            "_model_module_version": "1.2.0",
            "_view_count": null,
            "flex_flow": null,
            "width": null,
            "min_width": null,
            "border": null,
            "align_items": null,
            "bottom": null,
            "_model_module": "@jupyter-widgets/base",
            "top": null,
            "grid_column": null,
            "overflow_y": null,
            "overflow_x": null,
            "grid_auto_flow": null,
            "grid_area": null,
            "grid_template_columns": null,
            "flex": null,
            "_model_name": "LayoutModel",
            "justify_items": null,
            "grid_row": null,
            "max_height": null,
            "align_content": null,
            "visibility": null,
            "align_self": null,
            "height": null,
            "min_height": null,
            "padding": null,
            "grid_auto_rows": null,
            "grid_gap": null,
            "max_width": null,
            "order": null,
            "_view_module_version": "1.2.0",
            "grid_template_areas": null,
            "object_position": null,
            "object_fit": null,
            "grid_auto_columns": null,
            "margin": null,
            "display": null,
            "left": null
          }
        },
        "b034e8632c8c47b48786a491a7e424b4": {
          "model_module": "@jupyter-widgets/controls",
          "model_name": "DescriptionStyleModel",
          "state": {
            "_view_name": "StyleView",
            "_model_name": "DescriptionStyleModel",
            "description_width": "",
            "_view_module": "@jupyter-widgets/base",
            "_model_module_version": "1.5.0",
            "_view_count": null,
            "_view_module_version": "1.2.0",
            "_model_module": "@jupyter-widgets/controls"
          }
        },
        "c7a3bd8372be4af8806a36d088430902": {
          "model_module": "@jupyter-widgets/base",
          "model_name": "LayoutModel",
          "state": {
            "_view_name": "LayoutView",
            "grid_template_rows": null,
            "right": null,
            "justify_content": null,
            "_view_module": "@jupyter-widgets/base",
            "overflow": null,
            "_model_module_version": "1.2.0",
            "_view_count": null,
            "flex_flow": null,
            "width": null,
            "min_width": null,
            "border": null,
            "align_items": null,
            "bottom": null,
            "_model_module": "@jupyter-widgets/base",
            "top": null,
            "grid_column": null,
            "overflow_y": null,
            "overflow_x": null,
            "grid_auto_flow": null,
            "grid_area": null,
            "grid_template_columns": null,
            "flex": null,
            "_model_name": "LayoutModel",
            "justify_items": null,
            "grid_row": null,
            "max_height": null,
            "align_content": null,
            "visibility": null,
            "align_self": null,
            "height": null,
            "min_height": null,
            "padding": null,
            "grid_auto_rows": null,
            "grid_gap": null,
            "max_width": null,
            "order": null,
            "_view_module_version": "1.2.0",
            "grid_template_areas": null,
            "object_position": null,
            "object_fit": null,
            "grid_auto_columns": null,
            "margin": null,
            "display": null,
            "left": null
          }
        },
        "d03b68fc2c9f43269cc727c51a275fab": {
          "model_module": "@jupyter-widgets/controls",
          "model_name": "HBoxModel",
          "state": {
            "_view_name": "HBoxView",
            "_dom_classes": [],
            "_model_name": "HBoxModel",
            "_view_module": "@jupyter-widgets/controls",
            "_model_module_version": "1.5.0",
            "_view_count": null,
            "_view_module_version": "1.5.0",
            "box_style": "",
            "layout": "IPY_MODEL_7dede4d369c04053870f343c84062e51",
            "_model_module": "@jupyter-widgets/controls",
            "children": [
              "IPY_MODEL_614ed69ec217446c8451749eeff53b4c",
              "IPY_MODEL_16eb2e435879480f8f79970634330b69"
            ]
          }
        },
        "7dede4d369c04053870f343c84062e51": {
          "model_module": "@jupyter-widgets/base",
          "model_name": "LayoutModel",
          "state": {
            "_view_name": "LayoutView",
            "grid_template_rows": null,
            "right": null,
            "justify_content": null,
            "_view_module": "@jupyter-widgets/base",
            "overflow": null,
            "_model_module_version": "1.2.0",
            "_view_count": null,
            "flex_flow": null,
            "width": null,
            "min_width": null,
            "border": null,
            "align_items": null,
            "bottom": null,
            "_model_module": "@jupyter-widgets/base",
            "top": null,
            "grid_column": null,
            "overflow_y": null,
            "overflow_x": null,
            "grid_auto_flow": null,
            "grid_area": null,
            "grid_template_columns": null,
            "flex": null,
            "_model_name": "LayoutModel",
            "justify_items": null,
            "grid_row": null,
            "max_height": null,
            "align_content": null,
            "visibility": null,
            "align_self": null,
            "height": null,
            "min_height": null,
            "padding": null,
            "grid_auto_rows": null,
            "grid_gap": null,
            "max_width": null,
            "order": null,
            "_view_module_version": "1.2.0",
            "grid_template_areas": null,
            "object_position": null,
            "object_fit": null,
            "grid_auto_columns": null,
            "margin": null,
            "display": null,
            "left": null
          }
        },
        "614ed69ec217446c8451749eeff53b4c": {
          "model_module": "@jupyter-widgets/controls",
          "model_name": "FloatProgressModel",
          "state": {
            "_view_name": "ProgressView",
            "style": "IPY_MODEL_01fe1147248d4fe3ab2f6db32cf9f108",
            "_dom_classes": [],
            "description": "",
            "_model_name": "FloatProgressModel",
            "bar_style": "success",
            "max": 4542,
            "_view_module": "@jupyter-widgets/controls",
            "_model_module_version": "1.5.0",
            "value": 4542,
            "_view_count": null,
            "_view_module_version": "1.5.0",
            "orientation": "horizontal",
            "min": 0,
            "description_tooltip": null,
            "_model_module": "@jupyter-widgets/controls",
            "layout": "IPY_MODEL_84768c9e3e904be4b9e1cf04aae1e02c"
          }
        },
        "16eb2e435879480f8f79970634330b69": {
          "model_module": "@jupyter-widgets/controls",
          "model_name": "HTMLModel",
          "state": {
            "_view_name": "HTMLView",
            "style": "IPY_MODEL_85352027ea1d42d8aaa9a07e9641c2e9",
            "_dom_classes": [],
            "description": "",
            "_model_name": "HTMLModel",
            "placeholder": "​",
            "_view_module": "@jupyter-widgets/controls",
            "_model_module_version": "1.5.0",
            "value": " 5120/? [00:00&lt;00:00, 18938.68it/s]",
            "_view_count": null,
            "_view_module_version": "1.5.0",
            "description_tooltip": null,
            "_model_module": "@jupyter-widgets/controls",
            "layout": "IPY_MODEL_db44bd86738b491d80c4af4e421b1808"
          }
        },
        "01fe1147248d4fe3ab2f6db32cf9f108": {
          "model_module": "@jupyter-widgets/controls",
          "model_name": "ProgressStyleModel",
          "state": {
            "_view_name": "StyleView",
            "_model_name": "ProgressStyleModel",
            "description_width": "initial",
            "_view_module": "@jupyter-widgets/base",
            "_model_module_version": "1.5.0",
            "_view_count": null,
            "_view_module_version": "1.2.0",
            "bar_color": null,
            "_model_module": "@jupyter-widgets/controls"
          }
        },
        "84768c9e3e904be4b9e1cf04aae1e02c": {
          "model_module": "@jupyter-widgets/base",
          "model_name": "LayoutModel",
          "state": {
            "_view_name": "LayoutView",
            "grid_template_rows": null,
            "right": null,
            "justify_content": null,
            "_view_module": "@jupyter-widgets/base",
            "overflow": null,
            "_model_module_version": "1.2.0",
            "_view_count": null,
            "flex_flow": null,
            "width": null,
            "min_width": null,
            "border": null,
            "align_items": null,
            "bottom": null,
            "_model_module": "@jupyter-widgets/base",
            "top": null,
            "grid_column": null,
            "overflow_y": null,
            "overflow_x": null,
            "grid_auto_flow": null,
            "grid_area": null,
            "grid_template_columns": null,
            "flex": null,
            "_model_name": "LayoutModel",
            "justify_items": null,
            "grid_row": null,
            "max_height": null,
            "align_content": null,
            "visibility": null,
            "align_self": null,
            "height": null,
            "min_height": null,
            "padding": null,
            "grid_auto_rows": null,
            "grid_gap": null,
            "max_width": null,
            "order": null,
            "_view_module_version": "1.2.0",
            "grid_template_areas": null,
            "object_position": null,
            "object_fit": null,
            "grid_auto_columns": null,
            "margin": null,
            "display": null,
            "left": null
          }
        },
        "85352027ea1d42d8aaa9a07e9641c2e9": {
          "model_module": "@jupyter-widgets/controls",
          "model_name": "DescriptionStyleModel",
          "state": {
            "_view_name": "StyleView",
            "_model_name": "DescriptionStyleModel",
            "description_width": "",
            "_view_module": "@jupyter-widgets/base",
            "_model_module_version": "1.5.0",
            "_view_count": null,
            "_view_module_version": "1.2.0",
            "_model_module": "@jupyter-widgets/controls"
          }
        },
        "db44bd86738b491d80c4af4e421b1808": {
          "model_module": "@jupyter-widgets/base",
          "model_name": "LayoutModel",
          "state": {
            "_view_name": "LayoutView",
            "grid_template_rows": null,
            "right": null,
            "justify_content": null,
            "_view_module": "@jupyter-widgets/base",
            "overflow": null,
            "_model_module_version": "1.2.0",
            "_view_count": null,
            "flex_flow": null,
            "width": null,
            "min_width": null,
            "border": null,
            "align_items": null,
            "bottom": null,
            "_model_module": "@jupyter-widgets/base",
            "top": null,
            "grid_column": null,
            "overflow_y": null,
            "overflow_x": null,
            "grid_auto_flow": null,
            "grid_area": null,
            "grid_template_columns": null,
            "flex": null,
            "_model_name": "LayoutModel",
            "justify_items": null,
            "grid_row": null,
            "max_height": null,
            "align_content": null,
            "visibility": null,
            "align_self": null,
            "height": null,
            "min_height": null,
            "padding": null,
            "grid_auto_rows": null,
            "grid_gap": null,
            "max_width": null,
            "order": null,
            "_view_module_version": "1.2.0",
            "grid_template_areas": null,
            "object_position": null,
            "object_fit": null,
            "grid_auto_columns": null,
            "margin": null,
            "display": null,
            "left": null
          }
        }
      }
    }
  },
  "cells": [
    {
      "cell_type": "markdown",
      "metadata": {
        "id": "view-in-github",
        "colab_type": "text"
      },
      "source": [
        "<a href=\"https://colab.research.google.com/github/MittalNeha/Extensive_Vision_AI6/blob/main/Week3_exp.ipynb\" target=\"_parent\"><img src=\"https://colab.research.google.com/assets/colab-badge.svg\" alt=\"Open In Colab\"/></a>"
      ]
    },
    {
      "cell_type": "markdown",
      "metadata": {
        "id": "FSoSRysDKkle"
      },
      "source": [
        "Write a neural network that can:\n",
        "1. take 2 inputs:\n",
        "    \n",
        "\n",
        "> a. an image from MNIST dataset, and\n",
        "> \n",
        "\n",
        "> b. a random number between 0 and 9\n",
        "\n",
        "2. and gives two outputs:\n",
        "\n",
        "> a. the \"number\" that was represented by the MNIST image, and\n",
        "\n",
        "\n",
        "> b. the \"sum\" of this number with the random number that was generated and sent as the input to the network\n"
      ]
    },
    {
      "cell_type": "markdown",
      "metadata": {
        "id": "ewcYVGM9KbQM"
      },
      "source": [
        "\n",
        "\n",
        "> ![assign.png](data:image/png;base64,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)\n",
        "\n"
      ]
    },
    {
      "cell_type": "markdown",
      "metadata": {
        "id": "oe4YoF5IL5p1"
      },
      "source": [
        "**First lets train MNIST?**"
      ]
    },
    {
      "cell_type": "code",
      "metadata": {
        "id": "T3_CNX_2L46X"
      },
      "source": [
        "import torch\n",
        "import torch.nn as nn\n",
        "import torchvision\n",
        "import torchvision.transforms as transforms\n",
        "# import torch.utils.data.DataLoader"
      ],
      "execution_count": 1,
      "outputs": []
    },
    {
      "cell_type": "markdown",
      "metadata": {
        "id": "lyJLhJ3IMJIl"
      },
      "source": [
        "Dataloader"
      ]
    },
    {
      "cell_type": "code",
      "metadata": {
        "id": "5qOyvVN1KCfh"
      },
      "source": [
        "#Load MNIST dataset\n",
        "from torchvision import datasets"
      ],
      "execution_count": 2,
      "outputs": []
    },
    {
      "cell_type": "code",
      "metadata": {
        "colab": {
          "base_uri": "https://localhost:8080/",
          "height": 811,
          "referenced_widgets": [
            "a79dc0e6f15b4a1880b3ddd043ac67ba",
            "fbecdf8a7d4a4088b8d224a6e28a5c22",
            "05194ce4cc0b41d18ea5a8e490f9ff73",
            "ba28c9562b37435f81f95929a15fb501",
            "218a589d8c9f457a8542c05683e5eed6",
            "9c0d9febdd954e87a6fe11baac0e046c",
            "6f9c89608b4241cba2527b8d0cbd9b22",
            "0cc56f84a39544dd9e308face52ec02d",
            "af9c76c233b94897b298f9084fed4994",
            "2e374d3a8dc7451fa8bd177fbe00a659",
            "b6524faa897d44bfa8730b5c1638e339",
            "8f9df9f8701e4d539d270b6f56ba4047",
            "1aadb950bb9a4accbb3ea72a68e7f2ec",
            "58d8b4c326be4ea0bbe9a0f20e780ed2",
            "66f6752498c847ef9984629cbc7858ef",
            "30774d9277514d73b796c5e301bea5f1",
            "b4db87f10f2c457f9417e140053a2bd9",
            "6d50c390a8b14a8ba7a48ab78823cf11",
            "8933a36f36c5433683da397fb181187e",
            "b152aacb32c841f59cc85655da08d0fc",
            "c734727297254b7b953a5d294808f1a1",
            "dcaa331604d148d5983f67873bf926c0",
            "b034e8632c8c47b48786a491a7e424b4",
            "c7a3bd8372be4af8806a36d088430902",
            "d03b68fc2c9f43269cc727c51a275fab",
            "7dede4d369c04053870f343c84062e51",
            "614ed69ec217446c8451749eeff53b4c",
            "16eb2e435879480f8f79970634330b69",
            "01fe1147248d4fe3ab2f6db32cf9f108",
            "84768c9e3e904be4b9e1cf04aae1e02c",
            "85352027ea1d42d8aaa9a07e9641c2e9",
            "db44bd86738b491d80c4af4e421b1808"
          ]
        },
        "id": "SqQiGDyab_uq",
        "outputId": "274b6fa5-d800-4251-a468-52c2b25c5fd7"
      },
      "source": [
        "train_set = datasets.MNIST(root='./data/',\n",
        "                           train=True, \n",
        "                           download=True, \n",
        "                           transform=transforms.Compose([\n",
        "                                                         transforms.ToTensor()\n",
        "                                                         ]))\n"
      ],
      "execution_count": 3,
      "outputs": [
        {
          "output_type": "stream",
          "text": [
            "Downloading http://yann.lecun.com/exdb/mnist/train-images-idx3-ubyte.gz\n",
            "Downloading http://yann.lecun.com/exdb/mnist/train-images-idx3-ubyte.gz to ./data/MNIST/raw/train-images-idx3-ubyte.gz\n",
            "Failed to download (trying next):\n",
            "HTTP Error 503: Service Unavailable\n",
            "\n",
            "Downloading https://ossci-datasets.s3.amazonaws.com/mnist/train-images-idx3-ubyte.gz\n",
            "Downloading https://ossci-datasets.s3.amazonaws.com/mnist/train-images-idx3-ubyte.gz to ./data/MNIST/raw/train-images-idx3-ubyte.gz\n"
          ],
          "name": "stdout"
        },
        {
          "output_type": "display_data",
          "data": {
            "application/vnd.jupyter.widget-view+json": {
              "model_id": "a79dc0e6f15b4a1880b3ddd043ac67ba",
              "version_minor": 0,
              "version_major": 2
            },
            "text/plain": [
              "HBox(children=(FloatProgress(value=0.0, max=9912422.0), HTML(value='')))"
            ]
          },
          "metadata": {
            "tags": []
          }
        },
        {
          "output_type": "stream",
          "text": [
            "\n",
            "Extracting ./data/MNIST/raw/train-images-idx3-ubyte.gz to ./data/MNIST/raw\n",
            "\n",
            "Downloading http://yann.lecun.com/exdb/mnist/train-labels-idx1-ubyte.gz\n",
            "Downloading http://yann.lecun.com/exdb/mnist/train-labels-idx1-ubyte.gz to ./data/MNIST/raw/train-labels-idx1-ubyte.gz\n"
          ],
          "name": "stdout"
        },
        {
          "output_type": "display_data",
          "data": {
            "application/vnd.jupyter.widget-view+json": {
              "model_id": "af9c76c233b94897b298f9084fed4994",
              "version_minor": 0,
              "version_major": 2
            },
            "text/plain": [
              "HBox(children=(FloatProgress(value=0.0, max=28881.0), HTML(value='')))"
            ]
          },
          "metadata": {
            "tags": []
          }
        },
        {
          "output_type": "stream",
          "text": [
            "\n",
            "Extracting ./data/MNIST/raw/train-labels-idx1-ubyte.gz to ./data/MNIST/raw\n",
            "\n",
            "Downloading http://yann.lecun.com/exdb/mnist/t10k-images-idx3-ubyte.gz\n",
            "Downloading http://yann.lecun.com/exdb/mnist/t10k-images-idx3-ubyte.gz to ./data/MNIST/raw/t10k-images-idx3-ubyte.gz\n",
            "Failed to download (trying next):\n",
            "HTTP Error 503: Service Unavailable\n",
            "\n",
            "Downloading https://ossci-datasets.s3.amazonaws.com/mnist/t10k-images-idx3-ubyte.gz\n",
            "Downloading https://ossci-datasets.s3.amazonaws.com/mnist/t10k-images-idx3-ubyte.gz to ./data/MNIST/raw/t10k-images-idx3-ubyte.gz\n"
          ],
          "name": "stdout"
        },
        {
          "output_type": "display_data",
          "data": {
            "application/vnd.jupyter.widget-view+json": {
              "model_id": "b4db87f10f2c457f9417e140053a2bd9",
              "version_minor": 0,
              "version_major": 2
            },
            "text/plain": [
              "HBox(children=(FloatProgress(value=0.0, max=1648877.0), HTML(value='')))"
            ]
          },
          "metadata": {
            "tags": []
          }
        },
        {
          "output_type": "stream",
          "text": [
            "\n",
            "Extracting ./data/MNIST/raw/t10k-images-idx3-ubyte.gz to ./data/MNIST/raw\n",
            "\n",
            "Downloading http://yann.lecun.com/exdb/mnist/t10k-labels-idx1-ubyte.gz\n",
            "Failed to download (trying next):\n",
            "HTTP Error 503: Service Unavailable\n",
            "\n",
            "Downloading https://ossci-datasets.s3.amazonaws.com/mnist/t10k-labels-idx1-ubyte.gz\n",
            "Downloading https://ossci-datasets.s3.amazonaws.com/mnist/t10k-labels-idx1-ubyte.gz to ./data/MNIST/raw/t10k-labels-idx1-ubyte.gz\n"
          ],
          "name": "stdout"
        },
        {
          "output_type": "display_data",
          "data": {
            "application/vnd.jupyter.widget-view+json": {
              "model_id": "d03b68fc2c9f43269cc727c51a275fab",
              "version_minor": 0,
              "version_major": 2
            },
            "text/plain": [
              "HBox(children=(FloatProgress(value=0.0, max=4542.0), HTML(value='')))"
            ]
          },
          "metadata": {
            "tags": []
          }
        },
        {
          "output_type": "stream",
          "text": [
            "\n",
            "Extracting ./data/MNIST/raw/t10k-labels-idx1-ubyte.gz to ./data/MNIST/raw\n",
            "\n",
            "Processing...\n",
            "Done!\n"
          ],
          "name": "stdout"
        },
        {
          "output_type": "stream",
          "text": [
            "/usr/local/lib/python3.7/dist-packages/torchvision/datasets/mnist.py:502: UserWarning: The given NumPy array is not writeable, and PyTorch does not support non-writeable tensors. This means you can write to the underlying (supposedly non-writeable) NumPy array using the tensor. You may want to copy the array to protect its data or make it writeable before converting it to a tensor. This type of warning will be suppressed for the rest of this program. (Triggered internally at  /pytorch/torch/csrc/utils/tensor_numpy.cpp:143.)\n",
            "  return torch.from_numpy(parsed.astype(m[2], copy=False)).view(*s)\n"
          ],
          "name": "stderr"
        }
      ]
    },
    {
      "cell_type": "markdown",
      "metadata": {
        "id": "TwM_-eSxMKYV"
      },
      "source": [
        "My Network"
      ]
    },
    {
      "cell_type": "code",
      "metadata": {
        "id": "9-YdNniAMMG-"
      },
      "source": [
        "import torch.nn.functional as F\n",
        "\n",
        "class MyNetwork(nn.Module):\n",
        "  def __init__(self):\n",
        "    super().__init__()\n",
        "    \n",
        "    self.out_classes = 10\n",
        "\n",
        "    self.conv1 = nn.Conv2d(1, 32, 3, padding=1)   #3\n",
        "\n",
        "    #convolution block\n",
        "    self.conv2 = nn.Conv2d(32, 64, 3, padding=1) #5\n",
        "    self.conv3 = nn.Conv2d(64, 128, 3, padding=1)  #7\n",
        "    self.conv4 = nn.Conv2d(128, 128, 3, padding=1) #11\n",
        "\n",
        "    self.pool1 = nn.MaxPool2d(2, stride=2)        #22\n",
        "\n",
        "    self.conv5 = nn.Conv2d(128, 256, 3, padding=1)  \n",
        "    self.conv6 = nn.Conv2d(256, 256, 3, padding=1)  \n",
        "\n",
        "    self.pool2 = nn.MaxPool2d(2, stride=2)\n",
        "\n",
        "    # self.conv6 = nn.Conv2d(128, 256, 3, padding=1) #18\n",
        "    self.conv7 = nn.Conv2d(256, 512, 3, padding=1) #20\n",
        "    self.conv8 = nn.Conv2d(512, 512, 3, padding=1)\n",
        "\n",
        "    self.dense1 = nn.Linear(512 * 7 * 7, 1024)\n",
        "\n",
        "\n",
        "    # self.conv4 = nn.Conv2d(128, 256, 3, padding=1) #11\n",
        "\n",
        "    # self.pool1 = nn.MaxPool2d(2, stride=2)        #22\n",
        "\n",
        "    # self.conv5 = nn.Conv2d(256, 256, 3, padding=1)  \n",
        "    # self.conv6 = nn.Conv2d(256, 512, 3, padding=1)  \n",
        "\n",
        "    # self.pool2 = nn.MaxPool2d(2, stride=2)\n",
        "\n",
        "    # # self.conv6 = nn.Conv2d(128, 256, 3, padding=1) #18\n",
        "    # self.conv7 = nn.Conv2d(512, 512, 3, padding=1) #20\n",
        "    # self.conv8 = nn.Conv2d(512, 512, 3, padding=1)\n",
        "\n",
        "    # self.dense1 = nn.Linear(512 * 7 * 7, 1024)\n",
        "    self.dense2 = nn.Linear(1024, 10)\n",
        "\n",
        "\n",
        "  def forward(self, t):\n",
        "\n",
        "    #input Layer we can add the random number here.\n",
        "    t = t\n",
        "    t = self.pool1(F.relu(self.conv4(F.relu(self.conv3(F.relu(self.conv2(F.relu( self.conv1(t) ))))))))\n",
        "\n",
        "    t = (self.pool2(F.relu(self.conv6(F.relu(self.conv5(t) )))))\n",
        "    t = self.conv8(F.relu( self.conv7(t) ))\n",
        "\n",
        "    # t = F.relu(self.conv11\n",
        "    #     (F.relu\n",
        "    #      (self.conv10\n",
        "    #       (F.relu(self.conv9(F.relu( self.conv8(t) )))))))\n",
        "    \n",
        "    # t = t.view(t.size(0), -1)\n",
        "    t = t.view(-1, 7 * 7 * 512)\n",
        "    t = self.dense2( F.relu( self.dense1(t) ))\n",
        "\n",
        "    return(F.softmax(t,dim=1))\n",
        "\n"
      ],
      "execution_count": 27,
      "outputs": []
    },
    {
      "cell_type": "code",
      "metadata": {
        "colab": {
          "base_uri": "https://localhost:8080/"
        },
        "id": "2AIaZqhyqnnt",
        "outputId": "1df9a113-498b-4fce-af32-4c3b875b2c38"
      },
      "source": [
        "from torchsummary import summary\n",
        "\n",
        "use_cuda = torch.cuda.is_available()\n",
        "device = torch.device(\"cuda\" if use_cuda else \"cpu\")\n",
        "model = MyNetwork().to(device)\n",
        "summary(model, input_size=(1,28,28))"
      ],
      "execution_count": 28,
      "outputs": [
        {
          "output_type": "stream",
          "text": [
            "----------------------------------------------------------------\n",
            "        Layer (type)               Output Shape         Param #\n",
            "================================================================\n",
            "            Conv2d-1           [-1, 32, 28, 28]             320\n",
            "            Conv2d-2           [-1, 64, 28, 28]          18,496\n",
            "            Conv2d-3          [-1, 128, 28, 28]          73,856\n",
            "            Conv2d-4          [-1, 128, 28, 28]         147,584\n",
            "         MaxPool2d-5          [-1, 128, 14, 14]               0\n",
            "            Conv2d-6          [-1, 256, 14, 14]         295,168\n",
            "            Conv2d-7          [-1, 256, 14, 14]         590,080\n",
            "         MaxPool2d-8            [-1, 256, 7, 7]               0\n",
            "            Conv2d-9            [-1, 512, 7, 7]       1,180,160\n",
            "           Conv2d-10            [-1, 512, 7, 7]       2,359,808\n",
            "           Linear-11                 [-1, 1024]      25,691,136\n",
            "           Linear-12                   [-1, 10]          10,250\n",
            "================================================================\n",
            "Total params: 30,366,858\n",
            "Trainable params: 30,366,858\n",
            "Non-trainable params: 0\n",
            "----------------------------------------------------------------\n",
            "Input size (MB): 0.00\n",
            "Forward/backward pass size (MB): 3.55\n",
            "Params size (MB): 115.84\n",
            "Estimated Total Size (MB): 119.39\n",
            "----------------------------------------------------------------\n"
          ],
          "name": "stdout"
        }
      ]
    },
    {
      "cell_type": "markdown",
      "metadata": {
        "id": "dmvTUFJELcYM"
      },
      "source": [
        "Train the model"
      ]
    },
    {
      "cell_type": "code",
      "metadata": {
        "id": "atD0qxozNvQz"
      },
      "source": [
        "import torch.optim as optim\n",
        "BATCH_SIZE = 128\n",
        "\n",
        "def get_corr_pred(pred, truth):\n",
        "\n",
        "  #Returns the total number of correct predictions\n",
        "  return pred.argmax(dim=1).eq(truth).sum().item()\n",
        "\n",
        "def train():\n",
        "  # torch.set_grad_enabled(True)\n",
        "  model = MyNetwork().to(device)\n",
        "\n",
        "  n_train = len(train_set)\n",
        "\n",
        "  train_dataloader = torch.utils.data.DataLoader(train_set,\n",
        "                                               batch_size=BATCH_SIZE,\n",
        "                                               shuffle=True,\n",
        "                                               )\n",
        "  optimizer = optim.Adam(model.parameters(), lr=0.1)\n",
        "  scheduler = optim.lr_scheduler.ReduceLROnPlateau(optimizer, 'min', patience=2, verbose=True)\n",
        "  # ReduceLROnPlateau\n",
        "\n",
        "  for epoch in range(10):\n",
        "    total_loss = 0\n",
        "    total_correct=0\n",
        "\n",
        "    for batch in train_dataloader:\n",
        "      images, labels = batch\n",
        "      images, labels = images.to(device), labels.to(device)\n",
        "\n",
        "      preds = model(images)\n",
        "      loss = F.cross_entropy(preds, labels)\n",
        "\n",
        "      optimizer.zero_grad()\n",
        "      loss.backward()\n",
        "      optimizer.step()\n",
        "      \n",
        "\n",
        "      total_loss += loss.item()\n",
        "      total_correct += get_corr_pred(preds, labels)\n",
        "\n",
        "    scheduler.step(total_loss/(n_train/BATCH_SIZE))\n",
        "    print(\n",
        "        \"epoch \", epoch,\n",
        "        \"loss: \",  total_loss/(n_train/BATCH_SIZE), \n",
        "        \"correct\", total_correct,\n",
        "        \"lr: \", scheduler._last_lr,\n",
        "        \n",
        "    )"
      ],
      "execution_count": 29,
      "outputs": []
    },
    {
      "cell_type": "code",
      "metadata": {
        "colab": {
          "base_uri": "https://localhost:8080/"
        },
        "id": "E_IvRo2HOK0J",
        "outputId": "83860ed6-1bcc-4a60-df64-994255ead417"
      },
      "source": [
        "train()"
      ],
      "execution_count": 30,
      "outputs": [
        {
          "output_type": "stream",
          "text": [
            "epoch  0 loss:  2.363919613647461 correct 5905 lr:  [0.1]\n",
            "epoch  1 loss:  2.363802386983236 correct 5918 lr:  [0.1]\n",
            "epoch  2 loss:  2.3637523869832355 correct 5918 lr:  [0.1]\n",
            "Epoch     4: reducing learning rate of group 0 to 1.0000e-02.\n",
            "epoch  3 loss:  2.363780165100098 correct 5918 lr:  [0.010000000000000002]\n",
            "epoch  4 loss:  2.363774609375 correct 5918 lr:  [0.010000000000000002]\n",
            "epoch  5 loss:  2.363796831766764 correct 5918 lr:  [0.010000000000000002]\n",
            "Epoch     7: reducing learning rate of group 0 to 1.0000e-03.\n",
            "epoch  6 loss:  2.3637579427083333 correct 5918 lr:  [0.0010000000000000002]\n",
            "epoch  7 loss:  2.3637468317667643 correct 5918 lr:  [0.0010000000000000002]\n",
            "epoch  8 loss:  2.363791276041667 correct 5918 lr:  [0.0010000000000000002]\n",
            "Epoch    10: reducing learning rate of group 0 to 1.0000e-04.\n",
            "epoch  9 loss:  2.3637412760416665 correct 5918 lr:  [0.00010000000000000003]\n"
          ],
          "name": "stdout"
        }
      ]
    },
    {
      "cell_type": "code",
      "metadata": {
        "id": "6XCMc8kyDy1K"
      },
      "source": [
        "\n",
        "BATCH_SIZE = 64\n",
        "model = MyNetwork().to(device)\n",
        "\n",
        "train_dataloader = torch.utils.data.DataLoader(train_set,\n",
        "                                               batch_size=BATCH_SIZE,\n",
        "                                               shuffle=True,\n",
        "                                               )\n",
        "optimizer = optim.Adam(model.parameters(), lr=0.01)\n",
        "scheduler = optim.lr_scheduler.ReduceLROnPlateau(optimizer, 'min', patience=2)\n"
      ],
      "execution_count": 18,
      "outputs": []
    },
    {
      "cell_type": "code",
      "metadata": {
        "id": "EVDBjEh-_Oaq"
      },
      "source": [
        "# torch.set_grad_enabled(True)\n",
        "# model = MyNetwork().to(device)\n",
        "\n",
        "# train_dataloader = torch.utils.data.DataLoader(train_set,\n",
        "#                                                batch_size=BATCH_SIZE,\n",
        "#                                               #  shuffle=True,\n",
        "#                                                )\n",
        "# optimizer = optim.Adam(model.parameters(), lr=0.001)\n",
        "\n",
        "# for epoch in range(1):\n",
        "epoch = 0\n",
        "total_loss = 0\n",
        "total_correct=0\n",
        "\n",
        "for batch in train_dataloader:\n",
        "  # images, labels = next(iter(train_dataloader))\n",
        "  # targets = F.one_hot(labels)\n",
        "  images, labels = batch\n",
        "  # print(labels)\n",
        "  images, labels = images.to(device), labels.to(device)\n",
        "\n",
        "  optimizer.zero_grad()\n",
        "  preds = model(images)\n",
        "  loss = F.cross_entropy(preds, labels)\n",
        "\n",
        "  # print(preds.argmax(dim=1))\n",
        "  \n",
        "  loss.backward()\n",
        "  optimizer.step()\n",
        "\n",
        "  total_loss += loss.item()\n",
        "  total_correct += get_corr_pred(preds, labels)\n",
        "\n",
        "  scheduler.step(loss.item())\n",
        "\n",
        "  print(\n",
        "    \"epoch \", epoch,\n",
        "    \"batch_loss: \", loss.item(),\n",
        "    # \"loss: \",  total_loss, \n",
        "    \"correct\", total_correct,\n",
        "    \"lr: \", scheduler._last_lr,\n",
        "    \"Maybe\", optimizer.param_groups[0]['lr']\n",
        "  )\n",
        "\n"
      ],
      "execution_count": null,
      "outputs": []
    },
    {
      "cell_type": "markdown",
      "metadata": {
        "id": "S7V9UIWHUVx4"
      },
      "source": [
        "Total params: 14,334,538\n",
        "\n",
        "\n",
        "2 blocks\n",
        "Total params: 14,455,466"
      ]
    }
  ]
}