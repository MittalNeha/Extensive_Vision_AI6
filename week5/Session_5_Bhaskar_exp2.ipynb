{
  "nbformat": 4,
  "nbformat_minor": 0,
  "metadata": {
    "colab": {
      "name": "Session 5_Bhaskar_exp2.ipynb",
      "provenance": [],
      "collapsed_sections": [],
      "include_colab_link": true
    },
    "kernelspec": {
      "name": "python3",
      "display_name": "Python 3"
    },
    "accelerator": "GPU"
  },
  "cells": [
    {
      "cell_type": "markdown",
      "metadata": {
        "id": "view-in-github",
        "colab_type": "text"
      },
      "source": [
        "<a href=\"https://colab.research.google.com/github/MittalNeha/Extensive_Vision_AI6/blob/main/week5/Session_5_Bhaskar_exp2.ipynb\" target=\"_parent\"><img src=\"https://colab.research.google.com/assets/colab-badge.svg\" alt=\"Open In Colab\"/></a>"
      ]
    },
    {
      "cell_type": "markdown",
      "metadata": {
        "id": "QB8b8I_6zsmk"
      },
      "source": [
        "# Session 5 - Step 2\n",
        "\n",
        "## Target\n",
        "\n",
        "    99.4% (or close to it in 20 epochs, to see if it has potential).\n",
        "    See if overfitting can be reduced.\n",
        "    Training accuracy reaching >99.5%, to make sure model has learning capacity.\n",
        "    Less than 10000 Parameters (but target lower to have spare capacity)\n",
        "\n",
        "\n",
        "## Result\n",
        "    Parameter Count: 7018\n",
        "    Accuracies in this run, at 15th Epoch:\n",
        "    Training Accuracy(loss) : 99.495% (0.016923)\n",
        "    Testing Accuracy (loss) : 99.29% (0.019708)\n",
        "    In 16th Epoch we achieve 99.35% test accuracy and is the maximum in 20 Epochs. Max training accuracy is 99.563%\n",
        "\n",
        "\n",
        "## Analysis\n",
        "### Model Architecture\n",
        "The channel count of 32 is reduced to 20 in order to reduce parameter count.\n",
        "\n",
        "This was done as 32 was felt to be an overkill for MNIST, especially when I had seen models with max 20 filters at any layer achieving target previously.\n",
        "\n",
        "Have the spare capacity of ~1K atleast to get bonus points.\n",
        "\n",
        "### Regularization\n",
        "No dropout, image augmentation are used. These techniques can help regularize the model. Also they might correct the model going into underfitting from overfitting in 10th Epoch.\n",
        "\n",
        "\n",
        "### Learning Rate Scheduling\n",
        "Used learning rates as given below. Test accuracy jumps in the epoch when the learning rate is reduced. This is worth studying.\n",
        "\n",
        "0.01 for epoch 1-9\n",
        "\n",
        "0.005 for epoch 10-14\n",
        "\n",
        "0.001 for epoch 15-19  (target achieved at 99.41%)\n"
      ]
    },
    {
      "cell_type": "code",
      "metadata": {
        "id": "0m2JWFliFfKT"
      },
      "source": [
        "from __future__ import print_function\n",
        "import torch\n",
        "import torch.nn as nn\n",
        "import torch.nn.functional as F\n",
        "import torch.optim as optim\n",
        "from torchvision import datasets, transforms"
      ],
      "execution_count": 93,
      "outputs": []
    },
    {
      "cell_type": "code",
      "metadata": {
        "id": "xdydjYTZFyi3"
      },
      "source": [
        "from torchsummary import summary\n",
        "use_cuda = torch.cuda.is_available()\n",
        "device = torch.device(\"cuda\" if use_cuda else \"cpu\")"
      ],
      "execution_count": 94,
      "outputs": []
    },
    {
      "cell_type": "markdown",
      "metadata": {
        "id": "lLcSvHNI1KAh"
      },
      "source": [
        "## Model Architecture\n",
        "12->24->36->MP->12->12->24->MP-> 12 -> 12 -> 24 ->GAP->Dense->10"
      ]
    },
    {
      "cell_type": "markdown",
      "metadata": {
        "id": "JFwhzk3EHQmo"
      },
      "source": [
        "##Download the dataset\n"
      ]
    },
    {
      "cell_type": "code",
      "metadata": {
        "id": "cftqqDiImx1E"
      },
      "source": [
        ""
      ],
      "execution_count": 94,
      "outputs": []
    },
    {
      "cell_type": "code",
      "metadata": {
        "id": "CjPmmRG3mj5q",
        "colab": {
          "base_uri": "https://localhost:8080/"
        },
        "outputId": "459022c9-11ba-4aa2-d8dd-1c7b631ad548"
      },
      "source": [
        "# Train Phase transformations\n",
        "train_transforms = transforms.Compose([\n",
        "                                      #transforms.ToPILImage(),\n",
        "                                      #transforms.Resize((28, 28)),\n",
        "                                      #transforms.ColorJitter(brightness=0.10, contrast=0.1, saturation=0.10, hue=0.1),\n",
        "                                       #transforms.RandomRotation((-7.0, 7.0), fill=(0.13,)),\n",
        "                                       transforms.ToTensor(),\n",
        "                                       transforms.Normalize((0.1307,), (0.3081,)), # The mean and std have to be sequences (e.g., tuples), therefore you should add a comma after the values. \n",
        "                                       # Note the difference between (0.1307) and (0.1307,)\n",
        "                                       #transforms.RandomRotation((-5.0, 5.0), fill=(-0.42,)),\n",
        "                                       transforms.RandomAffine((-5,5), translate=None, scale=None, shear=(-4,4), resample=False, fillcolor=(-0.42,))\n",
        "                                       ])\n",
        "\n",
        "# Test Phase transformations\n",
        "test_transforms = transforms.Compose([\n",
        "                                      #  transforms.Resize((28, 28)),\n",
        "                                      #  transforms.ColorJitter(brightness=0.10, contrast=0.1, saturation=0.10, hue=0.1),\n",
        "                                       transforms.ToTensor(),\n",
        "                                       transforms.Normalize((0.1307,), (0.3081,))\n",
        "                                       ])"
      ],
      "execution_count": 95,
      "outputs": [
        {
          "output_type": "stream",
          "text": [
            "/home/lebeast/miniconda3/envs/pytorch/lib/python3.8/site-packages/torchvision/transforms/transforms.py:1314: UserWarning: Argument resample is deprecated and will be removed since v0.10.0. Please, use interpolation instead\n",
            "  warnings.warn(\n",
            "/home/lebeast/miniconda3/envs/pytorch/lib/python3.8/site-packages/torchvision/transforms/transforms.py:1328: UserWarning: Argument fillcolor is deprecated and will be removed since v0.10.0. Please, use fill instead\n",
            "  warnings.warn(\n"
          ],
          "name": "stderr"
        }
      ]
    },
    {
      "cell_type": "code",
      "metadata": {
        "id": "kANEvtR1mxH3"
      },
      "source": [
        "train = datasets.MNIST('./data', train=True, download=True, transform=train_transforms)\n",
        "test = datasets.MNIST('./data', train=False, download=True, transform=test_transforms)"
      ],
      "execution_count": 96,
      "outputs": []
    },
    {
      "cell_type": "code",
      "metadata": {
        "id": "QoPTYiyim9dq",
        "colab": {
          "base_uri": "https://localhost:8080/"
        },
        "outputId": "da6bd752-4e82-4ef0-f617-db9e0c3b01f5"
      },
      "source": [
        "SEED = 1\n",
        "\n",
        "# CUDA?\n",
        "cuda = torch.cuda.is_available()\n",
        "print(\"CUDA Available?\", cuda)\n",
        "\n",
        "# For reproducibility\n",
        "torch.manual_seed(SEED)\n",
        "\n",
        "if cuda:\n",
        "    torch.cuda.manual_seed(SEED)\n",
        "\n",
        "# dataloader arguments - something you'll fetch these from cmdprmt\n",
        "dataloader_args = dict(shuffle=True, batch_size=64, num_workers=4, pin_memory=True) if cuda else dict(shuffle=True, batch_size=64)\n",
        "\n",
        "# train dataloader\n",
        "train_loader = torch.utils.data.DataLoader(train, **dataloader_args)\n",
        "\n",
        "# test dataloader\n",
        "test_loader = torch.utils.data.DataLoader(test, **dataloader_args)"
      ],
      "execution_count": 97,
      "outputs": [
        {
          "output_type": "stream",
          "text": [
            "CUDA Available? True\n"
          ],
          "name": "stdout"
        }
      ]
    },
    {
      "cell_type": "code",
      "metadata": {
        "id": "wJDurWrUngdJ",
        "colab": {
          "base_uri": "https://localhost:8080/",
          "height": 491
        },
        "outputId": "d7ab20ca-032b-495d-c1b3-249dcf6d6799"
      },
      "source": [
        "# We'd need to convert it into Numpy! Remember above we have converted it into tensors already\n",
        "train_data = train.train_data\n",
        "train_data = train.transform(train_data.numpy())\n",
        "\n",
        "print('[Train]')\n",
        "print(' - Numpy Shape:', train.train_data.cpu().numpy().shape)\n",
        "print(' - Tensor Shape:', train.train_data.size())\n",
        "print(' - min:', torch.min(train_data))\n",
        "print(' - max:', torch.max(train_data))\n",
        "print(' - mean:', torch.mean(train_data))\n",
        "print(' - std:', torch.std(train_data))\n",
        "print(' - var:', torch.var(train_data))\n",
        "\n",
        "dataiter = iter(train_loader)\n",
        "images, labels = dataiter.next()\n",
        "\n",
        "print(images.shape)\n",
        "print(labels.shape)\n",
        "\n",
        "# Let's visualize some of the images\n",
        "%matplotlib inline\n",
        "import matplotlib.pyplot as plt\n",
        "\n",
        "plt.imshow(images[0].numpy().squeeze(), cmap='gray_r')\n"
      ],
      "execution_count": 98,
      "outputs": [
        {
          "output_type": "stream",
          "text": [
            "/home/lebeast/miniconda3/envs/pytorch/lib/python3.8/site-packages/torchvision/datasets/mnist.py:64: UserWarning: train_data has been renamed data\n",
            "  warnings.warn(\"train_data has been renamed data\")\n"
          ],
          "name": "stderr"
        },
        {
          "output_type": "stream",
          "text": [
            "[Train]\n",
            " - Numpy Shape: (60000, 28, 28)\n",
            " - Tensor Shape: torch.Size([60000, 28, 28])\n",
            " - min: tensor(-0.4242)\n",
            " - max: tensor(2.8215)\n",
            " - mean: tensor(-0.4067)\n",
            " - std: tensor(0.1918)\n",
            " - var: tensor(0.0368)\n",
            "torch.Size([64, 1, 28, 28])\n",
            "torch.Size([64])\n"
          ],
          "name": "stdout"
        },
        {
          "output_type": "execute_result",
          "data": {
            "text/plain": [
              "<matplotlib.image.AxesImage at 0x7f071e2a7f70>"
            ]
          },
          "metadata": {
            "tags": []
          },
          "execution_count": 98
        },
        {
          "output_type": "display_data",
          "data": {
            "text/plain": [
              "<Figure size 432x288 with 1 Axes>"
            ],
            "image/png": "[encoded data removed]"
          },
          "metadata": {
            "tags": [],
            "needs_background": "light"
          }
        }
      ]
    },
    {
      "cell_type": "code",
      "metadata": {
        "id": "0KMoo8_yngPE",
        "colab": {
          "base_uri": "https://localhost:8080/",
          "height": 246
        },
        "outputId": "8d65a3d4-c37d-4dd7-c163-e301e8c0eaf2"
      },
      "source": [
        "figure = plt.figure()\n",
        "num_of_images = 60\n",
        "for index in range(1, num_of_images + 1):\n",
        "    plt.subplot(6, 10, index)\n",
        "    plt.axis('off')\n",
        "    plt.imshow(images[index].numpy().squeeze(), cmap='gray_r')"
      ],
      "execution_count": 99,
      "outputs": [
        {
          "output_type": "display_data",
          "data": {
            "text/plain": [
              "<Figure size 432x288 with 60 Axes>"
            ],
            "image/png": "[encoded data removed]"
          },
          "metadata": {
            "tags": [],
            "needs_background": "light"
          }
        }
      ]
    },
    {
      "cell_type": "code",
      "metadata": {
        "id": "pUDVTJ48ngEU",
        "colab": {
          "base_uri": "https://localhost:8080/"
        },
        "outputId": "588d50be-4253-46e3-c1e0-046d444b5e11"
      },
      "source": [
        "# simple transform\n",
        "simple_transforms = transforms.Compose([\n",
        "                                      #  transforms.Resize((28, 28)),\n",
        "                                      #  transforms.ColorJitter(brightness=0.10, contrast=0.1, saturation=0.10, hue=0.1),\n",
        "                                       transforms.ToTensor(),\n",
        "                                      #  transforms.Normalize((0.1307,), (0.3081,)) # The mean and std have to be sequences (e.g., tuples), therefore you should add a comma after the values. \n",
        "                                       # Note the difference between (0.1307) and (0.1307,)\n",
        "                                       ])\n",
        "exp = datasets.MNIST('./data', train=True, download=True, transform=simple_transforms)\n",
        "exp_data = exp.train_data\n",
        "exp_data = exp.transform(exp_data.numpy())\n",
        "\n",
        "print('[Train]')\n",
        "print(' - Numpy Shape:', exp.train_data.cpu().numpy().shape)\n",
        "print(' - Tensor Shape:', exp.train_data.size())\n",
        "print(' - min:', torch.min(exp_data))\n",
        "print(' - max:', torch.max(exp_data))\n",
        "print(' - mean:', torch.mean(exp_data))\n",
        "print(' - std:', torch.std(exp_data))\n",
        "print(' - var:', torch.var(exp_data))"
      ],
      "execution_count": 100,
      "outputs": [
        {
          "output_type": "stream",
          "text": [
            "[Train]\n",
            " - Numpy Shape: (60000, 28, 28)\n",
            " - Tensor Shape: torch.Size([60000, 28, 28])\n",
            " - min: tensor(0.)\n",
            " - max: tensor(1.)\n",
            " - mean: tensor(0.1307)\n",
            " - std: tensor(0.3081)\n",
            " - var: tensor(0.0949)\n"
          ],
          "name": "stdout"
        }
      ]
    },
    {
      "cell_type": "code",
      "metadata": {
        "id": "33sbb1Eno30W"
      },
      "source": [
        "# from tqdm.notebook import tqdm\n",
        "\n",
        "#Not Using scheduler right now\n",
        "def train(model, device, train_loader, optimizer, epoch):\n",
        "    model.train()\n",
        "    # pbar = tqdm(train_loader)\n",
        "    train_loss = 0\n",
        "    correct = 0\n",
        "    num_loops = 0\n",
        "    # for batch_idx, (data, target) in enumerate(pbar):\n",
        "    for batch_idx, (data, target) in enumerate(train_loader):\n",
        "        data, target = data.to(device), target.to(device)\n",
        "        optimizer.zero_grad()\n",
        "        output = model(data)\n",
        "        loss = F.nll_loss(output, target)\n",
        "        loss.backward()\n",
        "        optimizer.step()\n",
        "        # pbar.set_description(desc= f'loss={loss.item()} batch_id={batch_idx}')\n",
        "        train_loss += loss.item()\n",
        "        pred = output.argmax(dim=1, keepdim=True)  # get the index of the max log-probability\n",
        "        correct += pred.eq(target.view_as(pred)).sum().item()\n",
        "        num_loops +=1\n",
        " \n",
        "    train_loss /= num_loops\n",
        "    # scheduler.step()\n",
        "    #scheduler.step(train_loss)\n",
        "    hist_train_loss.append(train_loss)\n",
        "    hist_train_acc.append(100. * correct / len(train_loader.dataset))\n",
        "    print(\"Training Average loss: {:.6f}, Accuracy = ({:.6f}%)\".format(train_loss, 100. * correct / len(train_loader.dataset)))\n",
        "\n",
        "def test(model, device, test_loader):\n",
        "    model.eval()\n",
        "    test_loss = 0\n",
        "    correct = 0\n",
        "    with torch.no_grad():\n",
        "        for data, target in test_loader:\n",
        "            data, target = data.to(device), target.to(device)\n",
        "            output = model(data)\n",
        "            test_loss += F.nll_loss(output, target, reduction='sum').item()  # sum up batch loss\n",
        "            pred = output.argmax(dim=1, keepdim=True)  # get the index of the max log-probability\n",
        "            correct += pred.eq(target.view_as(pred)).sum().item()\n",
        "\n",
        "    test_loss /= len(test_loader.dataset)\n",
        "    hist_test_loss.append(test_loss)\n",
        "    hist_test_acc.append(100. * correct / len(test_loader.dataset))\n",
        "\n",
        "    print('Test set: Average loss: {:.6f}, Accuracy: {}/{} ({:.6f}%)\\n'.format(\n",
        "        test_loss, correct, len(test_loader.dataset),\n",
        "        100. * correct / len(test_loader.dataset)))"
      ],
      "execution_count": 101,
      "outputs": []
    },
    {
      "cell_type": "code",
      "metadata": {
        "id": "sZlbgUThtZ2n",
        "colab": {
          "base_uri": "https://localhost:8080/"
        },
        "outputId": "5e099d84-3d02-4152-b578-48193427d644"
      },
      "source": [
        "dropout_value = 0.0\n",
        "class Net3_1(nn.Module):\n",
        "    def __init__(self):\n",
        "        super(Net3_1, self).__init__()\n",
        "        # Input Block\n",
        "        self.convblock1 = nn.Sequential(\n",
        "            nn.Conv2d(in_channels=1, out_channels=8, kernel_size=(3, 3), padding=0, bias=False),\n",
        "            nn.ReLU(),\n",
        "            nn.BatchNorm2d(8),\n",
        "            nn.Dropout(dropout_value)\n",
        "        ) # output_size = 26\n",
        "\n",
        "        # CONVOLUTION BLOCK 1\n",
        "        self.convblock2 = nn.Sequential(\n",
        "            nn.Conv2d(in_channels=8, out_channels=16, kernel_size=(3, 3), padding=0, bias=False),\n",
        "            nn.ReLU(),\n",
        "            nn.BatchNorm2d(16),\n",
        "            nn.Dropout(dropout_value)\n",
        "        ) # output_size = 24\n",
        "\n",
        "        # TRANSITION BLOCK 1\n",
        "        self.pool1 = nn.MaxPool2d(2, 2) # output_size = 11\n",
        "        self.convblock4 = nn.Sequential(\n",
        "            nn.Conv2d(in_channels=16, out_channels=8, kernel_size=(1, 1), padding=0, bias=False),\n",
        "            nn.ReLU()\n",
        "        ) # output_size = 11\n",
        "\n",
        "        # CONVOLUTION BLOCK 2\n",
        "        self.convblock5 = nn.Sequential(\n",
        "            nn.Conv2d(in_channels=8, out_channels=16, kernel_size=(3, 3), padding=0, bias=False),\n",
        "            nn.ReLU(),\n",
        "            nn.BatchNorm2d(16),\n",
        "            nn.Dropout(dropout_value)\n",
        "        ) # output_size = 9\n",
        "        self.convblock6 = nn.Sequential(\n",
        "            nn.Conv2d(in_channels=16, out_channels=20, kernel_size=(3, 3), padding=0, bias=False),\n",
        "            nn.ReLU(),\n",
        "            nn.BatchNorm2d(20),\n",
        "            nn.Dropout(dropout_value)\n",
        "        ) # output_size = 7\n",
        "\n",
        "        # \n",
        "        self.convblock7 = nn.Sequential(\n",
        "            nn.Conv2d(in_channels=20, out_channels=8, kernel_size=(1, 1), padding=0, bias=False),\n",
        "            nn.ReLU()\n",
        "        ) # output_size = 7\n",
        "\n",
        "        # OUTPUT BLOCK\n",
        "        self.convblock8 = nn.Sequential(\n",
        "            nn.Conv2d(in_channels=8, out_channels=16, kernel_size=(3, 3), padding=0, bias=False),\n",
        "            nn.ReLU(),\n",
        "            nn.BatchNorm2d(16),\n",
        "            nn.Dropout(dropout_value)\n",
        "        ) # output_size = 7\n",
        "\n",
        "        self.gap = nn.Sequential(\n",
        "            nn.AvgPool2d(kernel_size=6)\n",
        "        ) # output_size = 1\n",
        "\n",
        "        self.fc1 = nn.Linear(16, 10)\n",
        "\n",
        "    def forward(self, x):\n",
        "        x = self.convblock1(x)\n",
        "        x = self.convblock2(x)\n",
        "        #x = self.convblock3(x)\n",
        "        x = self.pool1(x)\n",
        "        x = self.convblock4(x)\n",
        "        x = self.convblock5(x)\n",
        "        x = self.convblock6(x)\n",
        "        x = self.convblock7(x)\n",
        "        x = self.convblock8(x)\n",
        "        x = self.gap(x)\n",
        "        x = x.view(-1, x.shape[1]*x.shape[2]*x.shape[3])\n",
        "        x = self.fc1(x)\n",
        "        x = x.view(-1, 10)\n",
        "        return F.log_softmax(x, dim=-1)\n",
        "\n",
        "model = Net3_1().to(device)\n",
        "summary(model, input_size=(1, 28, 28))"
      ],
      "execution_count": 102,
      "outputs": [
        {
          "output_type": "stream",
          "text": [
            "----------------------------------------------------------------\n",
            "        Layer (type)               Output Shape         Param #\n",
            "================================================================\n",
            "            Conv2d-1            [-1, 8, 26, 26]              72\n",
            "              ReLU-2            [-1, 8, 26, 26]               0\n",
            "       BatchNorm2d-3            [-1, 8, 26, 26]              16\n",
            "           Dropout-4            [-1, 8, 26, 26]               0\n",
            "            Conv2d-5           [-1, 16, 24, 24]           1,152\n",
            "              ReLU-6           [-1, 16, 24, 24]               0\n",
            "       BatchNorm2d-7           [-1, 16, 24, 24]              32\n",
            "           Dropout-8           [-1, 16, 24, 24]               0\n",
            "         MaxPool2d-9           [-1, 16, 12, 12]               0\n",
            "           Conv2d-10            [-1, 8, 12, 12]             128\n",
            "             ReLU-11            [-1, 8, 12, 12]               0\n",
            "           Conv2d-12           [-1, 16, 10, 10]           1,152\n",
            "             ReLU-13           [-1, 16, 10, 10]               0\n",
            "      BatchNorm2d-14           [-1, 16, 10, 10]              32\n",
            "          Dropout-15           [-1, 16, 10, 10]               0\n",
            "           Conv2d-16             [-1, 20, 8, 8]           2,880\n",
            "             ReLU-17             [-1, 20, 8, 8]               0\n",
            "      BatchNorm2d-18             [-1, 20, 8, 8]              40\n",
            "          Dropout-19             [-1, 20, 8, 8]               0\n",
            "           Conv2d-20              [-1, 8, 8, 8]             160\n",
            "             ReLU-21              [-1, 8, 8, 8]               0\n",
            "           Conv2d-22             [-1, 16, 6, 6]           1,152\n",
            "             ReLU-23             [-1, 16, 6, 6]               0\n",
            "      BatchNorm2d-24             [-1, 16, 6, 6]              32\n",
            "          Dropout-25             [-1, 16, 6, 6]               0\n",
            "        AvgPool2d-26             [-1, 16, 1, 1]               0\n",
            "           Linear-27                   [-1, 10]             170\n",
            "================================================================\n",
            "Total params: 7,018\n",
            "Trainable params: 7,018\n",
            "Non-trainable params: 0\n",
            "----------------------------------------------------------------\n",
            "Input size (MB): 0.00\n",
            "Forward/backward pass size (MB): 0.59\n",
            "Params size (MB): 0.03\n",
            "Estimated Total Size (MB): 0.62\n",
            "----------------------------------------------------------------\n"
          ],
          "name": "stdout"
        }
      ]
    },
    {
      "cell_type": "code",
      "metadata": {
        "id": "P6OBjhSdTYvZ"
      },
      "source": [
        "import numpy as np\n",
        "import matplotlib.pyplot as plt\n",
        "\n",
        "plt.rcParams['figure.figsize'] = [15, 6]\n",
        "\n",
        "def training_curves():\n",
        "  plt.subplot(1,2, 1)\n",
        "\n",
        "  plt.plot(np.array(hist_test_acc))\n",
        "  plt.plot(np.array(hist_train_acc), 'r')\n",
        "  plt.legend([\"test_acc\", \"train_acc\"])\n",
        "  plt.title(\"Accuracy per epoch\")\n",
        "\n",
        "  plt.subplot(1,2,2)\n",
        "  plt.plot(hist_test_loss)\n",
        "  plt.plot(hist_train_loss, 'r')\n",
        "  plt.legend([\"test_loss\", \"train_loss\"])\n",
        "  plt.title(\"Loss per epoch\")"
      ],
      "execution_count": 103,
      "outputs": []
    },
    {
      "cell_type": "code",
      "metadata": {
        "id": "-aywDmD6Tpae"
      },
      "source": [
        "hist_test_loss = []\n",
        "hist_test_acc = []\n",
        "hist_train_loss = []\n",
        "hist_train_acc = []"
      ],
      "execution_count": 104,
      "outputs": []
    },
    {
      "cell_type": "code",
      "metadata": {
        "id": "hn-7Qe0SxiYB",
        "colab": {
          "base_uri": "https://localhost:8080/",
          "height": 1000
        },
        "outputId": "910f924b-c693-4707-9bf8-73a29ef95da0"
      },
      "source": [
        "#model = model.to(device)\n",
        "optimizer = optim.SGD(model.parameters(), lr=0.01, momentum=0.9,)\n",
        "\n",
        "for epoch in range(1, 10):\n",
        "    print(\"Epoch: \", epoch)\n",
        "    train(model, device, train_loader, optimizer, epoch)\n",
        "    print(\"learning rate\", optimizer.param_groups[0]['lr'])\n",
        "    test(model, device, test_loader)\n",
        "\n",
        "optimizer = optim.SGD(model.parameters(), lr=0.005, momentum=0.9)\n",
        "for epoch in range(10, 15):\n",
        "    print(\"Epoch: \", epoch)\n",
        "    train(model, device, train_loader, optimizer, epoch)\n",
        "    print(\"learning rate\", optimizer.param_groups[0]['lr'])\n",
        "    test(model, device, test_loader)\n",
        "\n",
        "optimizer = optim.SGD(model.parameters(), lr=0.001, momentum=0.9)\n",
        "for epoch in range(15, 20):\n",
        "    print(\"Epoch: \", epoch)\n",
        "    train(model, device, train_loader, optimizer, epoch)\n",
        "    print(\"learning rate\", optimizer.param_groups[0]['lr'])\n",
        "    test(model, device, test_loader)\n",
        "\n",
        "training_curves()"
      ],
      "execution_count": 105,
      "outputs": [
        {
          "output_type": "stream",
          "text": [
            "Epoch:  1\n",
            "Training Average loss: 0.341473, Accuracy = (90.631667%)\n",
            "learning rate 0.01\n",
            "Test set: Average loss: 0.093244, Accuracy: 9739/10000 (97.390000%)\n",
            "\n",
            "Epoch:  2\n",
            "Training Average loss: 0.071076, Accuracy = (97.996667%)\n",
            "learning rate 0.01\n",
            "Test set: Average loss: 0.047248, Accuracy: 9865/10000 (98.650000%)\n",
            "\n",
            "Epoch:  3\n",
            "Training Average loss: 0.054285, Accuracy = (98.420000%)\n",
            "learning rate 0.01\n",
            "Test set: Average loss: 0.036900, Accuracy: 9872/10000 (98.720000%)\n",
            "\n",
            "Epoch:  4\n",
            "Training Average loss: 0.048132, Accuracy = (98.570000%)\n",
            "learning rate 0.01\n",
            "Test set: Average loss: 0.035894, Accuracy: 9888/10000 (98.880000%)\n",
            "\n",
            "Epoch:  5\n",
            "Training Average loss: 0.041904, Accuracy = (98.726667%)\n",
            "learning rate 0.01\n",
            "Test set: Average loss: 0.032792, Accuracy: 9907/10000 (99.070000%)\n",
            "\n",
            "Epoch:  6\n",
            "Training Average loss: 0.039296, Accuracy = (98.748333%)\n",
            "learning rate 0.01\n",
            "Test set: Average loss: 0.027697, Accuracy: 9916/10000 (99.160000%)\n",
            "\n",
            "Epoch:  7\n",
            "Training Average loss: 0.034788, Accuracy = (98.921667%)\n",
            "learning rate 0.01\n",
            "Test set: Average loss: 0.028016, Accuracy: 9910/10000 (99.100000%)\n",
            "\n",
            "Epoch:  8\n",
            "Training Average loss: 0.032273, Accuracy = (98.995000%)\n",
            "learning rate 0.01\n",
            "Test set: Average loss: 0.026099, Accuracy: 9923/10000 (99.230000%)\n",
            "\n",
            "Epoch:  9\n",
            "Training Average loss: 0.031120, Accuracy = (98.996667%)\n",
            "learning rate 0.01\n",
            "Test set: Average loss: 0.026424, Accuracy: 9910/10000 (99.100000%)\n",
            "\n",
            "Epoch:  10\n",
            "Training Average loss: 0.023971, Accuracy = (99.241667%)\n",
            "learning rate 0.005\n",
            "Test set: Average loss: 0.021602, Accuracy: 9924/10000 (99.240000%)\n",
            "\n",
            "Epoch:  11\n",
            "Training Average loss: 0.022798, Accuracy = (99.280000%)\n",
            "learning rate 0.005\n",
            "Test set: Average loss: 0.022733, Accuracy: 9921/10000 (99.210000%)\n",
            "\n",
            "Epoch:  12\n",
            "Training Average loss: 0.022062, Accuracy = (99.325000%)\n",
            "learning rate 0.005\n",
            "Test set: Average loss: 0.021065, Accuracy: 9933/10000 (99.330000%)\n",
            "\n",
            "Epoch:  13\n",
            "Training Average loss: 0.021440, Accuracy = (99.348333%)\n",
            "learning rate 0.005\n",
            "Test set: Average loss: 0.021660, Accuracy: 9925/10000 (99.250000%)\n",
            "\n",
            "Epoch:  14\n",
            "Training Average loss: 0.020183, Accuracy = (99.383333%)\n",
            "learning rate 0.005\n",
            "Test set: Average loss: 0.022334, Accuracy: 9919/10000 (99.190000%)\n",
            "\n",
            "Epoch:  15\n",
            "Training Average loss: 0.016923, Accuracy = (99.495000%)\n",
            "learning rate 0.001\n",
            "Test set: Average loss: 0.019708, Accuracy: 9929/10000 (99.290000%)\n",
            "\n",
            "Epoch:  16\n",
            "Training Average loss: 0.015849, Accuracy = (99.521667%)\n",
            "learning rate 0.001\n",
            "Test set: Average loss: 0.019057, Accuracy: 9935/10000 (99.350000%)\n",
            "\n",
            "Epoch:  17\n",
            "Training Average loss: 0.016956, Accuracy = (99.506667%)\n",
            "learning rate 0.001\n",
            "Test set: Average loss: 0.018918, Accuracy: 9929/10000 (99.290000%)\n",
            "\n",
            "Epoch:  18\n",
            "Training Average loss: 0.016101, Accuracy = (99.518333%)\n",
            "learning rate 0.001\n",
            "Test set: Average loss: 0.019456, Accuracy: 9934/10000 (99.340000%)\n",
            "\n",
            "Epoch:  19\n",
            "Training Average loss: 0.014670, Accuracy = (99.563333%)\n",
            "learning rate 0.001\n",
            "Test set: Average loss: 0.018971, Accuracy: 9933/10000 (99.330000%)\n",
            "\n"
          ],
          "name": "stdout"
        },
        {
          "output_type": "display_data",
          "data": {
            "text/plain": [
              "<Figure size 1080x432 with 2 Axes>"
            ],
            "image/png": "[encoded data removed]"
          },
          "metadata": {
            "tags": [],
            "needs_background": "light"
          }
        }
      ]
    },
    {
      "cell_type": "code",
      "metadata": {
        "id": "s6dBOVt-xtJY"
      },
      "source": [
        ""
      ],
      "execution_count": 105,
      "outputs": []
    },
    {
      "cell_type": "code",
      "metadata": {
        "id": "skzUR-vh4DRd"
      },
      "source": [
        ""
      ],
      "execution_count": 105,
      "outputs": []
    }
  ]
}