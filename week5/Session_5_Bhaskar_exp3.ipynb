{
  "nbformat": 4,
  "nbformat_minor": 0,
  "metadata": {
    "colab": {
      "name": "Session 5_Bhaskar_exp3.ipynb",
      "provenance": [],
      "collapsed_sections": [],
      "include_colab_link": true
    },
    "kernelspec": {
      "name": "python3",
      "display_name": "Python 3"
    },
    "accelerator": "GPU"
  },
  "cells": [
    {
      "cell_type": "markdown",
      "metadata": {
        "id": "view-in-github",
        "colab_type": "text"
      },
      "source": [
        "<a href=\"https://colab.research.google.com/github/MittalNeha/Extensive_Vision_AI6/blob/main/week5/Session_5_Bhaskar_exp3.ipynb\" target=\"_parent\"><img src=\"https://colab.research.google.com/assets/colab-badge.svg\" alt=\"Open In Colab\"/></a>"
      ]
    },
    {
      "cell_type": "markdown",
      "metadata": {
        "id": "QB8b8I_6zsmk"
      },
      "source": [
        "# Session 5 - Step 3\n",
        "\n",
        "## Target\n",
        "\n",
        "    99.4% (this must be consistently shown in your last few epochs, and not a one-time achievement).\n",
        "    Less than or equal to 15 Epochs.\n",
        "    Less than 10000 Parameters (additional points for doing this in less than 8000 pts).\n",
        "\n",
        "\n",
        "## Result\n",
        "    Parameter Count: 7018\n",
        "    Accuracies in this run, at 15th Epoch:\n",
        "    Training Average loss: 0.026531, Accuracy = (99.155000%)\n",
        "    Test set: Average loss: 0.020124, Accuracy: 9931/10000 (99.310000%)\n",
        "    \n",
        "\n",
        "## Analysis\n",
        "Slight drop in accuracy after applying image augmentation. Will explore LR scheduling in step 4 to counter this and see, if accuracy can increase.\n",
        "\n",
        "### Model Architecture\n",
        "Tried to use the spare capacity (~1K) to increase filters in first layer, by increasing from 8 to 10/12. But this proved counterintuitive, as it somehow stopped test accuracy from going beyond 99.31%\n",
        "\n",
        "### Dropout vs Image Augmentation\n",
        "A Dropout of 10% was initially achieving target but was causing output fluctuations. In the final epochs, accuracy dip/rise as the neurons dropped can lead to loss or gain of accuracy in test. Also, even a single Image augmentation started to prove counterproductive.\n",
        "\n",
        "So, we tried image augmentation with 5%, 10% Dropout and without Dropout. 5% gave us the optimal in terms of accuracy.\n",
        "\n",
        "### Data Augmentation added:\n",
        "1. Rotation: -5 to +5 degrees.\n",
        "2. Shear:    -5 to +5 degrees in x axis. (y axis shear/slant not practical for human handwriting)\n",
        "\n",
        "Rotation was added, as suggested in Class. But the quantity was reduced to 5 from 7 degrees as Shear started to further exaggerate its effect. The fill was done with -0.42 as it matches white background (found by checking minimum in individual image).\n",
        "\n",
        "\n",
        "### Data Augmentation experimented with:\n",
        "1. Translate/Shift: 10% in x and y axis.\n",
        "2. Scale: 10% in x in y axis.\n",
        "\n",
        "There are some images in dataset which are already very close to the boundry. Example which i saw was a Zero, which had its edge cut off by the vertical shift. So, these augmentations were avoided.\n",
        "\n",
        "### Learning Rate Scheduling\n",
        "Not using LR schedular yet.\n",
        "Used learning rates as given below.\n",
        "0.01 for epoch 1-9\n",
        "\n",
        "0.005 for epoch 10-14\n",
        "\n",
        "0.001 for epoch 15-19"
      ]
    },
    {
      "cell_type": "code",
      "metadata": {
        "id": "0m2JWFliFfKT"
      },
      "source": [
        "from __future__ import print_function\n",
        "import torch\n",
        "import torch.nn as nn\n",
        "import torch.nn.functional as F\n",
        "import torch.optim as optim\n",
        "from torchvision import datasets, transforms"
      ],
      "execution_count": 17,
      "outputs": []
    },
    {
      "cell_type": "code",
      "metadata": {
        "id": "xdydjYTZFyi3"
      },
      "source": [
        "from torchsummary import summary\n",
        "use_cuda = torch.cuda.is_available()\n",
        "device = torch.device(\"cuda\" if use_cuda else \"cpu\")"
      ],
      "execution_count": 18,
      "outputs": []
    },
    {
      "cell_type": "markdown",
      "metadata": {
        "id": "lLcSvHNI1KAh"
      },
      "source": [
        "## Model Architecture\n",
        "8 -> 16 -> MP -> (1x1) -> 8 -> 16 -> 20 -> (1x1) -> 8 -> 16 -> GAP -> Dense -> 10"
      ]
    },
    {
      "cell_type": "markdown",
      "metadata": {
        "id": "JFwhzk3EHQmo"
      },
      "source": [
        "##Download the dataset\n"
      ]
    },
    {
      "cell_type": "markdown",
      "metadata": {
        "id": "p1OjcMPGD2k3"
      },
      "source": [
        "### Data Augmentation added:\n",
        "1. Rotation: -5 to +5 degrees.\n",
        "2. Shear:    -5 to +5 degrees in x axis. (y axis shear/slant not practical for human handwriting)\n",
        "\n",
        "Rotation was added, as suggested in Class. But the quantity was reduced to 5 from 7 degrees as Shear started to further exaggerate its effect. The fill was done with -0.42 as it matches white background (found by checking minimum in individual image).\n",
        "\n",
        "\n",
        "### Data Augmentation experimented with:\n",
        "1. Translate/Shift: 10% in x and y axis.\n",
        "2. Scale: 10% in x in y axis.\n",
        "\n",
        "There are some images in dataset which are already very close to the boundry. Example which i saw was a Zero, which had its edge cut off by the vertical shift. So, these augmentations were avoided."
      ]
    },
    {
      "cell_type": "code",
      "metadata": {
        "id": "CjPmmRG3mj5q",
        "colab": {
          "base_uri": "https://localhost:8080/"
        },
        "outputId": "1d67adc0-3a53-4a47-bd19-fb50feaeb5d0"
      },
      "source": [
        "# Train Phase transformations\n",
        "train_transforms = transforms.Compose([\n",
        "                                      #transforms.ToPILImage(),\n",
        "                                      #transforms.Resize((28, 28)),\n",
        "                                      #transforms.ColorJitter(brightness=0.10, contrast=0.1, saturation=0.10, hue=0.1),\n",
        "                                       #transforms.RandomRotation((-7.0, 7.0), fill=(0.13,)),\n",
        "                                       transforms.ToTensor(),\n",
        "                                       transforms.Normalize((0.1307,), (0.3081,)), # The mean and std have to be sequences (e.g., tuples), therefore you should add a comma after the values. \n",
        "                                       # Note the difference between (0.1307) and (0.1307,)\n",
        "                                       #transforms.RandomRotation((-5.0, 5.0), fill=(-0.42,)),\n",
        "                                       transforms.RandomAffine((-5,5), translate=None, scale=None, shear=5, resample=False, fillcolor=(-0.42,))\n",
        "                                       ])\n",
        "\n",
        "# Test Phase transformations\n",
        "test_transforms = transforms.Compose([\n",
        "                                      #  transforms.Resize((28, 28)),\n",
        "                                      #  transforms.ColorJitter(brightness=0.10, contrast=0.1, saturation=0.10, hue=0.1),\n",
        "                                       transforms.ToTensor(),\n",
        "                                       transforms.Normalize((0.1307,), (0.3081,))\n",
        "                                       ])"
      ],
      "execution_count": 19,
      "outputs": [
        {
          "output_type": "stream",
          "text": [
            "/home/lebeast/miniconda3/envs/pytorch/lib/python3.8/site-packages/torchvision/transforms/transforms.py:1314: UserWarning: Argument resample is deprecated and will be removed since v0.10.0. Please, use interpolation instead\n",
            "  warnings.warn(\n",
            "/home/lebeast/miniconda3/envs/pytorch/lib/python3.8/site-packages/torchvision/transforms/transforms.py:1328: UserWarning: Argument fillcolor is deprecated and will be removed since v0.10.0. Please, use fill instead\n",
            "  warnings.warn(\n"
          ],
          "name": "stderr"
        }
      ]
    },
    {
      "cell_type": "code",
      "metadata": {
        "id": "kANEvtR1mxH3"
      },
      "source": [
        "train = datasets.MNIST('./data', train=True, download=True, transform=train_transforms)\n",
        "test = datasets.MNIST('./data', train=False, download=True, transform=test_transforms)"
      ],
      "execution_count": 20,
      "outputs": []
    },
    {
      "cell_type": "code",
      "metadata": {
        "id": "QoPTYiyim9dq",
        "colab": {
          "base_uri": "https://localhost:8080/"
        },
        "outputId": "f112e8c3-d743-429e-da4a-50bb690cae77"
      },
      "source": [
        "SEED = 1\n",
        "\n",
        "# CUDA?\n",
        "cuda = torch.cuda.is_available()\n",
        "print(\"CUDA Available?\", cuda)\n",
        "\n",
        "# For reproducibility\n",
        "torch.manual_seed(SEED)\n",
        "\n",
        "if cuda:\n",
        "    torch.cuda.manual_seed(SEED)\n",
        "\n",
        "# dataloader arguments - something you'll fetch these from cmdprmt\n",
        "dataloader_args = dict(shuffle=True, batch_size=64, num_workers=4, pin_memory=True) if cuda else dict(shuffle=True, batch_size=64)\n",
        "\n",
        "# train dataloader\n",
        "train_loader = torch.utils.data.DataLoader(train, **dataloader_args)\n",
        "\n",
        "# test dataloader\n",
        "test_loader = torch.utils.data.DataLoader(test, **dataloader_args)"
      ],
      "execution_count": 21,
      "outputs": [
        {
          "output_type": "stream",
          "text": [
            "CUDA Available? True\n"
          ],
          "name": "stdout"
        }
      ]
    },
    {
      "cell_type": "code",
      "metadata": {
        "id": "wJDurWrUngdJ",
        "colab": {
          "base_uri": "https://localhost:8080/",
          "height": 491
        },
        "outputId": "f5719b30-966a-44a1-bff0-29255e4b48b8"
      },
      "source": [
        "# We'd need to convert it into Numpy! Remember above we have converted it into tensors already\n",
        "train_data = train.train_data\n",
        "train_data = train.transform(train_data.numpy())\n",
        "\n",
        "print('[Train]')\n",
        "print(' - Numpy Shape:', train.train_data.cpu().numpy().shape)\n",
        "print(' - Tensor Shape:', train.train_data.size())\n",
        "print(' - min:', torch.min(train_data))\n",
        "print(' - max:', torch.max(train_data))\n",
        "print(' - mean:', torch.mean(train_data))\n",
        "print(' - std:', torch.std(train_data))\n",
        "print(' - var:', torch.var(train_data))\n",
        "\n",
        "dataiter = iter(train_loader)\n",
        "images, labels = dataiter.next()\n",
        "\n",
        "print(images.shape)\n",
        "print(labels.shape)\n",
        "\n",
        "# Let's visualize some of the images\n",
        "%matplotlib inline\n",
        "import matplotlib.pyplot as plt\n",
        "\n",
        "plt.imshow(images[0].numpy().squeeze(), cmap='gray_r')\n"
      ],
      "execution_count": 22,
      "outputs": [
        {
          "output_type": "stream",
          "text": [
            "/home/lebeast/miniconda3/envs/pytorch/lib/python3.8/site-packages/torchvision/datasets/mnist.py:64: UserWarning: train_data has been renamed data\n",
            "  warnings.warn(\"train_data has been renamed data\")\n"
          ],
          "name": "stderr"
        },
        {
          "output_type": "stream",
          "text": [
            "[Train]\n",
            " - Numpy Shape: (60000, 28, 28)\n",
            " - Tensor Shape: torch.Size([60000, 28, 28])\n",
            " - min: tensor(-0.4242)\n",
            " - max: tensor(2.8215)\n",
            " - mean: tensor(-0.3901)\n",
            " - std: tensor(0.2874)\n",
            " - var: tensor(0.0826)\n",
            "torch.Size([64, 1, 28, 28])\n",
            "torch.Size([64])\n"
          ],
          "name": "stdout"
        },
        {
          "output_type": "execute_result",
          "data": {
            "text/plain": [
              "<matplotlib.image.AxesImage at 0x7f1ba14634c0>"
            ]
          },
          "metadata": {
            "tags": []
          },
          "execution_count": 22
        },
        {
          "output_type": "display_data",
          "data": {
            "text/plain": [
              "<Figure size 432x288 with 1 Axes>"
            ],
            "image/png": "[encoded data removed]"
          },
          "metadata": {
            "tags": [],
            "needs_background": "light"
          }
        }
      ]
    },
    {
      "cell_type": "code",
      "metadata": {
        "id": "0KMoo8_yngPE",
        "colab": {
          "base_uri": "https://localhost:8080/",
          "height": 248
        },
        "outputId": "d8c95ab4-c34d-4304-f9f2-79e991fb46f2"
      },
      "source": [
        "figure = plt.figure()\n",
        "num_of_images = 64\n",
        "for index in range(1, num_of_images + 1):\n",
        "    plt.subplot(8, 8, index)\n",
        "    plt.axis('off')\n",
        "    plt.imshow(images[index-1].numpy().squeeze(), cmap='gray_r')"
      ],
      "execution_count": 23,
      "outputs": [
        {
          "output_type": "display_data",
          "data": {
            "text/plain": [
              "<Figure size 432x288 with 64 Axes>"
            ],
            "image/png": "[encoded data removed]"
          },
          "metadata": {
            "tags": [],
            "needs_background": "light"
          }
        }
      ]
    },
    {
      "cell_type": "code",
      "metadata": {
        "id": "pUDVTJ48ngEU",
        "colab": {
          "base_uri": "https://localhost:8080/"
        },
        "outputId": "1f62c0bd-daa7-4b8e-a795-d9a7f87479cd"
      },
      "source": [
        "# simple transform\n",
        "simple_transforms = transforms.Compose([\n",
        "                                      #  transforms.Resize((28, 28)),\n",
        "                                      #  transforms.ColorJitter(brightness=0.10, contrast=0.1, saturation=0.10, hue=0.1),\n",
        "                                       transforms.ToTensor(),\n",
        "                                      #  transforms.Normalize((0.1307,), (0.3081,)) # The mean and std have to be sequences (e.g., tuples), therefore you should add a comma after the values. \n",
        "                                       # Note the difference between (0.1307) and (0.1307,)\n",
        "                                       ])\n",
        "exp = datasets.MNIST('./data', train=True, download=True, transform=simple_transforms)\n",
        "exp_data = exp.train_data\n",
        "exp_data = exp.transform(exp_data.numpy())\n",
        "\n",
        "print('[Train]')\n",
        "print(' - Numpy Shape:', exp.train_data.cpu().numpy().shape)\n",
        "print(' - Tensor Shape:', exp.train_data.size())\n",
        "print(' - min:', torch.min(exp_data))\n",
        "print(' - max:', torch.max(exp_data))\n",
        "print(' - mean:', torch.mean(exp_data))\n",
        "print(' - std:', torch.std(exp_data))\n",
        "print(' - var:', torch.var(exp_data))"
      ],
      "execution_count": 24,
      "outputs": [
        {
          "output_type": "stream",
          "text": [
            "[Train]\n",
            " - Numpy Shape: (60000, 28, 28)\n",
            " - Tensor Shape: torch.Size([60000, 28, 28])\n",
            " - min: tensor(0.)\n",
            " - max: tensor(1.)\n",
            " - mean: tensor(0.1307)\n",
            " - std: tensor(0.3081)\n",
            " - var: tensor(0.0949)\n"
          ],
          "name": "stdout"
        }
      ]
    },
    {
      "cell_type": "markdown",
      "metadata": {
        "id": "GW1hg9jJGnui"
      },
      "source": [
        "## Utility Functions"
      ]
    },
    {
      "cell_type": "code",
      "metadata": {
        "id": "33sbb1Eno30W"
      },
      "source": [
        "# from tqdm.notebook import tqdm\n",
        "\n",
        "#Not Using scheduler right now\n",
        "def train(model, device, train_loader, optimizer, epoch):\n",
        "    model.train()\n",
        "    # pbar = tqdm(train_loader)\n",
        "    train_loss = 0\n",
        "    correct = 0\n",
        "    num_loops = 0\n",
        "    # for batch_idx, (data, target) in enumerate(pbar):\n",
        "    for batch_idx, (data, target) in enumerate(train_loader):\n",
        "        data, target = data.to(device), target.to(device)\n",
        "        optimizer.zero_grad()\n",
        "        output = model(data)\n",
        "        loss = F.nll_loss(output, target)\n",
        "        loss.backward()\n",
        "        optimizer.step()\n",
        "        # pbar.set_description(desc= f'loss={loss.item()} batch_id={batch_idx}')\n",
        "        train_loss += loss.item()\n",
        "        pred = output.argmax(dim=1, keepdim=True)  # get the index of the max log-probability\n",
        "        correct += pred.eq(target.view_as(pred)).sum().item()\n",
        "        num_loops +=1\n",
        " \n",
        "    train_loss /= num_loops\n",
        "    # scheduler.step()\n",
        "    #scheduler.step(train_loss)\n",
        "    hist_train_loss.append(train_loss)\n",
        "    hist_train_acc.append(100. * correct / len(train_loader.dataset))\n",
        "    print(\"Training Average loss: {:.6f}, Accuracy = ({:.6f}%)\".format(train_loss, 100. * correct / len(train_loader.dataset)))\n",
        "\n",
        "def test(model, device, test_loader):\n",
        "    model.eval()\n",
        "    test_loss = 0\n",
        "    correct = 0\n",
        "    with torch.no_grad():\n",
        "        for data, target in test_loader:\n",
        "            data, target = data.to(device), target.to(device)\n",
        "            output = model(data)\n",
        "            test_loss += F.nll_loss(output, target, reduction='sum').item()  # sum up batch loss\n",
        "            pred = output.argmax(dim=1, keepdim=True)  # get the index of the max log-probability\n",
        "            correct += pred.eq(target.view_as(pred)).sum().item()\n",
        "\n",
        "    test_loss /= len(test_loader.dataset)\n",
        "    hist_test_loss.append(test_loss)\n",
        "    hist_test_acc.append(100. * correct / len(test_loader.dataset))\n",
        "\n",
        "    print('Test set: Average loss: {:.6f}, Accuracy: {}/{} ({:.6f}%)\\n'.format(\n",
        "        test_loss, correct, len(test_loader.dataset),\n",
        "        100. * correct / len(test_loader.dataset)))"
      ],
      "execution_count": 25,
      "outputs": []
    },
    {
      "cell_type": "markdown",
      "metadata": {
        "id": "_n6YZDbGHhM6"
      },
      "source": [
        "# Model\n",
        "\n",
        "Uses Dropout of 0.05 at every layer.\n",
        "\n",
        "Uses BatchNormalization.\n",
        "\n",
        "Uses fully connected after GAP at final layer.\n",
        "\n"
      ]
    },
    {
      "cell_type": "code",
      "metadata": {
        "id": "sZlbgUThtZ2n",
        "colab": {
          "base_uri": "https://localhost:8080/"
        },
        "outputId": "ec245fe1-a51e-4950-94ae-501fdaa460e8"
      },
      "source": [
        "dropout_value = 0.05\n",
        "class Net3_1(nn.Module):\n",
        "    def __init__(self):\n",
        "        super(Net3_1, self).__init__()\n",
        "        # Input Block\n",
        "        self.convblock1 = nn.Sequential(\n",
        "            nn.Conv2d(in_channels=1, out_channels=8, kernel_size=(3, 3), padding=0, bias=False),\n",
        "            nn.ReLU(),\n",
        "            nn.BatchNorm2d(8),\n",
        "            nn.Dropout(dropout_value)\n",
        "        ) # output_size = 26\n",
        "\n",
        "        # CONVOLUTION BLOCK 1\n",
        "        self.convblock2 = nn.Sequential(\n",
        "            nn.Conv2d(in_channels=8, out_channels=16, kernel_size=(3, 3), padding=0, bias=False),\n",
        "            nn.ReLU(),\n",
        "            nn.BatchNorm2d(16),\n",
        "            nn.Dropout(dropout_value)\n",
        "        ) # output_size = 24\n",
        "\n",
        "        # TRANSITION BLOCK 1\n",
        "        self.pool1 = nn.MaxPool2d(2, 2) # output_size = 11\n",
        "        self.convblock4 = nn.Sequential(\n",
        "            nn.Conv2d(in_channels=16, out_channels=8, kernel_size=(1, 1), padding=0, bias=False),\n",
        "            nn.ReLU()\n",
        "        ) # output_size = 12\n",
        "\n",
        "        # CONVOLUTION BLOCK 2\n",
        "        self.convblock5 = nn.Sequential(\n",
        "            nn.Conv2d(in_channels=8, out_channels=16, kernel_size=(3, 3), padding=0, bias=False),\n",
        "            nn.ReLU(),\n",
        "            nn.BatchNorm2d(16),\n",
        "            nn.Dropout(dropout_value)\n",
        "        ) # output_size = 10\n",
        "        self.convblock6 = nn.Sequential(\n",
        "            nn.Conv2d(in_channels=16, out_channels=20, kernel_size=(3, 3), padding=0, bias=False),\n",
        "            nn.ReLU(),\n",
        "            nn.BatchNorm2d(20),\n",
        "            nn.Dropout(dropout_value)\n",
        "        ) # output_size = 8\n",
        "\n",
        "        # \n",
        "        self.convblock7 = nn.Sequential(\n",
        "            nn.Conv2d(in_channels=20, out_channels=8, kernel_size=(1, 1), padding=0, bias=False),\n",
        "            nn.ReLU(),\n",
        "            nn.BatchNorm2d(8),\n",
        "            nn.Dropout(dropout_value)\n",
        "        ) # output_size = 8\n",
        "\n",
        "        # OUTPUT BLOCK\n",
        "        self.convblock8 = nn.Sequential(\n",
        "            nn.Conv2d(in_channels=8, out_channels=16, kernel_size=(3, 3), padding=0, bias=False),\n",
        "            nn.ReLU()\n",
        "        ) # output_size = 6\n",
        "\n",
        "        self.gap = nn.Sequential(\n",
        "            nn.AvgPool2d(kernel_size=6)\n",
        "        ) # output_size = 1\n",
        "\n",
        "        self.fc1 = nn.Linear(16, 10)\n",
        "\n",
        "    def forward(self, x):\n",
        "        x = self.convblock1(x)\n",
        "        x = self.convblock2(x)\n",
        "        #x = self.convblock3(x)\n",
        "        x = self.pool1(x)\n",
        "        x = self.convblock4(x)\n",
        "        x = self.convblock5(x)\n",
        "        x = self.convblock6(x)\n",
        "        x = self.convblock7(x)\n",
        "        x = self.convblock8(x)\n",
        "        x = self.gap(x)\n",
        "        x = x.view(-1, x.shape[1]*x.shape[2]*x.shape[3])\n",
        "        x = self.fc1(x)\n",
        "        x = x.view(-1, 10)\n",
        "        return F.log_softmax(x, dim=-1)\n",
        "\n",
        "model = Net3_1().to(device)\n",
        "summary(model, input_size=(1, 28, 28))"
      ],
      "execution_count": 26,
      "outputs": [
        {
          "output_type": "stream",
          "text": [
            "----------------------------------------------------------------\n",
            "        Layer (type)               Output Shape         Param #\n",
            "================================================================\n",
            "            Conv2d-1            [-1, 8, 26, 26]              72\n",
            "              ReLU-2            [-1, 8, 26, 26]               0\n",
            "       BatchNorm2d-3            [-1, 8, 26, 26]              16\n",
            "           Dropout-4            [-1, 8, 26, 26]               0\n",
            "            Conv2d-5           [-1, 16, 24, 24]           1,152\n",
            "              ReLU-6           [-1, 16, 24, 24]               0\n",
            "       BatchNorm2d-7           [-1, 16, 24, 24]              32\n",
            "           Dropout-8           [-1, 16, 24, 24]               0\n",
            "         MaxPool2d-9           [-1, 16, 12, 12]               0\n",
            "           Conv2d-10            [-1, 8, 12, 12]             128\n",
            "             ReLU-11            [-1, 8, 12, 12]               0\n",
            "           Conv2d-12           [-1, 16, 10, 10]           1,152\n",
            "             ReLU-13           [-1, 16, 10, 10]               0\n",
            "      BatchNorm2d-14           [-1, 16, 10, 10]              32\n",
            "          Dropout-15           [-1, 16, 10, 10]               0\n",
            "           Conv2d-16             [-1, 20, 8, 8]           2,880\n",
            "             ReLU-17             [-1, 20, 8, 8]               0\n",
            "      BatchNorm2d-18             [-1, 20, 8, 8]              40\n",
            "          Dropout-19             [-1, 20, 8, 8]               0\n",
            "           Conv2d-20              [-1, 8, 8, 8]             160\n",
            "             ReLU-21              [-1, 8, 8, 8]               0\n",
            "      BatchNorm2d-22              [-1, 8, 8, 8]              16\n",
            "          Dropout-23              [-1, 8, 8, 8]               0\n",
            "           Conv2d-24             [-1, 16, 6, 6]           1,152\n",
            "             ReLU-25             [-1, 16, 6, 6]               0\n",
            "        AvgPool2d-26             [-1, 16, 1, 1]               0\n",
            "           Linear-27                   [-1, 10]             170\n",
            "================================================================\n",
            "Total params: 7,002\n",
            "Trainable params: 7,002\n",
            "Non-trainable params: 0\n",
            "----------------------------------------------------------------\n",
            "Input size (MB): 0.00\n",
            "Forward/backward pass size (MB): 0.59\n",
            "Params size (MB): 0.03\n",
            "Estimated Total Size (MB): 0.62\n",
            "----------------------------------------------------------------\n"
          ],
          "name": "stdout"
        }
      ]
    },
    {
      "cell_type": "markdown",
      "metadata": {
        "id": "yEljUkWNHltt"
      },
      "source": [
        "# Training"
      ]
    },
    {
      "cell_type": "code",
      "metadata": {
        "id": "P6OBjhSdTYvZ"
      },
      "source": [
        "import numpy as np\n",
        "import matplotlib.pyplot as plt\n",
        "\n",
        "plt.rcParams['figure.figsize'] = [15, 6]\n",
        "\n",
        "def training_curves():\n",
        "  plt.subplot(1,2, 1)\n",
        "\n",
        "  plt.plot(np.array(hist_test_acc))\n",
        "  plt.plot(np.array(hist_train_acc), 'r')\n",
        "  plt.legend([\"test_acc\", \"train_acc\"])\n",
        "  plt.title(\"Accuracy per epoch\")\n",
        "\n",
        "  plt.subplot(1,2,2)\n",
        "  plt.plot(hist_test_loss)\n",
        "  plt.plot(hist_train_loss, 'r')\n",
        "  plt.legend([\"test_loss\", \"train_loss\"])\n",
        "  plt.title(\"Loss per epoch\")"
      ],
      "execution_count": 27,
      "outputs": []
    },
    {
      "cell_type": "code",
      "metadata": {
        "id": "-aywDmD6Tpae"
      },
      "source": [
        "hist_test_loss = []\n",
        "hist_test_acc = []\n",
        "hist_train_loss = []\n",
        "hist_train_acc = []"
      ],
      "execution_count": 28,
      "outputs": []
    },
    {
      "cell_type": "markdown",
      "metadata": {
        "id": "uJAjeW9vHofv"
      },
      "source": [
        "## 19 epochs\n",
        "\n",
        "Target achieved in 14th Epoch: 99.41%\n",
        "\n",
        "0.01 for epoch 1-9\n",
        "\n",
        "0.005 for epoch 10-14\n",
        "\n",
        "0.001 for epoch 15-19"
      ]
    },
    {
      "cell_type": "code",
      "metadata": {
        "id": "hn-7Qe0SxiYB",
        "colab": {
          "base_uri": "https://localhost:8080/",
          "height": 1000
        },
        "outputId": "9945a712-3413-4340-a88c-832f9849369d"
      },
      "source": [
        "optimizer = optim.SGD(model.parameters(), lr=0.01, momentum=0.9)\n",
        "\n",
        "for epoch in range(1, 10):\n",
        "    print(\"Epoch: \", epoch)\n",
        "    train(model, device, train_loader, optimizer, epoch)\n",
        "    print(\"learning rate\", optimizer.param_groups[0]['lr'])\n",
        "    test(model, device, test_loader)\n",
        "\n",
        "optimizer = optim.SGD(model.parameters(), lr=0.005, momentum=0.9)\n",
        "for epoch in range(10, 15):\n",
        "    print(\"Epoch: \", epoch)\n",
        "    train(model, device, train_loader, optimizer, epoch)\n",
        "    print(\"learning rate\", optimizer.param_groups[0]['lr'])\n",
        "    test(model, device, test_loader)\n",
        "\n",
        "optimizer = optim.SGD(model.parameters(), lr=0.001, momentum=0.9)\n",
        "for epoch in range(15, 20):\n",
        "    print(\"Epoch: \", epoch)\n",
        "    train(model, device, train_loader, optimizer, epoch)\n",
        "    print(\"learning rate\", optimizer.param_groups[0]['lr'])\n",
        "    test(model, device, test_loader)\n",
        "\n",
        "training_curves()"
      ],
      "execution_count": 29,
      "outputs": [
        {
          "output_type": "stream",
          "text": [
            "Epoch:  1\n",
            "Training Average loss: 0.473313, Accuracy = (84.638333%)\n",
            "learning rate 0.01\n",
            "Test set: Average loss: 0.073113, Accuracy: 9784/10000 (97.840000%)\n",
            "\n",
            "Epoch:  2\n",
            "Training Average loss: 0.095522, Accuracy = (97.103333%)\n",
            "learning rate 0.01\n",
            "Test set: Average loss: 0.051181, Accuracy: 9848/10000 (98.480000%)\n",
            "\n",
            "Epoch:  3\n",
            "Training Average loss: 0.074306, Accuracy = (97.621667%)\n",
            "learning rate 0.01\n",
            "Test set: Average loss: 0.040583, Accuracy: 9877/10000 (98.770000%)\n",
            "\n",
            "Epoch:  4\n",
            "Training Average loss: 0.063354, Accuracy = (97.948333%)\n",
            "learning rate 0.01\n",
            "Test set: Average loss: 0.033814, Accuracy: 9889/10000 (98.890000%)\n",
            "\n",
            "Epoch:  5\n",
            "Training Average loss: 0.056105, Accuracy = (98.253333%)\n",
            "learning rate 0.01\n",
            "Test set: Average loss: 0.033763, Accuracy: 9901/10000 (99.010000%)\n",
            "\n",
            "Epoch:  6\n",
            "Training Average loss: 0.051379, Accuracy = (98.416667%)\n",
            "learning rate 0.01\n",
            "Test set: Average loss: 0.040008, Accuracy: 9880/10000 (98.800000%)\n",
            "\n",
            "Epoch:  7\n",
            "Training Average loss: 0.048518, Accuracy = (98.493333%)\n",
            "learning rate 0.01\n",
            "Test set: Average loss: 0.032740, Accuracy: 9901/10000 (99.010000%)\n",
            "\n",
            "Epoch:  8\n",
            "Training Average loss: 0.044871, Accuracy = (98.535000%)\n",
            "learning rate 0.01\n",
            "Test set: Average loss: 0.029825, Accuracy: 9905/10000 (99.050000%)\n",
            "\n",
            "Epoch:  9\n",
            "Training Average loss: 0.040708, Accuracy = (98.720000%)\n",
            "learning rate 0.01\n",
            "Test set: Average loss: 0.028702, Accuracy: 9904/10000 (99.040000%)\n",
            "\n",
            "Epoch:  10\n",
            "Training Average loss: 0.033839, Accuracy = (98.963333%)\n",
            "learning rate 0.005\n",
            "Test set: Average loss: 0.022812, Accuracy: 9927/10000 (99.270000%)\n",
            "\n",
            "Epoch:  11\n",
            "Training Average loss: 0.031482, Accuracy = (99.018333%)\n",
            "learning rate 0.005\n",
            "Test set: Average loss: 0.023968, Accuracy: 9922/10000 (99.220000%)\n",
            "\n",
            "Epoch:  12\n",
            "Training Average loss: 0.033067, Accuracy = (98.941667%)\n",
            "learning rate 0.005\n",
            "Test set: Average loss: 0.024009, Accuracy: 9926/10000 (99.260000%)\n",
            "\n",
            "Epoch:  13\n",
            "Training Average loss: 0.030598, Accuracy = (99.025000%)\n",
            "learning rate 0.005\n",
            "Test set: Average loss: 0.023810, Accuracy: 9926/10000 (99.260000%)\n",
            "\n",
            "Epoch:  14\n",
            "Training Average loss: 0.029693, Accuracy = (99.101667%)\n",
            "learning rate 0.005\n",
            "Test set: Average loss: 0.022471, Accuracy: 9926/10000 (99.260000%)\n",
            "\n",
            "Epoch:  15\n",
            "Training Average loss: 0.026531, Accuracy = (99.155000%)\n",
            "learning rate 0.001\n",
            "Test set: Average loss: 0.020124, Accuracy: 9931/10000 (99.310000%)\n",
            "\n",
            "Epoch:  16\n",
            "Training Average loss: 0.026210, Accuracy = (99.203333%)\n",
            "learning rate 0.001\n",
            "Test set: Average loss: 0.020060, Accuracy: 9935/10000 (99.350000%)\n",
            "\n",
            "Epoch:  17\n",
            "Training Average loss: 0.025953, Accuracy = (99.176667%)\n",
            "learning rate 0.001\n",
            "Test set: Average loss: 0.019629, Accuracy: 9937/10000 (99.370000%)\n",
            "\n",
            "Epoch:  18\n",
            "Training Average loss: 0.025499, Accuracy = (99.158333%)\n",
            "learning rate 0.001\n",
            "Test set: Average loss: 0.019449, Accuracy: 9938/10000 (99.380000%)\n",
            "\n",
            "Epoch:  19\n",
            "Training Average loss: 0.024939, Accuracy = (99.190000%)\n",
            "learning rate 0.001\n",
            "Test set: Average loss: 0.019608, Accuracy: 9935/10000 (99.350000%)\n",
            "\n"
          ],
          "name": "stdout"
        },
        {
          "output_type": "display_data",
          "data": {
            "text/plain": [
              "<Figure size 1080x432 with 2 Axes>"
            ],
            "image/png": "[encoded data removed]"
          },
          "metadata": {
            "tags": [],
            "needs_background": "light"
          }
        }
      ]
    },
    {
      "cell_type": "markdown",
      "metadata": {
        "id": "F2x1ekDuH4mw"
      },
      "source": [
        "# Check Misclassified Images"
      ]
    },
    {
      "cell_type": "code",
      "metadata": {
        "id": "M7w8Dwl8u0SK"
      },
      "source": [
        "def imageshow(img):\n",
        "    # img = img / 2 + 0.5      #unnormalize\n",
        "    img[0] = img[0]*0.1307 + 0.3081\n",
        "    #img[1] = img[1]*0.24348513 + 0.48215841\n",
        "    #img[2] = img[2]*0.26158784 + 0.44653091\n",
        "    npimg = img.numpy()\n",
        "    plt.figure(figsize=(20,20))\n",
        "    plt.imshow(np.transpose(npimg, (1, 2, 0)))\n",
        "\n",
        "def imshow(img):\n",
        "    # img = img / 2 + 0.5     # unnormalize\n",
        "    img[0] = img[0]*0.1307 + 0.3081\n",
        "    #img[1] = img[1]*0.24348513 + 0.48215841\n",
        "    #img[2] = img[2]*0.26158784 + 0.44653091\n",
        "    npimg = img.numpy()\n",
        "    image = np.transpose(npimg, (1, 2, 0))\n",
        "    plt.imshow(image)\n",
        "    plt.grid(b=None)\n",
        "    return image\n"
      ],
      "execution_count": 30,
      "outputs": []
    },
    {
      "cell_type": "code",
      "metadata": {
        "id": "skzUR-vh4DRd",
        "colab": {
          "base_uri": "https://localhost:8080/",
          "height": 1000
        },
        "outputId": "a1c943f4-474e-421b-c620-95435ac0c6b0"
      },
      "source": [
        "classes = ('0','1','2','3','4','5','6','7','8','9')\n",
        "\n",
        "model.eval()\n",
        "\n",
        "figure = plt.figure(figsize=(20, 20))\n",
        "num_of_images = 25\n",
        "index = 1\n",
        "\n",
        "misclass_img_list = []\n",
        "untrans_img=[]\n",
        "\n",
        "with torch.no_grad():\n",
        "    for data, target in test_loader:\n",
        "        data, target = data.to(\n",
        "            device), target.to(device)\n",
        "        output = model(data)\n",
        "        pred = output.argmax(dim=1, keepdim=True)\n",
        "        act = target.view_as(pred)\n",
        "        # since most of the bool vec is true (good problem to have) and switch (flip) the true to false and vice versa\n",
        "        bool_vec = ~pred.eq(act)\n",
        "\n",
        "        # now extract the index number from the tensor which has 'true'\n",
        "        idx = list(\n",
        "            np.where(bool_vec.cpu().numpy())[0])\n",
        "\n",
        "        if idx:  # if not a blank list\n",
        "            idx_list = idx\n",
        "            # print(data[idx_list[0]].shape)\n",
        "            if index < num_of_images+1:\n",
        "                plt.subplot(5, 5, index)\n",
        "                plt.axis('off')\n",
        "                titl = 'act/pred : ' + \\\n",
        "                    str(classes[target[idx[0]].cpu().item(\n",
        "                    )]) + '/' + str(classes[pred[idx[0]].cpu().item()])\n",
        "                # prints the 1st index of each batch.\n",
        "            \n",
        "                img = data[idx[0]].cpu()\n",
        "                untrans_img.append(img)\n",
        "                image = imshow(img)\n",
        "                misclass_img_list.append(image)\n",
        "                                  \n",
        "\n",
        "\n",
        "                plt.title(titl)\n",
        "                index += 1\n",
        "\n"
      ],
      "execution_count": 31,
      "outputs": [
        {
          "output_type": "display_data",
          "data": {
            "text/plain": [
              "<Figure size 1440x1440 with 25 Axes>"
            ],
            "image/png": "[encoded data removed]"
          },
          "metadata": {
            "tags": [],
            "needs_background": "light"
          }
        }
      ]
    },
    {
      "cell_type": "code",
      "metadata": {
        "id": "f7crLHmFtxmF"
      },
      "source": [
        ""
      ],
      "execution_count": 31,
      "outputs": []
    }
  ]
}